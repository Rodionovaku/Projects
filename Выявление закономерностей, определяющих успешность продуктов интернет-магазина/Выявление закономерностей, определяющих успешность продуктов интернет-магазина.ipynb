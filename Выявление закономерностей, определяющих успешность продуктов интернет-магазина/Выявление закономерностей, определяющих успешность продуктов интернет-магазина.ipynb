{
 "cells": [
  {
   "cell_type": "markdown",
   "metadata": {},
   "source": [
    "<h1> Выявление закономерностей, определяющих успешность продуктов интернет-магазина компьютерных игр \"Стримчик\" <h1>"
   ]
  },
  {
   "cell_type": "markdown",
   "metadata": {},
   "source": [
    "**Цель исследования:** выявить определяющие успешность игры закономерности, которые позволят сделать ставку на потенциально популярный продукт и спланировать рекламные кампании интернет-магазина компьютерных игр «Стримчик» на 2017 год (по данным до 2016 года)"
   ]
  },
  {
   "cell_type": "markdown",
   "metadata": {},
   "source": [
    "**План исследования:**\n",
    "* Посмотреть сколько игр выпускалось в разные годы\n",
    "* Посмотреть как менялись продажи по платформам, выявить жизненный цикл платформы\n",
    "* Выбрать акутальный период для дальнейшего исследования\n",
    "* Выбрать несколько потенциально прибыльных платформ\n",
    "* Построить график «ящик с усами» по глобальным продажам игр в разбивке по платформам\n",
    "* Посмотреть как влияют на продажи внутри одной популярной платформы отзывы пользователей и критиков\n",
    "* Соотнести выводы с продажами игр на других платформах\n",
    "* Посмотреть на общее распределение игр по жанрам\n",
    "* Составить портрет пользователя каждого региона\n",
    "* Проверить гипотезы: \n",
    "\n",
    "Средние пользовательские рейтинги платформ Xbox One и PC одинаковые;\n",
    "\n",
    "Средние пользовательские рейтинги жанров Action и Sports разные."
   ]
  },
  {
   "cell_type": "code",
   "execution_count": 2,
   "metadata": {},
   "outputs": [],
   "source": [
    "import pandas as pd\n",
    "import numpy as np\n",
    "import matplotlib.pyplot as plt\n",
    "from scipy import stats as st"
   ]
  },
  {
   "cell_type": "code",
   "execution_count": 3,
   "metadata": {},
   "outputs": [],
   "source": [
    "data = pd.read_csv('/datasets/games.csv')"
   ]
  },
  {
   "cell_type": "code",
   "execution_count": 4,
   "metadata": {},
   "outputs": [
    {
     "data": {
      "text/html": [
       "<div>\n",
       "<style scoped>\n",
       "    .dataframe tbody tr th:only-of-type {\n",
       "        vertical-align: middle;\n",
       "    }\n",
       "\n",
       "    .dataframe tbody tr th {\n",
       "        vertical-align: top;\n",
       "    }\n",
       "\n",
       "    .dataframe thead th {\n",
       "        text-align: right;\n",
       "    }\n",
       "</style>\n",
       "<table border=\"1\" class=\"dataframe\">\n",
       "  <thead>\n",
       "    <tr style=\"text-align: right;\">\n",
       "      <th></th>\n",
       "      <th>Name</th>\n",
       "      <th>Platform</th>\n",
       "      <th>Year_of_Release</th>\n",
       "      <th>Genre</th>\n",
       "      <th>NA_sales</th>\n",
       "      <th>EU_sales</th>\n",
       "      <th>JP_sales</th>\n",
       "      <th>Other_sales</th>\n",
       "      <th>Critic_Score</th>\n",
       "      <th>User_Score</th>\n",
       "      <th>Rating</th>\n",
       "    </tr>\n",
       "  </thead>\n",
       "  <tbody>\n",
       "    <tr>\n",
       "      <th>0</th>\n",
       "      <td>Wii Sports</td>\n",
       "      <td>Wii</td>\n",
       "      <td>2006.0</td>\n",
       "      <td>Sports</td>\n",
       "      <td>41.36</td>\n",
       "      <td>28.96</td>\n",
       "      <td>3.77</td>\n",
       "      <td>8.45</td>\n",
       "      <td>76.0</td>\n",
       "      <td>8</td>\n",
       "      <td>E</td>\n",
       "    </tr>\n",
       "    <tr>\n",
       "      <th>1</th>\n",
       "      <td>Super Mario Bros.</td>\n",
       "      <td>NES</td>\n",
       "      <td>1985.0</td>\n",
       "      <td>Platform</td>\n",
       "      <td>29.08</td>\n",
       "      <td>3.58</td>\n",
       "      <td>6.81</td>\n",
       "      <td>0.77</td>\n",
       "      <td>NaN</td>\n",
       "      <td>NaN</td>\n",
       "      <td>NaN</td>\n",
       "    </tr>\n",
       "    <tr>\n",
       "      <th>2</th>\n",
       "      <td>Mario Kart Wii</td>\n",
       "      <td>Wii</td>\n",
       "      <td>2008.0</td>\n",
       "      <td>Racing</td>\n",
       "      <td>15.68</td>\n",
       "      <td>12.76</td>\n",
       "      <td>3.79</td>\n",
       "      <td>3.29</td>\n",
       "      <td>82.0</td>\n",
       "      <td>8.3</td>\n",
       "      <td>E</td>\n",
       "    </tr>\n",
       "    <tr>\n",
       "      <th>3</th>\n",
       "      <td>Wii Sports Resort</td>\n",
       "      <td>Wii</td>\n",
       "      <td>2009.0</td>\n",
       "      <td>Sports</td>\n",
       "      <td>15.61</td>\n",
       "      <td>10.93</td>\n",
       "      <td>3.28</td>\n",
       "      <td>2.95</td>\n",
       "      <td>80.0</td>\n",
       "      <td>8</td>\n",
       "      <td>E</td>\n",
       "    </tr>\n",
       "    <tr>\n",
       "      <th>4</th>\n",
       "      <td>Pokemon Red/Pokemon Blue</td>\n",
       "      <td>GB</td>\n",
       "      <td>1996.0</td>\n",
       "      <td>Role-Playing</td>\n",
       "      <td>11.27</td>\n",
       "      <td>8.89</td>\n",
       "      <td>10.22</td>\n",
       "      <td>1.00</td>\n",
       "      <td>NaN</td>\n",
       "      <td>NaN</td>\n",
       "      <td>NaN</td>\n",
       "    </tr>\n",
       "  </tbody>\n",
       "</table>\n",
       "</div>"
      ],
      "text/plain": [
       "                       Name Platform  Year_of_Release         Genre  NA_sales  \\\n",
       "0                Wii Sports      Wii           2006.0        Sports     41.36   \n",
       "1         Super Mario Bros.      NES           1985.0      Platform     29.08   \n",
       "2            Mario Kart Wii      Wii           2008.0        Racing     15.68   \n",
       "3         Wii Sports Resort      Wii           2009.0        Sports     15.61   \n",
       "4  Pokemon Red/Pokemon Blue       GB           1996.0  Role-Playing     11.27   \n",
       "\n",
       "   EU_sales  JP_sales  Other_sales  Critic_Score User_Score Rating  \n",
       "0     28.96      3.77         8.45          76.0          8      E  \n",
       "1      3.58      6.81         0.77           NaN        NaN    NaN  \n",
       "2     12.76      3.79         3.29          82.0        8.3      E  \n",
       "3     10.93      3.28         2.95          80.0          8      E  \n",
       "4      8.89     10.22         1.00           NaN        NaN    NaN  "
      ]
     },
     "execution_count": 4,
     "metadata": {},
     "output_type": "execute_result"
    }
   ],
   "source": [
    "data.head()"
   ]
  },
  {
   "cell_type": "code",
   "execution_count": 5,
   "metadata": {},
   "outputs": [
    {
     "name": "stdout",
     "output_type": "stream",
     "text": [
      "<class 'pandas.core.frame.DataFrame'>\n",
      "RangeIndex: 16715 entries, 0 to 16714\n",
      "Data columns (total 11 columns):\n",
      " #   Column           Non-Null Count  Dtype  \n",
      "---  ------           --------------  -----  \n",
      " 0   Name             16713 non-null  object \n",
      " 1   Platform         16715 non-null  object \n",
      " 2   Year_of_Release  16446 non-null  float64\n",
      " 3   Genre            16713 non-null  object \n",
      " 4   NA_sales         16715 non-null  float64\n",
      " 5   EU_sales         16715 non-null  float64\n",
      " 6   JP_sales         16715 non-null  float64\n",
      " 7   Other_sales      16715 non-null  float64\n",
      " 8   Critic_Score     8137 non-null   float64\n",
      " 9   User_Score       10014 non-null  object \n",
      " 10  Rating           9949 non-null   object \n",
      "dtypes: float64(6), object(5)\n",
      "memory usage: 1.4+ MB\n"
     ]
    }
   ],
   "source": [
    "data.info()"
   ]
  },
  {
   "cell_type": "markdown",
   "metadata": {},
   "source": [
    "## Подготовка данных"
   ]
  },
  {
   "cell_type": "markdown",
   "metadata": {},
   "source": [
    "Приведем названия столбцов к нижнему регистру:"
   ]
  },
  {
   "cell_type": "code",
   "execution_count": 6,
   "metadata": {},
   "outputs": [],
   "source": [
    "data.columns = data.columns.str.lower()"
   ]
  },
  {
   "cell_type": "code",
   "execution_count": 7,
   "metadata": {},
   "outputs": [
    {
     "data": {
      "text/html": [
       "<div>\n",
       "<style scoped>\n",
       "    .dataframe tbody tr th:only-of-type {\n",
       "        vertical-align: middle;\n",
       "    }\n",
       "\n",
       "    .dataframe tbody tr th {\n",
       "        vertical-align: top;\n",
       "    }\n",
       "\n",
       "    .dataframe thead th {\n",
       "        text-align: right;\n",
       "    }\n",
       "</style>\n",
       "<table border=\"1\" class=\"dataframe\">\n",
       "  <thead>\n",
       "    <tr style=\"text-align: right;\">\n",
       "      <th></th>\n",
       "      <th>name</th>\n",
       "      <th>platform</th>\n",
       "      <th>year_of_release</th>\n",
       "      <th>genre</th>\n",
       "      <th>na_sales</th>\n",
       "      <th>eu_sales</th>\n",
       "      <th>jp_sales</th>\n",
       "      <th>other_sales</th>\n",
       "      <th>critic_score</th>\n",
       "      <th>user_score</th>\n",
       "      <th>rating</th>\n",
       "    </tr>\n",
       "  </thead>\n",
       "  <tbody>\n",
       "    <tr>\n",
       "      <th>0</th>\n",
       "      <td>Wii Sports</td>\n",
       "      <td>Wii</td>\n",
       "      <td>2006.0</td>\n",
       "      <td>Sports</td>\n",
       "      <td>41.36</td>\n",
       "      <td>28.96</td>\n",
       "      <td>3.77</td>\n",
       "      <td>8.45</td>\n",
       "      <td>76.0</td>\n",
       "      <td>8</td>\n",
       "      <td>E</td>\n",
       "    </tr>\n",
       "    <tr>\n",
       "      <th>1</th>\n",
       "      <td>Super Mario Bros.</td>\n",
       "      <td>NES</td>\n",
       "      <td>1985.0</td>\n",
       "      <td>Platform</td>\n",
       "      <td>29.08</td>\n",
       "      <td>3.58</td>\n",
       "      <td>6.81</td>\n",
       "      <td>0.77</td>\n",
       "      <td>NaN</td>\n",
       "      <td>NaN</td>\n",
       "      <td>NaN</td>\n",
       "    </tr>\n",
       "  </tbody>\n",
       "</table>\n",
       "</div>"
      ],
      "text/plain": [
       "                name platform  year_of_release     genre  na_sales  eu_sales  \\\n",
       "0         Wii Sports      Wii           2006.0    Sports     41.36     28.96   \n",
       "1  Super Mario Bros.      NES           1985.0  Platform     29.08      3.58   \n",
       "\n",
       "   jp_sales  other_sales  critic_score user_score rating  \n",
       "0      3.77         8.45          76.0          8      E  \n",
       "1      6.81         0.77           NaN        NaN    NaN  "
      ]
     },
     "execution_count": 7,
     "metadata": {},
     "output_type": "execute_result"
    }
   ],
   "source": [
    "data.head(2)"
   ]
  },
  {
   "cell_type": "markdown",
   "metadata": {},
   "source": [
    "Изменим типы данных с столбцах:"
   ]
  },
  {
   "cell_type": "code",
   "execution_count": 8,
   "metadata": {},
   "outputs": [],
   "source": [
    "data['year_of_release'] = data['year_of_release'].astype('Int64')"
   ]
  },
  {
   "cell_type": "markdown",
   "metadata": {},
   "source": [
    "Обработка пропусков:"
   ]
  },
  {
   "cell_type": "code",
   "execution_count": 9,
   "metadata": {},
   "outputs": [
    {
     "data": {
      "text/plain": [
       "name                  2\n",
       "platform              0\n",
       "year_of_release     269\n",
       "genre                 2\n",
       "na_sales              0\n",
       "eu_sales              0\n",
       "jp_sales              0\n",
       "other_sales           0\n",
       "critic_score       8578\n",
       "user_score         6701\n",
       "rating             6766\n",
       "dtype: int64"
      ]
     },
     "execution_count": 9,
     "metadata": {},
     "output_type": "execute_result"
    }
   ],
   "source": [
    "data.isna().sum()"
   ]
  },
  {
   "cell_type": "markdown",
   "metadata": {},
   "source": [
    "В столбце year_of_release 269 пропусков, name 2, genre 2, заполнить которые точными данными практически невозможно, поэтому избавляемся от этих строк, так как их количество незначительное"
   ]
  },
  {
   "cell_type": "code",
   "execution_count": 10,
   "metadata": {},
   "outputs": [],
   "source": [
    "data = data.dropna(subset=['year_of_release'])\n",
    "data = data.dropna(subset=['name'])\n",
    "data = data.dropna(subset=['genre'])"
   ]
  },
  {
   "cell_type": "markdown",
   "metadata": {},
   "source": [
    "Значение tbd не удалось заполнить, поэтому заменим на NaN, а затем все пропуски заменим маркером"
   ]
  },
  {
   "cell_type": "code",
   "execution_count": 11,
   "metadata": {},
   "outputs": [],
   "source": [
    "len(data.query('user_score == \"tbd\"'))\n",
    "data['user_score'] = data['user_score'].replace('tbd', np.NaN)\n",
    "data['user_score'] = data['user_score'].astype('float64')"
   ]
  },
  {
   "cell_type": "code",
   "execution_count": 12,
   "metadata": {},
   "outputs": [],
   "source": [
    "data['user_score'] = data['user_score'].fillna(-1)\n",
    "data['critic_score'] = data['critic_score'].fillna(-1)"
   ]
  },
  {
   "cell_type": "markdown",
   "metadata": {},
   "source": [
    "Пропуски в rating заполним unknown "
   ]
  },
  {
   "cell_type": "code",
   "execution_count": 13,
   "metadata": {},
   "outputs": [],
   "source": [
    "data['rating'] = data['rating'].fillna('unknown')"
   ]
  },
  {
   "cell_type": "markdown",
   "metadata": {},
   "source": [
    "**В столбцах critic_score, user_score, rating присутствует огромное количество пропусков, которые мы заполнили маркером. Их сложно чем-то заполнить, не ухудшив качество данных, а удаление приведет к потере большого количества данных. Возможно, пропуски связаны с тем, что ESRB - это рейтинг для США и Канады, а мы исследуем игры не только для этих стран. Пропуски в name, year_of_release, genre удалили, так как они составляют незначительную долю от выборки**"
   ]
  },
  {
   "cell_type": "markdown",
   "metadata": {},
   "source": [
    "Проверим, присутствуют ли явные дубликаты:"
   ]
  },
  {
   "cell_type": "code",
   "execution_count": 14,
   "metadata": {},
   "outputs": [
    {
     "data": {
      "text/plain": [
       "0"
      ]
     },
     "execution_count": 14,
     "metadata": {},
     "output_type": "execute_result"
    }
   ],
   "source": [
    "data.duplicated().sum()"
   ]
  },
  {
   "cell_type": "markdown",
   "metadata": {},
   "source": [
    "Неявные дубликаты:"
   ]
  },
  {
   "cell_type": "code",
   "execution_count": 15,
   "metadata": {},
   "outputs": [
    {
     "data": {
      "text/plain": [
       "array(['Sports', 'Platform', 'Racing', 'Role-Playing', 'Puzzle', 'Misc',\n",
       "       'Shooter', 'Simulation', 'Action', 'Fighting', 'Adventure',\n",
       "       'Strategy'], dtype=object)"
      ]
     },
     "execution_count": 15,
     "metadata": {},
     "output_type": "execute_result"
    }
   ],
   "source": [
    "data['genre'].unique()"
   ]
  },
  {
   "cell_type": "code",
   "execution_count": 16,
   "metadata": {},
   "outputs": [
    {
     "data": {
      "text/plain": [
       "array(['Wii', 'NES', 'GB', 'DS', 'X360', 'PS3', 'PS2', 'SNES', 'GBA',\n",
       "       'PS4', '3DS', 'N64', 'PS', 'XB', 'PC', '2600', 'PSP', 'XOne',\n",
       "       'WiiU', 'GC', 'GEN', 'DC', 'PSV', 'SAT', 'SCD', 'WS', 'NG', 'TG16',\n",
       "       '3DO', 'GG', 'PCFX'], dtype=object)"
      ]
     },
     "execution_count": 16,
     "metadata": {},
     "output_type": "execute_result"
    }
   ],
   "source": [
    "data['platform'].unique()"
   ]
  },
  {
   "cell_type": "code",
   "execution_count": 17,
   "metadata": {},
   "outputs": [
    {
     "data": {
      "text/plain": [
       "array(['Wii Sports', 'Super Mario Bros.', 'Mario Kart Wii', ...,\n",
       "       'Woody Woodpecker in Crazy Castle 5', 'LMA Manager 2007',\n",
       "       'Haitaka no Psychedelica'], dtype=object)"
      ]
     },
     "execution_count": 17,
     "metadata": {},
     "output_type": "execute_result"
    }
   ],
   "source": [
    "data['name'].unique()"
   ]
  },
  {
   "cell_type": "code",
   "execution_count": 18,
   "metadata": {},
   "outputs": [
    {
     "data": {
      "text/plain": [
       "array(['E', 'unknown', 'M', 'T', 'E10+', 'K-A', 'AO', 'EC', 'RP'],\n",
       "      dtype=object)"
      ]
     },
     "execution_count": 18,
     "metadata": {},
     "output_type": "execute_result"
    }
   ],
   "source": [
    "data['rating'].unique()"
   ]
  },
  {
   "cell_type": "markdown",
   "metadata": {},
   "source": [
    "«E» («Everyone») — «Для всех» \n",
    "\n",
    "«M» («Mature») — «Для взрослых»: Материалы игры не подходят для лиц младше 17 лет\n",
    "\n",
    "«T» («Teen») — «Подросткам»: Игра подходит для лиц от 13 лет\n",
    "\n",
    "«E10+» («Everyone 10 and older») — «Для всех от 10 лет и старше»\n",
    "\n",
    "«K-A» - для детей и взрослых (переименован в E)\n",
    "\n",
    "«AO» («Adults Only 18+») — «Только для взрослых»\n",
    "\n",
    "«EC» («Early childhood») — «Для детей младшего возраста»: Игра подходит для детей от 3 лет \n",
    "\n",
    "«RP» («Rating Pending») — «Рейтинг ожидается»: Продукт был отправлен в ESRB и ожидает присвоения рейтинга"
   ]
  },
  {
   "cell_type": "code",
   "execution_count": 19,
   "metadata": {},
   "outputs": [],
   "source": [
    "#Заменим K-A на E\n",
    "data.loc[data['rating'] == 'K-A', 'rating'] = 'E'"
   ]
  },
  {
   "cell_type": "markdown",
   "metadata": {},
   "source": [
    "**Дубликаты отсутствуют**"
   ]
  },
  {
   "cell_type": "markdown",
   "metadata": {},
   "source": [
    "Посчитаем суммарные продажи во всех регионах и создадим отдельный столбец:"
   ]
  },
  {
   "cell_type": "code",
   "execution_count": 20,
   "metadata": {},
   "outputs": [],
   "source": [
    "data['sum_sales'] = data[['na_sales','eu_sales','jp_sales', 'other_sales']].sum(axis = 1)"
   ]
  },
  {
   "cell_type": "code",
   "execution_count": 21,
   "metadata": {},
   "outputs": [
    {
     "name": "stdout",
     "output_type": "stream",
     "text": [
      "<class 'pandas.core.frame.DataFrame'>\n",
      "Int64Index: 16444 entries, 0 to 16714\n",
      "Data columns (total 12 columns):\n",
      " #   Column           Non-Null Count  Dtype  \n",
      "---  ------           --------------  -----  \n",
      " 0   name             16444 non-null  object \n",
      " 1   platform         16444 non-null  object \n",
      " 2   year_of_release  16444 non-null  Int64  \n",
      " 3   genre            16444 non-null  object \n",
      " 4   na_sales         16444 non-null  float64\n",
      " 5   eu_sales         16444 non-null  float64\n",
      " 6   jp_sales         16444 non-null  float64\n",
      " 7   other_sales      16444 non-null  float64\n",
      " 8   critic_score     16444 non-null  float64\n",
      " 9   user_score       16444 non-null  float64\n",
      " 10  rating           16444 non-null  object \n",
      " 11  sum_sales        16444 non-null  float64\n",
      "dtypes: Int64(1), float64(7), object(4)\n",
      "memory usage: 1.6+ MB\n",
      "None\n",
      "-------------------------\n",
      "name [' Beyblade Burst' ' Fire Emblem Fates' \" Frozen: Olaf's Quest\" ...\n",
      " 'uDraw Studio' 'uDraw Studio: Instant Artist'\n",
      " '¡Shin Chan Flipa en colores!']\n",
      "name : кол-во NaN 0 , процент NaN 0.0 %\n",
      "-------------------------\n",
      "platform ['2600' '3DO' '3DS' 'DC' 'DS' 'GB' 'GBA' 'GC' 'GEN' 'GG' 'N64' 'NES' 'NG'\n",
      " 'PC' 'PCFX' 'PS' 'PS2' 'PS3' 'PS4' 'PSP' 'PSV' 'SAT' 'SCD' 'SNES' 'TG16'\n",
      " 'WS' 'Wii' 'WiiU' 'X360' 'XB' 'XOne']\n",
      "platform : кол-во NaN 0 , процент NaN 0.0 %\n",
      "-------------------------\n",
      "year_of_release <IntegerArray>\n",
      "[1980, 1981, 1982, 1983, 1984, 1985, 1986, 1987, 1988, 1989, 1990, 1991, 1992,\n",
      " 1993, 1994, 1995, 1996, 1997, 1998, 1999, 2000, 2001, 2002, 2003, 2004, 2005,\n",
      " 2006, 2007, 2008, 2009, 2010, 2011, 2012, 2013, 2014, 2015, 2016]\n",
      "Length: 37, dtype: Int64\n",
      "year_of_release : кол-во NaN 0 , процент NaN 0.0 %\n",
      "-------------------------\n",
      "genre ['Action' 'Adventure' 'Fighting' 'Misc' 'Platform' 'Puzzle' 'Racing'\n",
      " 'Role-Playing' 'Shooter' 'Simulation' 'Sports' 'Strategy']\n",
      "genre : кол-во NaN 0 , процент NaN 0.0 %\n",
      "-------------------------\n",
      "critic_score [-1. 13. 17. 19. 20. 21. 23. 24. 25. 26. 27. 28. 29. 30. 31. 32. 33. 34.\n",
      " 35. 36. 37. 38. 39. 40. 41. 42. 43. 44. 45. 46. 47. 48. 49. 50. 51. 52.\n",
      " 53. 54. 55. 56. 57. 58. 59. 60. 61. 62. 63. 64. 65. 66. 67. 68. 69. 70.\n",
      " 71. 72. 73. 74. 75. 76. 77. 78. 79. 80. 81. 82. 83. 84. 85. 86. 87. 88.\n",
      " 89. 90. 91. 92. 93. 94. 95. 96. 97. 98.]\n",
      "critic_score : кол-во NaN 0 , процент NaN 0.0 %\n",
      "-------------------------\n",
      "user_score [-1.   0.   0.2  0.3  0.5  0.6  0.7  0.9  1.   1.1  1.2  1.3  1.4  1.5\n",
      "  1.6  1.7  1.8  1.9  2.   2.1  2.2  2.3  2.4  2.5  2.6  2.7  2.8  2.9\n",
      "  3.   3.1  3.2  3.3  3.4  3.5  3.6  3.7  3.8  3.9  4.   4.1  4.2  4.3\n",
      "  4.4  4.5  4.6  4.7  4.8  4.9  5.   5.1  5.2  5.3  5.4  5.5  5.6  5.7\n",
      "  5.8  5.9  6.   6.1  6.2  6.3  6.4  6.5  6.6  6.7  6.8  6.9  7.   7.1\n",
      "  7.2  7.3  7.4  7.5  7.6  7.7  7.8  7.9  8.   8.1  8.2  8.3  8.4  8.5\n",
      "  8.6  8.7  8.8  8.9  9.   9.1  9.2  9.3  9.4  9.5  9.6  9.7]\n",
      "user_score : кол-во NaN 0 , процент NaN 0.0 %\n",
      "-------------------------\n",
      "rating ['AO' 'E' 'E10+' 'EC' 'M' 'RP' 'T' 'unknown']\n",
      "rating : кол-во NaN 0 , процент NaN 0.0 %\n"
     ]
    }
   ],
   "source": [
    "# Комментарий ревьюера\n",
    "# Посмотрим, что у нас осталось\n",
    "temp = data.copy() \n",
    "list_c = ['name', 'platform', 'year_of_release', 'genre', 'critic_score', 'user_score', 'rating']\n",
    "print(temp.info())\n",
    "for col_l in list_c:\n",
    "  print('-'* 25)\n",
    "  print(col_l, temp[col_l].sort_values().unique())\n",
    "  print(col_l,': кол-во NaN',temp[col_l].isna().sum(),\n",
    "        ', процент NaN', round(temp[col_l].isna().sum()/len(temp)*100, 2),'%')"
   ]
  },
  {
   "cell_type": "markdown",
   "metadata": {},
   "source": [
    "## Исследовательский анализ данных"
   ]
  },
  {
   "cell_type": "code",
   "execution_count": 22,
   "metadata": {},
   "outputs": [
    {
     "data": {
      "text/plain": [
       "[Text(0.5, 0, 'Год релиза'), Text(0, 0.5, 'Количество')]"
      ]
     },
     "execution_count": 22,
     "metadata": {},
     "output_type": "execute_result"
    },
    {
     "data": {
      "image/png": "[encoded data removed]",
      "text/plain": [
       "<Figure size 360x360 with 1 Axes>"
      ]
     },
     "metadata": {
      "needs_background": "light"
     },
     "output_type": "display_data"
    }
   ],
   "source": [
    "data.plot(y='year_of_release', kind='hist', grid=True, figsize=(5,5), bins=37, title='Сколько игр выпускалось в разные годы').set(xlabel='Год релиза', ylabel='Количество')"
   ]
  },
  {
   "cell_type": "markdown",
   "metadata": {},
   "source": [
    "**На графике видно, что наибольшее количество выпущенных игр приходится на 2007-2008 годы, затем наблюдался резкий спад. Скорее всего, это обусловлено финансовым кризисом 2008 года, который притормозил бурный рост игровой индустрии. Данные за все периоды нам не важны, так как игровая отрасль, да и в целом современные технологии развиваются очень быстро и, чтобы делать какие-либо прогнозы, необходимо оперировать наиболее актуальными данными, которые приближены к нынешней реальности**"
   ]
  },
  {
   "cell_type": "code",
   "execution_count": 24,
   "metadata": {},
   "outputs": [
    {
     "data": {
      "image/png": "[encoded data removed]",
      "text/plain": [
       "<Figure size 720x360 with 1 Axes>"
      ]
     },
     "metadata": {
      "needs_background": "light"
     },
     "output_type": "display_data"
    }
   ],
   "source": [
    "(data.groupby('platform', as_index = False)['sum_sales'].sum()\n",
    "     .sort_values('sum_sales', ascending=False)\n",
    "     .plot(kind='bar',x='platform', y='sum_sales',figsize=(10, 5))\n",
    ")\n",
    "plt.xlabel(\"Платформы\")\n",
    "plt.ylabel(\"Продажи\")\n",
    "\n",
    "pass"
   ]
  },
  {
   "cell_type": "code",
   "execution_count": 25,
   "metadata": {},
   "outputs": [
    {
     "data": {
      "image/png": "[encoded data removed]",
      "text/plain": [
       "<Figure size 720x360 with 1 Axes>"
      ]
     },
     "metadata": {
      "needs_background": "light"
     },
     "output_type": "display_data"
    }
   ],
   "source": [
    "platforms = data.query('platform == \"PS2\" or platform == \"X360\" or platform == \"PS3\" or platform == \"Wii\" or platform == \"DS\"')\n",
    "(platforms\n",
    "     .pivot_table(index='year_of_release', columns='platform', values='sum_sales', aggfunc='sum')\n",
    "     .plot(figsize = (10, 5), label=platforms))\n",
    "plt.xlabel(\"Год релиза\")\n",
    "plt.ylabel(\"Продажи\")\n",
    "pass"
   ]
  },
  {
   "cell_type": "markdown",
   "metadata": {},
   "source": [
    "**По графику можно заметить, что жизненный цикл платформы составляет примерно 10 лет, период активной деятельности - примерно 5 лет. Игровая индустрия, да и в целом мир информационных технологий очень быстро меняется, поэтому в качестве актульного период следует выделить 3 года (2014-2016)**"
   ]
  },
  {
   "cell_type": "code",
   "execution_count": 26,
   "metadata": {},
   "outputs": [
    {
     "data": {
      "image/png": "[encoded data removed]",
      "text/plain": [
       "<Figure size 432x288 with 1 Axes>"
      ]
     },
     "metadata": {
      "needs_background": "light"
     },
     "output_type": "display_data"
    }
   ],
   "source": [
    "(data\n",
    "     .query('year_of_release >= 2014')\n",
    "     .groupby(['platform'], as_index=False)['sum_sales'].sum()\n",
    "     .sort_values('sum_sales', ascending=False)\n",
    "     .plot(x='platform', y='sum_sales', kind='bar', title='Продажи платформ 2014-2016')\n",
    ")\n",
    "plt.xlabel(\"Платформы\")\n",
    "plt.ylabel(\"Продажи\")\n",
    "pass"
   ]
  },
  {
   "cell_type": "code",
   "execution_count": 27,
   "metadata": {},
   "outputs": [
    {
     "data": {
      "image/png": "[encoded data removed]",
      "text/plain": [
       "<Figure size 720x360 with 1 Axes>"
      ]
     },
     "metadata": {
      "needs_background": "light"
     },
     "output_type": "display_data"
    }
   ],
   "source": [
    "actual_data = data.query('year_of_release >= 2014')\n",
    "(actual_data\n",
    "    .pivot_table(index='year_of_release', columns='platform', values='sum_sales', aggfunc='sum')\n",
    "    .plot(figsize = (10, 5), label=platforms))\n",
    "plt.xticks(np.arange(2014, 2017, step=1))\n",
    "plt.xlabel(\"Год релиза\")\n",
    "plt.ylabel(\"Продажи\")\n",
    "pass"
   ]
  },
  {
   "cell_type": "markdown",
   "metadata": {},
   "source": [
    "Можно заметить, что динамика продаж на всех платформах падает. Лидеры продаж по итогам на 2016 год: **PS4, XOne, 3DS**"
   ]
  },
  {
   "cell_type": "code",
   "execution_count": 28,
   "metadata": {},
   "outputs": [
    {
     "data": {
      "image/png": "[encoded data removed]",
      "text/plain": [
       "<Figure size 1080x360 with 1 Axes>"
      ]
     },
     "metadata": {
      "needs_background": "light"
     },
     "output_type": "display_data"
    }
   ],
   "source": [
    "popular_platform = data.query('year_of_release >= 2014')\n",
    "(popular_platform\n",
    "     .boxplot(by=\"platform\", column=\"sum_sales\", figsize=(15,5))\n",
    ")\n",
    "plt.title('Сравнение платформ')\n",
    "plt.suptitle(' ')\n",
    "plt.xlabel(\"Платформы\")\n",
    "pass"
   ]
  },
  {
   "cell_type": "code",
   "execution_count": 29,
   "metadata": {},
   "outputs": [
    {
     "data": {
      "image/png": "[encoded data removed]",
      "text/plain": [
       "<Figure size 1080x360 with 1 Axes>"
      ]
     },
     "metadata": {
      "needs_background": "light"
     },
     "output_type": "display_data"
    }
   ],
   "source": [
    "popular_platform = data.query('year_of_release >= 2014')\n",
    "(popular_platform\n",
    "     .boxplot(by=\"platform\", column=\"sum_sales\", figsize=(15,5))\n",
    ")\n",
    "plt.title('Сравнение платформ')\n",
    "plt.suptitle(' ')\n",
    "plt.ylim(0,0.8)\n",
    "plt.xlabel(\"Платформы\")\n",
    "pass"
   ]
  },
  {
   "cell_type": "markdown",
   "metadata": {},
   "source": [
    "**На графике распределения значений видно, что у платформ PS4, XOne и Wii наибольшая медиана, а значит они имеют наиболее устойчивый потребительский спрос, однако у Wii распределение значений глобальных продаж гораздо меньше. PS4 лидирует, отдельные значения даже превышают 12. 3DS имеет более скромные показатели,  поэтому в дальнейшее исследование эту платформу включать не будем.**"
   ]
  },
  {
   "cell_type": "markdown",
   "metadata": {},
   "source": [
    "Проверим, как влияют на продажи внутри одной популярной платформы отзывы пользователей и критиков"
   ]
  },
  {
   "cell_type": "code",
   "execution_count": 30,
   "metadata": {},
   "outputs": [
    {
     "data": {
      "text/plain": [
       "1980"
      ]
     },
     "execution_count": 30,
     "metadata": {},
     "output_type": "execute_result"
    }
   ],
   "source": [
    "# Комментарий ревьюера 2\n",
    "data.year_of_release.min()"
   ]
  },
  {
   "cell_type": "code",
   "execution_count": 31,
   "metadata": {},
   "outputs": [
    {
     "data": {
      "image/png": "[encoded data removed]",
      "text/plain": [
       "<Figure size 432x288 with 1 Axes>"
      ]
     },
     "metadata": {
      "needs_background": "light"
     },
     "output_type": "display_data"
    }
   ],
   "source": [
    "ps4 = data.query('platform == \"PS4\" and critic_score != -1 and year_of_release >= 2014')\n",
    "ps4.plot(kind='scatter', x='critic_score', y='sum_sales', alpha=0.5, title='Зависимость продаж PS4 от оценки критиков')\n",
    "plt.xlabel(\"Оценка критиков\")\n",
    "plt.ylabel(\"Продажи\")\n",
    "pass"
   ]
  },
  {
   "cell_type": "code",
   "execution_count": 32,
   "metadata": {},
   "outputs": [
    {
     "name": "stdout",
     "output_type": "stream",
     "text": [
      "Корреляция продаж и оценки критиков PS4: 0.40266141068104083\n"
     ]
    }
   ],
   "source": [
    "print('Корреляция продаж и оценки критиков PS4:', ps4['sum_sales'].corr(ps4['critic_score']))"
   ]
  },
  {
   "cell_type": "code",
   "execution_count": 33,
   "metadata": {},
   "outputs": [
    {
     "data": {
      "image/png": "[encoded data removed]",
      "text/plain": [
       "<Figure size 432x288 with 1 Axes>"
      ]
     },
     "metadata": {
      "needs_background": "light"
     },
     "output_type": "display_data"
    }
   ],
   "source": [
    "xone = data.query('platform == \"XOne\" and critic_score != -1 and year_of_release >= 2014')\n",
    "xone.plot(kind='scatter', x='critic_score', y='sum_sales', alpha=0.5, title='Зависимость продаж XOne от оценки критиков')\n",
    "plt.xlabel(\"Оценка критиков\")\n",
    "plt.ylabel(\"Продажи\")\n",
    "pass"
   ]
  },
  {
   "cell_type": "code",
   "execution_count": 34,
   "metadata": {},
   "outputs": [
    {
     "name": "stdout",
     "output_type": "stream",
     "text": [
      "Корреляция продаж и оценки критиков XOne: 0.42867694370333226\n"
     ]
    }
   ],
   "source": [
    "print('Корреляция продаж и оценки критиков XOne:', xone['sum_sales'].corr(xone['critic_score']))"
   ]
  },
  {
   "cell_type": "markdown",
   "metadata": {},
   "source": [
    "**Зависимость между оценками критиков и продажами игр есть, однако она очень маленькая. Скорее всего на такое увеличение продаж влияют какие-то другие факторы**"
   ]
  },
  {
   "cell_type": "code",
   "execution_count": 35,
   "metadata": {},
   "outputs": [
    {
     "data": {
      "image/png": "[encoded data removed]",
      "text/plain": [
       "<Figure size 432x288 with 1 Axes>"
      ]
     },
     "metadata": {
      "needs_background": "light"
     },
     "output_type": "display_data"
    }
   ],
   "source": [
    "ps4 = data.query('platform == \"PS4\" and user_score != -1 and year_of_release >= 2014')\n",
    "ps4.plot(kind='scatter', x='user_score', y='sum_sales', alpha=0.5, title='Зависимость продаж PS4 от оценки пользователей')\n",
    "plt.xlabel(\"Оценка пользователей\")\n",
    "plt.ylabel(\"Продажи\")\n",
    "pass"
   ]
  },
  {
   "cell_type": "code",
   "execution_count": 36,
   "metadata": {},
   "outputs": [
    {
     "name": "stdout",
     "output_type": "stream",
     "text": [
      "Корреляция продаж и оценки пользователей PS4: -0.040131589472697356\n"
     ]
    }
   ],
   "source": [
    "print('Корреляция продаж и оценки пользователей PS4:', ps4['sum_sales'].corr(ps4['user_score']))"
   ]
  },
  {
   "cell_type": "code",
   "execution_count": 37,
   "metadata": {},
   "outputs": [
    {
     "data": {
      "image/png": "[encoded data removed]",
      "text/plain": [
       "<Figure size 432x288 with 1 Axes>"
      ]
     },
     "metadata": {
      "needs_background": "light"
     },
     "output_type": "display_data"
    }
   ],
   "source": [
    "xone = data.query('platform == \"XOne\" and user_score != -1 and year_of_release >= 2014')\n",
    "xone.plot(kind='scatter', x='user_score', y='sum_sales', alpha=0.5, title='Зависимость продаж XOne от оценки пользователей')\n",
    "pass"
   ]
  },
  {
   "cell_type": "code",
   "execution_count": 38,
   "metadata": {},
   "outputs": [
    {
     "name": "stdout",
     "output_type": "stream",
     "text": [
      "Корреляция продаж и оценки пользователей XOne: -0.0703839280647581\n"
     ]
    }
   ],
   "source": [
    "print('Корреляция продаж и оценки пользователей XOne:', xone['sum_sales'].corr(xone['user_score']))"
   ]
  },
  {
   "cell_type": "markdown",
   "metadata": {},
   "source": [
    "**Как мы видим, зависимость между оценками пользователей вовсе отсутствует**"
   ]
  },
  {
   "cell_type": "markdown",
   "metadata": {},
   "source": [
    "Сравним выводы с продажами игр на других платформах:"
   ]
  },
  {
   "cell_type": "markdown",
   "metadata": {},
   "source": [
    "**Для платформы WiiU:**"
   ]
  },
  {
   "cell_type": "code",
   "execution_count": 39,
   "metadata": {},
   "outputs": [
    {
     "data": {
      "image/png": "[encoded data removed]",
      "text/plain": [
       "<Figure size 432x288 with 1 Axes>"
      ]
     },
     "metadata": {
      "needs_background": "light"
     },
     "output_type": "display_data"
    }
   ],
   "source": [
    "wii = data.query('platform == \"WiiU\" and critic_score != -1 and year_of_release >= 2014')\n",
    "wii.plot(kind='scatter', x='critic_score', y='sum_sales', alpha=0.5, title='Зависимость продаж WiiU от оценки критиков')\n",
    "plt.xlabel(\"Оценка критиков\")\n",
    "plt.ylabel(\"Продажи\")\n",
    "pass"
   ]
  },
  {
   "cell_type": "code",
   "execution_count": 40,
   "metadata": {},
   "outputs": [
    {
     "name": "stdout",
     "output_type": "stream",
     "text": [
      "Корреляция продаж и оценки критиков WiiU: 0.370201412480884\n"
     ]
    }
   ],
   "source": [
    "print('Корреляция продаж и оценки критиков WiiU:', wii['sum_sales'].corr(wii['critic_score']))"
   ]
  },
  {
   "cell_type": "code",
   "execution_count": 41,
   "metadata": {},
   "outputs": [
    {
     "data": {
      "image/png": "[encoded data removed]",
      "text/plain": [
       "<Figure size 432x288 with 1 Axes>"
      ]
     },
     "metadata": {
      "needs_background": "light"
     },
     "output_type": "display_data"
    }
   ],
   "source": [
    "wii = data.query('platform == \"WiiU\" and user_score != -1 and year_of_release >= 2014')\n",
    "wii.plot(kind='scatter', x='user_score', y='sum_sales', alpha=0.5, title='Зависимость продаж WiiU от оценки пользователей')\n",
    "plt.xlabel(\"Оценка пользователей\")\n",
    "plt.ylabel(\"Продажи\")\n",
    "pass"
   ]
  },
  {
   "cell_type": "code",
   "execution_count": 42,
   "metadata": {},
   "outputs": [
    {
     "name": "stdout",
     "output_type": "stream",
     "text": [
      "Корреляция продаж и оценки пользователей WiiU: 0.4079264579217078\n"
     ]
    }
   ],
   "source": [
    "print('Корреляция продаж и оценки пользователей WiiU:', wii['sum_sales'].corr(wii['user_score']))"
   ]
  },
  {
   "cell_type": "markdown",
   "metadata": {},
   "source": [
    "**Для платформы 3DS:**"
   ]
  },
  {
   "cell_type": "code",
   "execution_count": 43,
   "metadata": {},
   "outputs": [
    {
     "name": "stdout",
     "output_type": "stream",
     "text": [
      "Корреляция продаж и оценки критиков 3DS: 0.31411749286905105\n"
     ]
    },
    {
     "data": {
      "image/png": "[encoded data removed]",
      "text/plain": [
       "<Figure size 432x288 with 1 Axes>"
      ]
     },
     "metadata": {
      "needs_background": "light"
     },
     "output_type": "display_data"
    }
   ],
   "source": [
    "tds = data.query('platform == \"3DS\" and critic_score != -1 and year_of_release >= 2014')\n",
    "tds.plot(kind='scatter', x='critic_score', y='sum_sales', alpha=0.5, title='Зависимость продаж 3DS от оценки критиков')\n",
    "plt.xlabel(\"Оценка критиков\")\n",
    "plt.ylabel(\"Продажи\")\n",
    "\n",
    "print('Корреляция продаж и оценки критиков 3DS:', tds['sum_sales'].corr(tds['critic_score']))\n",
    "pass"
   ]
  },
  {
   "cell_type": "code",
   "execution_count": 44,
   "metadata": {},
   "outputs": [
    {
     "name": "stdout",
     "output_type": "stream",
     "text": [
      "Корреляция продаж и оценки пользователей 3DS: 0.2151932718527028\n"
     ]
    },
    {
     "data": {
      "image/png": "[encoded data removed]",
      "text/plain": [
       "<Figure size 432x288 with 1 Axes>"
      ]
     },
     "metadata": {
      "needs_background": "light"
     },
     "output_type": "display_data"
    }
   ],
   "source": [
    "tds = data.query('platform == \"3DS\" and user_score != -1 and year_of_release >= 2014')\n",
    "tds.plot(kind='scatter', x='user_score', y='sum_sales', alpha=0.5, title='Зависимость продаж 3DS от оценки пользователей')\n",
    "plt.xlabel(\"Оценка пользователей\")\n",
    "plt.ylabel(\"Продажи\")\n",
    "\n",
    "print('Корреляция продаж и оценки пользователей 3DS:', tds['sum_sales'].corr(tds['user_score']))\n",
    "pass"
   ]
  },
  {
   "cell_type": "markdown",
   "metadata": {},
   "source": [
    "**Для платформы PC:**"
   ]
  },
  {
   "cell_type": "code",
   "execution_count": 45,
   "metadata": {},
   "outputs": [
    {
     "name": "stdout",
     "output_type": "stream",
     "text": [
      "Корреляция продаж и оценки критиков PC: 0.17463413769350036\n"
     ]
    },
    {
     "data": {
      "image/png": "[encoded data removed]",
      "text/plain": [
       "<Figure size 432x288 with 1 Axes>"
      ]
     },
     "metadata": {
      "needs_background": "light"
     },
     "output_type": "display_data"
    }
   ],
   "source": [
    "pc = data.query('platform == \"PC\" and critic_score != -1 and year_of_release >= 2014')\n",
    "pc.plot(kind='scatter', x='critic_score', y='sum_sales', alpha=0.5, title='Зависимость продаж PC от оценки критиков')\n",
    "plt.xlabel(\"Оценка критиков\")\n",
    "plt.ylabel(\"Продажи\")\n",
    "\n",
    "print('Корреляция продаж и оценки критиков PC:', pc['sum_sales'].corr(pc['critic_score']))\n",
    "pass"
   ]
  },
  {
   "cell_type": "code",
   "execution_count": 46,
   "metadata": {},
   "outputs": [
    {
     "name": "stdout",
     "output_type": "stream",
     "text": [
      "Корреляция продаж и оценки пользователей PC -0.07159665703472452\n"
     ]
    },
    {
     "data": {
      "image/png": "[encoded data removed]",
      "text/plain": [
       "<Figure size 432x288 with 1 Axes>"
      ]
     },
     "metadata": {
      "needs_background": "light"
     },
     "output_type": "display_data"
    }
   ],
   "source": [
    "pc = data.query('platform == \"PC\" and user_score != -1 and year_of_release >= 2014')\n",
    "pc.plot(kind='scatter', x='user_score', y='sum_sales', alpha=0.5, title='Зависимость продаж PC от оценки пользователей')\n",
    "plt.xlabel(\"Оценка пользователей\")\n",
    "\n",
    "print('Корреляция продаж и оценки пользователей PC', pc['sum_sales'].corr(pc['user_score']))\n",
    "pass"
   ]
  },
  {
   "cell_type": "markdown",
   "metadata": {},
   "source": [
    "**Для платформы X360:**"
   ]
  },
  {
   "cell_type": "code",
   "execution_count": 47,
   "metadata": {},
   "outputs": [
    {
     "name": "stdout",
     "output_type": "stream",
     "text": [
      "Корреляция продаж и оценки критиков X360: 0.5257228356581523\n"
     ]
    },
    {
     "data": {
      "image/png": "[encoded data removed]",
      "text/plain": [
       "<Figure size 432x288 with 1 Axes>"
      ]
     },
     "metadata": {
      "needs_background": "light"
     },
     "output_type": "display_data"
    }
   ],
   "source": [
    "x = data.query('platform == \"X360\" and critic_score != -1 and year_of_release >= 2014')\n",
    "x.plot(kind='scatter', x='critic_score', y='sum_sales', alpha=0.5, title='Зависимость продаж X360 от оценки критиков')\n",
    "plt.xlabel(\"Оценка критиков\")\n",
    "plt.ylabel(\"Продажи\")\n",
    "\n",
    "print('Корреляция продаж и оценки критиков X360:', x['sum_sales'].corr(x['critic_score']))\n",
    "pass"
   ]
  },
  {
   "cell_type": "code",
   "execution_count": 48,
   "metadata": {},
   "outputs": [
    {
     "name": "stdout",
     "output_type": "stream",
     "text": [
      "Корреляция продаж и оценки пользователей X360: -0.138444570945665\n"
     ]
    },
    {
     "data": {
      "image/png": "[encoded data removed]",
      "text/plain": [
       "<Figure size 432x288 with 1 Axes>"
      ]
     },
     "metadata": {
      "needs_background": "light"
     },
     "output_type": "display_data"
    }
   ],
   "source": [
    "x = data.query('platform == \"X360\" and user_score != -1 and year_of_release >= 2014')\n",
    "x.plot(kind='scatter', x='user_score', y='sum_sales', alpha=0.5, title='Зависимость продаж X360 от оценки пользователей')\n",
    "plt.xlabel(\"Оценка пользователей\")\n",
    "plt.ylabel(\"Продажи\")\n",
    "\n",
    "print('Корреляция продаж и оценки пользователей X360:', x['sum_sales'].corr(x['user_score']))\n",
    "pass"
   ]
  },
  {
   "cell_type": "markdown",
   "metadata": {},
   "source": [
    "**Для платформы PSV:**"
   ]
  },
  {
   "cell_type": "code",
   "execution_count": 49,
   "metadata": {},
   "outputs": [
    {
     "name": "stdout",
     "output_type": "stream",
     "text": [
      "Корреляция продаж и оценки критиков PSV: 0.04266490657009526\n"
     ]
    },
    {
     "data": {
      "image/png": "[encoded data removed]",
      "text/plain": [
       "<Figure size 432x288 with 1 Axes>"
      ]
     },
     "metadata": {
      "needs_background": "light"
     },
     "output_type": "display_data"
    }
   ],
   "source": [
    "psv = data.query('platform == \"PSV\" and critic_score != -1 and year_of_release >= 2014')\n",
    "psv.plot(kind='scatter', x='critic_score', y='sum_sales', alpha=0.5, title='Зависимость продаж PSV от оценки критиков')\n",
    "plt.xlabel(\"Оценка критиков\")\n",
    "plt.ylabel(\"Продажи\")\n",
    "\n",
    "print('Корреляция продаж и оценки критиков PSV:', psv['sum_sales'].corr(psv['critic_score']))\n",
    "pass"
   ]
  },
  {
   "cell_type": "code",
   "execution_count": 50,
   "metadata": {},
   "outputs": [
    {
     "name": "stdout",
     "output_type": "stream",
     "text": [
      "Корреляция продаж и оценки пользователей PSP: -0.16845504978064446\n"
     ]
    },
    {
     "data": {
      "image/png": "[encoded data removed]",
      "text/plain": [
       "<Figure size 432x288 with 1 Axes>"
      ]
     },
     "metadata": {
      "needs_background": "light"
     },
     "output_type": "display_data"
    }
   ],
   "source": [
    "psv = data.query('platform == \"PSV\" and user_score != -1 and year_of_release >= 2014')\n",
    "psv.plot(kind='scatter', x='user_score', y='sum_sales', alpha=0.5, title='Зависимость продаж PSV от оценки пользователей')\n",
    "plt.xlabel(\"Оценка пользователей\")\n",
    "plt.ylabel(\"Продажи\")\n",
    "\n",
    "print('Корреляция продаж и оценки пользователей PSP:', psv['sum_sales'].corr(psv['user_score']))\n",
    "pass"
   ]
  },
  {
   "cell_type": "markdown",
   "metadata": {},
   "source": [
    "Таким образом, на основе анализа графиков распределения значений и коэффициентов корреляции, выводы об отсутствии зависимости между продажами и оценкой пользователей/критиков внутри каждой платформы за актуальный период подтверждены "
   ]
  },
  {
   "cell_type": "markdown",
   "metadata": {},
   "source": [
    "Посмотрим на общее распределение игр по жанрам"
   ]
  },
  {
   "cell_type": "code",
   "execution_count": 52,
   "metadata": {},
   "outputs": [
    {
     "data": {
      "text/plain": [
       "<AxesSubplot:title={'center':'Распределение продаж по жанрам'}, xlabel='genre'>"
      ]
     },
     "execution_count": 52,
     "metadata": {},
     "output_type": "execute_result"
    },
    {
     "data": {
      "image/png": "[encoded data removed]",
      "text/plain": [
       "<Figure size 432x288 with 1 Axes>"
      ]
     },
     "metadata": {
      "needs_background": "light"
     },
     "output_type": "display_data"
    }
   ],
   "source": [
    "popular_platform = data.query('year_of_release >= 2014')\n",
    "(popular_platform\n",
    "     .pivot_table(index='genre', values='sum_sales', aggfunc='sum')\n",
    "     .sort_values(by='sum_sales', ascending=False)\n",
    "     .reset_index().plot(kind='bar', x='genre', y='sum_sales', title='Распределение продаж по жанрам', legend=False)\n",
    ")"
   ]
  },
  {
   "cell_type": "code",
   "execution_count": 54,
   "metadata": {},
   "outputs": [
    {
     "data": {
      "image/png": "[encoded data removed]",
      "text/plain": [
       "<Figure size 1080x360 with 1 Axes>"
      ]
     },
     "metadata": {
      "needs_background": "light"
     },
     "output_type": "display_data"
    }
   ],
   "source": [
    "data = data.query('year_of_release >= 2014')\n",
    "(data\n",
    "     .boxplot(by=\"genre\", column=\"sum_sales\", figsize=(15,5))\n",
    ")\n",
    "plt.title('Сравнение продаж по жанрам')\n",
    "plt.suptitle(' ')\n",
    "plt.xlabel(\"Платформы\")\n",
    "pass"
   ]
  },
  {
   "cell_type": "code",
   "execution_count": 55,
   "metadata": {},
   "outputs": [
    {
     "data": {
      "image/png": "[encoded data removed]",
      "text/plain": [
       "<Figure size 1080x360 with 1 Axes>"
      ]
     },
     "metadata": {
      "needs_background": "light"
     },
     "output_type": "display_data"
    }
   ],
   "source": [
    "data = data.query('year_of_release >= 2014')\n",
    "(data\n",
    "     .boxplot(by=\"genre\", column=\"sum_sales\", figsize=(15,5))\n",
    ")\n",
    "plt.title('Сравнение продаж по жанрам')\n",
    "plt.suptitle(' ')\n",
    "plt.xlabel(\"Платформы\")\n",
    "plt.ylim(0,2)\n",
    "pass"
   ]
  },
  {
   "cell_type": "markdown",
   "metadata": {},
   "source": [
    "Что касается продаж по жанрам за актуальный период, безусловным лидером стал **shooter**, имеющий наибольшее медианное значение. На втором месте **sports**. В дальнейшем будем ориентироваться на них, как на жанры, имеющие стабильный спрос"
   ]
  },
  {
   "cell_type": "markdown",
   "metadata": {},
   "source": [
    " ## Портрет пользователя каждого региона"
   ]
  },
  {
   "cell_type": "code",
   "execution_count": 56,
   "metadata": {},
   "outputs": [
    {
     "data": {
      "image/png": "[encoded data removed]",
      "text/plain": [
       "<Figure size 432x288 with 1 Axes>"
      ]
     },
     "metadata": {},
     "output_type": "display_data"
    }
   ],
   "source": [
    "#Построим диаграмму продаж платформ в Северной Америке:\n",
    "actual_period = data.query('year_of_release >= 2014')\n",
    "(actual_period\n",
    "     .pivot_table(index='platform', values='na_sales', aggfunc='sum')\n",
    "     .sort_values('na_sales', ascending=False).head(5)\n",
    "     .plot(kind='pie', y='na_sales', autopct='%1.0f%%', legend=False, title='Продажи в Северной Америке')\n",
    ")\n",
    "pass"
   ]
  },
  {
   "cell_type": "code",
   "execution_count": 57,
   "metadata": {},
   "outputs": [
    {
     "data": {
      "image/png": "[encoded data removed]",
      "text/plain": [
       "<Figure size 432x288 with 1 Axes>"
      ]
     },
     "metadata": {},
     "output_type": "display_data"
    }
   ],
   "source": [
    "#Построим диаграмму продаж платформ в Европе:\n",
    "(actual_period\n",
    "     .pivot_table(index='platform', values='eu_sales', aggfunc='sum')\n",
    "     .sort_values('eu_sales', ascending=False).head(5)\n",
    "     .plot(kind='pie', y='eu_sales', autopct='%1.0f%%', legend=False, title='Продажи в Европе')\n",
    ")\n",
    "pass"
   ]
  },
  {
   "cell_type": "code",
   "execution_count": 58,
   "metadata": {},
   "outputs": [
    {
     "data": {
      "image/png": "[encoded data removed]",
      "text/plain": [
       "<Figure size 432x288 with 1 Axes>"
      ]
     },
     "metadata": {},
     "output_type": "display_data"
    }
   ],
   "source": [
    "#Построим диаграмму продаж платформ в Японии:\n",
    "(actual_period\n",
    "     .pivot_table(index='platform', values='jp_sales', aggfunc='sum')\n",
    "     .sort_values('jp_sales', ascending=False).head(5)\n",
    "     .plot(kind='pie', y='jp_sales', autopct='%1.0f%%', legend=False, title='Продажи в Японии')\n",
    ")\n",
    "pass"
   ]
  },
  {
   "cell_type": "code",
   "execution_count": 59,
   "metadata": {},
   "outputs": [
    {
     "data": {
      "image/png": "[encoded data removed]",
      "text/plain": [
       "<Figure size 432x288 with 1 Axes>"
      ]
     },
     "metadata": {},
     "output_type": "display_data"
    }
   ],
   "source": [
    "#Построим диаграмму продаж платформ в других регионах:\n",
    "(actual_period\n",
    "     .pivot_table(index='platform', values='other_sales', aggfunc='sum')\n",
    "     .sort_values('other_sales', ascending=False).head(5)\n",
    "     .plot(kind='pie', y='other_sales', autopct='%1.0f%%', legend=False, title='Продажи в других регионах')\n",
    ")\n",
    "pass"
   ]
  },
  {
   "cell_type": "markdown",
   "metadata": {},
   "source": [
    "**Абсолютным лидером по продажам в Америке, Европе и других регионах является PS4. Возможно, это обуславливается тем, что консоль имеет наибольшее количество игр с разрешением 1080p чем любая другая система восьмого поколения, стильный дизайн, имеет высокую мощность и многое другое. На втором месте находится XOne. В Японии же лидером является 3SD (скорее в силу того, что данная платформа была произведена как раз в Японии)**"
   ]
  },
  {
   "cell_type": "code",
   "execution_count": 60,
   "metadata": {},
   "outputs": [
    {
     "data": {
      "image/png": "[encoded data removed]",
      "text/plain": [
       "<Figure size 432x288 with 1 Axes>"
      ]
     },
     "metadata": {},
     "output_type": "display_data"
    }
   ],
   "source": [
    "#Построим диаграмму популярности жанров в Северной Америке:\n",
    "(actual_period\n",
    "     .pivot_table(index='genre', values='na_sales', aggfunc='sum')\n",
    "     .sort_values('na_sales', ascending=False).head(5)\n",
    "     .plot(kind='pie', y='na_sales', autopct='%1.0f%%', legend=False, title='Популярные жанры в Северной Америке')\n",
    ")\n",
    "pass"
   ]
  },
  {
   "cell_type": "code",
   "execution_count": 61,
   "metadata": {},
   "outputs": [
    {
     "data": {
      "image/png": "[encoded data removed]",
      "text/plain": [
       "<Figure size 432x288 with 1 Axes>"
      ]
     },
     "metadata": {},
     "output_type": "display_data"
    }
   ],
   "source": [
    "#Построим диаграмму популярных жанров в Европе:\n",
    "(actual_period\n",
    "     .pivot_table(index='genre', values='eu_sales', aggfunc='sum')\n",
    "     .sort_values('eu_sales', ascending=False).head(5)\n",
    "     .plot(kind='pie', y='eu_sales', autopct='%1.0f%%', legend=False, title='Популярные жанры в Европе')\n",
    ")\n",
    "pass"
   ]
  },
  {
   "cell_type": "code",
   "execution_count": 62,
   "metadata": {},
   "outputs": [
    {
     "data": {
      "image/png": "[encoded data removed]",
      "text/plain": [
       "<Figure size 432x288 with 1 Axes>"
      ]
     },
     "metadata": {},
     "output_type": "display_data"
    }
   ],
   "source": [
    "#Построим диаграмму популярных жанров в Японии:\n",
    "(actual_period\n",
    "     .pivot_table(index='genre', values='jp_sales', aggfunc='sum')\n",
    "     .sort_values('jp_sales', ascending=False).head(5)\n",
    "     .plot(kind='pie', y='jp_sales', autopct='%1.0f%%', legend=False, title='Популярные жанры в Японии')\n",
    ")\n",
    "pass"
   ]
  },
  {
   "cell_type": "code",
   "execution_count": 64,
   "metadata": {},
   "outputs": [
    {
     "data": {
      "image/png": "[encoded data removed]",
      "text/plain": [
       "<Figure size 432x288 with 1 Axes>"
      ]
     },
     "metadata": {},
     "output_type": "display_data"
    }
   ],
   "source": [
    "#Построим диаграмму популярных жанров в других регионах:\n",
    "(actual_period\n",
    "     .pivot_table(index='genre', values='other_sales', aggfunc='sum')\n",
    "     .sort_values('other_sales', ascending=False).head(5)\n",
    "     .plot(kind='pie', y='other_sales', autopct='%1.0f%%', legend=False, title='Популярные жанры в других регионах')\n",
    ")\n",
    "pass"
   ]
  },
  {
   "cell_type": "markdown",
   "metadata": {},
   "source": [
    "**Распределение жанров в Европе, Америке и дургих регинах примерно похоже, топ-3 лидера - action, shooter, sports. Что касается Японии, наибольшую долю составляют role-playing игры**"
   ]
  },
  {
   "cell_type": "markdown",
   "metadata": {},
   "source": [
    "Проверим, влияет ли рейтинг ESRB на продажи в отдельном регионе"
   ]
  },
  {
   "cell_type": "code",
   "execution_count": 65,
   "metadata": {},
   "outputs": [
    {
     "data": {
      "image/png": "[encoded data removed]",
      "text/plain": [
       "<Figure size 432x288 with 1 Axes>"
      ]
     },
     "metadata": {},
     "output_type": "display_data"
    }
   ],
   "source": [
    "#Продажи в Северной Америке в зависимости от рейтига:\n",
    "(actual_period\n",
    "     .pivot_table(index='rating', values='na_sales', aggfunc='sum')\n",
    "     .sort_values('na_sales', ascending=False)\n",
    "     .plot(kind='pie', y='na_sales', autopct='%1.0f%%', legend=False, title='Продажи в Северной Америке в зависимости от рейтинга')\n",
    ")\n",
    "pass"
   ]
  },
  {
   "cell_type": "code",
   "execution_count": 66,
   "metadata": {},
   "outputs": [
    {
     "data": {
      "image/png": "[encoded data removed]",
      "text/plain": [
       "<Figure size 432x288 with 1 Axes>"
      ]
     },
     "metadata": {},
     "output_type": "display_data"
    }
   ],
   "source": [
    "#Продажи в Европе:\n",
    "(actual_period\n",
    "     .pivot_table(index='rating', values='eu_sales', aggfunc='sum')\n",
    "     .sort_values('eu_sales', ascending=False)\n",
    "     .plot(kind='pie', y='eu_sales', autopct='%1.0f%%', legend=False, title='Продажи в Европе в зависимости от рейтинга')\n",
    ")\n",
    "pass"
   ]
  },
  {
   "cell_type": "code",
   "execution_count": 67,
   "metadata": {},
   "outputs": [
    {
     "data": {
      "image/png": "[encoded data removed]",
      "text/plain": [
       "<Figure size 432x288 with 1 Axes>"
      ]
     },
     "metadata": {},
     "output_type": "display_data"
    }
   ],
   "source": [
    "#продажи в Японии:\n",
    "(actual_period\n",
    "     .pivot_table(index='rating', values='jp_sales', aggfunc='sum')\n",
    "     .sort_values('jp_sales', ascending=False)\n",
    "     .plot(kind='pie', y='jp_sales', autopct='%1.0f%%', legend=False, title='Продажи в Японии в зависимости от рейтига')\n",
    ")\n",
    "pass"
   ]
  },
  {
   "cell_type": "code",
   "execution_count": 68,
   "metadata": {},
   "outputs": [
    {
     "data": {
      "image/png": "[encoded data removed]",
      "text/plain": [
       "<Figure size 432x288 with 1 Axes>"
      ]
     },
     "metadata": {},
     "output_type": "display_data"
    }
   ],
   "source": [
    "#Продажи в других регионах:\n",
    "(actual_period\n",
    "     .pivot_table(index='rating', values='other_sales', aggfunc='sum')\n",
    "     .sort_values('other_sales', ascending=False)\n",
    "     .plot(kind='pie', y='other_sales', autopct='%1.0f%%', legend=False, title='Продажи в других регионах в зависимости от рейтинга')\n",
    ")\n",
    "pass"
   ]
  },
  {
   "cell_type": "markdown",
   "metadata": {},
   "source": [
    "Во всех регионах много игр с неизвестным рейтингом\n",
    "\n",
    "В топе у Америки, Европы и других регионов - игры для взрослых, для всех и с неизвестным рейтингом\n",
    "\n",
    "\n",
    "Лидеры в Японии - игры для подростков, для всех и с неизвестным рейтингом\n"
   ]
  },
  {
   "cell_type": "markdown",
   "metadata": {},
   "source": [
    "**Итак, портреты пользователей:**\n",
    "\n",
    "**Америка, Европа, другие регионы: выбирают PS4/XOne, играют преимущественно в игры жанров action, shooter, sports и рейтингом для взрослых/для всех/с неизвестным рейтингом**\n",
    "\n",
    "**Япония: используют 3DS, играют преимущественно в игры жанров action и role-playing и рейтингом для подростков/для всех/неизвестным рейтингом**"
   ]
  },
  {
   "cell_type": "markdown",
   "metadata": {},
   "source": [
    "Оценим объем продаж по регионам:"
   ]
  },
  {
   "cell_type": "code",
   "execution_count": 69,
   "metadata": {},
   "outputs": [
    {
     "name": "stdout",
     "output_type": "stream",
     "text": [
      "Америка: 284.06000000000006\n",
      "Европа: 270.67999999999995\n",
      "Япония: 93.09\n"
     ]
    }
   ],
   "source": [
    "print('Америка:', popular_platform['na_sales'].sum())\n",
    "print('Европа:', popular_platform['eu_sales'].sum())\n",
    "print('Япония:', popular_platform['jp_sales'].sum())"
   ]
  },
  {
   "cell_type": "markdown",
   "metadata": {},
   "source": [
    "**Видим, что из трех стран Япония составляет самую маленькую долю продаж**"
   ]
  },
  {
   "cell_type": "markdown",
   "metadata": {},
   "source": [
    "## Проверка Гипотез"
   ]
  },
  {
   "cell_type": "markdown",
   "metadata": {},
   "source": [
    "H0: Средние пользовательские рейтинги платформ Xbox One и PC одинаковые\n",
    "\n",
    "H1: Средние пользовательские рейтинги платформ Xbox One и PC отличаются"
   ]
  },
  {
   "cell_type": "code",
   "execution_count": 70,
   "metadata": {},
   "outputs": [],
   "source": [
    "xone = actual_period.query('platform == \"XOne\" and user_score != -1')\n",
    "ps = actual_period.query('platform == \"PC\" and user_score != -1')"
   ]
  },
  {
   "cell_type": "code",
   "execution_count": 71,
   "metadata": {},
   "outputs": [
    {
     "name": "stdout",
     "output_type": "stream",
     "text": [
      "Дисперсия выборки xone: 1.8795460055096425\n",
      "Дисперсия выборки pc: 2.8773743617307175\n"
     ]
    }
   ],
   "source": [
    "print(\"Дисперсия выборки xone:\",np.var(xone['user_score']))\n",
    "print(\"Дисперсия выборки pc:\",np.var(ps['user_score']))"
   ]
  },
  {
   "cell_type": "code",
   "execution_count": 72,
   "metadata": {},
   "outputs": [
    {
     "name": "stdout",
     "output_type": "stream",
     "text": [
      "p-значение: 0.11601398086668832\n",
      "Не получилось отвергнуть нулевую гипотезу\n",
      "6.594545454545456\n",
      "6.298360655737705\n"
     ]
    }
   ],
   "source": [
    "alpha = .05\n",
    "results = st.ttest_ind(xone['user_score'], ps['user_score'], equal_var=False)\n",
    "print('p-значение:', results.pvalue)\n",
    "\n",
    "if (results.pvalue < alpha):\n",
    "    print(\"Отвергаем нулевую гипотезу\")\n",
    "else:\n",
    "    print(\"Не получилось отвергнуть нулевую гипотезу\")\n",
    "    \n",
    "print(xone['user_score'].mean())\n",
    "print(ps['user_score'].mean())"
   ]
  },
  {
   "cell_type": "markdown",
   "metadata": {},
   "source": [
    "**Гипотеза о том, что средние пользовательские рейтинги платформ Xbox One и PC одинаковые подтвердилась**\n"
   ]
  },
  {
   "cell_type": "markdown",
   "metadata": {},
   "source": [
    "H0: Средние пользовательские рейтинги жанров Action (англ. «действие», экшен-игры) и Sports (англ. «спортивные соревнования») одинаковые\n",
    "\n",
    "H1: Средние пользовательские рейтинги жанров Action (англ. «действие», экшен-игры) и Sports (англ. «спортивные соревнования») разные"
   ]
  },
  {
   "cell_type": "code",
   "execution_count": 73,
   "metadata": {},
   "outputs": [],
   "source": [
    "action = actual_period.query('genre == \"Action\" and user_score != -1')\n",
    "sports = actual_period.query('genre == \"Sports\" and user_score != -1')"
   ]
  },
  {
   "cell_type": "code",
   "execution_count": 74,
   "metadata": {},
   "outputs": [
    {
     "name": "stdout",
     "output_type": "stream",
     "text": [
      "Дисперсия выборки xone: 1.89208448117539\n",
      "Дисперсия выборки pc: 3.4198375596751185\n"
     ]
    }
   ],
   "source": [
    "print(\"Дисперсия выборки xone:\",np.var(action['user_score']))\n",
    "print(\"Дисперсия выборки pc:\",np.var(sports['user_score']))"
   ]
  },
  {
   "cell_type": "code",
   "execution_count": 75,
   "metadata": {},
   "outputs": [
    {
     "name": "stdout",
     "output_type": "stream",
     "text": [
      "p-значение: 1.1825550382644557e-14\n",
      "Отвергаем нулевую гипотезу\n",
      "6.760606060606061\n",
      "5.2251968503937\n"
     ]
    }
   ],
   "source": [
    "alpha = .05\n",
    "\n",
    "results = st.ttest_ind(action['user_score'], sports['user_score'], equal_var=False)\n",
    "\n",
    "print('p-значение:', results.pvalue)\n",
    "\n",
    "if (results.pvalue < alpha):\n",
    "    print(\"Отвергаем нулевую гипотезу\")\n",
    "else:\n",
    "    print(\"Не получилось отвергнуть нулевую гипотезу\")\n",
    "    \n",
    "print(action['user_score'].mean())\n",
    "print(sports['user_score'].mean())"
   ]
  },
  {
   "cell_type": "markdown",
   "metadata": {},
   "source": [
    "**Гипотеза о том, что средние пользовательские рейтинги жанров Action (англ. «действие», экшен-игры) и Sports (англ. «спортивные соревнования») разные подтвердилась**"
   ]
  },
  {
   "cell_type": "markdown",
   "metadata": {},
   "source": [
    "В качестве нулевых гипотез я выбирала предположения, указывающие на отсутствие различий между выборками (то есть то, что пользовательские рейтинги равны). Альтернативные гипотезы - те, которые охватывают остальные возможные события, не входящие в нулевую гипотезу (то, что пользовательские рейтинги не равны).\n",
    "\n",
    "Альфа я выбрала 0,05 исходя из того, что именно такой уровень проверки гипотезы чаще всего применяют в маркетинге. Неправильные выводы, сделанные в результате проверки данных гипотез, не влекут за собой серьезных последствий и большого риска, поэтому выбирать значение менее 0,05 нет смысла"
   ]
  },
  {
   "cell_type": "markdown",
   "metadata": {},
   "source": [
    "## Общий вывод:"
   ]
  },
  {
   "cell_type": "markdown",
   "metadata": {},
   "source": [
    "1. Пик выпуска игр пришелся на 2007-2008 годы, затем наблюдался резкий спад\n",
    "2. Платформы-лидеры по продажам за все время: PS2, X360, PS3, Wii, DS, PS\n",
    "3. Жизненный цикл платформы составляет примерно 10 лет\n",
    "4. Лидеры по продажам за 2014-2016 год - PS4 и XOne\n",
    "5. Платформы лидеры в Европе и Америке - PS4, XOne, в Японии - 3DS\n",
    "6. Жанры, приносящие стабильную прибыль - Shooter, Sports\n",
    "7. В Европе и Америке играют чаще всего в Action и Shooter, в Японии - Action и Role-Playing\n",
    "8. Чаще всего покупают игры категории возраста \"для всех\"\n",
    "9. Рынок Японии имеет самую маленькую долю продаж\n",
    " \n",
    " \n",
    " **Итак, исходя из исследования, можно сделать вывод, что нужно работать на европейский и американский рынок. Выгоднее всего разрабатывать игру для PS4, XOne в жанре Shooter**"
   ]
  }
 ],
 "metadata": {
  "ExecuteTimeLog": [
   {
    "duration": 342,
    "start_time": "2022-11-28T19:03:57.759Z"
   },
   {
    "duration": 96,
    "start_time": "2022-11-28T19:04:36.285Z"
   },
   {
    "duration": 184,
    "start_time": "2022-11-28T19:04:39.014Z"
   },
   {
    "duration": 18,
    "start_time": "2022-11-28T19:04:58.772Z"
   },
   {
    "duration": 14,
    "start_time": "2022-11-28T19:05:21.371Z"
   },
   {
    "duration": 9,
    "start_time": "2022-11-28T19:05:36.922Z"
   },
   {
    "duration": 9,
    "start_time": "2022-11-28T19:16:23.889Z"
   },
   {
    "duration": 7,
    "start_time": "2022-11-28T19:19:06.699Z"
   },
   {
    "duration": 7,
    "start_time": "2022-11-28T19:21:14.602Z"
   },
   {
    "duration": 43,
    "start_time": "2022-11-29T12:00:52.870Z"
   },
   {
    "duration": 6,
    "start_time": "2022-11-29T12:05:47.981Z"
   },
   {
    "duration": 389,
    "start_time": "2022-11-29T12:05:52.529Z"
   },
   {
    "duration": 183,
    "start_time": "2022-11-29T12:05:52.920Z"
   },
   {
    "duration": 20,
    "start_time": "2022-11-29T12:05:53.104Z"
   },
   {
    "duration": 31,
    "start_time": "2022-11-29T12:05:53.125Z"
   },
   {
    "duration": 17,
    "start_time": "2022-11-29T12:05:53.157Z"
   },
   {
    "duration": 49,
    "start_time": "2022-11-29T12:05:53.175Z"
   },
   {
    "duration": 6,
    "start_time": "2022-11-29T12:07:03.393Z"
   },
   {
    "duration": 3,
    "start_time": "2022-11-29T12:07:11.580Z"
   },
   {
    "duration": 3,
    "start_time": "2022-11-29T12:07:16.049Z"
   },
   {
    "duration": 12,
    "start_time": "2022-11-29T12:07:27.273Z"
   },
   {
    "duration": 12,
    "start_time": "2022-11-29T12:15:50.269Z"
   },
   {
    "duration": 16,
    "start_time": "2022-11-29T12:16:21.820Z"
   },
   {
    "duration": 10,
    "start_time": "2022-11-29T12:16:25.563Z"
   },
   {
    "duration": 5,
    "start_time": "2022-11-29T12:16:28.453Z"
   },
   {
    "duration": 13,
    "start_time": "2022-11-29T12:16:38.454Z"
   },
   {
    "duration": 13,
    "start_time": "2022-11-29T12:19:12.131Z"
   },
   {
    "duration": 7,
    "start_time": "2022-11-29T12:25:10.773Z"
   },
   {
    "duration": 6,
    "start_time": "2022-11-29T12:25:17.382Z"
   },
   {
    "duration": 2,
    "start_time": "2022-11-29T12:25:19.920Z"
   },
   {
    "duration": 7,
    "start_time": "2022-11-29T12:26:20.334Z"
   },
   {
    "duration": 14,
    "start_time": "2022-11-29T12:26:30.110Z"
   },
   {
    "duration": 8,
    "start_time": "2022-11-29T12:29:52.348Z"
   },
   {
    "duration": 20,
    "start_time": "2022-11-29T12:30:30.353Z"
   },
   {
    "duration": 29,
    "start_time": "2022-11-29T12:33:02.227Z"
   },
   {
    "duration": 9,
    "start_time": "2022-11-29T12:33:11.109Z"
   },
   {
    "duration": 11,
    "start_time": "2022-11-29T12:44:36.178Z"
   },
   {
    "duration": 8,
    "start_time": "2022-11-29T12:44:49.990Z"
   },
   {
    "duration": 25,
    "start_time": "2022-11-29T13:43:08.568Z"
   },
   {
    "duration": 2,
    "start_time": "2022-11-29T13:43:22.040Z"
   },
   {
    "duration": 51,
    "start_time": "2022-11-29T13:43:22.534Z"
   },
   {
    "duration": 12,
    "start_time": "2022-11-29T13:43:23.058Z"
   },
   {
    "duration": 15,
    "start_time": "2022-11-29T13:43:23.835Z"
   },
   {
    "duration": 21,
    "start_time": "2022-11-29T13:43:24.509Z"
   },
   {
    "duration": 6,
    "start_time": "2022-11-29T13:43:34.898Z"
   },
   {
    "duration": 82,
    "start_time": "2022-11-29T14:12:20.877Z"
   },
   {
    "duration": 15,
    "start_time": "2022-11-29T14:12:59.027Z"
   },
   {
    "duration": 8,
    "start_time": "2022-11-29T14:16:58.640Z"
   },
   {
    "duration": 1208,
    "start_time": "2022-11-29T14:17:16.161Z"
   },
   {
    "duration": 3,
    "start_time": "2022-11-29T14:17:36.356Z"
   },
   {
    "duration": 52,
    "start_time": "2022-11-29T14:17:36.760Z"
   },
   {
    "duration": 12,
    "start_time": "2022-11-29T14:17:37.183Z"
   },
   {
    "duration": 13,
    "start_time": "2022-11-29T14:17:37.664Z"
   },
   {
    "duration": 7,
    "start_time": "2022-11-29T14:17:38.102Z"
   },
   {
    "duration": 4,
    "start_time": "2022-11-29T14:17:38.988Z"
   },
   {
    "duration": 13,
    "start_time": "2022-11-29T14:17:39.378Z"
   },
   {
    "duration": 4,
    "start_time": "2022-11-29T14:17:40.313Z"
   },
   {
    "duration": 6,
    "start_time": "2022-11-29T14:17:40.779Z"
   },
   {
    "duration": 8,
    "start_time": "2022-11-29T14:17:41.726Z"
   },
   {
    "duration": 7,
    "start_time": "2022-11-29T14:17:43.323Z"
   },
   {
    "duration": 16,
    "start_time": "2022-11-29T14:17:45.098Z"
   },
   {
    "duration": 5,
    "start_time": "2022-11-29T14:17:46.556Z"
   },
   {
    "duration": 11,
    "start_time": "2022-11-29T14:18:38.368Z"
   },
   {
    "duration": 8,
    "start_time": "2022-11-29T14:18:43.916Z"
   },
   {
    "duration": 6,
    "start_time": "2022-11-29T14:18:53.379Z"
   },
   {
    "duration": 15,
    "start_time": "2022-11-29T14:19:03.815Z"
   },
   {
    "duration": 5,
    "start_time": "2022-11-29T14:19:26.229Z"
   },
   {
    "duration": 6,
    "start_time": "2022-11-29T14:20:06.858Z"
   },
   {
    "duration": 8,
    "start_time": "2022-11-29T14:20:24.674Z"
   },
   {
    "duration": 81,
    "start_time": "2022-11-29T14:20:48.141Z"
   },
   {
    "duration": 5,
    "start_time": "2022-11-29T14:24:44.414Z"
   },
   {
    "duration": 14,
    "start_time": "2022-11-29T14:24:50.552Z"
   },
   {
    "duration": 374,
    "start_time": "2022-11-29T14:38:31.806Z"
   },
   {
    "duration": 1208,
    "start_time": "2022-11-29T14:39:41.901Z"
   },
   {
    "duration": 1620,
    "start_time": "2022-11-29T14:40:03.635Z"
   },
   {
    "duration": 1200,
    "start_time": "2022-11-29T14:40:34.300Z"
   },
   {
    "duration": 1382,
    "start_time": "2022-11-29T14:40:47.155Z"
   },
   {
    "duration": 371,
    "start_time": "2022-11-29T14:41:02.025Z"
   },
   {
    "duration": 290,
    "start_time": "2022-11-29T15:28:34.668Z"
   },
   {
    "duration": 24,
    "start_time": "2022-11-29T15:38:55.901Z"
   },
   {
    "duration": 24,
    "start_time": "2022-11-29T15:39:07.083Z"
   },
   {
    "duration": 48,
    "start_time": "2022-11-29T19:58:26.564Z"
   },
   {
    "duration": 6,
    "start_time": "2022-11-29T19:58:33.384Z"
   },
   {
    "duration": 765,
    "start_time": "2022-11-29T19:58:40.923Z"
   },
   {
    "duration": 471,
    "start_time": "2022-11-29T19:58:41.690Z"
   },
   {
    "duration": 18,
    "start_time": "2022-11-29T19:58:42.163Z"
   },
   {
    "duration": 14,
    "start_time": "2022-11-29T19:58:42.427Z"
   },
   {
    "duration": 27,
    "start_time": "2022-11-29T19:58:43.122Z"
   },
   {
    "duration": 49,
    "start_time": "2022-11-30T11:33:30.298Z"
   },
   {
    "duration": 798,
    "start_time": "2022-11-30T11:33:34.978Z"
   },
   {
    "duration": 96,
    "start_time": "2022-11-30T11:33:35.778Z"
   },
   {
    "duration": 17,
    "start_time": "2022-11-30T11:33:35.954Z"
   },
   {
    "duration": 14,
    "start_time": "2022-11-30T11:33:36.392Z"
   },
   {
    "duration": 7,
    "start_time": "2022-11-30T11:33:36.857Z"
   },
   {
    "duration": 3,
    "start_time": "2022-11-30T11:33:37.753Z"
   },
   {
    "duration": 13,
    "start_time": "2022-11-30T11:33:38.384Z"
   },
   {
    "duration": 5,
    "start_time": "2022-11-30T11:33:39.515Z"
   },
   {
    "duration": 7,
    "start_time": "2022-11-30T11:33:40.011Z"
   },
   {
    "duration": 9,
    "start_time": "2022-11-30T11:33:41.037Z"
   },
   {
    "duration": 8,
    "start_time": "2022-11-30T11:33:42.244Z"
   },
   {
    "duration": 14,
    "start_time": "2022-11-30T11:33:43.782Z"
   },
   {
    "duration": 4,
    "start_time": "2022-11-30T11:33:45.560Z"
   },
   {
    "duration": 4,
    "start_time": "2022-11-30T11:33:46.172Z"
   },
   {
    "duration": 5,
    "start_time": "2022-11-30T11:33:46.769Z"
   },
   {
    "duration": 5,
    "start_time": "2022-11-30T11:33:48.561Z"
   },
   {
    "duration": 316,
    "start_time": "2022-11-30T11:33:49.649Z"
   },
   {
    "duration": 17,
    "start_time": "2022-11-30T11:33:51.184Z"
   },
   {
    "duration": 240,
    "start_time": "2022-11-30T11:34:01.469Z"
   },
   {
    "duration": 17,
    "start_time": "2022-11-30T11:35:45.968Z"
   },
   {
    "duration": 49,
    "start_time": "2022-11-30T11:36:53.799Z"
   },
   {
    "duration": 16,
    "start_time": "2022-11-30T11:38:04.518Z"
   },
   {
    "duration": 5,
    "start_time": "2022-11-30T11:38:32.291Z"
   },
   {
    "duration": 5,
    "start_time": "2022-11-30T11:38:36.693Z"
   },
   {
    "duration": 21,
    "start_time": "2022-11-30T11:38:43.520Z"
   },
   {
    "duration": 20,
    "start_time": "2022-11-30T11:45:48.913Z"
   },
   {
    "duration": 13,
    "start_time": "2022-11-30T11:47:24.032Z"
   },
   {
    "duration": 9,
    "start_time": "2022-11-30T11:48:15.927Z"
   },
   {
    "duration": 4,
    "start_time": "2022-11-30T11:48:37.466Z"
   },
   {
    "duration": 24,
    "start_time": "2022-11-30T11:48:41.721Z"
   },
   {
    "duration": 31,
    "start_time": "2022-11-30T11:48:57.901Z"
   },
   {
    "duration": 31,
    "start_time": "2022-11-30T11:49:13.332Z"
   },
   {
    "duration": 5,
    "start_time": "2022-11-30T11:50:08.299Z"
   },
   {
    "duration": 10,
    "start_time": "2022-11-30T11:50:18.908Z"
   },
   {
    "duration": 8,
    "start_time": "2022-11-30T11:51:19.771Z"
   },
   {
    "duration": 8,
    "start_time": "2022-11-30T11:51:24.657Z"
   },
   {
    "duration": 3,
    "start_time": "2022-11-30T11:54:30.267Z"
   },
   {
    "duration": 60,
    "start_time": "2022-11-30T11:54:30.421Z"
   },
   {
    "duration": 13,
    "start_time": "2022-11-30T11:54:30.853Z"
   },
   {
    "duration": 14,
    "start_time": "2022-11-30T11:54:31.308Z"
   },
   {
    "duration": 7,
    "start_time": "2022-11-30T11:54:31.783Z"
   },
   {
    "duration": 3,
    "start_time": "2022-11-30T11:54:32.700Z"
   },
   {
    "duration": 12,
    "start_time": "2022-11-30T11:54:33.085Z"
   },
   {
    "duration": 5,
    "start_time": "2022-11-30T11:54:33.914Z"
   },
   {
    "duration": 7,
    "start_time": "2022-11-30T11:54:34.484Z"
   },
   {
    "duration": 9,
    "start_time": "2022-11-30T11:54:35.641Z"
   },
   {
    "duration": 7,
    "start_time": "2022-11-30T11:54:36.962Z"
   },
   {
    "duration": 16,
    "start_time": "2022-11-30T11:54:38.919Z"
   },
   {
    "duration": 5,
    "start_time": "2022-11-30T11:54:39.938Z"
   },
   {
    "duration": 5,
    "start_time": "2022-11-30T11:54:40.459Z"
   },
   {
    "duration": 5,
    "start_time": "2022-11-30T11:54:40.944Z"
   },
   {
    "duration": 5,
    "start_time": "2022-11-30T11:54:42.564Z"
   },
   {
    "duration": 349,
    "start_time": "2022-11-30T11:54:44.521Z"
   },
   {
    "duration": 8,
    "start_time": "2022-11-30T11:54:46.350Z"
   },
   {
    "duration": 7,
    "start_time": "2022-11-30T11:59:20.068Z"
   },
   {
    "duration": 8,
    "start_time": "2022-11-30T11:59:30.866Z"
   },
   {
    "duration": 48,
    "start_time": "2022-11-30T12:01:34.122Z"
   },
   {
    "duration": 51,
    "start_time": "2022-11-30T12:01:41.931Z"
   },
   {
    "duration": 122,
    "start_time": "2022-11-30T12:02:07.856Z"
   },
   {
    "duration": 278,
    "start_time": "2022-11-30T12:08:28.863Z"
   },
   {
    "duration": 374,
    "start_time": "2022-11-30T12:08:38.274Z"
   },
   {
    "duration": 12,
    "start_time": "2022-11-30T12:11:59.165Z"
   },
   {
    "duration": 9,
    "start_time": "2022-11-30T12:13:08.652Z"
   },
   {
    "duration": 12,
    "start_time": "2022-11-30T12:13:19.067Z"
   },
   {
    "duration": 11,
    "start_time": "2022-11-30T12:13:27.225Z"
   },
   {
    "duration": 11,
    "start_time": "2022-11-30T12:13:41.457Z"
   },
   {
    "duration": 56,
    "start_time": "2022-11-30T12:14:08.764Z"
   },
   {
    "duration": 96,
    "start_time": "2022-11-30T12:14:25.919Z"
   },
   {
    "duration": 7,
    "start_time": "2022-11-30T12:14:40.052Z"
   },
   {
    "duration": 8,
    "start_time": "2022-11-30T12:14:58.024Z"
   },
   {
    "duration": 816,
    "start_time": "2022-11-30T12:15:46.996Z"
   },
   {
    "duration": 48,
    "start_time": "2022-11-30T12:18:16.006Z"
   },
   {
    "duration": 85,
    "start_time": "2022-11-30T12:18:28.778Z"
   },
   {
    "duration": 52,
    "start_time": "2022-11-30T12:18:38.930Z"
   },
   {
    "duration": 12,
    "start_time": "2022-11-30T12:19:00.490Z"
   },
   {
    "duration": 14,
    "start_time": "2022-11-30T12:19:32.906Z"
   },
   {
    "duration": 271,
    "start_time": "2022-11-30T12:21:25.420Z"
   },
   {
    "duration": 236,
    "start_time": "2022-11-30T12:22:47.883Z"
   },
   {
    "duration": 59,
    "start_time": "2022-11-30T12:26:10.892Z"
   },
   {
    "duration": 74,
    "start_time": "2022-11-30T12:26:18.624Z"
   },
   {
    "duration": 13,
    "start_time": "2022-11-30T12:26:29.656Z"
   },
   {
    "duration": 12,
    "start_time": "2022-11-30T12:26:47.208Z"
   },
   {
    "duration": 25,
    "start_time": "2022-11-30T12:27:23.840Z"
   },
   {
    "duration": 10,
    "start_time": "2022-11-30T12:29:13.789Z"
   },
   {
    "duration": 10,
    "start_time": "2022-11-30T12:29:18.734Z"
   },
   {
    "duration": 11,
    "start_time": "2022-11-30T12:29:28.108Z"
   },
   {
    "duration": 24,
    "start_time": "2022-11-30T12:29:33.354Z"
   },
   {
    "duration": 27,
    "start_time": "2022-11-30T12:30:11.871Z"
   },
   {
    "duration": 28,
    "start_time": "2022-11-30T12:30:34.002Z"
   },
   {
    "duration": 45,
    "start_time": "2022-11-30T12:31:13.537Z"
   },
   {
    "duration": 124,
    "start_time": "2022-11-30T12:52:17.827Z"
   },
   {
    "duration": 168,
    "start_time": "2022-11-30T12:52:34.310Z"
   },
   {
    "duration": 239,
    "start_time": "2022-11-30T12:52:52.550Z"
   },
   {
    "duration": 47,
    "start_time": "2022-11-30T12:53:08.726Z"
   },
   {
    "duration": 217,
    "start_time": "2022-11-30T12:53:13.348Z"
   },
   {
    "duration": 195,
    "start_time": "2022-11-30T12:53:17.738Z"
   },
   {
    "duration": 46,
    "start_time": "2022-11-30T12:55:26.524Z"
   },
   {
    "duration": 47,
    "start_time": "2022-11-30T12:55:48.284Z"
   },
   {
    "duration": 17,
    "start_time": "2022-11-30T12:56:04.215Z"
   },
   {
    "duration": 21,
    "start_time": "2022-11-30T12:56:13.057Z"
   },
   {
    "duration": 59,
    "start_time": "2022-11-30T12:57:04.243Z"
   },
   {
    "duration": 69,
    "start_time": "2022-11-30T12:57:13.784Z"
   },
   {
    "duration": 163,
    "start_time": "2022-11-30T12:57:50.709Z"
   },
   {
    "duration": 164,
    "start_time": "2022-11-30T12:58:54.792Z"
   },
   {
    "duration": 189,
    "start_time": "2022-11-30T12:59:44.917Z"
   },
   {
    "duration": 171,
    "start_time": "2022-11-30T13:00:23.864Z"
   },
   {
    "duration": 31,
    "start_time": "2022-11-30T13:00:54.612Z"
   },
   {
    "duration": 166,
    "start_time": "2022-11-30T13:01:11.264Z"
   },
   {
    "duration": 165,
    "start_time": "2022-11-30T13:01:22.324Z"
   },
   {
    "duration": 3,
    "start_time": "2022-11-30T13:10:52.703Z"
   },
   {
    "duration": 68,
    "start_time": "2022-11-30T13:10:53.142Z"
   },
   {
    "duration": 15,
    "start_time": "2022-11-30T13:10:53.598Z"
   },
   {
    "duration": 14,
    "start_time": "2022-11-30T13:10:54.030Z"
   },
   {
    "duration": 8,
    "start_time": "2022-11-30T13:10:55.559Z"
   },
   {
    "duration": 4,
    "start_time": "2022-11-30T13:10:56.507Z"
   },
   {
    "duration": 13,
    "start_time": "2022-11-30T13:10:57.139Z"
   },
   {
    "duration": 5,
    "start_time": "2022-11-30T13:10:58.000Z"
   },
   {
    "duration": 7,
    "start_time": "2022-11-30T13:10:58.516Z"
   },
   {
    "duration": 10,
    "start_time": "2022-11-30T13:10:59.332Z"
   },
   {
    "duration": 7,
    "start_time": "2022-11-30T13:11:00.443Z"
   },
   {
    "duration": 15,
    "start_time": "2022-11-30T13:11:02.093Z"
   },
   {
    "duration": 6,
    "start_time": "2022-11-30T13:11:03.295Z"
   },
   {
    "duration": 6,
    "start_time": "2022-11-30T13:11:03.745Z"
   },
   {
    "duration": 6,
    "start_time": "2022-11-30T13:11:04.198Z"
   },
   {
    "duration": 5,
    "start_time": "2022-11-30T13:11:06.152Z"
   },
   {
    "duration": 346,
    "start_time": "2022-11-30T13:11:07.337Z"
   },
   {
    "duration": 427,
    "start_time": "2022-11-30T13:11:08.815Z"
   },
   {
    "duration": 160,
    "start_time": "2022-11-30T13:11:10.062Z"
   },
   {
    "duration": 158,
    "start_time": "2022-11-30T13:11:19.448Z"
   },
   {
    "duration": 59,
    "start_time": "2022-11-30T13:11:37.240Z"
   },
   {
    "duration": 1334,
    "start_time": "2022-11-30T13:12:00.533Z"
   },
   {
    "duration": 162,
    "start_time": "2022-11-30T13:31:32.986Z"
   },
   {
    "duration": 232,
    "start_time": "2022-11-30T13:41:32.179Z"
   },
   {
    "duration": 162,
    "start_time": "2022-11-30T13:41:37.751Z"
   },
   {
    "duration": 142,
    "start_time": "2022-11-30T13:44:22.665Z"
   },
   {
    "duration": 63,
    "start_time": "2022-11-30T14:01:50.072Z"
   },
   {
    "duration": 124,
    "start_time": "2022-11-30T14:03:48.118Z"
   },
   {
    "duration": 142,
    "start_time": "2022-11-30T14:03:56.591Z"
   },
   {
    "duration": 19,
    "start_time": "2022-11-30T14:05:19.702Z"
   },
   {
    "duration": 1183,
    "start_time": "2022-11-30T14:07:07.631Z"
   },
   {
    "duration": 908,
    "start_time": "2022-11-30T14:07:13.662Z"
   },
   {
    "duration": 283,
    "start_time": "2022-11-30T14:07:21.722Z"
   },
   {
    "duration": 24,
    "start_time": "2022-11-30T14:08:11.933Z"
   },
   {
    "duration": 193,
    "start_time": "2022-11-30T14:08:39.253Z"
   },
   {
    "duration": 71,
    "start_time": "2022-12-02T10:53:30.625Z"
   },
   {
    "duration": 6,
    "start_time": "2022-12-02T10:53:36.600Z"
   },
   {
    "duration": 9,
    "start_time": "2022-12-02T10:57:03.987Z"
   },
   {
    "duration": 8,
    "start_time": "2022-12-02T10:57:34.599Z"
   },
   {
    "duration": 7,
    "start_time": "2022-12-02T10:57:50.361Z"
   },
   {
    "duration": 851,
    "start_time": "2022-12-02T10:57:57.016Z"
   },
   {
    "duration": 202,
    "start_time": "2022-12-02T10:57:57.870Z"
   },
   {
    "duration": 20,
    "start_time": "2022-12-02T10:57:58.073Z"
   },
   {
    "duration": 15,
    "start_time": "2022-12-02T10:57:58.095Z"
   },
   {
    "duration": 18,
    "start_time": "2022-12-02T10:57:58.112Z"
   },
   {
    "duration": 4,
    "start_time": "2022-12-02T10:57:58.132Z"
   },
   {
    "duration": 14,
    "start_time": "2022-12-02T10:57:58.137Z"
   },
   {
    "duration": 6,
    "start_time": "2022-12-02T10:57:58.153Z"
   },
   {
    "duration": 7,
    "start_time": "2022-12-02T10:57:58.160Z"
   },
   {
    "duration": 8,
    "start_time": "2022-12-02T10:57:58.169Z"
   },
   {
    "duration": 8,
    "start_time": "2022-12-02T10:57:58.178Z"
   },
   {
    "duration": 14,
    "start_time": "2022-12-02T10:57:58.187Z"
   },
   {
    "duration": 5,
    "start_time": "2022-12-02T10:57:58.203Z"
   },
   {
    "duration": 5,
    "start_time": "2022-12-02T10:57:58.239Z"
   },
   {
    "duration": 18,
    "start_time": "2022-12-02T10:57:58.245Z"
   },
   {
    "duration": 6,
    "start_time": "2022-12-02T10:57:58.265Z"
   },
   {
    "duration": 354,
    "start_time": "2022-12-02T10:57:58.273Z"
   },
   {
    "duration": 346,
    "start_time": "2022-12-02T10:57:58.629Z"
   },
   {
    "duration": 266,
    "start_time": "2022-12-02T10:57:58.977Z"
   },
   {
    "duration": 44,
    "start_time": "2022-12-02T10:57:59.245Z"
   },
   {
    "duration": 14,
    "start_time": "2022-12-02T10:58:07.511Z"
   },
   {
    "duration": 16,
    "start_time": "2022-12-02T10:58:15.048Z"
   },
   {
    "duration": 14,
    "start_time": "2022-12-02T10:58:24.463Z"
   },
   {
    "duration": 16,
    "start_time": "2022-12-02T10:59:22.799Z"
   },
   {
    "duration": 171,
    "start_time": "2022-12-02T10:59:39.215Z"
   },
   {
    "duration": 162,
    "start_time": "2022-12-02T11:00:25.964Z"
   },
   {
    "duration": 187,
    "start_time": "2022-12-02T11:00:53.586Z"
   },
   {
    "duration": 168,
    "start_time": "2022-12-02T11:03:10.603Z"
   },
   {
    "duration": 7,
    "start_time": "2022-12-02T11:06:32.906Z"
   },
   {
    "duration": 24,
    "start_time": "2022-12-02T11:06:42.098Z"
   },
   {
    "duration": 25,
    "start_time": "2022-12-02T11:08:53.811Z"
   },
   {
    "duration": 28,
    "start_time": "2022-12-02T11:09:16.854Z"
   },
   {
    "duration": 272,
    "start_time": "2022-12-02T11:09:51.598Z"
   },
   {
    "duration": 4,
    "start_time": "2022-12-02T11:10:10.546Z"
   },
   {
    "duration": 303,
    "start_time": "2022-12-02T11:10:14.114Z"
   },
   {
    "duration": 4,
    "start_time": "2022-12-02T11:11:14.096Z"
   },
   {
    "duration": 4,
    "start_time": "2022-12-02T11:11:14.598Z"
   },
   {
    "duration": 8,
    "start_time": "2022-12-02T11:11:15.560Z"
   },
   {
    "duration": 7,
    "start_time": "2022-12-02T11:11:16.542Z"
   },
   {
    "duration": 17,
    "start_time": "2022-12-02T11:11:18.126Z"
   },
   {
    "duration": 5,
    "start_time": "2022-12-02T11:11:19.262Z"
   },
   {
    "duration": 5,
    "start_time": "2022-12-02T11:11:19.786Z"
   },
   {
    "duration": 6,
    "start_time": "2022-12-02T11:11:20.430Z"
   },
   {
    "duration": 5,
    "start_time": "2022-12-02T11:11:22.142Z"
   },
   {
    "duration": 330,
    "start_time": "2022-12-02T11:11:23.290Z"
   },
   {
    "duration": 300,
    "start_time": "2022-12-02T11:11:26.650Z"
   },
   {
    "duration": 271,
    "start_time": "2022-12-02T11:11:27.490Z"
   },
   {
    "duration": 174,
    "start_time": "2022-12-02T11:11:30.039Z"
   },
   {
    "duration": 275,
    "start_time": "2022-12-02T11:11:30.942Z"
   },
   {
    "duration": 11,
    "start_time": "2022-12-02T11:13:16.914Z"
   },
   {
    "duration": 270,
    "start_time": "2022-12-02T11:13:58.401Z"
   },
   {
    "duration": 274,
    "start_time": "2022-12-02T11:14:04.659Z"
   },
   {
    "duration": 260,
    "start_time": "2022-12-02T11:15:45.232Z"
   },
   {
    "duration": 282,
    "start_time": "2022-12-02T11:16:18.506Z"
   },
   {
    "duration": 263,
    "start_time": "2022-12-02T11:16:30.837Z"
   },
   {
    "duration": 216,
    "start_time": "2022-12-02T11:21:52.606Z"
   },
   {
    "duration": 317,
    "start_time": "2022-12-02T11:22:14.006Z"
   },
   {
    "duration": 131,
    "start_time": "2022-12-02T11:30:28.215Z"
   },
   {
    "duration": 136,
    "start_time": "2022-12-02T11:34:41.596Z"
   },
   {
    "duration": 127,
    "start_time": "2022-12-02T11:35:33.452Z"
   },
   {
    "duration": 211,
    "start_time": "2022-12-02T11:36:02.935Z"
   },
   {
    "duration": 123,
    "start_time": "2022-12-02T11:36:20.586Z"
   },
   {
    "duration": 117,
    "start_time": "2022-12-02T11:36:31.143Z"
   },
   {
    "duration": 12,
    "start_time": "2022-12-02T11:37:11.307Z"
   },
   {
    "duration": 16,
    "start_time": "2022-12-02T11:37:18.622Z"
   },
   {
    "duration": 125,
    "start_time": "2022-12-02T11:38:25.249Z"
   },
   {
    "duration": 138,
    "start_time": "2022-12-02T11:38:29.640Z"
   },
   {
    "duration": 109,
    "start_time": "2022-12-02T11:40:27.222Z"
   },
   {
    "duration": 115,
    "start_time": "2022-12-02T11:40:56.564Z"
   },
   {
    "duration": 288,
    "start_time": "2022-12-02T11:41:17.718Z"
   },
   {
    "duration": 120,
    "start_time": "2022-12-02T11:41:32.894Z"
   },
   {
    "duration": 18,
    "start_time": "2022-12-02T11:44:25.003Z"
   },
   {
    "duration": 18,
    "start_time": "2022-12-02T11:44:35.544Z"
   },
   {
    "duration": 141,
    "start_time": "2022-12-02T11:45:10.753Z"
   },
   {
    "duration": 118,
    "start_time": "2022-12-02T11:45:40.559Z"
   },
   {
    "duration": 87,
    "start_time": "2022-12-02T11:46:57.987Z"
   },
   {
    "duration": 302,
    "start_time": "2022-12-02T11:47:12.723Z"
   },
   {
    "duration": 148,
    "start_time": "2022-12-02T11:47:25.046Z"
   },
   {
    "duration": 151,
    "start_time": "2022-12-02T11:47:43.235Z"
   },
   {
    "duration": 150,
    "start_time": "2022-12-02T11:48:49.971Z"
   },
   {
    "duration": 153,
    "start_time": "2022-12-02T11:49:06.626Z"
   },
   {
    "duration": 116,
    "start_time": "2022-12-02T11:49:31.583Z"
   },
   {
    "duration": 167,
    "start_time": "2022-12-02T11:49:37.026Z"
   },
   {
    "duration": 534,
    "start_time": "2022-12-02T13:01:11.628Z"
   },
   {
    "duration": 670,
    "start_time": "2022-12-02T13:01:22.592Z"
   },
   {
    "duration": 180,
    "start_time": "2022-12-02T13:03:23.482Z"
   },
   {
    "duration": 153,
    "start_time": "2022-12-02T13:08:21.844Z"
   },
   {
    "duration": 160,
    "start_time": "2022-12-02T13:08:56.040Z"
   },
   {
    "duration": 164,
    "start_time": "2022-12-02T13:09:23.519Z"
   },
   {
    "duration": 218,
    "start_time": "2022-12-02T13:11:19.059Z"
   },
   {
    "duration": 223,
    "start_time": "2022-12-02T13:11:23.802Z"
   },
   {
    "duration": 7,
    "start_time": "2022-12-02T13:12:03.812Z"
   },
   {
    "duration": 112,
    "start_time": "2022-12-02T13:12:31.936Z"
   },
   {
    "duration": 5,
    "start_time": "2022-12-02T13:12:49.882Z"
   },
   {
    "duration": 5,
    "start_time": "2022-12-02T13:13:24.174Z"
   },
   {
    "duration": 183,
    "start_time": "2022-12-02T13:13:50.542Z"
   },
   {
    "duration": 162,
    "start_time": "2022-12-02T13:13:56.657Z"
   },
   {
    "duration": 5,
    "start_time": "2022-12-02T13:14:33.610Z"
   },
   {
    "duration": 153,
    "start_time": "2022-12-02T13:19:41.184Z"
   },
   {
    "duration": 5,
    "start_time": "2022-12-02T13:20:11.394Z"
   },
   {
    "duration": 159,
    "start_time": "2022-12-02T13:21:49.518Z"
   },
   {
    "duration": 7,
    "start_time": "2022-12-02T13:22:19.343Z"
   },
   {
    "duration": 10,
    "start_time": "2022-12-02T13:43:01.012Z"
   },
   {
    "duration": 15,
    "start_time": "2022-12-02T13:43:05.719Z"
   },
   {
    "duration": 73,
    "start_time": "2022-12-02T13:44:01.651Z"
   },
   {
    "duration": 176,
    "start_time": "2022-12-02T13:44:09.338Z"
   },
   {
    "duration": 198,
    "start_time": "2022-12-02T13:44:25.319Z"
   },
   {
    "duration": 16,
    "start_time": "2022-12-02T13:45:48.276Z"
   },
   {
    "duration": 204,
    "start_time": "2022-12-02T13:46:07.500Z"
   },
   {
    "duration": 194,
    "start_time": "2022-12-02T13:47:55.409Z"
   },
   {
    "duration": 197,
    "start_time": "2022-12-02T13:48:43.380Z"
   },
   {
    "duration": 49,
    "start_time": "2022-12-02T15:49:27.373Z"
   },
   {
    "duration": 789,
    "start_time": "2022-12-02T15:49:32.003Z"
   },
   {
    "duration": 104,
    "start_time": "2022-12-02T15:49:32.796Z"
   },
   {
    "duration": 19,
    "start_time": "2022-12-02T15:49:32.902Z"
   },
   {
    "duration": 15,
    "start_time": "2022-12-02T15:49:32.923Z"
   },
   {
    "duration": 8,
    "start_time": "2022-12-02T15:49:32.941Z"
   },
   {
    "duration": 9,
    "start_time": "2022-12-02T15:49:32.950Z"
   },
   {
    "duration": 25,
    "start_time": "2022-12-02T15:49:32.960Z"
   },
   {
    "duration": 4,
    "start_time": "2022-12-02T15:49:32.996Z"
   },
   {
    "duration": 10,
    "start_time": "2022-12-02T15:49:33.001Z"
   },
   {
    "duration": 11,
    "start_time": "2022-12-02T15:49:33.013Z"
   },
   {
    "duration": 8,
    "start_time": "2022-12-02T15:49:33.026Z"
   },
   {
    "duration": 14,
    "start_time": "2022-12-02T15:49:33.036Z"
   },
   {
    "duration": 5,
    "start_time": "2022-12-02T15:49:33.052Z"
   },
   {
    "duration": 8,
    "start_time": "2022-12-02T15:49:33.060Z"
   },
   {
    "duration": 5,
    "start_time": "2022-12-02T15:49:33.097Z"
   },
   {
    "duration": 20,
    "start_time": "2022-12-02T15:49:33.104Z"
   },
   {
    "duration": 353,
    "start_time": "2022-12-02T15:49:33.125Z"
   },
   {
    "duration": 294,
    "start_time": "2022-12-02T15:49:33.480Z"
   },
   {
    "duration": 258,
    "start_time": "2022-12-02T15:49:33.775Z"
   },
   {
    "duration": 174,
    "start_time": "2022-12-02T15:49:34.035Z"
   },
   {
    "duration": 258,
    "start_time": "2022-12-02T15:49:34.211Z"
   },
   {
    "duration": 176,
    "start_time": "2022-12-02T15:49:34.470Z"
   },
   {
    "duration": 158,
    "start_time": "2022-12-02T15:49:34.647Z"
   },
   {
    "duration": 5,
    "start_time": "2022-12-02T15:49:34.807Z"
   },
   {
    "duration": 163,
    "start_time": "2022-12-02T15:49:34.813Z"
   },
   {
    "duration": 4,
    "start_time": "2022-12-02T15:49:34.978Z"
   },
   {
    "duration": 162,
    "start_time": "2022-12-02T15:49:34.983Z"
   },
   {
    "duration": 5,
    "start_time": "2022-12-02T15:49:35.147Z"
   },
   {
    "duration": 158,
    "start_time": "2022-12-02T15:49:35.154Z"
   },
   {
    "duration": 5,
    "start_time": "2022-12-02T15:49:35.313Z"
   },
   {
    "duration": 194,
    "start_time": "2022-12-02T15:49:35.319Z"
   },
   {
    "duration": 135,
    "start_time": "2022-12-02T15:51:16.736Z"
   },
   {
    "duration": 144,
    "start_time": "2022-12-02T15:51:29.809Z"
   },
   {
    "duration": 209,
    "start_time": "2022-12-02T15:51:35.731Z"
   },
   {
    "duration": 163,
    "start_time": "2022-12-02T15:51:41.712Z"
   },
   {
    "duration": 165,
    "start_time": "2022-12-02T15:51:48.429Z"
   },
   {
    "duration": 217,
    "start_time": "2022-12-02T15:51:56.905Z"
   },
   {
    "duration": 227,
    "start_time": "2022-12-02T15:52:05.954Z"
   },
   {
    "duration": 276,
    "start_time": "2022-12-02T15:52:12.334Z"
   },
   {
    "duration": 5,
    "start_time": "2022-12-02T15:59:52.160Z"
   },
   {
    "duration": 5,
    "start_time": "2022-12-02T16:00:32.695Z"
   },
   {
    "duration": 5,
    "start_time": "2022-12-02T16:01:11.181Z"
   },
   {
    "duration": 5,
    "start_time": "2022-12-02T16:01:27.360Z"
   },
   {
    "duration": 7,
    "start_time": "2022-12-02T16:01:38.058Z"
   },
   {
    "duration": 7,
    "start_time": "2022-12-02T16:01:54.336Z"
   },
   {
    "duration": 18,
    "start_time": "2022-12-02T16:06:35.341Z"
   },
   {
    "duration": 22,
    "start_time": "2022-12-02T16:08:19.967Z"
   },
   {
    "duration": 145,
    "start_time": "2022-12-02T16:08:38.330Z"
   },
   {
    "duration": 141,
    "start_time": "2022-12-02T16:08:48.095Z"
   },
   {
    "duration": 142,
    "start_time": "2022-12-02T16:09:10.805Z"
   },
   {
    "duration": 103,
    "start_time": "2022-12-02T16:09:30.925Z"
   },
   {
    "duration": 98,
    "start_time": "2022-12-02T16:09:55.561Z"
   },
   {
    "duration": 223,
    "start_time": "2022-12-02T16:11:50.663Z"
   },
   {
    "duration": 112,
    "start_time": "2022-12-02T16:14:18.685Z"
   },
   {
    "duration": 19,
    "start_time": "2022-12-02T16:16:09.773Z"
   },
   {
    "duration": 101,
    "start_time": "2022-12-02T16:16:21.328Z"
   },
   {
    "duration": 102,
    "start_time": "2022-12-02T16:17:28.857Z"
   },
   {
    "duration": 105,
    "start_time": "2022-12-02T16:18:28.976Z"
   },
   {
    "duration": 120,
    "start_time": "2022-12-02T16:32:12.878Z"
   },
   {
    "duration": 115,
    "start_time": "2022-12-02T16:32:27.209Z"
   },
   {
    "duration": 113,
    "start_time": "2022-12-02T16:33:34.064Z"
   },
   {
    "duration": 110,
    "start_time": "2022-12-02T16:34:27.471Z"
   },
   {
    "duration": 115,
    "start_time": "2022-12-02T16:35:36.614Z"
   },
   {
    "duration": 120,
    "start_time": "2022-12-02T16:35:49.106Z"
   },
   {
    "duration": 8,
    "start_time": "2022-12-02T16:43:45.177Z"
   },
   {
    "duration": 7,
    "start_time": "2022-12-02T16:43:56.517Z"
   },
   {
    "duration": 8,
    "start_time": "2022-12-02T16:55:08.130Z"
   },
   {
    "duration": 7,
    "start_time": "2022-12-02T16:55:21.402Z"
   },
   {
    "duration": 9,
    "start_time": "2022-12-02T16:56:44.900Z"
   },
   {
    "duration": 8,
    "start_time": "2022-12-02T16:56:57.311Z"
   },
   {
    "duration": 9,
    "start_time": "2022-12-02T16:57:01.641Z"
   },
   {
    "duration": 7,
    "start_time": "2022-12-02T16:58:51.596Z"
   },
   {
    "duration": 8,
    "start_time": "2022-12-02T16:59:21.539Z"
   },
   {
    "duration": 9,
    "start_time": "2022-12-02T16:59:28.435Z"
   },
   {
    "duration": 2,
    "start_time": "2022-12-02T16:59:39.100Z"
   },
   {
    "duration": 53,
    "start_time": "2022-12-02T16:59:39.104Z"
   },
   {
    "duration": 14,
    "start_time": "2022-12-02T16:59:39.159Z"
   },
   {
    "duration": 14,
    "start_time": "2022-12-02T16:59:39.175Z"
   },
   {
    "duration": 11,
    "start_time": "2022-12-02T16:59:39.190Z"
   },
   {
    "duration": 7,
    "start_time": "2022-12-02T16:59:39.202Z"
   },
   {
    "duration": 14,
    "start_time": "2022-12-02T16:59:39.210Z"
   },
   {
    "duration": 9,
    "start_time": "2022-12-02T16:59:39.225Z"
   },
   {
    "duration": 14,
    "start_time": "2022-12-02T16:59:39.237Z"
   },
   {
    "duration": 13,
    "start_time": "2022-12-02T16:59:39.252Z"
   },
   {
    "duration": 8,
    "start_time": "2022-12-02T16:59:39.267Z"
   },
   {
    "duration": 34,
    "start_time": "2022-12-02T16:59:39.277Z"
   },
   {
    "duration": 5,
    "start_time": "2022-12-02T16:59:39.313Z"
   },
   {
    "duration": 6,
    "start_time": "2022-12-02T16:59:39.320Z"
   },
   {
    "duration": 7,
    "start_time": "2022-12-02T16:59:39.327Z"
   },
   {
    "duration": 5,
    "start_time": "2022-12-02T16:59:39.336Z"
   },
   {
    "duration": 424,
    "start_time": "2022-12-02T16:59:39.342Z"
   },
   {
    "duration": 307,
    "start_time": "2022-12-02T16:59:39.769Z"
   },
   {
    "duration": 211,
    "start_time": "2022-12-02T16:59:40.078Z"
   },
   {
    "duration": 195,
    "start_time": "2022-12-02T16:59:40.291Z"
   },
   {
    "duration": 260,
    "start_time": "2022-12-02T16:59:40.488Z"
   },
   {
    "duration": 177,
    "start_time": "2022-12-02T16:59:40.750Z"
   },
   {
    "duration": 174,
    "start_time": "2022-12-02T16:59:40.929Z"
   },
   {
    "duration": 4,
    "start_time": "2022-12-02T16:59:41.106Z"
   },
   {
    "duration": 161,
    "start_time": "2022-12-02T16:59:41.112Z"
   },
   {
    "duration": 4,
    "start_time": "2022-12-02T16:59:41.275Z"
   },
   {
    "duration": 157,
    "start_time": "2022-12-02T16:59:41.281Z"
   },
   {
    "duration": 4,
    "start_time": "2022-12-02T16:59:41.440Z"
   },
   {
    "duration": 165,
    "start_time": "2022-12-02T16:59:41.446Z"
   },
   {
    "duration": 4,
    "start_time": "2022-12-02T16:59:41.613Z"
   },
   {
    "duration": 277,
    "start_time": "2022-12-02T16:59:41.619Z"
   },
   {
    "duration": 121,
    "start_time": "2022-12-02T16:59:41.898Z"
   },
   {
    "duration": 118,
    "start_time": "2022-12-02T16:59:42.020Z"
   },
   {
    "duration": 112,
    "start_time": "2022-12-02T16:59:42.140Z"
   },
   {
    "duration": 125,
    "start_time": "2022-12-02T16:59:42.254Z"
   },
   {
    "duration": 129,
    "start_time": "2022-12-02T16:59:42.382Z"
   },
   {
    "duration": 113,
    "start_time": "2022-12-02T16:59:42.514Z"
   },
   {
    "duration": 119,
    "start_time": "2022-12-02T16:59:42.628Z"
   },
   {
    "duration": 115,
    "start_time": "2022-12-02T16:59:42.748Z"
   },
   {
    "duration": 7,
    "start_time": "2022-12-02T16:59:42.864Z"
   },
   {
    "duration": 25,
    "start_time": "2022-12-02T16:59:42.873Z"
   },
   {
    "duration": 5,
    "start_time": "2022-12-02T16:59:57.718Z"
   },
   {
    "duration": 24,
    "start_time": "2022-12-02T17:00:04.896Z"
   },
   {
    "duration": 8,
    "start_time": "2022-12-02T17:00:37.823Z"
   },
   {
    "duration": 8,
    "start_time": "2022-12-02T17:00:49.752Z"
   },
   {
    "duration": 5,
    "start_time": "2022-12-02T17:00:58.994Z"
   },
   {
    "duration": 4,
    "start_time": "2022-12-02T17:01:24.529Z"
   },
   {
    "duration": 104,
    "start_time": "2022-12-02T17:04:47.394Z"
   },
   {
    "duration": 95,
    "start_time": "2022-12-02T17:05:07.751Z"
   },
   {
    "duration": 89,
    "start_time": "2022-12-02T17:05:19.770Z"
   },
   {
    "duration": 98,
    "start_time": "2022-12-02T17:07:24.738Z"
   },
   {
    "duration": 105,
    "start_time": "2022-12-02T17:08:19.856Z"
   },
   {
    "duration": 95,
    "start_time": "2022-12-02T17:08:25.592Z"
   },
   {
    "duration": 96,
    "start_time": "2022-12-02T17:08:45.452Z"
   },
   {
    "duration": 202,
    "start_time": "2022-12-02T17:10:02.041Z"
   },
   {
    "duration": 107,
    "start_time": "2022-12-02T17:10:08.330Z"
   },
   {
    "duration": 94,
    "start_time": "2022-12-02T17:10:34.531Z"
   },
   {
    "duration": 98,
    "start_time": "2022-12-02T17:11:19.424Z"
   },
   {
    "duration": 94,
    "start_time": "2022-12-02T17:11:55.703Z"
   },
   {
    "duration": 98,
    "start_time": "2022-12-02T17:12:03.700Z"
   },
   {
    "duration": 48,
    "start_time": "2022-12-02T17:21:10.814Z"
   },
   {
    "duration": 60,
    "start_time": "2022-12-02T17:22:33.645Z"
   },
   {
    "duration": 3,
    "start_time": "2022-12-02T17:43:15.267Z"
   },
   {
    "duration": 8,
    "start_time": "2022-12-02T17:43:29.438Z"
   },
   {
    "duration": 28,
    "start_time": "2022-12-02T17:44:15.741Z"
   },
   {
    "duration": 7,
    "start_time": "2022-12-02T17:44:23.756Z"
   },
   {
    "duration": 7,
    "start_time": "2022-12-02T17:51:31.509Z"
   },
   {
    "duration": 33,
    "start_time": "2022-12-02T17:53:09.189Z"
   },
   {
    "duration": 26,
    "start_time": "2022-12-02T17:53:24.412Z"
   },
   {
    "duration": 6,
    "start_time": "2022-12-02T17:53:56.430Z"
   },
   {
    "duration": 10,
    "start_time": "2022-12-02T17:54:41.062Z"
   },
   {
    "duration": 5,
    "start_time": "2022-12-02T17:54:52.521Z"
   },
   {
    "duration": 4,
    "start_time": "2022-12-02T17:55:00.603Z"
   },
   {
    "duration": 9,
    "start_time": "2022-12-02T17:56:30.272Z"
   },
   {
    "duration": 448,
    "start_time": "2022-12-02T17:57:17.073Z"
   },
   {
    "duration": 6,
    "start_time": "2022-12-02T17:57:17.651Z"
   },
   {
    "duration": 4,
    "start_time": "2022-12-02T17:57:18.249Z"
   },
   {
    "duration": 3,
    "start_time": "2022-12-02T17:57:45.082Z"
   },
   {
    "duration": 3,
    "start_time": "2022-12-02T17:57:47.653Z"
   },
   {
    "duration": 58,
    "start_time": "2022-12-02T17:57:47.658Z"
   },
   {
    "duration": 15,
    "start_time": "2022-12-02T17:57:47.718Z"
   },
   {
    "duration": 17,
    "start_time": "2022-12-02T17:57:47.735Z"
   },
   {
    "duration": 7,
    "start_time": "2022-12-02T17:57:47.754Z"
   },
   {
    "duration": 34,
    "start_time": "2022-12-02T17:57:47.763Z"
   },
   {
    "duration": 27,
    "start_time": "2022-12-02T17:57:47.799Z"
   },
   {
    "duration": 13,
    "start_time": "2022-12-02T17:57:47.828Z"
   },
   {
    "duration": 12,
    "start_time": "2022-12-02T17:57:47.843Z"
   },
   {
    "duration": 13,
    "start_time": "2022-12-02T17:57:47.857Z"
   },
   {
    "duration": 10,
    "start_time": "2022-12-02T17:57:47.873Z"
   },
   {
    "duration": 25,
    "start_time": "2022-12-02T17:57:47.885Z"
   },
   {
    "duration": 6,
    "start_time": "2022-12-02T17:57:47.912Z"
   },
   {
    "duration": 14,
    "start_time": "2022-12-02T17:57:47.920Z"
   },
   {
    "duration": 9,
    "start_time": "2022-12-02T17:57:47.936Z"
   },
   {
    "duration": 7,
    "start_time": "2022-12-02T17:57:47.947Z"
   },
   {
    "duration": 355,
    "start_time": "2022-12-02T17:57:47.956Z"
   },
   {
    "duration": 307,
    "start_time": "2022-12-02T17:57:48.313Z"
   },
   {
    "duration": 230,
    "start_time": "2022-12-02T17:57:48.622Z"
   },
   {
    "duration": 192,
    "start_time": "2022-12-02T17:57:48.854Z"
   },
   {
    "duration": 289,
    "start_time": "2022-12-02T17:57:49.048Z"
   },
   {
    "duration": 402,
    "start_time": "2022-12-02T17:57:49.339Z"
   },
   {
    "duration": 175,
    "start_time": "2022-12-02T17:57:49.743Z"
   },
   {
    "duration": 5,
    "start_time": "2022-12-02T17:57:49.920Z"
   },
   {
    "duration": 172,
    "start_time": "2022-12-02T17:57:49.926Z"
   },
   {
    "duration": 6,
    "start_time": "2022-12-02T17:57:50.100Z"
   },
   {
    "duration": 161,
    "start_time": "2022-12-02T17:57:50.109Z"
   },
   {
    "duration": 5,
    "start_time": "2022-12-02T17:57:50.272Z"
   },
   {
    "duration": 160,
    "start_time": "2022-12-02T17:57:50.298Z"
   },
   {
    "duration": 4,
    "start_time": "2022-12-02T17:57:50.460Z"
   },
   {
    "duration": 202,
    "start_time": "2022-12-02T17:57:50.465Z"
   },
   {
    "duration": 119,
    "start_time": "2022-12-02T17:57:50.669Z"
   },
   {
    "duration": 116,
    "start_time": "2022-12-02T17:57:50.795Z"
   },
   {
    "duration": 112,
    "start_time": "2022-12-02T17:57:50.912Z"
   },
   {
    "duration": 124,
    "start_time": "2022-12-02T17:57:51.026Z"
   },
   {
    "duration": 125,
    "start_time": "2022-12-02T17:57:51.152Z"
   },
   {
    "duration": 122,
    "start_time": "2022-12-02T17:57:51.279Z"
   },
   {
    "duration": 118,
    "start_time": "2022-12-02T17:57:51.403Z"
   },
   {
    "duration": 135,
    "start_time": "2022-12-02T17:57:51.523Z"
   },
   {
    "duration": 5,
    "start_time": "2022-12-02T17:57:51.661Z"
   },
   {
    "duration": 20,
    "start_time": "2022-12-02T17:57:51.667Z"
   },
   {
    "duration": 112,
    "start_time": "2022-12-02T17:57:51.690Z"
   },
   {
    "duration": 125,
    "start_time": "2022-12-02T17:57:51.804Z"
   },
   {
    "duration": 115,
    "start_time": "2022-12-02T17:57:51.933Z"
   },
   {
    "duration": 132,
    "start_time": "2022-12-02T17:57:52.051Z"
   },
   {
    "duration": 11,
    "start_time": "2022-12-02T17:57:52.185Z"
   },
   {
    "duration": 5,
    "start_time": "2022-12-02T17:57:52.198Z"
   },
   {
    "duration": 8,
    "start_time": "2022-12-02T17:57:52.205Z"
   },
   {
    "duration": 5,
    "start_time": "2022-12-02T17:59:33.367Z"
   },
   {
    "duration": 10,
    "start_time": "2022-12-02T18:02:41.986Z"
   },
   {
    "duration": 5,
    "start_time": "2022-12-02T18:03:05.848Z"
   },
   {
    "duration": 5,
    "start_time": "2022-12-02T18:03:15.149Z"
   },
   {
    "duration": 12,
    "start_time": "2022-12-02T18:20:04.623Z"
   },
   {
    "duration": 13,
    "start_time": "2022-12-02T18:20:12.751Z"
   },
   {
    "duration": 16,
    "start_time": "2022-12-02T18:20:19.518Z"
   },
   {
    "duration": 5,
    "start_time": "2022-12-02T18:20:20.786Z"
   },
   {
    "duration": 6,
    "start_time": "2022-12-02T18:20:21.563Z"
   },
   {
    "duration": 5,
    "start_time": "2022-12-02T18:20:22.388Z"
   },
   {
    "duration": 5,
    "start_time": "2022-12-02T18:20:33.050Z"
   },
   {
    "duration": 319,
    "start_time": "2022-12-02T18:20:38.743Z"
   },
   {
    "duration": 37,
    "start_time": "2022-12-02T18:22:24.561Z"
   },
   {
    "duration": 10,
    "start_time": "2022-12-02T18:22:41.280Z"
   },
   {
    "duration": 2,
    "start_time": "2022-12-02T18:22:46.314Z"
   },
   {
    "duration": 51,
    "start_time": "2022-12-02T18:22:46.343Z"
   },
   {
    "duration": 13,
    "start_time": "2022-12-02T18:22:46.396Z"
   },
   {
    "duration": 14,
    "start_time": "2022-12-02T18:22:46.411Z"
   },
   {
    "duration": 8,
    "start_time": "2022-12-02T18:22:46.426Z"
   },
   {
    "duration": 4,
    "start_time": "2022-12-02T18:22:46.436Z"
   },
   {
    "duration": 16,
    "start_time": "2022-12-02T18:22:46.442Z"
   },
   {
    "duration": 5,
    "start_time": "2022-12-02T18:22:46.460Z"
   },
   {
    "duration": 35,
    "start_time": "2022-12-02T18:22:46.466Z"
   },
   {
    "duration": 10,
    "start_time": "2022-12-02T18:22:46.503Z"
   },
   {
    "duration": 13,
    "start_time": "2022-12-02T18:22:46.545Z"
   },
   {
    "duration": 9,
    "start_time": "2022-12-02T18:22:46.718Z"
   },
   {
    "duration": 19,
    "start_time": "2022-12-02T18:22:46.729Z"
   },
   {
    "duration": 5,
    "start_time": "2022-12-02T18:22:46.750Z"
   },
   {
    "duration": 6,
    "start_time": "2022-12-02T18:22:46.756Z"
   },
   {
    "duration": 7,
    "start_time": "2022-12-02T18:22:46.765Z"
   },
   {
    "duration": 5,
    "start_time": "2022-12-02T18:22:46.774Z"
   },
   {
    "duration": 317,
    "start_time": "2022-12-02T18:22:46.781Z"
   },
   {
    "duration": 308,
    "start_time": "2022-12-02T18:22:47.101Z"
   },
   {
    "duration": 197,
    "start_time": "2022-12-02T18:22:47.411Z"
   },
   {
    "duration": 167,
    "start_time": "2022-12-02T18:22:47.611Z"
   },
   {
    "duration": 248,
    "start_time": "2022-12-02T18:22:47.779Z"
   },
   {
    "duration": 163,
    "start_time": "2022-12-02T18:22:48.028Z"
   },
   {
    "duration": 413,
    "start_time": "2022-12-02T18:22:48.196Z"
   },
   {
    "duration": 5,
    "start_time": "2022-12-02T18:22:48.610Z"
   },
   {
    "duration": 147,
    "start_time": "2022-12-02T18:22:48.616Z"
   },
   {
    "duration": 4,
    "start_time": "2022-12-02T18:22:48.765Z"
   },
   {
    "duration": 153,
    "start_time": "2022-12-02T18:22:48.770Z"
   },
   {
    "duration": 4,
    "start_time": "2022-12-02T18:22:48.925Z"
   },
   {
    "duration": 170,
    "start_time": "2022-12-02T18:22:48.931Z"
   },
   {
    "duration": 5,
    "start_time": "2022-12-02T18:22:49.103Z"
   },
   {
    "duration": 214,
    "start_time": "2022-12-02T18:22:49.113Z"
   },
   {
    "duration": 109,
    "start_time": "2022-12-02T18:22:49.329Z"
   },
   {
    "duration": 114,
    "start_time": "2022-12-02T18:22:49.440Z"
   },
   {
    "duration": 105,
    "start_time": "2022-12-02T18:22:49.556Z"
   },
   {
    "duration": 118,
    "start_time": "2022-12-02T18:22:49.663Z"
   },
   {
    "duration": 114,
    "start_time": "2022-12-02T18:22:49.782Z"
   },
   {
    "duration": 117,
    "start_time": "2022-12-02T18:22:49.898Z"
   },
   {
    "duration": 116,
    "start_time": "2022-12-02T18:22:50.016Z"
   },
   {
    "duration": 113,
    "start_time": "2022-12-02T18:22:50.134Z"
   },
   {
    "duration": 6,
    "start_time": "2022-12-02T18:22:50.249Z"
   },
   {
    "duration": 11,
    "start_time": "2022-12-02T18:22:50.256Z"
   },
   {
    "duration": 119,
    "start_time": "2022-12-02T18:22:50.270Z"
   },
   {
    "duration": 103,
    "start_time": "2022-12-02T18:22:50.395Z"
   },
   {
    "duration": 111,
    "start_time": "2022-12-02T18:22:50.501Z"
   },
   {
    "duration": 107,
    "start_time": "2022-12-02T18:22:50.614Z"
   },
   {
    "duration": 8,
    "start_time": "2022-12-02T18:22:50.723Z"
   },
   {
    "duration": 7,
    "start_time": "2022-12-02T18:22:50.733Z"
   },
   {
    "duration": 11,
    "start_time": "2022-12-02T18:22:50.742Z"
   },
   {
    "duration": 8,
    "start_time": "2022-12-02T18:22:50.755Z"
   },
   {
    "duration": 7,
    "start_time": "2022-12-02T18:29:22.849Z"
   },
   {
    "duration": 8,
    "start_time": "2022-12-02T18:30:40.916Z"
   },
   {
    "duration": 3,
    "start_time": "2022-12-02T18:30:45.261Z"
   },
   {
    "duration": 69,
    "start_time": "2022-12-02T18:30:45.266Z"
   },
   {
    "duration": 21,
    "start_time": "2022-12-02T18:30:45.337Z"
   },
   {
    "duration": 36,
    "start_time": "2022-12-02T18:30:45.360Z"
   },
   {
    "duration": 4,
    "start_time": "2022-12-02T18:30:45.401Z"
   },
   {
    "duration": 16,
    "start_time": "2022-12-02T18:30:45.407Z"
   },
   {
    "duration": 8,
    "start_time": "2022-12-02T18:30:45.425Z"
   },
   {
    "duration": 22,
    "start_time": "2022-12-02T18:30:45.434Z"
   },
   {
    "duration": 0,
    "start_time": "2022-12-02T18:30:45.459Z"
   },
   {
    "duration": 0,
    "start_time": "2022-12-02T18:30:45.461Z"
   },
   {
    "duration": 0,
    "start_time": "2022-12-02T18:30:45.462Z"
   },
   {
    "duration": 0,
    "start_time": "2022-12-02T18:30:45.463Z"
   },
   {
    "duration": 0,
    "start_time": "2022-12-02T18:30:45.464Z"
   },
   {
    "duration": 0,
    "start_time": "2022-12-02T18:30:45.466Z"
   },
   {
    "duration": 0,
    "start_time": "2022-12-02T18:30:45.467Z"
   },
   {
    "duration": 0,
    "start_time": "2022-12-02T18:30:45.469Z"
   },
   {
    "duration": 0,
    "start_time": "2022-12-02T18:30:45.496Z"
   },
   {
    "duration": 0,
    "start_time": "2022-12-02T18:30:45.498Z"
   },
   {
    "duration": 0,
    "start_time": "2022-12-02T18:30:45.500Z"
   },
   {
    "duration": 0,
    "start_time": "2022-12-02T18:30:45.502Z"
   },
   {
    "duration": 1,
    "start_time": "2022-12-02T18:30:45.503Z"
   },
   {
    "duration": 0,
    "start_time": "2022-12-02T18:30:45.504Z"
   },
   {
    "duration": 0,
    "start_time": "2022-12-02T18:30:45.506Z"
   },
   {
    "duration": 0,
    "start_time": "2022-12-02T18:30:45.507Z"
   },
   {
    "duration": 0,
    "start_time": "2022-12-02T18:30:45.508Z"
   },
   {
    "duration": 0,
    "start_time": "2022-12-02T18:30:45.509Z"
   },
   {
    "duration": 0,
    "start_time": "2022-12-02T18:30:45.510Z"
   },
   {
    "duration": 0,
    "start_time": "2022-12-02T18:30:45.511Z"
   },
   {
    "duration": 0,
    "start_time": "2022-12-02T18:30:45.512Z"
   },
   {
    "duration": 0,
    "start_time": "2022-12-02T18:30:45.514Z"
   },
   {
    "duration": 0,
    "start_time": "2022-12-02T18:30:45.515Z"
   },
   {
    "duration": 0,
    "start_time": "2022-12-02T18:30:45.516Z"
   },
   {
    "duration": 0,
    "start_time": "2022-12-02T18:30:45.517Z"
   },
   {
    "duration": 0,
    "start_time": "2022-12-02T18:30:45.518Z"
   },
   {
    "duration": 0,
    "start_time": "2022-12-02T18:30:45.519Z"
   },
   {
    "duration": 0,
    "start_time": "2022-12-02T18:30:45.520Z"
   },
   {
    "duration": 0,
    "start_time": "2022-12-02T18:30:45.521Z"
   },
   {
    "duration": 0,
    "start_time": "2022-12-02T18:30:45.522Z"
   },
   {
    "duration": 0,
    "start_time": "2022-12-02T18:30:45.523Z"
   },
   {
    "duration": 0,
    "start_time": "2022-12-02T18:30:45.524Z"
   },
   {
    "duration": 0,
    "start_time": "2022-12-02T18:30:45.526Z"
   },
   {
    "duration": 0,
    "start_time": "2022-12-02T18:30:45.527Z"
   },
   {
    "duration": 0,
    "start_time": "2022-12-02T18:30:45.530Z"
   },
   {
    "duration": 0,
    "start_time": "2022-12-02T18:30:45.531Z"
   },
   {
    "duration": 0,
    "start_time": "2022-12-02T18:30:45.532Z"
   },
   {
    "duration": 0,
    "start_time": "2022-12-02T18:30:45.533Z"
   },
   {
    "duration": 0,
    "start_time": "2022-12-02T18:30:45.535Z"
   },
   {
    "duration": 0,
    "start_time": "2022-12-02T18:30:45.597Z"
   },
   {
    "duration": 0,
    "start_time": "2022-12-02T18:30:45.598Z"
   },
   {
    "duration": 13,
    "start_time": "2022-12-02T18:31:45.133Z"
   },
   {
    "duration": 9,
    "start_time": "2022-12-02T18:33:38.595Z"
   },
   {
    "duration": 6,
    "start_time": "2022-12-02T18:34:20.586Z"
   },
   {
    "duration": 7,
    "start_time": "2022-12-02T18:36:03.447Z"
   },
   {
    "duration": 10,
    "start_time": "2022-12-02T18:41:50.511Z"
   },
   {
    "duration": 5,
    "start_time": "2022-12-02T18:42:07.802Z"
   },
   {
    "duration": 10,
    "start_time": "2022-12-02T18:42:09.559Z"
   },
   {
    "duration": 18,
    "start_time": "2022-12-02T18:42:20.542Z"
   },
   {
    "duration": 18,
    "start_time": "2022-12-02T18:42:21.308Z"
   },
   {
    "duration": 3,
    "start_time": "2022-12-02T18:42:27.718Z"
   },
   {
    "duration": 59,
    "start_time": "2022-12-02T18:42:28.160Z"
   },
   {
    "duration": 18,
    "start_time": "2022-12-02T18:42:28.746Z"
   },
   {
    "duration": 13,
    "start_time": "2022-12-02T18:42:29.298Z"
   },
   {
    "duration": 4,
    "start_time": "2022-12-02T18:42:30.545Z"
   },
   {
    "duration": 18,
    "start_time": "2022-12-02T18:42:31.560Z"
   },
   {
    "duration": 6,
    "start_time": "2022-12-02T18:42:32.794Z"
   },
   {
    "duration": 14,
    "start_time": "2022-12-02T18:42:34.761Z"
   },
   {
    "duration": 15,
    "start_time": "2022-12-02T18:42:36.789Z"
   },
   {
    "duration": 10,
    "start_time": "2022-12-02T18:42:37.741Z"
   },
   {
    "duration": 4,
    "start_time": "2022-12-02T18:42:40.669Z"
   },
   {
    "duration": 4,
    "start_time": "2022-12-02T18:42:41.752Z"
   },
   {
    "duration": 13,
    "start_time": "2022-12-02T18:42:43.988Z"
   },
   {
    "duration": 4,
    "start_time": "2022-12-02T18:42:58.768Z"
   },
   {
    "duration": 66,
    "start_time": "2022-12-02T18:42:58.775Z"
   },
   {
    "duration": 16,
    "start_time": "2022-12-02T18:42:58.843Z"
   },
   {
    "duration": 22,
    "start_time": "2022-12-02T18:42:58.861Z"
   },
   {
    "duration": 11,
    "start_time": "2022-12-02T18:42:58.886Z"
   },
   {
    "duration": 20,
    "start_time": "2022-12-02T18:42:58.899Z"
   },
   {
    "duration": 8,
    "start_time": "2022-12-02T18:42:58.921Z"
   },
   {
    "duration": 16,
    "start_time": "2022-12-02T18:42:58.931Z"
   },
   {
    "duration": 51,
    "start_time": "2022-12-02T18:42:58.949Z"
   },
   {
    "duration": 11,
    "start_time": "2022-12-02T18:42:59.002Z"
   },
   {
    "duration": 9,
    "start_time": "2022-12-02T18:42:59.017Z"
   },
   {
    "duration": 7,
    "start_time": "2022-12-02T18:42:59.028Z"
   },
   {
    "duration": 18,
    "start_time": "2022-12-02T18:42:59.037Z"
   },
   {
    "duration": 41,
    "start_time": "2022-12-02T18:42:59.057Z"
   },
   {
    "duration": 9,
    "start_time": "2022-12-02T18:42:59.100Z"
   },
   {
    "duration": 15,
    "start_time": "2022-12-02T18:42:59.111Z"
   },
   {
    "duration": 6,
    "start_time": "2022-12-02T18:42:59.129Z"
   },
   {
    "duration": 411,
    "start_time": "2022-12-02T18:42:59.137Z"
   },
   {
    "duration": 306,
    "start_time": "2022-12-02T18:42:59.550Z"
   },
   {
    "duration": 215,
    "start_time": "2022-12-02T18:42:59.857Z"
   },
   {
    "duration": 199,
    "start_time": "2022-12-02T18:43:00.074Z"
   },
   {
    "duration": 291,
    "start_time": "2022-12-02T18:43:00.275Z"
   },
   {
    "duration": 178,
    "start_time": "2022-12-02T18:43:00.568Z"
   },
   {
    "duration": 162,
    "start_time": "2022-12-02T18:43:00.749Z"
   },
   {
    "duration": 5,
    "start_time": "2022-12-02T18:43:00.913Z"
   },
   {
    "duration": 183,
    "start_time": "2022-12-02T18:43:00.920Z"
   },
   {
    "duration": 6,
    "start_time": "2022-12-02T18:43:01.106Z"
   },
   {
    "duration": 177,
    "start_time": "2022-12-02T18:43:01.114Z"
   },
   {
    "duration": 5,
    "start_time": "2022-12-02T18:43:01.297Z"
   },
   {
    "duration": 158,
    "start_time": "2022-12-02T18:43:01.304Z"
   },
   {
    "duration": 5,
    "start_time": "2022-12-02T18:43:01.464Z"
   },
   {
    "duration": 202,
    "start_time": "2022-12-02T18:43:01.470Z"
   },
   {
    "duration": 123,
    "start_time": "2022-12-02T18:43:01.674Z"
   },
   {
    "duration": 140,
    "start_time": "2022-12-02T18:43:01.799Z"
   },
   {
    "duration": 442,
    "start_time": "2022-12-02T18:43:01.941Z"
   },
   {
    "duration": 126,
    "start_time": "2022-12-02T18:43:02.385Z"
   },
   {
    "duration": 119,
    "start_time": "2022-12-02T18:43:02.513Z"
   },
   {
    "duration": 124,
    "start_time": "2022-12-02T18:43:02.634Z"
   },
   {
    "duration": 122,
    "start_time": "2022-12-02T18:43:02.760Z"
   },
   {
    "duration": 122,
    "start_time": "2022-12-02T18:43:02.884Z"
   },
   {
    "duration": 6,
    "start_time": "2022-12-02T18:43:03.008Z"
   },
   {
    "duration": 8,
    "start_time": "2022-12-02T18:43:03.015Z"
   },
   {
    "duration": 125,
    "start_time": "2022-12-02T18:43:03.024Z"
   },
   {
    "duration": 121,
    "start_time": "2022-12-02T18:43:03.152Z"
   },
   {
    "duration": 121,
    "start_time": "2022-12-02T18:43:03.275Z"
   },
   {
    "duration": 123,
    "start_time": "2022-12-02T18:43:03.398Z"
   },
   {
    "duration": 6,
    "start_time": "2022-12-02T18:43:03.523Z"
   },
   {
    "duration": 13,
    "start_time": "2022-12-02T18:43:03.531Z"
   },
   {
    "duration": 9,
    "start_time": "2022-12-02T18:43:03.546Z"
   },
   {
    "duration": 9,
    "start_time": "2022-12-02T18:43:03.556Z"
   },
   {
    "duration": 6,
    "start_time": "2022-12-02T18:52:02.109Z"
   },
   {
    "duration": 5,
    "start_time": "2022-12-02T18:52:08.191Z"
   },
   {
    "duration": 5,
    "start_time": "2022-12-02T18:52:17.275Z"
   },
   {
    "duration": 8,
    "start_time": "2022-12-02T18:53:10.518Z"
   },
   {
    "duration": 6,
    "start_time": "2022-12-02T18:53:11.448Z"
   },
   {
    "duration": 6,
    "start_time": "2022-12-02T18:53:13.252Z"
   },
   {
    "duration": 10,
    "start_time": "2022-12-02T18:55:11.896Z"
   },
   {
    "duration": 5,
    "start_time": "2022-12-02T18:55:24.602Z"
   },
   {
    "duration": 4,
    "start_time": "2022-12-02T18:55:40.196Z"
   },
   {
    "duration": 7,
    "start_time": "2022-12-02T18:56:07.033Z"
   },
   {
    "duration": 7,
    "start_time": "2022-12-02T18:59:00.428Z"
   },
   {
    "duration": 5,
    "start_time": "2022-12-02T18:59:31.195Z"
   },
   {
    "duration": 5,
    "start_time": "2022-12-02T18:59:50.661Z"
   },
   {
    "duration": 5,
    "start_time": "2022-12-02T19:00:30.917Z"
   },
   {
    "duration": 3,
    "start_time": "2022-12-02T19:01:22.277Z"
   },
   {
    "duration": 6,
    "start_time": "2022-12-02T19:01:29.612Z"
   },
   {
    "duration": 8,
    "start_time": "2022-12-02T19:11:42.402Z"
   },
   {
    "duration": 9,
    "start_time": "2022-12-02T19:11:55.860Z"
   },
   {
    "duration": 4,
    "start_time": "2022-12-02T19:12:00.374Z"
   },
   {
    "duration": 5,
    "start_time": "2022-12-02T19:12:20.863Z"
   },
   {
    "duration": 5,
    "start_time": "2022-12-02T19:12:37.865Z"
   },
   {
    "duration": 6,
    "start_time": "2022-12-02T19:12:54.024Z"
   },
   {
    "duration": 47,
    "start_time": "2022-12-02T19:13:33.351Z"
   },
   {
    "duration": 146,
    "start_time": "2022-12-02T19:21:10.106Z"
   },
   {
    "duration": 5,
    "start_time": "2022-12-02T19:21:12.368Z"
   },
   {
    "duration": 152,
    "start_time": "2022-12-02T19:21:15.625Z"
   },
   {
    "duration": 5,
    "start_time": "2022-12-02T19:21:17.129Z"
   },
   {
    "duration": 159,
    "start_time": "2022-12-02T19:21:56.595Z"
   },
   {
    "duration": 5,
    "start_time": "2022-12-02T19:22:03.210Z"
   },
   {
    "duration": 126,
    "start_time": "2022-12-02T19:22:06.352Z"
   },
   {
    "duration": 5,
    "start_time": "2022-12-02T19:22:10.368Z"
   },
   {
    "duration": 125,
    "start_time": "2022-12-02T19:22:11.528Z"
   },
   {
    "duration": 3,
    "start_time": "2022-12-02T19:33:04.241Z"
   },
   {
    "duration": 182,
    "start_time": "2022-12-02T19:39:19.144Z"
   },
   {
    "duration": 273,
    "start_time": "2022-12-02T19:39:40.129Z"
   },
   {
    "duration": 1208,
    "start_time": "2022-12-02T20:01:47.614Z"
   },
   {
    "duration": 56,
    "start_time": "2022-12-02T20:01:48.824Z"
   },
   {
    "duration": 29,
    "start_time": "2022-12-02T20:01:48.881Z"
   },
   {
    "duration": 23,
    "start_time": "2022-12-02T20:01:48.912Z"
   },
   {
    "duration": 4,
    "start_time": "2022-12-02T20:01:48.950Z"
   },
   {
    "duration": 23,
    "start_time": "2022-12-02T20:01:48.955Z"
   },
   {
    "duration": 11,
    "start_time": "2022-12-02T20:01:48.980Z"
   },
   {
    "duration": 19,
    "start_time": "2022-12-02T20:01:48.993Z"
   },
   {
    "duration": 48,
    "start_time": "2022-12-02T20:01:49.014Z"
   },
   {
    "duration": 15,
    "start_time": "2022-12-02T20:01:49.064Z"
   },
   {
    "duration": 5,
    "start_time": "2022-12-02T20:01:49.082Z"
   },
   {
    "duration": 11,
    "start_time": "2022-12-02T20:01:49.089Z"
   },
   {
    "duration": 50,
    "start_time": "2022-12-02T20:01:49.102Z"
   },
   {
    "duration": 7,
    "start_time": "2022-12-02T20:01:49.156Z"
   },
   {
    "duration": 23,
    "start_time": "2022-12-02T20:01:49.165Z"
   },
   {
    "duration": 18,
    "start_time": "2022-12-02T20:01:49.190Z"
   },
   {
    "duration": 7,
    "start_time": "2022-12-02T20:01:49.210Z"
   },
   {
    "duration": 450,
    "start_time": "2022-12-02T20:01:49.220Z"
   },
   {
    "duration": 375,
    "start_time": "2022-12-02T20:01:49.673Z"
   },
   {
    "duration": 253,
    "start_time": "2022-12-02T20:01:50.050Z"
   },
   {
    "duration": 197,
    "start_time": "2022-12-02T20:01:50.305Z"
   },
   {
    "duration": 308,
    "start_time": "2022-12-02T20:01:50.504Z"
   },
   {
    "duration": 183,
    "start_time": "2022-12-02T20:01:50.814Z"
   },
   {
    "duration": 181,
    "start_time": "2022-12-02T20:01:50.999Z"
   },
   {
    "duration": 6,
    "start_time": "2022-12-02T20:01:51.182Z"
   },
   {
    "duration": 270,
    "start_time": "2022-12-02T20:01:51.191Z"
   },
   {
    "duration": 6,
    "start_time": "2022-12-02T20:01:51.463Z"
   },
   {
    "duration": 192,
    "start_time": "2022-12-02T20:01:51.471Z"
   },
   {
    "duration": 5,
    "start_time": "2022-12-02T20:01:51.665Z"
   },
   {
    "duration": 166,
    "start_time": "2022-12-02T20:01:51.672Z"
   },
   {
    "duration": 12,
    "start_time": "2022-12-02T20:01:51.841Z"
   },
   {
    "duration": 203,
    "start_time": "2022-12-02T20:01:51.856Z"
   },
   {
    "duration": 142,
    "start_time": "2022-12-02T20:01:52.061Z"
   },
   {
    "duration": 125,
    "start_time": "2022-12-02T20:01:52.206Z"
   },
   {
    "duration": 126,
    "start_time": "2022-12-02T20:01:52.333Z"
   },
   {
    "duration": 130,
    "start_time": "2022-12-02T20:01:52.461Z"
   },
   {
    "duration": 133,
    "start_time": "2022-12-02T20:01:52.593Z"
   },
   {
    "duration": 125,
    "start_time": "2022-12-02T20:01:52.728Z"
   },
   {
    "duration": 153,
    "start_time": "2022-12-02T20:01:52.855Z"
   },
   {
    "duration": 174,
    "start_time": "2022-12-02T20:01:53.010Z"
   },
   {
    "duration": 7,
    "start_time": "2022-12-02T20:01:53.190Z"
   },
   {
    "duration": 16,
    "start_time": "2022-12-02T20:01:53.199Z"
   },
   {
    "duration": 164,
    "start_time": "2022-12-02T20:01:53.217Z"
   },
   {
    "duration": 206,
    "start_time": "2022-12-02T20:01:53.384Z"
   },
   {
    "duration": 165,
    "start_time": "2022-12-02T20:01:53.593Z"
   },
   {
    "duration": 130,
    "start_time": "2022-12-02T20:01:53.760Z"
   },
   {
    "duration": 6,
    "start_time": "2022-12-02T20:01:53.893Z"
   },
   {
    "duration": 17,
    "start_time": "2022-12-02T20:01:53.901Z"
   },
   {
    "duration": 30,
    "start_time": "2022-12-02T20:01:53.921Z"
   },
   {
    "duration": 9,
    "start_time": "2022-12-02T20:01:53.954Z"
   },
   {
    "duration": 13,
    "start_time": "2022-12-02T20:01:53.966Z"
   },
   {
    "duration": 8,
    "start_time": "2022-12-02T20:01:53.981Z"
   },
   {
    "duration": 9,
    "start_time": "2022-12-02T20:01:53.991Z"
   },
   {
    "duration": 115,
    "start_time": "2022-12-02T20:38:08.417Z"
   },
   {
    "duration": 9,
    "start_time": "2022-12-02T21:05:40.289Z"
   },
   {
    "duration": 1205,
    "start_time": "2022-12-02T21:05:58.509Z"
   },
   {
    "duration": 68,
    "start_time": "2022-12-02T21:05:59.717Z"
   },
   {
    "duration": 33,
    "start_time": "2022-12-02T21:05:59.787Z"
   },
   {
    "duration": 35,
    "start_time": "2022-12-02T21:05:59.823Z"
   },
   {
    "duration": 5,
    "start_time": "2022-12-02T21:05:59.861Z"
   },
   {
    "duration": 36,
    "start_time": "2022-12-02T21:05:59.869Z"
   },
   {
    "duration": 12,
    "start_time": "2022-12-02T21:05:59.907Z"
   },
   {
    "duration": 14,
    "start_time": "2022-12-02T21:05:59.921Z"
   },
   {
    "duration": 46,
    "start_time": "2022-12-02T21:05:59.937Z"
   },
   {
    "duration": 11,
    "start_time": "2022-12-02T21:05:59.985Z"
   },
   {
    "duration": 5,
    "start_time": "2022-12-02T21:05:59.998Z"
   },
   {
    "duration": 27,
    "start_time": "2022-12-02T21:06:00.005Z"
   },
   {
    "duration": 45,
    "start_time": "2022-12-02T21:06:00.034Z"
   },
   {
    "duration": 7,
    "start_time": "2022-12-02T21:06:00.080Z"
   },
   {
    "duration": 10,
    "start_time": "2022-12-02T21:06:00.088Z"
   },
   {
    "duration": 13,
    "start_time": "2022-12-02T21:06:00.100Z"
   },
   {
    "duration": 8,
    "start_time": "2022-12-02T21:06:00.114Z"
   },
   {
    "duration": 122,
    "start_time": "2022-12-02T21:06:00.124Z"
   },
   {
    "duration": 430,
    "start_time": "2022-12-02T21:06:00.247Z"
   },
   {
    "duration": 330,
    "start_time": "2022-12-02T21:06:00.678Z"
   },
   {
    "duration": 321,
    "start_time": "2022-12-02T21:06:01.009Z"
   },
   {
    "duration": 198,
    "start_time": "2022-12-02T21:06:01.332Z"
   },
   {
    "duration": 291,
    "start_time": "2022-12-02T21:06:01.532Z"
   },
   {
    "duration": 197,
    "start_time": "2022-12-02T21:06:01.825Z"
   },
   {
    "duration": 212,
    "start_time": "2022-12-02T21:06:02.025Z"
   },
   {
    "duration": 6,
    "start_time": "2022-12-02T21:06:02.239Z"
   },
   {
    "duration": 281,
    "start_time": "2022-12-02T21:06:02.247Z"
   },
   {
    "duration": 5,
    "start_time": "2022-12-02T21:06:02.532Z"
   },
   {
    "duration": 173,
    "start_time": "2022-12-02T21:06:02.539Z"
   },
   {
    "duration": 5,
    "start_time": "2022-12-02T21:06:02.714Z"
   },
   {
    "duration": 168,
    "start_time": "2022-12-02T21:06:02.721Z"
   },
   {
    "duration": 5,
    "start_time": "2022-12-02T21:06:02.892Z"
   },
   {
    "duration": 236,
    "start_time": "2022-12-02T21:06:02.899Z"
   },
   {
    "duration": 16,
    "start_time": "2022-12-02T21:06:03.137Z"
   },
   {
    "duration": 145,
    "start_time": "2022-12-02T21:06:03.155Z"
   },
   {
    "duration": 173,
    "start_time": "2022-12-02T21:06:03.303Z"
   },
   {
    "duration": 129,
    "start_time": "2022-12-02T21:06:03.479Z"
   },
   {
    "duration": 163,
    "start_time": "2022-12-02T21:06:03.610Z"
   },
   {
    "duration": 129,
    "start_time": "2022-12-02T21:06:03.775Z"
   },
   {
    "duration": 136,
    "start_time": "2022-12-02T21:06:03.906Z"
   },
   {
    "duration": 138,
    "start_time": "2022-12-02T21:06:04.051Z"
   },
   {
    "duration": 147,
    "start_time": "2022-12-02T21:06:04.191Z"
   },
   {
    "duration": 12,
    "start_time": "2022-12-02T21:06:04.339Z"
   },
   {
    "duration": 18,
    "start_time": "2022-12-02T21:06:04.354Z"
   },
   {
    "duration": 123,
    "start_time": "2022-12-02T21:06:04.374Z"
   },
   {
    "duration": 238,
    "start_time": "2022-12-02T21:06:04.499Z"
   },
   {
    "duration": 155,
    "start_time": "2022-12-02T21:06:04.739Z"
   },
   {
    "duration": 152,
    "start_time": "2022-12-02T21:06:04.896Z"
   },
   {
    "duration": 8,
    "start_time": "2022-12-02T21:06:05.050Z"
   },
   {
    "duration": 33,
    "start_time": "2022-12-02T21:06:05.061Z"
   },
   {
    "duration": 12,
    "start_time": "2022-12-02T21:06:05.096Z"
   },
   {
    "duration": 20,
    "start_time": "2022-12-02T21:06:05.110Z"
   },
   {
    "duration": 23,
    "start_time": "2022-12-02T21:06:05.132Z"
   },
   {
    "duration": 38,
    "start_time": "2022-12-02T21:06:05.157Z"
   },
   {
    "duration": 29,
    "start_time": "2022-12-02T21:06:05.197Z"
   },
   {
    "duration": 47,
    "start_time": "2022-12-03T09:33:51.512Z"
   },
   {
    "duration": 1267,
    "start_time": "2022-12-03T09:33:55.472Z"
   },
   {
    "duration": 203,
    "start_time": "2022-12-03T09:33:56.741Z"
   },
   {
    "duration": 18,
    "start_time": "2022-12-03T09:33:56.946Z"
   },
   {
    "duration": 14,
    "start_time": "2022-12-03T09:33:56.966Z"
   },
   {
    "duration": 3,
    "start_time": "2022-12-03T09:33:56.981Z"
   },
   {
    "duration": 17,
    "start_time": "2022-12-03T09:33:56.986Z"
   },
   {
    "duration": 16,
    "start_time": "2022-12-03T09:33:57.004Z"
   },
   {
    "duration": 9,
    "start_time": "2022-12-03T09:33:57.021Z"
   },
   {
    "duration": 18,
    "start_time": "2022-12-03T09:33:57.032Z"
   },
   {
    "duration": 9,
    "start_time": "2022-12-03T09:33:57.053Z"
   },
   {
    "duration": 15,
    "start_time": "2022-12-03T09:33:57.063Z"
   },
   {
    "duration": 4,
    "start_time": "2022-12-03T09:33:57.080Z"
   },
   {
    "duration": 23,
    "start_time": "2022-12-03T09:33:57.087Z"
   },
   {
    "duration": 4,
    "start_time": "2022-12-03T09:33:57.112Z"
   },
   {
    "duration": 7,
    "start_time": "2022-12-03T09:33:57.118Z"
   },
   {
    "duration": 7,
    "start_time": "2022-12-03T09:33:57.126Z"
   },
   {
    "duration": 11,
    "start_time": "2022-12-03T09:33:57.135Z"
   },
   {
    "duration": 81,
    "start_time": "2022-12-03T09:33:57.148Z"
   },
   {
    "duration": 348,
    "start_time": "2022-12-03T09:33:57.230Z"
   },
   {
    "duration": 266,
    "start_time": "2022-12-03T09:33:57.579Z"
   },
   {
    "duration": 190,
    "start_time": "2022-12-03T09:33:57.848Z"
   },
   {
    "duration": 164,
    "start_time": "2022-12-03T09:33:58.040Z"
   },
   {
    "duration": 254,
    "start_time": "2022-12-03T09:33:58.205Z"
   },
   {
    "duration": 170,
    "start_time": "2022-12-03T09:33:58.461Z"
   },
   {
    "duration": 240,
    "start_time": "2022-12-03T09:33:58.633Z"
   },
   {
    "duration": 6,
    "start_time": "2022-12-03T09:33:58.874Z"
   },
   {
    "duration": 172,
    "start_time": "2022-12-03T09:33:58.881Z"
   },
   {
    "duration": 3,
    "start_time": "2022-12-03T09:33:59.057Z"
   },
   {
    "duration": 138,
    "start_time": "2022-12-03T09:33:59.062Z"
   },
   {
    "duration": 5,
    "start_time": "2022-12-03T09:33:59.202Z"
   },
   {
    "duration": 142,
    "start_time": "2022-12-03T09:33:59.209Z"
   },
   {
    "duration": 5,
    "start_time": "2022-12-03T09:33:59.354Z"
   },
   {
    "duration": 196,
    "start_time": "2022-12-03T09:33:59.361Z"
   },
   {
    "duration": 19,
    "start_time": "2022-12-03T09:33:59.559Z"
   },
   {
    "duration": 112,
    "start_time": "2022-12-03T09:33:59.580Z"
   },
   {
    "duration": 111,
    "start_time": "2022-12-03T09:33:59.693Z"
   },
   {
    "duration": 115,
    "start_time": "2022-12-03T09:33:59.806Z"
   },
   {
    "duration": 106,
    "start_time": "2022-12-03T09:33:59.923Z"
   },
   {
    "duration": 114,
    "start_time": "2022-12-03T09:34:00.030Z"
   },
   {
    "duration": 114,
    "start_time": "2022-12-03T09:34:00.145Z"
   },
   {
    "duration": 107,
    "start_time": "2022-12-03T09:34:00.261Z"
   },
   {
    "duration": 195,
    "start_time": "2022-12-03T09:34:00.370Z"
   },
   {
    "duration": 12,
    "start_time": "2022-12-03T09:34:00.567Z"
   },
   {
    "duration": 24,
    "start_time": "2022-12-03T09:34:00.580Z"
   },
   {
    "duration": 142,
    "start_time": "2022-12-03T09:34:00.606Z"
   },
   {
    "duration": 108,
    "start_time": "2022-12-03T09:34:00.750Z"
   },
   {
    "duration": 118,
    "start_time": "2022-12-03T09:34:00.860Z"
   },
   {
    "duration": 109,
    "start_time": "2022-12-03T09:34:00.980Z"
   },
   {
    "duration": 5,
    "start_time": "2022-12-03T09:34:01.091Z"
   },
   {
    "duration": 44,
    "start_time": "2022-12-03T09:34:01.098Z"
   },
   {
    "duration": 32,
    "start_time": "2022-12-03T09:34:01.144Z"
   },
   {
    "duration": 41,
    "start_time": "2022-12-03T09:34:01.178Z"
   },
   {
    "duration": 49,
    "start_time": "2022-12-03T09:34:01.221Z"
   },
   {
    "duration": 23,
    "start_time": "2022-12-03T09:34:01.272Z"
   },
   {
    "duration": 27,
    "start_time": "2022-12-03T09:34:01.297Z"
   },
   {
    "duration": 199,
    "start_time": "2022-12-03T09:35:34.431Z"
   },
   {
    "duration": 317,
    "start_time": "2022-12-03T09:35:59.274Z"
   },
   {
    "duration": 209,
    "start_time": "2022-12-03T09:36:07.076Z"
   },
   {
    "duration": 226,
    "start_time": "2022-12-03T09:36:12.987Z"
   },
   {
    "duration": 228,
    "start_time": "2022-12-03T09:36:33.474Z"
   },
   {
    "duration": 361,
    "start_time": "2022-12-03T09:37:55.524Z"
   },
   {
    "duration": 267,
    "start_time": "2022-12-03T09:39:06.679Z"
   },
   {
    "duration": 230,
    "start_time": "2022-12-03T09:39:18.618Z"
   },
   {
    "duration": 269,
    "start_time": "2022-12-03T09:41:23.996Z"
   },
   {
    "duration": 218,
    "start_time": "2022-12-03T09:42:57.727Z"
   },
   {
    "duration": 141,
    "start_time": "2022-12-03T09:52:36.868Z"
   },
   {
    "duration": 310,
    "start_time": "2022-12-03T09:53:53.101Z"
   },
   {
    "duration": 157,
    "start_time": "2022-12-03T09:54:08.495Z"
   },
   {
    "duration": 264,
    "start_time": "2022-12-03T09:54:26.160Z"
   },
   {
    "duration": 259,
    "start_time": "2022-12-03T09:54:41.258Z"
   },
   {
    "duration": 277,
    "start_time": "2022-12-03T09:54:51.361Z"
   },
   {
    "duration": 266,
    "start_time": "2022-12-03T09:55:00.942Z"
   },
   {
    "duration": 177,
    "start_time": "2022-12-03T09:55:22.888Z"
   },
   {
    "duration": 154,
    "start_time": "2022-12-03T09:55:43.235Z"
   },
   {
    "duration": 258,
    "start_time": "2022-12-03T09:56:34.434Z"
   },
   {
    "duration": 157,
    "start_time": "2022-12-03T09:56:50.968Z"
   },
   {
    "duration": 138,
    "start_time": "2022-12-03T09:56:55.996Z"
   },
   {
    "duration": 153,
    "start_time": "2022-12-03T09:57:02.200Z"
   },
   {
    "duration": 173,
    "start_time": "2022-12-03T09:58:12.708Z"
   },
   {
    "duration": 4,
    "start_time": "2022-12-03T09:58:56.199Z"
   },
   {
    "duration": 139,
    "start_time": "2022-12-03T09:59:38.413Z"
   },
   {
    "duration": 5,
    "start_time": "2022-12-03T09:59:44.805Z"
   },
   {
    "duration": 87,
    "start_time": "2022-12-03T10:01:07.909Z"
   },
   {
    "duration": 5,
    "start_time": "2022-12-03T10:05:48.471Z"
   },
   {
    "duration": 71,
    "start_time": "2022-12-03T10:06:55.816Z"
   },
   {
    "duration": 107,
    "start_time": "2022-12-03T10:08:02.635Z"
   },
   {
    "duration": 3,
    "start_time": "2022-12-03T10:08:30.693Z"
   },
   {
    "duration": 94,
    "start_time": "2022-12-03T10:08:30.698Z"
   },
   {
    "duration": 14,
    "start_time": "2022-12-03T10:08:30.795Z"
   },
   {
    "duration": 55,
    "start_time": "2022-12-03T10:08:30.810Z"
   },
   {
    "duration": 21,
    "start_time": "2022-12-03T10:08:30.868Z"
   },
   {
    "duration": 69,
    "start_time": "2022-12-03T10:08:30.891Z"
   },
   {
    "duration": 22,
    "start_time": "2022-12-03T10:08:30.962Z"
   },
   {
    "duration": 45,
    "start_time": "2022-12-03T10:08:30.986Z"
   },
   {
    "duration": 36,
    "start_time": "2022-12-03T10:08:31.033Z"
   },
   {
    "duration": 36,
    "start_time": "2022-12-03T10:08:31.071Z"
   },
   {
    "duration": 44,
    "start_time": "2022-12-03T10:08:31.111Z"
   },
   {
    "duration": 33,
    "start_time": "2022-12-03T10:08:31.157Z"
   },
   {
    "duration": 71,
    "start_time": "2022-12-03T10:08:31.193Z"
   },
   {
    "duration": 24,
    "start_time": "2022-12-03T10:08:31.266Z"
   },
   {
    "duration": 42,
    "start_time": "2022-12-03T10:08:31.292Z"
   },
   {
    "duration": 38,
    "start_time": "2022-12-03T10:08:31.336Z"
   },
   {
    "duration": 34,
    "start_time": "2022-12-03T10:08:31.376Z"
   },
   {
    "duration": 37,
    "start_time": "2022-12-03T10:08:31.412Z"
   },
   {
    "duration": 19,
    "start_time": "2022-12-03T10:08:31.451Z"
   },
   {
    "duration": 110,
    "start_time": "2022-12-03T10:08:31.472Z"
   },
   {
    "duration": 247,
    "start_time": "2022-12-03T10:08:31.584Z"
   },
   {
    "duration": 308,
    "start_time": "2022-12-03T10:08:31.833Z"
   },
   {
    "duration": 228,
    "start_time": "2022-12-03T10:08:32.143Z"
   },
   {
    "duration": 180,
    "start_time": "2022-12-03T10:08:32.373Z"
   },
   {
    "duration": 357,
    "start_time": "2022-12-03T10:08:32.555Z"
   },
   {
    "duration": 264,
    "start_time": "2022-12-03T10:08:32.914Z"
   },
   {
    "duration": 250,
    "start_time": "2022-12-03T10:08:33.180Z"
   },
   {
    "duration": 158,
    "start_time": "2022-12-03T10:08:33.432Z"
   },
   {
    "duration": 4,
    "start_time": "2022-12-03T10:08:33.594Z"
   },
   {
    "duration": 193,
    "start_time": "2022-12-03T10:08:33.600Z"
   },
   {
    "duration": 5,
    "start_time": "2022-12-03T10:08:33.796Z"
   },
   {
    "duration": 248,
    "start_time": "2022-12-03T10:08:33.803Z"
   },
   {
    "duration": 5,
    "start_time": "2022-12-03T10:08:34.052Z"
   },
   {
    "duration": 194,
    "start_time": "2022-12-03T10:08:34.059Z"
   },
   {
    "duration": 5,
    "start_time": "2022-12-03T10:08:34.255Z"
   },
   {
    "duration": 194,
    "start_time": "2022-12-03T10:08:34.262Z"
   },
   {
    "duration": 8,
    "start_time": "2022-12-03T10:08:34.457Z"
   },
   {
    "duration": 144,
    "start_time": "2022-12-03T10:08:34.466Z"
   },
   {
    "duration": 110,
    "start_time": "2022-12-03T10:08:34.612Z"
   },
   {
    "duration": 207,
    "start_time": "2022-12-03T10:08:34.724Z"
   },
   {
    "duration": 117,
    "start_time": "2022-12-03T10:08:34.933Z"
   },
   {
    "duration": 110,
    "start_time": "2022-12-03T10:08:35.052Z"
   },
   {
    "duration": 106,
    "start_time": "2022-12-03T10:08:35.164Z"
   },
   {
    "duration": 104,
    "start_time": "2022-12-03T10:08:35.278Z"
   },
   {
    "duration": 114,
    "start_time": "2022-12-03T10:08:35.384Z"
   },
   {
    "duration": 101,
    "start_time": "2022-12-03T10:08:35.500Z"
   },
   {
    "duration": 116,
    "start_time": "2022-12-03T10:08:35.603Z"
   },
   {
    "duration": 123,
    "start_time": "2022-12-03T10:08:35.721Z"
   },
   {
    "duration": 119,
    "start_time": "2022-12-03T10:08:35.845Z"
   },
   {
    "duration": 15,
    "start_time": "2022-12-03T10:08:35.965Z"
   },
   {
    "duration": 54,
    "start_time": "2022-12-03T10:08:35.981Z"
   },
   {
    "duration": 41,
    "start_time": "2022-12-03T10:08:36.036Z"
   },
   {
    "duration": 38,
    "start_time": "2022-12-03T10:08:36.079Z"
   },
   {
    "duration": 49,
    "start_time": "2022-12-03T10:08:36.118Z"
   },
   {
    "duration": 36,
    "start_time": "2022-12-03T10:08:36.169Z"
   },
   {
    "duration": 34,
    "start_time": "2022-12-03T10:08:36.207Z"
   },
   {
    "duration": 15,
    "start_time": "2022-12-03T10:10:44.191Z"
   },
   {
    "duration": 3,
    "start_time": "2022-12-03T10:10:53.395Z"
   },
   {
    "duration": 1180,
    "start_time": "2022-12-03T10:19:31.166Z"
   },
   {
    "duration": 207,
    "start_time": "2022-12-03T10:19:32.349Z"
   },
   {
    "duration": 3,
    "start_time": "2022-12-03T10:20:12.162Z"
   },
   {
    "duration": 59,
    "start_time": "2022-12-03T10:20:12.167Z"
   },
   {
    "duration": 17,
    "start_time": "2022-12-03T10:20:12.228Z"
   },
   {
    "duration": 13,
    "start_time": "2022-12-03T10:20:12.247Z"
   },
   {
    "duration": 3,
    "start_time": "2022-12-03T10:20:12.262Z"
   },
   {
    "duration": 21,
    "start_time": "2022-12-03T10:20:12.266Z"
   },
   {
    "duration": 10,
    "start_time": "2022-12-03T10:20:12.289Z"
   },
   {
    "duration": 13,
    "start_time": "2022-12-03T10:20:12.301Z"
   },
   {
    "duration": 17,
    "start_time": "2022-12-03T10:20:12.316Z"
   },
   {
    "duration": 11,
    "start_time": "2022-12-03T10:20:12.335Z"
   },
   {
    "duration": 30,
    "start_time": "2022-12-03T10:20:12.349Z"
   },
   {
    "duration": 4,
    "start_time": "2022-12-03T10:20:12.381Z"
   },
   {
    "duration": 18,
    "start_time": "2022-12-03T10:20:12.387Z"
   },
   {
    "duration": 5,
    "start_time": "2022-12-03T10:20:12.407Z"
   },
   {
    "duration": 9,
    "start_time": "2022-12-03T10:20:12.413Z"
   },
   {
    "duration": 11,
    "start_time": "2022-12-03T10:20:12.423Z"
   },
   {
    "duration": 5,
    "start_time": "2022-12-03T10:20:12.436Z"
   },
   {
    "duration": 5,
    "start_time": "2022-12-03T10:20:12.478Z"
   },
   {
    "duration": 9,
    "start_time": "2022-12-03T10:20:12.484Z"
   },
   {
    "duration": 91,
    "start_time": "2022-12-03T10:20:12.495Z"
   },
   {
    "duration": 254,
    "start_time": "2022-12-03T10:20:12.587Z"
   },
   {
    "duration": 315,
    "start_time": "2022-12-03T10:20:12.843Z"
   },
   {
    "duration": 218,
    "start_time": "2022-12-03T10:20:13.160Z"
   },
   {
    "duration": 180,
    "start_time": "2022-12-03T10:20:13.380Z"
   },
   {
    "duration": 274,
    "start_time": "2022-12-03T10:20:13.562Z"
   },
   {
    "duration": 333,
    "start_time": "2022-12-03T10:20:13.838Z"
   },
   {
    "duration": 367,
    "start_time": "2022-12-03T10:20:14.173Z"
   },
   {
    "duration": 169,
    "start_time": "2022-12-03T10:20:14.543Z"
   },
   {
    "duration": 6,
    "start_time": "2022-12-03T10:20:14.717Z"
   },
   {
    "duration": 169,
    "start_time": "2022-12-03T10:20:14.724Z"
   },
   {
    "duration": 4,
    "start_time": "2022-12-03T10:20:14.894Z"
   },
   {
    "duration": 159,
    "start_time": "2022-12-03T10:20:14.900Z"
   },
   {
    "duration": 5,
    "start_time": "2022-12-03T10:20:15.061Z"
   },
   {
    "duration": 146,
    "start_time": "2022-12-03T10:20:15.067Z"
   },
   {
    "duration": 5,
    "start_time": "2022-12-03T10:20:15.215Z"
   },
   {
    "duration": 177,
    "start_time": "2022-12-03T10:20:15.222Z"
   },
   {
    "duration": 8,
    "start_time": "2022-12-03T10:20:15.401Z"
   },
   {
    "duration": 113,
    "start_time": "2022-12-03T10:20:15.411Z"
   },
   {
    "duration": 113,
    "start_time": "2022-12-03T10:20:15.526Z"
   },
   {
    "duration": 110,
    "start_time": "2022-12-03T10:20:15.641Z"
   },
   {
    "duration": 113,
    "start_time": "2022-12-03T10:20:15.752Z"
   },
   {
    "duration": 109,
    "start_time": "2022-12-03T10:20:15.878Z"
   },
   {
    "duration": 110,
    "start_time": "2022-12-03T10:20:15.988Z"
   },
   {
    "duration": 107,
    "start_time": "2022-12-03T10:20:16.099Z"
   },
   {
    "duration": 201,
    "start_time": "2022-12-03T10:20:16.208Z"
   },
   {
    "duration": 108,
    "start_time": "2022-12-03T10:20:16.411Z"
   },
   {
    "duration": 107,
    "start_time": "2022-12-03T10:20:16.521Z"
   },
   {
    "duration": 107,
    "start_time": "2022-12-03T10:20:16.630Z"
   },
   {
    "duration": 107,
    "start_time": "2022-12-03T10:20:16.739Z"
   },
   {
    "duration": 4,
    "start_time": "2022-12-03T10:20:16.848Z"
   },
   {
    "duration": 10,
    "start_time": "2022-12-03T10:20:16.854Z"
   },
   {
    "duration": 14,
    "start_time": "2022-12-03T10:20:16.865Z"
   },
   {
    "duration": 5,
    "start_time": "2022-12-03T10:20:16.881Z"
   },
   {
    "duration": 17,
    "start_time": "2022-12-03T10:20:16.888Z"
   },
   {
    "duration": 10,
    "start_time": "2022-12-03T10:20:16.907Z"
   },
   {
    "duration": 8,
    "start_time": "2022-12-03T10:20:16.918Z"
   },
   {
    "duration": 133,
    "start_time": "2022-12-03T10:22:36.769Z"
   },
   {
    "duration": 4,
    "start_time": "2022-12-03T10:23:38.166Z"
   },
   {
    "duration": 127,
    "start_time": "2022-12-03T10:23:50.211Z"
   },
   {
    "duration": 4,
    "start_time": "2022-12-03T10:23:51.186Z"
   },
   {
    "duration": 144,
    "start_time": "2022-12-03T10:25:05.499Z"
   },
   {
    "duration": 4,
    "start_time": "2022-12-03T10:25:36.657Z"
   },
   {
    "duration": 147,
    "start_time": "2022-12-03T10:26:54.564Z"
   },
   {
    "duration": 4,
    "start_time": "2022-12-03T10:27:02.154Z"
   },
   {
    "duration": 115,
    "start_time": "2022-12-03T10:27:16.002Z"
   },
   {
    "duration": 129,
    "start_time": "2022-12-03T10:27:41.482Z"
   },
   {
    "duration": 171,
    "start_time": "2022-12-03T10:28:03.880Z"
   },
   {
    "duration": 4,
    "start_time": "2022-12-03T10:28:05.926Z"
   },
   {
    "duration": 4,
    "start_time": "2022-12-03T10:28:17.715Z"
   },
   {
    "duration": 4,
    "start_time": "2022-12-03T10:28:22.471Z"
   },
   {
    "duration": 124,
    "start_time": "2022-12-03T10:28:52.585Z"
   },
   {
    "duration": 5,
    "start_time": "2022-12-03T10:29:01.594Z"
   },
   {
    "duration": 76,
    "start_time": "2022-12-03T10:29:50.137Z"
   },
   {
    "duration": 253,
    "start_time": "2022-12-03T10:30:31.647Z"
   },
   {
    "duration": 72,
    "start_time": "2022-12-03T10:31:05.973Z"
   },
   {
    "duration": 76,
    "start_time": "2022-12-03T10:31:19.048Z"
   },
   {
    "duration": 67,
    "start_time": "2022-12-03T10:31:26.789Z"
   },
   {
    "duration": 84,
    "start_time": "2022-12-03T10:31:53.348Z"
   },
   {
    "duration": 134,
    "start_time": "2022-12-03T10:32:04.300Z"
   },
   {
    "duration": 126,
    "start_time": "2022-12-03T10:33:02.789Z"
   },
   {
    "duration": 1279,
    "start_time": "2022-12-03T10:34:08.361Z"
   },
   {
    "duration": 149,
    "start_time": "2022-12-03T10:34:13.266Z"
   },
   {
    "duration": 133,
    "start_time": "2022-12-03T10:36:56.724Z"
   },
   {
    "duration": 93,
    "start_time": "2022-12-03T10:37:45.901Z"
   },
   {
    "duration": 125,
    "start_time": "2022-12-03T10:37:53.440Z"
   },
   {
    "duration": 83,
    "start_time": "2022-12-03T10:39:01.437Z"
   },
   {
    "duration": 119,
    "start_time": "2022-12-03T10:40:21.307Z"
   },
   {
    "duration": 129,
    "start_time": "2022-12-03T10:40:48.528Z"
   },
   {
    "duration": 122,
    "start_time": "2022-12-03T10:41:28.629Z"
   },
   {
    "duration": 141,
    "start_time": "2022-12-03T10:41:39.537Z"
   },
   {
    "duration": 166,
    "start_time": "2022-12-03T10:42:31.599Z"
   },
   {
    "duration": 159,
    "start_time": "2022-12-03T10:42:53.192Z"
   },
   {
    "duration": 250,
    "start_time": "2022-12-03T10:43:04.703Z"
   },
   {
    "duration": 119,
    "start_time": "2022-12-03T10:44:16.394Z"
   },
   {
    "duration": 136,
    "start_time": "2022-12-03T10:46:36.289Z"
   },
   {
    "duration": 71,
    "start_time": "2022-12-03T10:48:18.186Z"
   },
   {
    "duration": 139,
    "start_time": "2022-12-03T10:49:27.364Z"
   },
   {
    "duration": 154,
    "start_time": "2022-12-03T10:50:09.936Z"
   },
   {
    "duration": 154,
    "start_time": "2022-12-03T10:50:42.940Z"
   },
   {
    "duration": 137,
    "start_time": "2022-12-03T10:50:52.704Z"
   },
   {
    "duration": 73,
    "start_time": "2022-12-03T10:53:33.239Z"
   },
   {
    "duration": 163,
    "start_time": "2022-12-03T11:11:27.876Z"
   },
   {
    "duration": 64,
    "start_time": "2022-12-03T11:13:02.314Z"
   },
   {
    "duration": 8,
    "start_time": "2022-12-03T11:16:06.817Z"
   },
   {
    "duration": 248,
    "start_time": "2022-12-03T11:18:46.686Z"
   },
   {
    "duration": 367,
    "start_time": "2022-12-03T11:19:04.038Z"
   },
   {
    "duration": 281,
    "start_time": "2022-12-03T11:19:47.405Z"
   },
   {
    "duration": 75,
    "start_time": "2022-12-03T11:29:12.836Z"
   },
   {
    "duration": 8,
    "start_time": "2022-12-03T11:31:03.373Z"
   },
   {
    "duration": 5,
    "start_time": "2022-12-03T11:31:06.425Z"
   },
   {
    "duration": 5,
    "start_time": "2022-12-03T11:31:07.655Z"
   },
   {
    "duration": 987,
    "start_time": "2022-12-04T00:25:07.734Z"
   },
   {
    "duration": 52,
    "start_time": "2022-12-04T00:25:08.722Z"
   },
   {
    "duration": 18,
    "start_time": "2022-12-04T00:25:08.776Z"
   },
   {
    "duration": 14,
    "start_time": "2022-12-04T00:25:08.797Z"
   },
   {
    "duration": 3,
    "start_time": "2022-12-04T00:25:08.812Z"
   },
   {
    "duration": 16,
    "start_time": "2022-12-04T00:25:08.816Z"
   },
   {
    "duration": 7,
    "start_time": "2022-12-04T00:25:08.833Z"
   },
   {
    "duration": 37,
    "start_time": "2022-12-04T00:25:08.842Z"
   },
   {
    "duration": 21,
    "start_time": "2022-12-04T00:25:08.881Z"
   },
   {
    "duration": 10,
    "start_time": "2022-12-04T00:25:08.905Z"
   },
   {
    "duration": 7,
    "start_time": "2022-12-04T00:25:08.916Z"
   },
   {
    "duration": 6,
    "start_time": "2022-12-04T00:25:08.924Z"
   },
   {
    "duration": 17,
    "start_time": "2022-12-04T00:25:08.932Z"
   },
   {
    "duration": 5,
    "start_time": "2022-12-04T00:25:08.951Z"
   },
   {
    "duration": 6,
    "start_time": "2022-12-04T00:25:08.978Z"
   },
   {
    "duration": 8,
    "start_time": "2022-12-04T00:25:08.985Z"
   },
   {
    "duration": 4,
    "start_time": "2022-12-04T00:25:08.995Z"
   },
   {
    "duration": 6,
    "start_time": "2022-12-04T00:25:09.000Z"
   },
   {
    "duration": 8,
    "start_time": "2022-12-04T00:25:09.007Z"
   },
   {
    "duration": 97,
    "start_time": "2022-12-04T00:25:09.016Z"
   },
   {
    "duration": 230,
    "start_time": "2022-12-04T00:25:09.115Z"
   },
   {
    "duration": 271,
    "start_time": "2022-12-04T00:25:09.347Z"
   },
   {
    "duration": 205,
    "start_time": "2022-12-04T00:25:09.619Z"
   },
   {
    "duration": 155,
    "start_time": "2022-12-04T00:25:09.826Z"
   },
   {
    "duration": 226,
    "start_time": "2022-12-04T00:25:09.982Z"
   },
   {
    "duration": 230,
    "start_time": "2022-12-04T00:25:10.210Z"
   },
   {
    "duration": 305,
    "start_time": "2022-12-04T00:25:10.441Z"
   },
   {
    "duration": 141,
    "start_time": "2022-12-04T00:25:10.749Z"
   },
   {
    "duration": 5,
    "start_time": "2022-12-04T00:25:10.891Z"
   },
   {
    "duration": 148,
    "start_time": "2022-12-04T00:25:10.897Z"
   },
   {
    "duration": 5,
    "start_time": "2022-12-04T00:25:11.047Z"
   },
   {
    "duration": 148,
    "start_time": "2022-12-04T00:25:11.054Z"
   },
   {
    "duration": 5,
    "start_time": "2022-12-04T00:25:11.204Z"
   },
   {
    "duration": 153,
    "start_time": "2022-12-04T00:25:11.211Z"
   },
   {
    "duration": 4,
    "start_time": "2022-12-04T00:25:11.366Z"
   },
   {
    "duration": 154,
    "start_time": "2022-12-04T00:25:11.371Z"
   },
   {
    "duration": 5,
    "start_time": "2022-12-04T00:25:11.527Z"
   },
   {
    "duration": 144,
    "start_time": "2022-12-04T00:25:11.534Z"
   },
   {
    "duration": 5,
    "start_time": "2022-12-04T00:25:11.680Z"
   },
   {
    "duration": 165,
    "start_time": "2022-12-04T00:25:11.688Z"
   },
   {
    "duration": 156,
    "start_time": "2022-12-04T00:25:11.855Z"
   },
   {
    "duration": 155,
    "start_time": "2022-12-04T00:25:12.013Z"
   },
   {
    "duration": 149,
    "start_time": "2022-12-04T00:25:12.170Z"
   },
   {
    "duration": 167,
    "start_time": "2022-12-04T00:25:12.321Z"
   },
   {
    "duration": 140,
    "start_time": "2022-12-04T00:25:12.490Z"
   },
   {
    "duration": 257,
    "start_time": "2022-12-04T00:25:12.632Z"
   },
   {
    "duration": 170,
    "start_time": "2022-12-04T00:25:12.891Z"
   },
   {
    "duration": 180,
    "start_time": "2022-12-04T00:25:13.063Z"
   },
   {
    "duration": 8,
    "start_time": "2022-12-04T00:25:13.245Z"
   },
   {
    "duration": 281,
    "start_time": "2022-12-04T00:25:13.254Z"
   },
   {
    "duration": 281,
    "start_time": "2022-12-04T00:25:13.537Z"
   },
   {
    "duration": 134,
    "start_time": "2022-12-04T00:25:13.820Z"
   },
   {
    "duration": 135,
    "start_time": "2022-12-04T00:25:13.957Z"
   },
   {
    "duration": 106,
    "start_time": "2022-12-04T00:25:14.094Z"
   },
   {
    "duration": 115,
    "start_time": "2022-12-04T00:25:14.201Z"
   },
   {
    "duration": 209,
    "start_time": "2022-12-04T00:25:14.317Z"
   },
   {
    "duration": 119,
    "start_time": "2022-12-04T00:25:14.528Z"
   },
   {
    "duration": 115,
    "start_time": "2022-12-04T00:25:14.649Z"
   },
   {
    "duration": 127,
    "start_time": "2022-12-04T00:25:14.766Z"
   },
   {
    "duration": 130,
    "start_time": "2022-12-04T00:25:14.895Z"
   },
   {
    "duration": 122,
    "start_time": "2022-12-04T00:25:15.027Z"
   },
   {
    "duration": 119,
    "start_time": "2022-12-04T00:25:15.151Z"
   },
   {
    "duration": 130,
    "start_time": "2022-12-04T00:25:15.278Z"
   },
   {
    "duration": 5,
    "start_time": "2022-12-04T00:25:15.410Z"
   },
   {
    "duration": 13,
    "start_time": "2022-12-04T00:25:15.417Z"
   },
   {
    "duration": 9,
    "start_time": "2022-12-04T00:25:15.432Z"
   },
   {
    "duration": 7,
    "start_time": "2022-12-04T00:25:15.443Z"
   },
   {
    "duration": 33,
    "start_time": "2022-12-04T00:25:15.452Z"
   },
   {
    "duration": 10,
    "start_time": "2022-12-04T00:25:15.487Z"
   },
   {
    "duration": 7,
    "start_time": "2022-12-04T00:25:15.499Z"
   },
   {
    "duration": 205,
    "start_time": "2022-12-04T00:28:43.394Z"
   },
   {
    "duration": 269,
    "start_time": "2022-12-04T00:29:13.864Z"
   },
   {
    "duration": 1047,
    "start_time": "2022-12-04T00:30:07.068Z"
   },
   {
    "duration": 50,
    "start_time": "2022-12-04T00:30:08.117Z"
   },
   {
    "duration": 17,
    "start_time": "2022-12-04T00:30:08.169Z"
   },
   {
    "duration": 13,
    "start_time": "2022-12-04T00:30:08.188Z"
   },
   {
    "duration": 3,
    "start_time": "2022-12-04T00:30:08.202Z"
   },
   {
    "duration": 14,
    "start_time": "2022-12-04T00:30:08.206Z"
   },
   {
    "duration": 6,
    "start_time": "2022-12-04T00:30:08.222Z"
   },
   {
    "duration": 11,
    "start_time": "2022-12-04T00:30:08.229Z"
   },
   {
    "duration": 43,
    "start_time": "2022-12-04T00:30:08.241Z"
   },
   {
    "duration": 11,
    "start_time": "2022-12-04T00:30:08.285Z"
   },
   {
    "duration": 4,
    "start_time": "2022-12-04T00:30:08.298Z"
   },
   {
    "duration": 5,
    "start_time": "2022-12-04T00:30:08.304Z"
   },
   {
    "duration": 17,
    "start_time": "2022-12-04T00:30:08.310Z"
   },
   {
    "duration": 5,
    "start_time": "2022-12-04T00:30:08.331Z"
   },
   {
    "duration": 15,
    "start_time": "2022-12-04T00:30:08.338Z"
   },
   {
    "duration": 29,
    "start_time": "2022-12-04T00:30:08.354Z"
   },
   {
    "duration": 5,
    "start_time": "2022-12-04T00:30:08.384Z"
   },
   {
    "duration": 4,
    "start_time": "2022-12-04T00:30:08.391Z"
   },
   {
    "duration": 7,
    "start_time": "2022-12-04T00:30:08.397Z"
   },
   {
    "duration": 84,
    "start_time": "2022-12-04T00:30:08.406Z"
   },
   {
    "duration": 232,
    "start_time": "2022-12-04T00:30:08.492Z"
   },
   {
    "duration": 215,
    "start_time": "2022-12-04T00:30:08.726Z"
   },
   {
    "duration": 270,
    "start_time": "2022-12-04T00:30:08.943Z"
   },
   {
    "duration": 188,
    "start_time": "2022-12-04T00:30:09.215Z"
   },
   {
    "duration": 164,
    "start_time": "2022-12-04T00:30:09.404Z"
   },
   {
    "duration": 234,
    "start_time": "2022-12-04T00:30:09.570Z"
   },
   {
    "duration": 230,
    "start_time": "2022-12-04T00:30:09.805Z"
   },
   {
    "duration": 318,
    "start_time": "2022-12-04T00:30:10.036Z"
   },
   {
    "duration": 147,
    "start_time": "2022-12-04T00:30:10.355Z"
   },
   {
    "duration": 4,
    "start_time": "2022-12-04T00:30:10.504Z"
   },
   {
    "duration": 149,
    "start_time": "2022-12-04T00:30:10.510Z"
   },
   {
    "duration": 5,
    "start_time": "2022-12-04T00:30:10.661Z"
   },
   {
    "duration": 145,
    "start_time": "2022-12-04T00:30:10.667Z"
   },
   {
    "duration": 5,
    "start_time": "2022-12-04T00:30:10.813Z"
   },
   {
    "duration": 144,
    "start_time": "2022-12-04T00:30:10.819Z"
   },
   {
    "duration": 5,
    "start_time": "2022-12-04T00:30:10.966Z"
   },
   {
    "duration": 137,
    "start_time": "2022-12-04T00:30:10.978Z"
   },
   {
    "duration": 4,
    "start_time": "2022-12-04T00:30:11.117Z"
   },
   {
    "duration": 127,
    "start_time": "2022-12-04T00:30:11.122Z"
   },
   {
    "duration": 5,
    "start_time": "2022-12-04T00:30:11.250Z"
   },
   {
    "duration": 162,
    "start_time": "2022-12-04T00:30:11.258Z"
   },
   {
    "duration": 157,
    "start_time": "2022-12-04T00:30:11.421Z"
   },
   {
    "duration": 161,
    "start_time": "2022-12-04T00:30:11.579Z"
   },
   {
    "duration": 225,
    "start_time": "2022-12-04T00:30:11.741Z"
   },
   {
    "duration": 157,
    "start_time": "2022-12-04T00:30:11.968Z"
   },
   {
    "duration": 143,
    "start_time": "2022-12-04T00:30:12.127Z"
   },
   {
    "duration": 169,
    "start_time": "2022-12-04T00:30:12.279Z"
   },
   {
    "duration": 256,
    "start_time": "2022-12-04T00:30:12.450Z"
   },
   {
    "duration": 383,
    "start_time": "2022-12-04T00:30:12.707Z"
   },
   {
    "duration": 8,
    "start_time": "2022-12-04T00:30:13.091Z"
   },
   {
    "duration": 582,
    "start_time": "2022-12-04T00:30:13.101Z"
   },
   {
    "duration": 617,
    "start_time": "2022-12-04T00:30:13.684Z"
   },
   {
    "duration": 126,
    "start_time": "2022-12-04T00:30:14.303Z"
   },
   {
    "duration": 212,
    "start_time": "2022-12-04T00:30:14.431Z"
   },
   {
    "duration": 117,
    "start_time": "2022-12-04T00:30:14.645Z"
   },
   {
    "duration": 133,
    "start_time": "2022-12-04T00:30:14.764Z"
   },
   {
    "duration": 139,
    "start_time": "2022-12-04T00:30:14.899Z"
   },
   {
    "duration": 129,
    "start_time": "2022-12-04T00:30:15.039Z"
   },
   {
    "duration": 122,
    "start_time": "2022-12-04T00:30:15.169Z"
   },
   {
    "duration": 133,
    "start_time": "2022-12-04T00:30:15.293Z"
   },
   {
    "duration": 128,
    "start_time": "2022-12-04T00:30:15.428Z"
   },
   {
    "duration": 129,
    "start_time": "2022-12-04T00:30:15.558Z"
   },
   {
    "duration": 144,
    "start_time": "2022-12-04T00:30:15.689Z"
   },
   {
    "duration": 117,
    "start_time": "2022-12-04T00:30:15.835Z"
   },
   {
    "duration": 4,
    "start_time": "2022-12-04T00:30:15.954Z"
   },
   {
    "duration": 35,
    "start_time": "2022-12-04T00:30:15.960Z"
   },
   {
    "duration": 24,
    "start_time": "2022-12-04T00:30:15.997Z"
   },
   {
    "duration": 31,
    "start_time": "2022-12-04T00:30:16.023Z"
   },
   {
    "duration": 18,
    "start_time": "2022-12-04T00:30:16.055Z"
   },
   {
    "duration": 25,
    "start_time": "2022-12-04T00:30:16.075Z"
   },
   {
    "duration": 21,
    "start_time": "2022-12-04T00:30:16.102Z"
   },
   {
    "duration": 20,
    "start_time": "2022-12-04T00:34:09.885Z"
   },
   {
    "duration": 4,
    "start_time": "2022-12-04T00:34:28.313Z"
   },
   {
    "duration": 1029,
    "start_time": "2022-12-04T00:34:40.613Z"
   },
   {
    "duration": 49,
    "start_time": "2022-12-04T00:34:41.644Z"
   },
   {
    "duration": 17,
    "start_time": "2022-12-04T00:34:41.695Z"
   },
   {
    "duration": 12,
    "start_time": "2022-12-04T00:34:41.714Z"
   },
   {
    "duration": 4,
    "start_time": "2022-12-04T00:34:41.728Z"
   },
   {
    "duration": 18,
    "start_time": "2022-12-04T00:34:41.733Z"
   },
   {
    "duration": 30,
    "start_time": "2022-12-04T00:34:41.753Z"
   },
   {
    "duration": 15,
    "start_time": "2022-12-04T00:34:41.784Z"
   },
   {
    "duration": 15,
    "start_time": "2022-12-04T00:34:41.800Z"
   },
   {
    "duration": 10,
    "start_time": "2022-12-04T00:34:41.818Z"
   },
   {
    "duration": 5,
    "start_time": "2022-12-04T00:34:41.830Z"
   },
   {
    "duration": 5,
    "start_time": "2022-12-04T00:34:41.836Z"
   },
   {
    "duration": 15,
    "start_time": "2022-12-04T00:34:41.843Z"
   },
   {
    "duration": 20,
    "start_time": "2022-12-04T00:34:41.860Z"
   },
   {
    "duration": 4,
    "start_time": "2022-12-04T00:34:41.882Z"
   },
   {
    "duration": 10,
    "start_time": "2022-12-04T00:34:41.888Z"
   },
   {
    "duration": 5,
    "start_time": "2022-12-04T00:34:41.899Z"
   },
   {
    "duration": 12,
    "start_time": "2022-12-04T00:34:41.905Z"
   },
   {
    "duration": 13,
    "start_time": "2022-12-04T00:34:41.919Z"
   },
   {
    "duration": 88,
    "start_time": "2022-12-04T00:34:41.933Z"
   },
   {
    "duration": 245,
    "start_time": "2022-12-04T00:34:42.023Z"
   },
   {
    "duration": 229,
    "start_time": "2022-12-04T00:34:42.270Z"
   },
   {
    "duration": 260,
    "start_time": "2022-12-04T00:34:42.501Z"
   },
   {
    "duration": 181,
    "start_time": "2022-12-04T00:34:42.763Z"
   },
   {
    "duration": 154,
    "start_time": "2022-12-04T00:34:42.945Z"
   },
   {
    "duration": 234,
    "start_time": "2022-12-04T00:34:43.100Z"
   },
   {
    "duration": 230,
    "start_time": "2022-12-04T00:34:43.336Z"
   },
   {
    "duration": 304,
    "start_time": "2022-12-04T00:34:43.569Z"
   },
   {
    "duration": 4,
    "start_time": "2022-12-04T00:34:43.878Z"
   },
   {
    "duration": 181,
    "start_time": "2022-12-04T00:34:43.884Z"
   },
   {
    "duration": 4,
    "start_time": "2022-12-04T00:34:44.066Z"
   },
   {
    "duration": 159,
    "start_time": "2022-12-04T00:34:44.078Z"
   },
   {
    "duration": 5,
    "start_time": "2022-12-04T00:34:44.238Z"
   },
   {
    "duration": 152,
    "start_time": "2022-12-04T00:34:44.244Z"
   },
   {
    "duration": 5,
    "start_time": "2022-12-04T00:34:44.397Z"
   },
   {
    "duration": 134,
    "start_time": "2022-12-04T00:34:44.403Z"
   },
   {
    "duration": 4,
    "start_time": "2022-12-04T00:34:44.539Z"
   },
   {
    "duration": 141,
    "start_time": "2022-12-04T00:34:44.544Z"
   },
   {
    "duration": 4,
    "start_time": "2022-12-04T00:34:44.687Z"
   },
   {
    "duration": 124,
    "start_time": "2022-12-04T00:34:44.692Z"
   },
   {
    "duration": 4,
    "start_time": "2022-12-04T00:34:44.818Z"
   },
   {
    "duration": 174,
    "start_time": "2022-12-04T00:34:44.823Z"
   },
   {
    "duration": 136,
    "start_time": "2022-12-04T00:34:44.999Z"
   },
   {
    "duration": 151,
    "start_time": "2022-12-04T00:34:45.136Z"
   },
   {
    "duration": 209,
    "start_time": "2022-12-04T00:34:45.289Z"
   },
   {
    "duration": 141,
    "start_time": "2022-12-04T00:34:45.500Z"
   },
   {
    "duration": 160,
    "start_time": "2022-12-04T00:34:45.642Z"
   },
   {
    "duration": 156,
    "start_time": "2022-12-04T00:34:45.804Z"
   },
   {
    "duration": 155,
    "start_time": "2022-12-04T00:34:45.962Z"
   },
   {
    "duration": 194,
    "start_time": "2022-12-04T00:34:46.119Z"
   },
   {
    "duration": 9,
    "start_time": "2022-12-04T00:34:46.314Z"
   },
   {
    "duration": 270,
    "start_time": "2022-12-04T00:34:46.324Z"
   },
   {
    "duration": 261,
    "start_time": "2022-12-04T00:34:46.596Z"
   },
   {
    "duration": 98,
    "start_time": "2022-12-04T00:34:46.859Z"
   },
   {
    "duration": 188,
    "start_time": "2022-12-04T00:34:46.958Z"
   },
   {
    "duration": 95,
    "start_time": "2022-12-04T00:34:47.148Z"
   },
   {
    "duration": 106,
    "start_time": "2022-12-04T00:34:47.244Z"
   },
   {
    "duration": 107,
    "start_time": "2022-12-04T00:34:47.352Z"
   },
   {
    "duration": 101,
    "start_time": "2022-12-04T00:34:47.461Z"
   },
   {
    "duration": 115,
    "start_time": "2022-12-04T00:34:47.563Z"
   },
   {
    "duration": 103,
    "start_time": "2022-12-04T00:34:47.680Z"
   },
   {
    "duration": 105,
    "start_time": "2022-12-04T00:34:47.785Z"
   },
   {
    "duration": 94,
    "start_time": "2022-12-04T00:34:47.892Z"
   },
   {
    "duration": 100,
    "start_time": "2022-12-04T00:34:47.988Z"
   },
   {
    "duration": 106,
    "start_time": "2022-12-04T00:34:48.090Z"
   },
   {
    "duration": 5,
    "start_time": "2022-12-04T00:34:48.197Z"
   },
   {
    "duration": 51,
    "start_time": "2022-12-04T00:34:48.204Z"
   },
   {
    "duration": 18,
    "start_time": "2022-12-04T00:34:48.256Z"
   },
   {
    "duration": 31,
    "start_time": "2022-12-04T00:34:48.276Z"
   },
   {
    "duration": 26,
    "start_time": "2022-12-04T00:34:48.308Z"
   },
   {
    "duration": 18,
    "start_time": "2022-12-04T00:34:48.335Z"
   },
   {
    "duration": 31,
    "start_time": "2022-12-04T00:34:48.355Z"
   },
   {
    "duration": 375,
    "start_time": "2022-12-04T00:42:49.996Z"
   },
   {
    "duration": 50,
    "start_time": "2022-12-04T06:42:06.015Z"
   },
   {
    "duration": 1371,
    "start_time": "2022-12-04T06:42:10.653Z"
   },
   {
    "duration": 187,
    "start_time": "2022-12-04T06:42:12.026Z"
   },
   {
    "duration": 22,
    "start_time": "2022-12-04T06:42:12.214Z"
   },
   {
    "duration": 16,
    "start_time": "2022-12-04T06:42:12.238Z"
   },
   {
    "duration": 3,
    "start_time": "2022-12-04T06:42:12.256Z"
   },
   {
    "duration": 20,
    "start_time": "2022-12-04T06:42:12.261Z"
   },
   {
    "duration": 6,
    "start_time": "2022-12-04T06:42:12.283Z"
   },
   {
    "duration": 13,
    "start_time": "2022-12-04T06:42:12.291Z"
   },
   {
    "duration": 15,
    "start_time": "2022-12-04T06:42:12.305Z"
   },
   {
    "duration": 37,
    "start_time": "2022-12-04T06:42:12.323Z"
   },
   {
    "duration": 5,
    "start_time": "2022-12-04T06:42:12.361Z"
   },
   {
    "duration": 5,
    "start_time": "2022-12-04T06:42:12.368Z"
   },
   {
    "duration": 16,
    "start_time": "2022-12-04T06:42:12.375Z"
   },
   {
    "duration": 5,
    "start_time": "2022-12-04T06:42:12.393Z"
   },
   {
    "duration": 6,
    "start_time": "2022-12-04T06:42:12.400Z"
   },
   {
    "duration": 43,
    "start_time": "2022-12-04T06:42:12.408Z"
   },
   {
    "duration": 7,
    "start_time": "2022-12-04T06:42:12.453Z"
   },
   {
    "duration": 7,
    "start_time": "2022-12-04T06:42:12.461Z"
   },
   {
    "duration": 7,
    "start_time": "2022-12-04T06:42:12.470Z"
   },
   {
    "duration": 106,
    "start_time": "2022-12-04T06:42:12.479Z"
   },
   {
    "duration": 271,
    "start_time": "2022-12-04T06:42:12.587Z"
   },
   {
    "duration": 236,
    "start_time": "2022-12-04T06:42:12.860Z"
   },
   {
    "duration": 316,
    "start_time": "2022-12-04T06:42:13.098Z"
   },
   {
    "duration": 209,
    "start_time": "2022-12-04T06:42:13.415Z"
   },
   {
    "duration": 184,
    "start_time": "2022-12-04T06:42:13.626Z"
   },
   {
    "duration": 263,
    "start_time": "2022-12-04T06:42:13.812Z"
   },
   {
    "duration": 282,
    "start_time": "2022-12-04T06:42:14.077Z"
   },
   {
    "duration": 338,
    "start_time": "2022-12-04T06:42:14.363Z"
   },
   {
    "duration": 4,
    "start_time": "2022-12-04T06:42:14.702Z"
   },
   {
    "duration": 174,
    "start_time": "2022-12-04T06:42:14.708Z"
   },
   {
    "duration": 5,
    "start_time": "2022-12-04T06:42:14.884Z"
   },
   {
    "duration": 167,
    "start_time": "2022-12-04T06:42:14.890Z"
   },
   {
    "duration": 5,
    "start_time": "2022-12-04T06:42:15.059Z"
   },
   {
    "duration": 177,
    "start_time": "2022-12-04T06:42:15.066Z"
   },
   {
    "duration": 8,
    "start_time": "2022-12-04T06:42:15.245Z"
   },
   {
    "duration": 158,
    "start_time": "2022-12-04T06:42:15.254Z"
   },
   {
    "duration": 5,
    "start_time": "2022-12-04T06:42:15.414Z"
   },
   {
    "duration": 177,
    "start_time": "2022-12-04T06:42:15.421Z"
   },
   {
    "duration": 6,
    "start_time": "2022-12-04T06:42:15.600Z"
   },
   {
    "duration": 158,
    "start_time": "2022-12-04T06:42:15.608Z"
   },
   {
    "duration": 5,
    "start_time": "2022-12-04T06:42:15.768Z"
   },
   {
    "duration": 174,
    "start_time": "2022-12-04T06:42:15.776Z"
   },
   {
    "duration": 177,
    "start_time": "2022-12-04T06:42:15.952Z"
   },
   {
    "duration": 177,
    "start_time": "2022-12-04T06:42:16.130Z"
   },
   {
    "duration": 234,
    "start_time": "2022-12-04T06:42:16.308Z"
   },
   {
    "duration": 160,
    "start_time": "2022-12-04T06:42:16.551Z"
   },
   {
    "duration": 163,
    "start_time": "2022-12-04T06:42:16.713Z"
   },
   {
    "duration": 175,
    "start_time": "2022-12-04T06:42:16.878Z"
   },
   {
    "duration": 172,
    "start_time": "2022-12-04T06:42:17.055Z"
   },
   {
    "duration": 195,
    "start_time": "2022-12-04T06:42:17.228Z"
   },
   {
    "duration": 9,
    "start_time": "2022-12-04T06:42:17.425Z"
   },
   {
    "duration": 297,
    "start_time": "2022-12-04T06:42:17.436Z"
   },
   {
    "duration": 318,
    "start_time": "2022-12-04T06:42:17.735Z"
   },
   {
    "duration": 132,
    "start_time": "2022-12-04T06:42:18.055Z"
   },
   {
    "duration": 210,
    "start_time": "2022-12-04T06:42:18.189Z"
   },
   {
    "duration": 114,
    "start_time": "2022-12-04T06:42:18.400Z"
   },
   {
    "duration": 118,
    "start_time": "2022-12-04T06:42:18.516Z"
   },
   {
    "duration": 119,
    "start_time": "2022-12-04T06:42:18.636Z"
   },
   {
    "duration": 119,
    "start_time": "2022-12-04T06:42:18.757Z"
   },
   {
    "duration": 128,
    "start_time": "2022-12-04T06:42:18.877Z"
   },
   {
    "duration": 359,
    "start_time": "2022-12-04T06:42:19.007Z"
   },
   {
    "duration": 118,
    "start_time": "2022-12-04T06:42:19.368Z"
   },
   {
    "duration": 127,
    "start_time": "2022-12-04T06:42:19.488Z"
   },
   {
    "duration": 152,
    "start_time": "2022-12-04T06:42:19.617Z"
   },
   {
    "duration": 139,
    "start_time": "2022-12-04T06:42:19.772Z"
   },
   {
    "duration": 212,
    "start_time": "2022-12-04T06:42:19.913Z"
   },
   {
    "duration": 5,
    "start_time": "2022-12-04T06:42:20.127Z"
   },
   {
    "duration": 28,
    "start_time": "2022-12-04T06:42:20.133Z"
   },
   {
    "duration": 11,
    "start_time": "2022-12-04T06:42:20.163Z"
   },
   {
    "duration": 10,
    "start_time": "2022-12-04T06:42:20.176Z"
   },
   {
    "duration": 14,
    "start_time": "2022-12-04T06:42:20.188Z"
   },
   {
    "duration": 8,
    "start_time": "2022-12-04T06:42:20.205Z"
   },
   {
    "duration": 8,
    "start_time": "2022-12-04T06:42:20.215Z"
   },
   {
    "duration": 5,
    "start_time": "2022-12-04T06:42:50.587Z"
   },
   {
    "duration": 41,
    "start_time": "2022-12-04T06:42:53.899Z"
   },
   {
    "duration": 159,
    "start_time": "2022-12-04T06:43:01.409Z"
   },
   {
    "duration": 4,
    "start_time": "2022-12-04T06:43:14.280Z"
   },
   {
    "duration": 154,
    "start_time": "2022-12-04T06:43:25.885Z"
   },
   {
    "duration": 6,
    "start_time": "2022-12-04T06:43:35.753Z"
   },
   {
    "duration": 210,
    "start_time": "2022-12-04T06:43:49.608Z"
   },
   {
    "duration": 6,
    "start_time": "2022-12-04T06:43:59.835Z"
   },
   {
    "duration": 130,
    "start_time": "2022-12-04T06:44:12.689Z"
   },
   {
    "duration": 5,
    "start_time": "2022-12-04T06:44:22.523Z"
   },
   {
    "duration": 164,
    "start_time": "2022-12-04T06:45:13.156Z"
   },
   {
    "duration": 5,
    "start_time": "2022-12-04T06:45:16.072Z"
   },
   {
    "duration": 190,
    "start_time": "2022-12-04T06:45:35.113Z"
   },
   {
    "duration": 182,
    "start_time": "2022-12-04T06:45:51.648Z"
   },
   {
    "duration": 150,
    "start_time": "2022-12-04T06:46:06.754Z"
   },
   {
    "duration": 187,
    "start_time": "2022-12-04T06:46:20.516Z"
   },
   {
    "duration": 162,
    "start_time": "2022-12-04T06:46:32.873Z"
   },
   {
    "duration": 161,
    "start_time": "2022-12-04T06:46:47.490Z"
   },
   {
    "duration": 163,
    "start_time": "2022-12-04T06:46:59.088Z"
   },
   {
    "duration": 146,
    "start_time": "2022-12-04T06:47:11.678Z"
   },
   {
    "duration": 232,
    "start_time": "2022-12-04T06:48:30.235Z"
   },
   {
    "duration": 145,
    "start_time": "2022-12-04T06:49:38.486Z"
   },
   {
    "duration": 4,
    "start_time": "2022-12-04T06:49:45.576Z"
   },
   {
    "duration": 151,
    "start_time": "2022-12-04T06:50:06.551Z"
   },
   {
    "duration": 146,
    "start_time": "2022-12-04T06:50:18.626Z"
   },
   {
    "duration": 5,
    "start_time": "2022-12-04T06:50:19.747Z"
   },
   {
    "duration": 158,
    "start_time": "2022-12-04T06:50:26.183Z"
   },
   {
    "duration": 146,
    "start_time": "2022-12-04T06:50:32.238Z"
   },
   {
    "duration": 5,
    "start_time": "2022-12-04T06:50:38.973Z"
   },
   {
    "duration": 4,
    "start_time": "2022-12-04T06:51:09.531Z"
   },
   {
    "duration": 4,
    "start_time": "2022-12-04T06:51:14.673Z"
   },
   {
    "duration": 4,
    "start_time": "2022-12-04T06:51:22.308Z"
   },
   {
    "duration": 194,
    "start_time": "2022-12-04T06:53:06.093Z"
   },
   {
    "duration": 187,
    "start_time": "2022-12-04T06:53:44.276Z"
   },
   {
    "duration": 168,
    "start_time": "2022-12-04T06:53:56.557Z"
   },
   {
    "duration": 4,
    "start_time": "2022-12-04T06:54:09.220Z"
   },
   {
    "duration": 55,
    "start_time": "2022-12-04T06:54:09.227Z"
   },
   {
    "duration": 16,
    "start_time": "2022-12-04T06:54:09.285Z"
   },
   {
    "duration": 15,
    "start_time": "2022-12-04T06:54:09.303Z"
   },
   {
    "duration": 4,
    "start_time": "2022-12-04T06:54:09.321Z"
   },
   {
    "duration": 38,
    "start_time": "2022-12-04T06:54:09.326Z"
   },
   {
    "duration": 18,
    "start_time": "2022-12-04T06:54:09.365Z"
   },
   {
    "duration": 17,
    "start_time": "2022-12-04T06:54:09.384Z"
   },
   {
    "duration": 22,
    "start_time": "2022-12-04T06:54:09.402Z"
   },
   {
    "duration": 10,
    "start_time": "2022-12-04T06:54:09.426Z"
   },
   {
    "duration": 16,
    "start_time": "2022-12-04T06:54:09.438Z"
   },
   {
    "duration": 11,
    "start_time": "2022-12-04T06:54:09.456Z"
   },
   {
    "duration": 18,
    "start_time": "2022-12-04T06:54:09.469Z"
   },
   {
    "duration": 6,
    "start_time": "2022-12-04T06:54:09.488Z"
   },
   {
    "duration": 9,
    "start_time": "2022-12-04T06:54:09.495Z"
   },
   {
    "duration": 7,
    "start_time": "2022-12-04T06:54:09.506Z"
   },
   {
    "duration": 13,
    "start_time": "2022-12-04T06:54:09.515Z"
   },
   {
    "duration": 7,
    "start_time": "2022-12-04T06:54:09.550Z"
   },
   {
    "duration": 10,
    "start_time": "2022-12-04T06:54:09.558Z"
   },
   {
    "duration": 126,
    "start_time": "2022-12-04T06:54:09.570Z"
   },
   {
    "duration": 313,
    "start_time": "2022-12-04T06:54:09.698Z"
   },
   {
    "duration": 247,
    "start_time": "2022-12-04T06:54:10.012Z"
   },
   {
    "duration": 391,
    "start_time": "2022-12-04T06:54:10.261Z"
   },
   {
    "duration": 213,
    "start_time": "2022-12-04T06:54:10.654Z"
   },
   {
    "duration": 175,
    "start_time": "2022-12-04T06:54:10.870Z"
   },
   {
    "duration": 257,
    "start_time": "2022-12-04T06:54:11.046Z"
   },
   {
    "duration": 257,
    "start_time": "2022-12-04T06:54:11.304Z"
   },
   {
    "duration": 259,
    "start_time": "2022-12-04T06:54:11.564Z"
   },
   {
    "duration": 4,
    "start_time": "2022-12-04T06:54:11.825Z"
   },
   {
    "duration": 173,
    "start_time": "2022-12-04T06:54:11.830Z"
   },
   {
    "duration": 4,
    "start_time": "2022-12-04T06:54:12.005Z"
   },
   {
    "duration": 177,
    "start_time": "2022-12-04T06:54:12.011Z"
   },
   {
    "duration": 5,
    "start_time": "2022-12-04T06:54:12.189Z"
   },
   {
    "duration": 260,
    "start_time": "2022-12-04T06:54:12.196Z"
   },
   {
    "duration": 6,
    "start_time": "2022-12-04T06:54:12.458Z"
   },
   {
    "duration": 162,
    "start_time": "2022-12-04T06:54:12.465Z"
   },
   {
    "duration": 5,
    "start_time": "2022-12-04T06:54:12.628Z"
   },
   {
    "duration": 158,
    "start_time": "2022-12-04T06:54:12.635Z"
   },
   {
    "duration": 5,
    "start_time": "2022-12-04T06:54:12.795Z"
   },
   {
    "duration": 167,
    "start_time": "2022-12-04T06:54:12.801Z"
   },
   {
    "duration": 5,
    "start_time": "2022-12-04T06:54:12.969Z"
   },
   {
    "duration": 175,
    "start_time": "2022-12-04T06:54:12.976Z"
   },
   {
    "duration": 166,
    "start_time": "2022-12-04T06:54:13.153Z"
   },
   {
    "duration": 151,
    "start_time": "2022-12-04T06:54:13.321Z"
   },
   {
    "duration": 176,
    "start_time": "2022-12-04T06:54:13.475Z"
   },
   {
    "duration": 180,
    "start_time": "2022-12-04T06:54:13.653Z"
   },
   {
    "duration": 175,
    "start_time": "2022-12-04T06:54:13.835Z"
   },
   {
    "duration": 183,
    "start_time": "2022-12-04T06:54:14.012Z"
   },
   {
    "duration": 160,
    "start_time": "2022-12-04T06:54:14.197Z"
   },
   {
    "duration": 194,
    "start_time": "2022-12-04T06:54:14.359Z"
   },
   {
    "duration": 9,
    "start_time": "2022-12-04T06:54:14.554Z"
   },
   {
    "duration": 418,
    "start_time": "2022-12-04T06:54:14.564Z"
   },
   {
    "duration": 303,
    "start_time": "2022-12-04T06:54:14.983Z"
   },
   {
    "duration": 115,
    "start_time": "2022-12-04T06:54:15.287Z"
   },
   {
    "duration": 119,
    "start_time": "2022-12-04T06:54:15.404Z"
   },
   {
    "duration": 115,
    "start_time": "2022-12-04T06:54:15.524Z"
   },
   {
    "duration": 128,
    "start_time": "2022-12-04T06:54:15.651Z"
   },
   {
    "duration": 126,
    "start_time": "2022-12-04T06:54:15.781Z"
   },
   {
    "duration": 119,
    "start_time": "2022-12-04T06:54:15.909Z"
   },
   {
    "duration": 115,
    "start_time": "2022-12-04T06:54:16.029Z"
   },
   {
    "duration": 318,
    "start_time": "2022-12-04T06:54:16.150Z"
   },
   {
    "duration": 121,
    "start_time": "2022-12-04T06:54:16.469Z"
   },
   {
    "duration": 232,
    "start_time": "2022-12-04T06:54:16.592Z"
   },
   {
    "duration": 121,
    "start_time": "2022-12-04T06:54:16.825Z"
   },
   {
    "duration": 114,
    "start_time": "2022-12-04T06:54:16.948Z"
   },
   {
    "duration": 128,
    "start_time": "2022-12-04T06:54:17.064Z"
   },
   {
    "duration": 6,
    "start_time": "2022-12-04T06:54:17.193Z"
   },
   {
    "duration": 15,
    "start_time": "2022-12-04T06:54:17.200Z"
   },
   {
    "duration": 7,
    "start_time": "2022-12-04T06:54:17.216Z"
   },
   {
    "duration": 27,
    "start_time": "2022-12-04T06:54:17.224Z"
   },
   {
    "duration": 10,
    "start_time": "2022-12-04T06:54:17.252Z"
   },
   {
    "duration": 6,
    "start_time": "2022-12-04T06:54:17.264Z"
   },
   {
    "duration": 7,
    "start_time": "2022-12-04T06:54:17.272Z"
   },
   {
    "duration": 182,
    "start_time": "2022-12-04T06:55:21.347Z"
   },
   {
    "duration": 214,
    "start_time": "2022-12-04T06:56:19.061Z"
   },
   {
    "duration": 175,
    "start_time": "2022-12-04T06:56:54.930Z"
   },
   {
    "duration": 182,
    "start_time": "2022-12-04T06:58:46.193Z"
   },
   {
    "duration": 139,
    "start_time": "2022-12-04T06:59:03.261Z"
   },
   {
    "duration": 160,
    "start_time": "2022-12-04T06:59:11.774Z"
   },
   {
    "duration": 150,
    "start_time": "2022-12-04T06:59:34.695Z"
   },
   {
    "duration": 164,
    "start_time": "2022-12-04T07:00:34.046Z"
   },
   {
    "duration": 158,
    "start_time": "2022-12-04T07:01:21.435Z"
   },
   {
    "duration": 1092,
    "start_time": "2022-12-04T23:30:39.127Z"
   },
   {
    "duration": 52,
    "start_time": "2022-12-04T23:30:40.221Z"
   },
   {
    "duration": 18,
    "start_time": "2022-12-04T23:30:40.274Z"
   },
   {
    "duration": 15,
    "start_time": "2022-12-04T23:30:40.294Z"
   },
   {
    "duration": 3,
    "start_time": "2022-12-04T23:30:40.311Z"
   },
   {
    "duration": 18,
    "start_time": "2022-12-04T23:30:40.316Z"
   },
   {
    "duration": 20,
    "start_time": "2022-12-04T23:30:40.337Z"
   },
   {
    "duration": 12,
    "start_time": "2022-12-04T23:30:40.359Z"
   },
   {
    "duration": 16,
    "start_time": "2022-12-04T23:30:40.373Z"
   },
   {
    "duration": 11,
    "start_time": "2022-12-04T23:30:40.390Z"
   },
   {
    "duration": 4,
    "start_time": "2022-12-04T23:30:40.403Z"
   },
   {
    "duration": 8,
    "start_time": "2022-12-04T23:30:40.409Z"
   },
   {
    "duration": 37,
    "start_time": "2022-12-04T23:30:40.418Z"
   },
   {
    "duration": 5,
    "start_time": "2022-12-04T23:30:40.458Z"
   },
   {
    "duration": 12,
    "start_time": "2022-12-04T23:30:40.464Z"
   },
   {
    "duration": 7,
    "start_time": "2022-12-04T23:30:40.478Z"
   },
   {
    "duration": 8,
    "start_time": "2022-12-04T23:30:40.486Z"
   },
   {
    "duration": 8,
    "start_time": "2022-12-04T23:30:40.495Z"
   },
   {
    "duration": 10,
    "start_time": "2022-12-04T23:30:40.505Z"
   },
   {
    "duration": 90,
    "start_time": "2022-12-04T23:30:40.516Z"
   },
   {
    "duration": 242,
    "start_time": "2022-12-04T23:30:40.607Z"
   },
   {
    "duration": 240,
    "start_time": "2022-12-04T23:30:40.850Z"
   },
   {
    "duration": 289,
    "start_time": "2022-12-04T23:30:41.091Z"
   },
   {
    "duration": 196,
    "start_time": "2022-12-04T23:30:41.382Z"
   },
   {
    "duration": 177,
    "start_time": "2022-12-04T23:30:41.580Z"
   },
   {
    "duration": 277,
    "start_time": "2022-12-04T23:30:41.758Z"
   },
   {
    "duration": 259,
    "start_time": "2022-12-04T23:30:42.037Z"
   },
   {
    "duration": 343,
    "start_time": "2022-12-04T23:30:42.298Z"
   },
   {
    "duration": 5,
    "start_time": "2022-12-04T23:30:42.642Z"
   },
   {
    "duration": 154,
    "start_time": "2022-12-04T23:30:42.655Z"
   },
   {
    "duration": 4,
    "start_time": "2022-12-04T23:30:42.811Z"
   },
   {
    "duration": 167,
    "start_time": "2022-12-04T23:30:42.817Z"
   },
   {
    "duration": 5,
    "start_time": "2022-12-04T23:30:42.986Z"
   },
   {
    "duration": 162,
    "start_time": "2022-12-04T23:30:42.993Z"
   },
   {
    "duration": 5,
    "start_time": "2022-12-04T23:30:43.157Z"
   },
   {
    "duration": 154,
    "start_time": "2022-12-04T23:30:43.164Z"
   },
   {
    "duration": 5,
    "start_time": "2022-12-04T23:30:43.320Z"
   },
   {
    "duration": 160,
    "start_time": "2022-12-04T23:30:43.327Z"
   },
   {
    "duration": 4,
    "start_time": "2022-12-04T23:30:43.489Z"
   },
   {
    "duration": 171,
    "start_time": "2022-12-04T23:30:43.495Z"
   },
   {
    "duration": 6,
    "start_time": "2022-12-04T23:30:43.671Z"
   },
   {
    "duration": 179,
    "start_time": "2022-12-04T23:30:43.679Z"
   },
   {
    "duration": 161,
    "start_time": "2022-12-04T23:30:43.860Z"
   },
   {
    "duration": 162,
    "start_time": "2022-12-04T23:30:44.023Z"
   },
   {
    "duration": 257,
    "start_time": "2022-12-04T23:30:44.187Z"
   },
   {
    "duration": 163,
    "start_time": "2022-12-04T23:30:44.446Z"
   },
   {
    "duration": 152,
    "start_time": "2022-12-04T23:30:44.610Z"
   },
   {
    "duration": 163,
    "start_time": "2022-12-04T23:30:44.763Z"
   },
   {
    "duration": 157,
    "start_time": "2022-12-04T23:30:44.928Z"
   },
   {
    "duration": 186,
    "start_time": "2022-12-04T23:30:45.087Z"
   },
   {
    "duration": 9,
    "start_time": "2022-12-04T23:30:45.274Z"
   },
   {
    "duration": 278,
    "start_time": "2022-12-04T23:30:45.284Z"
   },
   {
    "duration": 294,
    "start_time": "2022-12-04T23:30:45.564Z"
   },
   {
    "duration": 119,
    "start_time": "2022-12-04T23:30:45.860Z"
   },
   {
    "duration": 196,
    "start_time": "2022-12-04T23:30:45.980Z"
   },
   {
    "duration": 105,
    "start_time": "2022-12-04T23:30:46.178Z"
   },
   {
    "duration": 119,
    "start_time": "2022-12-04T23:30:46.285Z"
   },
   {
    "duration": 120,
    "start_time": "2022-12-04T23:30:46.406Z"
   },
   {
    "duration": 112,
    "start_time": "2022-12-04T23:30:46.528Z"
   },
   {
    "duration": 114,
    "start_time": "2022-12-04T23:30:46.642Z"
   },
   {
    "duration": 297,
    "start_time": "2022-12-04T23:30:46.758Z"
   },
   {
    "duration": 105,
    "start_time": "2022-12-04T23:30:47.057Z"
   },
   {
    "duration": 124,
    "start_time": "2022-12-04T23:30:47.164Z"
   },
   {
    "duration": 114,
    "start_time": "2022-12-04T23:30:47.289Z"
   },
   {
    "duration": 116,
    "start_time": "2022-12-04T23:30:47.405Z"
   },
   {
    "duration": 200,
    "start_time": "2022-12-04T23:30:47.524Z"
   },
   {
    "duration": 6,
    "start_time": "2022-12-04T23:30:47.726Z"
   },
   {
    "duration": 24,
    "start_time": "2022-12-04T23:30:47.734Z"
   },
   {
    "duration": 13,
    "start_time": "2022-12-04T23:30:47.760Z"
   },
   {
    "duration": 7,
    "start_time": "2022-12-04T23:30:47.775Z"
   },
   {
    "duration": 15,
    "start_time": "2022-12-04T23:30:47.784Z"
   },
   {
    "duration": 6,
    "start_time": "2022-12-04T23:30:47.800Z"
   },
   {
    "duration": 7,
    "start_time": "2022-12-04T23:30:47.808Z"
   },
   {
    "duration": 2303,
    "start_time": "2022-12-04T23:35:59.611Z"
   },
   {
    "duration": 52,
    "start_time": "2022-12-05T12:27:21.978Z"
   },
   {
    "duration": 1508,
    "start_time": "2022-12-05T12:27:25.115Z"
   },
   {
    "duration": 252,
    "start_time": "2022-12-05T12:27:26.625Z"
   },
   {
    "duration": 29,
    "start_time": "2022-12-05T12:27:26.880Z"
   },
   {
    "duration": 16,
    "start_time": "2022-12-05T12:27:26.912Z"
   },
   {
    "duration": 4,
    "start_time": "2022-12-05T12:27:26.929Z"
   },
   {
    "duration": 25,
    "start_time": "2022-12-05T12:27:26.935Z"
   },
   {
    "duration": 32,
    "start_time": "2022-12-05T12:27:26.962Z"
   },
   {
    "duration": 12,
    "start_time": "2022-12-05T12:27:26.996Z"
   },
   {
    "duration": 17,
    "start_time": "2022-12-05T12:27:27.010Z"
   },
   {
    "duration": 12,
    "start_time": "2022-12-05T12:27:27.030Z"
   },
   {
    "duration": 12,
    "start_time": "2022-12-05T12:27:27.044Z"
   },
   {
    "duration": 31,
    "start_time": "2022-12-05T12:27:27.059Z"
   },
   {
    "duration": 18,
    "start_time": "2022-12-05T12:27:27.093Z"
   },
   {
    "duration": 5,
    "start_time": "2022-12-05T12:27:27.113Z"
   },
   {
    "duration": 10,
    "start_time": "2022-12-05T12:27:27.120Z"
   },
   {
    "duration": 11,
    "start_time": "2022-12-05T12:27:27.132Z"
   },
   {
    "duration": 14,
    "start_time": "2022-12-05T12:27:27.145Z"
   },
   {
    "duration": 29,
    "start_time": "2022-12-05T12:27:27.162Z"
   },
   {
    "duration": 10,
    "start_time": "2022-12-05T12:27:27.193Z"
   },
   {
    "duration": 100,
    "start_time": "2022-12-05T12:27:27.204Z"
   },
   {
    "duration": 330,
    "start_time": "2022-12-05T12:27:27.305Z"
   },
   {
    "duration": 292,
    "start_time": "2022-12-05T12:27:27.637Z"
   },
   {
    "duration": 377,
    "start_time": "2022-12-05T12:27:27.931Z"
   },
   {
    "duration": 262,
    "start_time": "2022-12-05T12:27:28.310Z"
   },
   {
    "duration": 226,
    "start_time": "2022-12-05T12:27:28.573Z"
   },
   {
    "duration": 317,
    "start_time": "2022-12-05T12:27:28.801Z"
   },
   {
    "duration": 319,
    "start_time": "2022-12-05T12:27:29.120Z"
   },
   {
    "duration": 474,
    "start_time": "2022-12-05T12:27:29.444Z"
   },
   {
    "duration": 5,
    "start_time": "2022-12-05T12:27:29.920Z"
   },
   {
    "duration": 296,
    "start_time": "2022-12-05T12:27:29.928Z"
   },
   {
    "duration": 6,
    "start_time": "2022-12-05T12:27:30.227Z"
   },
   {
    "duration": 260,
    "start_time": "2022-12-05T12:27:30.236Z"
   },
   {
    "duration": 5,
    "start_time": "2022-12-05T12:27:30.498Z"
   },
   {
    "duration": 213,
    "start_time": "2022-12-05T12:27:30.505Z"
   },
   {
    "duration": 7,
    "start_time": "2022-12-05T12:27:30.721Z"
   },
   {
    "duration": 195,
    "start_time": "2022-12-05T12:27:30.730Z"
   },
   {
    "duration": 6,
    "start_time": "2022-12-05T12:27:30.927Z"
   },
   {
    "duration": 240,
    "start_time": "2022-12-05T12:27:30.934Z"
   },
   {
    "duration": 5,
    "start_time": "2022-12-05T12:27:31.185Z"
   },
   {
    "duration": 213,
    "start_time": "2022-12-05T12:27:31.192Z"
   },
   {
    "duration": 5,
    "start_time": "2022-12-05T12:27:31.407Z"
   },
   {
    "duration": 207,
    "start_time": "2022-12-05T12:27:31.415Z"
   },
   {
    "duration": 216,
    "start_time": "2022-12-05T12:27:31.624Z"
   },
   {
    "duration": 178,
    "start_time": "2022-12-05T12:27:31.841Z"
   },
   {
    "duration": 308,
    "start_time": "2022-12-05T12:27:32.021Z"
   },
   {
    "duration": 209,
    "start_time": "2022-12-05T12:27:32.332Z"
   },
   {
    "duration": 192,
    "start_time": "2022-12-05T12:27:32.543Z"
   },
   {
    "duration": 201,
    "start_time": "2022-12-05T12:27:32.737Z"
   },
   {
    "duration": 193,
    "start_time": "2022-12-05T12:27:32.940Z"
   },
   {
    "duration": 2933,
    "start_time": "2022-12-05T12:27:33.135Z"
   },
   {
    "duration": 246,
    "start_time": "2022-12-05T12:27:36.071Z"
   },
   {
    "duration": 10,
    "start_time": "2022-12-05T12:27:36.319Z"
   },
   {
    "duration": 365,
    "start_time": "2022-12-05T12:27:36.331Z"
   },
   {
    "duration": 487,
    "start_time": "2022-12-05T12:27:36.697Z"
   },
   {
    "duration": 123,
    "start_time": "2022-12-05T12:27:37.186Z"
   },
   {
    "duration": 136,
    "start_time": "2022-12-05T12:27:37.310Z"
   },
   {
    "duration": 132,
    "start_time": "2022-12-05T12:27:37.451Z"
   },
   {
    "duration": 141,
    "start_time": "2022-12-05T12:27:37.585Z"
   },
   {
    "duration": 133,
    "start_time": "2022-12-05T12:27:37.727Z"
   },
   {
    "duration": 153,
    "start_time": "2022-12-05T12:27:37.863Z"
   },
   {
    "duration": 140,
    "start_time": "2022-12-05T12:27:38.017Z"
   },
   {
    "duration": 391,
    "start_time": "2022-12-05T12:27:38.160Z"
   },
   {
    "duration": 255,
    "start_time": "2022-12-05T12:27:38.553Z"
   },
   {
    "duration": 128,
    "start_time": "2022-12-05T12:27:38.810Z"
   },
   {
    "duration": 135,
    "start_time": "2022-12-05T12:27:38.940Z"
   },
   {
    "duration": 164,
    "start_time": "2022-12-05T12:27:39.078Z"
   },
   {
    "duration": 152,
    "start_time": "2022-12-05T12:27:39.243Z"
   },
   {
    "duration": 5,
    "start_time": "2022-12-05T12:27:39.397Z"
   },
   {
    "duration": 19,
    "start_time": "2022-12-05T12:27:39.404Z"
   },
   {
    "duration": 9,
    "start_time": "2022-12-05T12:27:39.425Z"
   },
   {
    "duration": 23,
    "start_time": "2022-12-05T12:27:39.436Z"
   },
   {
    "duration": 32,
    "start_time": "2022-12-05T12:27:39.461Z"
   },
   {
    "duration": 14,
    "start_time": "2022-12-05T12:27:39.495Z"
   },
   {
    "duration": 7,
    "start_time": "2022-12-05T12:27:39.511Z"
   },
   {
    "duration": 323,
    "start_time": "2022-12-05T12:28:13.278Z"
   },
   {
    "duration": 62,
    "start_time": "2023-02-17T17:14:36.267Z"
   },
   {
    "duration": 1456,
    "start_time": "2023-02-17T17:14:40.164Z"
   },
   {
    "duration": 221,
    "start_time": "2023-02-17T17:14:41.622Z"
   },
   {
    "duration": 26,
    "start_time": "2023-02-17T17:14:41.845Z"
   },
   {
    "duration": 23,
    "start_time": "2023-02-17T17:14:41.879Z"
   },
   {
    "duration": 4,
    "start_time": "2023-02-17T17:14:41.904Z"
   },
   {
    "duration": 38,
    "start_time": "2023-02-17T17:14:41.910Z"
   },
   {
    "duration": 11,
    "start_time": "2023-02-17T17:14:41.950Z"
   },
   {
    "duration": 43,
    "start_time": "2023-02-17T17:14:41.963Z"
   },
   {
    "duration": 35,
    "start_time": "2023-02-17T17:14:42.009Z"
   },
   {
    "duration": 12,
    "start_time": "2023-02-17T17:14:42.047Z"
   },
   {
    "duration": 29,
    "start_time": "2023-02-17T17:14:42.061Z"
   },
   {
    "duration": 18,
    "start_time": "2023-02-17T17:14:42.092Z"
   },
   {
    "duration": 33,
    "start_time": "2023-02-17T17:14:42.112Z"
   },
   {
    "duration": 10,
    "start_time": "2023-02-17T17:14:42.147Z"
   },
   {
    "duration": 38,
    "start_time": "2023-02-17T17:14:42.158Z"
   },
   {
    "duration": 17,
    "start_time": "2023-02-17T17:14:42.198Z"
   },
   {
    "duration": 18,
    "start_time": "2023-02-17T17:14:42.217Z"
   },
   {
    "duration": 9,
    "start_time": "2023-02-17T17:14:42.237Z"
   },
   {
    "duration": 22,
    "start_time": "2023-02-17T17:14:42.249Z"
   },
   {
    "duration": 136,
    "start_time": "2023-02-17T17:14:42.273Z"
   },
   {
    "duration": 252,
    "start_time": "2023-02-17T17:14:42.411Z"
   },
   {
    "duration": 349,
    "start_time": "2023-02-17T17:14:42.666Z"
   },
   {
    "duration": 357,
    "start_time": "2023-02-17T17:14:43.017Z"
   },
   {
    "duration": 246,
    "start_time": "2023-02-17T17:14:43.380Z"
   },
   {
    "duration": 212,
    "start_time": "2023-02-17T17:14:43.628Z"
   },
   {
    "duration": 275,
    "start_time": "2023-02-17T17:14:43.843Z"
   },
   {
    "duration": 330,
    "start_time": "2023-02-17T17:14:44.121Z"
   },
   {
    "duration": 283,
    "start_time": "2023-02-17T17:14:44.455Z"
   },
   {
    "duration": 5,
    "start_time": "2023-02-17T17:14:44.740Z"
   },
   {
    "duration": 228,
    "start_time": "2023-02-17T17:14:44.747Z"
   },
   {
    "duration": 8,
    "start_time": "2023-02-17T17:14:44.983Z"
   },
   {
    "duration": 217,
    "start_time": "2023-02-17T17:14:44.994Z"
   },
   {
    "duration": 7,
    "start_time": "2023-02-17T17:14:45.213Z"
   },
   {
    "duration": 240,
    "start_time": "2023-02-17T17:14:45.221Z"
   },
   {
    "duration": 8,
    "start_time": "2023-02-17T17:14:45.463Z"
   },
   {
    "duration": 241,
    "start_time": "2023-02-17T17:14:45.473Z"
   },
   {
    "duration": 5,
    "start_time": "2023-02-17T17:14:45.716Z"
   },
   {
    "duration": 186,
    "start_time": "2023-02-17T17:14:45.722Z"
   },
   {
    "duration": 7,
    "start_time": "2023-02-17T17:14:45.910Z"
   },
   {
    "duration": 175,
    "start_time": "2023-02-17T17:14:45.919Z"
   },
   {
    "duration": 5,
    "start_time": "2023-02-17T17:14:46.096Z"
   },
   {
    "duration": 185,
    "start_time": "2023-02-17T17:14:46.103Z"
   },
   {
    "duration": 162,
    "start_time": "2023-02-17T17:14:46.289Z"
   },
   {
    "duration": 155,
    "start_time": "2023-02-17T17:14:46.453Z"
   },
   {
    "duration": 277,
    "start_time": "2023-02-17T17:14:46.610Z"
   },
   {
    "duration": 220,
    "start_time": "2023-02-17T17:14:46.889Z"
   },
   {
    "duration": 174,
    "start_time": "2023-02-17T17:14:47.112Z"
   },
   {
    "duration": 157,
    "start_time": "2023-02-17T17:14:47.288Z"
   },
   {
    "duration": 177,
    "start_time": "2023-02-17T17:14:47.447Z"
   },
   {
    "duration": 2868,
    "start_time": "2023-02-17T17:14:47.625Z"
   },
   {
    "duration": 205,
    "start_time": "2023-02-17T17:14:50.496Z"
   },
   {
    "duration": 8,
    "start_time": "2023-02-17T17:14:50.704Z"
   },
   {
    "duration": 343,
    "start_time": "2023-02-17T17:14:50.714Z"
   },
   {
    "duration": 436,
    "start_time": "2023-02-17T17:14:51.059Z"
   },
   {
    "duration": 161,
    "start_time": "2023-02-17T17:14:51.497Z"
   },
   {
    "duration": 125,
    "start_time": "2023-02-17T17:14:51.661Z"
   },
   {
    "duration": 108,
    "start_time": "2023-02-17T17:14:51.788Z"
   },
   {
    "duration": 161,
    "start_time": "2023-02-17T17:14:51.898Z"
   },
   {
    "duration": 121,
    "start_time": "2023-02-17T17:14:52.062Z"
   },
   {
    "duration": 138,
    "start_time": "2023-02-17T17:14:52.185Z"
   },
   {
    "duration": 126,
    "start_time": "2023-02-17T17:14:52.325Z"
   },
   {
    "duration": 320,
    "start_time": "2023-02-17T17:14:52.453Z"
   },
   {
    "duration": 215,
    "start_time": "2023-02-17T17:14:52.777Z"
   },
   {
    "duration": 166,
    "start_time": "2023-02-17T17:14:52.994Z"
   },
   {
    "duration": 147,
    "start_time": "2023-02-17T17:14:53.167Z"
   },
   {
    "duration": 170,
    "start_time": "2023-02-17T17:14:53.316Z"
   },
   {
    "duration": 155,
    "start_time": "2023-02-17T17:14:53.492Z"
   },
   {
    "duration": 8,
    "start_time": "2023-02-17T17:14:53.651Z"
   },
   {
    "duration": 36,
    "start_time": "2023-02-17T17:14:53.671Z"
   },
   {
    "duration": 20,
    "start_time": "2023-02-17T17:14:53.709Z"
   },
   {
    "duration": 40,
    "start_time": "2023-02-17T17:14:53.731Z"
   },
   {
    "duration": 45,
    "start_time": "2023-02-17T17:14:53.773Z"
   },
   {
    "duration": 25,
    "start_time": "2023-02-17T17:14:53.820Z"
   },
   {
    "duration": 21,
    "start_time": "2023-02-17T17:14:53.847Z"
   }
  ],
  "kernelspec": {
   "display_name": "Python 3 (ipykernel)",
   "language": "python",
   "name": "python3"
  },
  "language_info": {
   "codemirror_mode": {
    "name": "ipython",
    "version": 3
   },
   "file_extension": ".py",
   "mimetype": "text/x-python",
   "name": "python",
   "nbconvert_exporter": "python",
   "pygments_lexer": "ipython3",
   "version": "3.9.5"
  },
  "toc": {
   "base_numbering": 1,
   "nav_menu": {},
   "number_sections": true,
   "sideBar": true,
   "skip_h1_title": true,
   "title_cell": "Table of Contents",
   "title_sidebar": "Contents",
   "toc_cell": false,
   "toc_position": {
    "height": "calc(100% - 180px)",
    "left": "10px",
    "top": "150px",
    "width": "166.682px"
   },
   "toc_section_display": true,
   "toc_window_display": true
  }
 },
 "nbformat": 4,
 "nbformat_minor": 2
}
