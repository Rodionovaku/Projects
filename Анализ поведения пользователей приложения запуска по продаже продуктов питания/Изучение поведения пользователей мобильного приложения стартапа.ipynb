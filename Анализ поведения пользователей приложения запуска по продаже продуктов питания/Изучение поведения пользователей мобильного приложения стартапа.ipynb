{
 "cells": [
  {
   "cell_type": "markdown",
   "metadata": {},
   "source": [
    "# Изучение поведения пользователей мобильного приложения стартапа по продаже продуктов питания"
   ]
  },
  {
   "cell_type": "markdown",
   "metadata": {},
   "source": [
    "**Цель:** изучить воронку продаж, узнать как пользователи доходят до покупки и проанализировать результаты A/A/B эксперимента по изменению шрифтов в приложении"
   ]
  },
  {
   "cell_type": "markdown",
   "metadata": {},
   "source": [
    "**План исследования**\n",
    "1. Подготовка данных к анализу\n",
    "2. Изучение и проверка данных\n",
    "- Сколько всего событий в логе\n",
    "- Сколько всего пользователей в логе\n",
    "- Сколько в среднем событий приходится на пользователя\n",
    "- Определить период, за который имеются полные даннные\n",
    "3. Изучение воронки событий\n",
    "- какие события есть в логах, как часто они встречаются\n",
    "- сколько пользователей совершали каждое из этих событий; доля пользователей, которые хоть раз совершали событие\n",
    "- определение порядка событий\n",
    "- определить на каком шаге теряете больше всего пользователей\n",
    "- доля пользователей доходит от первого события до оплаты\n",
    "4. Изучить результаты эксперимента\n",
    "- Сколько пользователей в каждой экспериментальной группе\n",
    "- Проверить, находят ли статистические критерии разницу между выборками 246 и 247\n",
    "- Выбрать самое популярное событие, число пользователей, совершивших это событие и долю пользователей, совершивших это событие\n",
    "- Сравнить результаты с каждой из контрольных групп в отдельности по каждому событию, а также с объединённой контрольной группой"
   ]
  },
  {
   "cell_type": "markdown",
   "metadata": {},
   "source": [
    "**Описание данных**\n",
    "\n",
    "**EventName** — название события;\n",
    "\n",
    "**DeviceIDHash** — уникальный идентификатор пользователя;\n",
    "\n",
    "**EventTimestamp** — время события;\n",
    "\n",
    "**ExpId** — номер эксперимента\n"
   ]
  },
  {
   "cell_type": "code",
   "execution_count": 43,
   "metadata": {},
   "outputs": [],
   "source": [
    "import pandas as pd\n",
    "import matplotlib.pyplot as plt\n",
    "from plotly import graph_objects as go\n",
    "import numpy as np\n",
    "from scipy import stats as st\n",
    "import math as mth\n"
   ]
  },
  {
   "cell_type": "code",
   "execution_count": 44,
   "metadata": {},
   "outputs": [],
   "source": [
    "data = pd.read_csv('/datasets/logs_exp.csv', sep='\\t')"
   ]
  },
  {
   "cell_type": "code",
   "execution_count": 45,
   "metadata": {},
   "outputs": [
    {
     "data": {
      "text/html": [
       "<div>\n",
       "<style scoped>\n",
       "    .dataframe tbody tr th:only-of-type {\n",
       "        vertical-align: middle;\n",
       "    }\n",
       "\n",
       "    .dataframe tbody tr th {\n",
       "        vertical-align: top;\n",
       "    }\n",
       "\n",
       "    .dataframe thead th {\n",
       "        text-align: right;\n",
       "    }\n",
       "</style>\n",
       "<table border=\"1\" class=\"dataframe\">\n",
       "  <thead>\n",
       "    <tr style=\"text-align: right;\">\n",
       "      <th></th>\n",
       "      <th>EventName</th>\n",
       "      <th>DeviceIDHash</th>\n",
       "      <th>EventTimestamp</th>\n",
       "      <th>ExpId</th>\n",
       "    </tr>\n",
       "  </thead>\n",
       "  <tbody>\n",
       "    <tr>\n",
       "      <th>0</th>\n",
       "      <td>MainScreenAppear</td>\n",
       "      <td>4575588528974610257</td>\n",
       "      <td>1564029816</td>\n",
       "      <td>246</td>\n",
       "    </tr>\n",
       "    <tr>\n",
       "      <th>1</th>\n",
       "      <td>MainScreenAppear</td>\n",
       "      <td>7416695313311560658</td>\n",
       "      <td>1564053102</td>\n",
       "      <td>246</td>\n",
       "    </tr>\n",
       "    <tr>\n",
       "      <th>2</th>\n",
       "      <td>PaymentScreenSuccessful</td>\n",
       "      <td>3518123091307005509</td>\n",
       "      <td>1564054127</td>\n",
       "      <td>248</td>\n",
       "    </tr>\n",
       "    <tr>\n",
       "      <th>3</th>\n",
       "      <td>CartScreenAppear</td>\n",
       "      <td>3518123091307005509</td>\n",
       "      <td>1564054127</td>\n",
       "      <td>248</td>\n",
       "    </tr>\n",
       "    <tr>\n",
       "      <th>4</th>\n",
       "      <td>PaymentScreenSuccessful</td>\n",
       "      <td>6217807653094995999</td>\n",
       "      <td>1564055322</td>\n",
       "      <td>248</td>\n",
       "    </tr>\n",
       "  </tbody>\n",
       "</table>\n",
       "</div>"
      ],
      "text/plain": [
       "                 EventName         DeviceIDHash  EventTimestamp  ExpId\n",
       "0         MainScreenAppear  4575588528974610257      1564029816    246\n",
       "1         MainScreenAppear  7416695313311560658      1564053102    246\n",
       "2  PaymentScreenSuccessful  3518123091307005509      1564054127    248\n",
       "3         CartScreenAppear  3518123091307005509      1564054127    248\n",
       "4  PaymentScreenSuccessful  6217807653094995999      1564055322    248"
      ]
     },
     "execution_count": 45,
     "metadata": {},
     "output_type": "execute_result"
    }
   ],
   "source": [
    "data.head()"
   ]
  },
  {
   "cell_type": "code",
   "execution_count": 46,
   "metadata": {},
   "outputs": [
    {
     "name": "stdout",
     "output_type": "stream",
     "text": [
      "<class 'pandas.core.frame.DataFrame'>\n",
      "RangeIndex: 244126 entries, 0 to 244125\n",
      "Data columns (total 4 columns):\n",
      " #   Column          Non-Null Count   Dtype \n",
      "---  ------          --------------   ----- \n",
      " 0   EventName       244126 non-null  object\n",
      " 1   DeviceIDHash    244126 non-null  int64 \n",
      " 2   EventTimestamp  244126 non-null  int64 \n",
      " 3   ExpId           244126 non-null  int64 \n",
      "dtypes: int64(3), object(1)\n",
      "memory usage: 7.5+ MB\n"
     ]
    }
   ],
   "source": [
    "data.info()"
   ]
  },
  {
   "cell_type": "markdown",
   "metadata": {},
   "source": [
    "# Предобработка данных"
   ]
  },
  {
   "cell_type": "code",
   "execution_count": 47,
   "metadata": {},
   "outputs": [],
   "source": [
    "#переименуем столбцы \n",
    "data = data.rename(columns={'EventName':'event','DeviceIDHash':'user_id','EventTimestamp':'event_time','ExpId':'group'})"
   ]
  },
  {
   "cell_type": "code",
   "execution_count": 48,
   "metadata": {},
   "outputs": [
    {
     "data": {
      "text/html": [
       "<div>\n",
       "<style scoped>\n",
       "    .dataframe tbody tr th:only-of-type {\n",
       "        vertical-align: middle;\n",
       "    }\n",
       "\n",
       "    .dataframe tbody tr th {\n",
       "        vertical-align: top;\n",
       "    }\n",
       "\n",
       "    .dataframe thead th {\n",
       "        text-align: right;\n",
       "    }\n",
       "</style>\n",
       "<table border=\"1\" class=\"dataframe\">\n",
       "  <thead>\n",
       "    <tr style=\"text-align: right;\">\n",
       "      <th></th>\n",
       "      <th>event</th>\n",
       "      <th>user_id</th>\n",
       "      <th>event_time</th>\n",
       "      <th>group</th>\n",
       "    </tr>\n",
       "  </thead>\n",
       "  <tbody>\n",
       "    <tr>\n",
       "      <th>0</th>\n",
       "      <td>MainScreenAppear</td>\n",
       "      <td>4575588528974610257</td>\n",
       "      <td>1564029816</td>\n",
       "      <td>246</td>\n",
       "    </tr>\n",
       "    <tr>\n",
       "      <th>1</th>\n",
       "      <td>MainScreenAppear</td>\n",
       "      <td>7416695313311560658</td>\n",
       "      <td>1564053102</td>\n",
       "      <td>246</td>\n",
       "    </tr>\n",
       "    <tr>\n",
       "      <th>2</th>\n",
       "      <td>PaymentScreenSuccessful</td>\n",
       "      <td>3518123091307005509</td>\n",
       "      <td>1564054127</td>\n",
       "      <td>248</td>\n",
       "    </tr>\n",
       "    <tr>\n",
       "      <th>3</th>\n",
       "      <td>CartScreenAppear</td>\n",
       "      <td>3518123091307005509</td>\n",
       "      <td>1564054127</td>\n",
       "      <td>248</td>\n",
       "    </tr>\n",
       "    <tr>\n",
       "      <th>4</th>\n",
       "      <td>PaymentScreenSuccessful</td>\n",
       "      <td>6217807653094995999</td>\n",
       "      <td>1564055322</td>\n",
       "      <td>248</td>\n",
       "    </tr>\n",
       "    <tr>\n",
       "      <th>...</th>\n",
       "      <td>...</td>\n",
       "      <td>...</td>\n",
       "      <td>...</td>\n",
       "      <td>...</td>\n",
       "    </tr>\n",
       "    <tr>\n",
       "      <th>244121</th>\n",
       "      <td>MainScreenAppear</td>\n",
       "      <td>4599628364049201812</td>\n",
       "      <td>1565212345</td>\n",
       "      <td>247</td>\n",
       "    </tr>\n",
       "    <tr>\n",
       "      <th>244122</th>\n",
       "      <td>MainScreenAppear</td>\n",
       "      <td>5849806612437486590</td>\n",
       "      <td>1565212439</td>\n",
       "      <td>246</td>\n",
       "    </tr>\n",
       "    <tr>\n",
       "      <th>244123</th>\n",
       "      <td>MainScreenAppear</td>\n",
       "      <td>5746969938801999050</td>\n",
       "      <td>1565212483</td>\n",
       "      <td>246</td>\n",
       "    </tr>\n",
       "    <tr>\n",
       "      <th>244124</th>\n",
       "      <td>MainScreenAppear</td>\n",
       "      <td>5746969938801999050</td>\n",
       "      <td>1565212498</td>\n",
       "      <td>246</td>\n",
       "    </tr>\n",
       "    <tr>\n",
       "      <th>244125</th>\n",
       "      <td>OffersScreenAppear</td>\n",
       "      <td>5746969938801999050</td>\n",
       "      <td>1565212517</td>\n",
       "      <td>246</td>\n",
       "    </tr>\n",
       "  </tbody>\n",
       "</table>\n",
       "<p>244126 rows × 4 columns</p>\n",
       "</div>"
      ],
      "text/plain": [
       "                          event              user_id  event_time  group\n",
       "0              MainScreenAppear  4575588528974610257  1564029816    246\n",
       "1              MainScreenAppear  7416695313311560658  1564053102    246\n",
       "2       PaymentScreenSuccessful  3518123091307005509  1564054127    248\n",
       "3              CartScreenAppear  3518123091307005509  1564054127    248\n",
       "4       PaymentScreenSuccessful  6217807653094995999  1564055322    248\n",
       "...                         ...                  ...         ...    ...\n",
       "244121         MainScreenAppear  4599628364049201812  1565212345    247\n",
       "244122         MainScreenAppear  5849806612437486590  1565212439    246\n",
       "244123         MainScreenAppear  5746969938801999050  1565212483    246\n",
       "244124         MainScreenAppear  5746969938801999050  1565212498    246\n",
       "244125       OffersScreenAppear  5746969938801999050  1565212517    246\n",
       "\n",
       "[244126 rows x 4 columns]"
      ]
     },
     "execution_count": 48,
     "metadata": {},
     "output_type": "execute_result"
    }
   ],
   "source": [
    "data"
   ]
  },
  {
   "cell_type": "code",
   "execution_count": 49,
   "metadata": {},
   "outputs": [],
   "source": [
    "#создадим столбец даты и времени \n",
    "data['datetime'] = pd.to_datetime(data['event_time'], unit='s')"
   ]
  },
  {
   "cell_type": "code",
   "execution_count": 50,
   "metadata": {},
   "outputs": [],
   "source": [
    "data['date'] = data['datetime'].astype('datetime64[D]')"
   ]
  },
  {
   "cell_type": "code",
   "execution_count": 51,
   "metadata": {},
   "outputs": [
    {
     "data": {
      "text/html": [
       "<div>\n",
       "<style scoped>\n",
       "    .dataframe tbody tr th:only-of-type {\n",
       "        vertical-align: middle;\n",
       "    }\n",
       "\n",
       "    .dataframe tbody tr th {\n",
       "        vertical-align: top;\n",
       "    }\n",
       "\n",
       "    .dataframe thead th {\n",
       "        text-align: right;\n",
       "    }\n",
       "</style>\n",
       "<table border=\"1\" class=\"dataframe\">\n",
       "  <thead>\n",
       "    <tr style=\"text-align: right;\">\n",
       "      <th></th>\n",
       "      <th>event</th>\n",
       "      <th>user_id</th>\n",
       "      <th>event_time</th>\n",
       "      <th>group</th>\n",
       "      <th>datetime</th>\n",
       "      <th>date</th>\n",
       "    </tr>\n",
       "  </thead>\n",
       "  <tbody>\n",
       "    <tr>\n",
       "      <th>0</th>\n",
       "      <td>MainScreenAppear</td>\n",
       "      <td>4575588528974610257</td>\n",
       "      <td>1564029816</td>\n",
       "      <td>246</td>\n",
       "      <td>2019-07-25 04:43:36</td>\n",
       "      <td>2019-07-25</td>\n",
       "    </tr>\n",
       "    <tr>\n",
       "      <th>1</th>\n",
       "      <td>MainScreenAppear</td>\n",
       "      <td>7416695313311560658</td>\n",
       "      <td>1564053102</td>\n",
       "      <td>246</td>\n",
       "      <td>2019-07-25 11:11:42</td>\n",
       "      <td>2019-07-25</td>\n",
       "    </tr>\n",
       "    <tr>\n",
       "      <th>2</th>\n",
       "      <td>PaymentScreenSuccessful</td>\n",
       "      <td>3518123091307005509</td>\n",
       "      <td>1564054127</td>\n",
       "      <td>248</td>\n",
       "      <td>2019-07-25 11:28:47</td>\n",
       "      <td>2019-07-25</td>\n",
       "    </tr>\n",
       "    <tr>\n",
       "      <th>3</th>\n",
       "      <td>CartScreenAppear</td>\n",
       "      <td>3518123091307005509</td>\n",
       "      <td>1564054127</td>\n",
       "      <td>248</td>\n",
       "      <td>2019-07-25 11:28:47</td>\n",
       "      <td>2019-07-25</td>\n",
       "    </tr>\n",
       "    <tr>\n",
       "      <th>4</th>\n",
       "      <td>PaymentScreenSuccessful</td>\n",
       "      <td>6217807653094995999</td>\n",
       "      <td>1564055322</td>\n",
       "      <td>248</td>\n",
       "      <td>2019-07-25 11:48:42</td>\n",
       "      <td>2019-07-25</td>\n",
       "    </tr>\n",
       "  </tbody>\n",
       "</table>\n",
       "</div>"
      ],
      "text/plain": [
       "                     event              user_id  event_time  group  \\\n",
       "0         MainScreenAppear  4575588528974610257  1564029816    246   \n",
       "1         MainScreenAppear  7416695313311560658  1564053102    246   \n",
       "2  PaymentScreenSuccessful  3518123091307005509  1564054127    248   \n",
       "3         CartScreenAppear  3518123091307005509  1564054127    248   \n",
       "4  PaymentScreenSuccessful  6217807653094995999  1564055322    248   \n",
       "\n",
       "             datetime       date  \n",
       "0 2019-07-25 04:43:36 2019-07-25  \n",
       "1 2019-07-25 11:11:42 2019-07-25  \n",
       "2 2019-07-25 11:28:47 2019-07-25  \n",
       "3 2019-07-25 11:28:47 2019-07-25  \n",
       "4 2019-07-25 11:48:42 2019-07-25  "
      ]
     },
     "execution_count": 51,
     "metadata": {},
     "output_type": "execute_result"
    }
   ],
   "source": [
    "data.head()"
   ]
  },
  {
   "cell_type": "markdown",
   "metadata": {},
   "source": [
    "**Проверим наличие пропусков**"
   ]
  },
  {
   "cell_type": "code",
   "execution_count": 52,
   "metadata": {},
   "outputs": [
    {
     "data": {
      "text/plain": [
       "event         0\n",
       "user_id       0\n",
       "event_time    0\n",
       "group         0\n",
       "datetime      0\n",
       "date          0\n",
       "dtype: int64"
      ]
     },
     "execution_count": 52,
     "metadata": {},
     "output_type": "execute_result"
    }
   ],
   "source": [
    "data.isna().sum()"
   ]
  },
  {
   "cell_type": "markdown",
   "metadata": {},
   "source": [
    "Пропуски отсутствуют"
   ]
  },
  {
   "cell_type": "markdown",
   "metadata": {},
   "source": [
    "**Проверим наличие дубликатов в данных**"
   ]
  },
  {
   "cell_type": "code",
   "execution_count": 53,
   "metadata": {},
   "outputs": [
    {
     "data": {
      "text/plain": [
       "413"
      ]
     },
     "execution_count": 53,
     "metadata": {},
     "output_type": "execute_result"
    }
   ],
   "source": [
    "data.duplicated().sum()"
   ]
  },
  {
   "cell_type": "code",
   "execution_count": 54,
   "metadata": {},
   "outputs": [
    {
     "name": "stdout",
     "output_type": "stream",
     "text": [
      "0.17%\n"
     ]
    }
   ],
   "source": [
    "print('{:.2%}'.format(data.duplicated().sum()/len(data)))"
   ]
  },
  {
   "cell_type": "markdown",
   "metadata": {},
   "source": [
    "Видим, что доля дубликатов в данных составляет всего 0.17%, поэтому можем их удалить"
   ]
  },
  {
   "cell_type": "code",
   "execution_count": 55,
   "metadata": {},
   "outputs": [],
   "source": [
    "#удаляем дубликаты\n",
    "data = data.drop_duplicates()"
   ]
  },
  {
   "cell_type": "markdown",
   "metadata": {},
   "source": [
    "**Проверим, есть ли пользователи, которые оказались одновременно в нескольких группах**"
   ]
  },
  {
   "cell_type": "code",
   "execution_count": 56,
   "metadata": {},
   "outputs": [
    {
     "data": {
      "text/plain": [
       "0"
      ]
     },
     "execution_count": 56,
     "metadata": {},
     "output_type": "execute_result"
    }
   ],
   "source": [
    "duplicated_users = data.groupby('user_id').agg({'group':'nunique'}).query('group>1')\n",
    "len(duplicated_users)"
   ]
  },
  {
   "cell_type": "markdown",
   "metadata": {},
   "source": [
    "Пользователи, попавшие в несколько групп, отсутстуют"
   ]
  },
  {
   "cell_type": "markdown",
   "metadata": {},
   "source": [
    "**Итак, в результате предобработки данных, мы проверили наличие пропусков (отсутствуют), удалили дубликаты, а также проверили отсутствие пользователей, которые оказались в нескольких группах одновременно (таких пользователей не оказалось). Можем приступать к дальнейшим этапам анализа**"
   ]
  },
  {
   "cell_type": "markdown",
   "metadata": {},
   "source": [
    "# Изучение и проверка данных"
   ]
  },
  {
   "cell_type": "code",
   "execution_count": 57,
   "metadata": {},
   "outputs": [
    {
     "name": "stdout",
     "output_type": "stream",
     "text": [
      "Общее количество событий в логе: 243713\n"
     ]
    }
   ],
   "source": [
    "events_count = data['event'].count()\n",
    "print('Общее количество событий в логе:', events_count)"
   ]
  },
  {
   "cell_type": "code",
   "execution_count": 58,
   "metadata": {},
   "outputs": [
    {
     "name": "stdout",
     "output_type": "stream",
     "text": [
      "Всего пользователей в логе: 7551\n"
     ]
    }
   ],
   "source": [
    "users_count = data['user_id'].nunique()\n",
    "print('Всего пользователей в логе:', users_count)"
   ]
  },
  {
   "cell_type": "code",
   "execution_count": 59,
   "metadata": {},
   "outputs": [
    {
     "name": "stdout",
     "output_type": "stream",
     "text": [
      "В среднем событий на пользователя: 32.28\n"
     ]
    }
   ],
   "source": [
    "print('В среднем событий на пользователя:', round(data['event'].count()/data['user_id'].nunique(),2))"
   ]
  },
  {
   "cell_type": "code",
   "execution_count": 60,
   "metadata": {},
   "outputs": [
    {
     "name": "stdout",
     "output_type": "stream",
     "text": [
      "2019-07-25 00:00:00\n",
      "2019-08-07 00:00:00\n"
     ]
    }
   ],
   "source": [
    "#определим период предоставленных данных\n",
    "print(data['date'].min())\n",
    "print(data['date'].max())"
   ]
  },
  {
   "cell_type": "markdown",
   "metadata": {},
   "source": [
    "Мы располагаем данными за период с 25 июля 2019 по 07 августа 2019"
   ]
  },
  {
   "cell_type": "code",
   "execution_count": 61,
   "metadata": {},
   "outputs": [
    {
     "data": {
      "text/plain": [
       "Text(0.5, 1.0, 'Количество событий по дате и времени')"
      ]
     },
     "execution_count": 61,
     "metadata": {},
     "output_type": "execute_result"
    },
    {
     "data": {
      "image/png": "[encoded data removed]",
      "text/plain": [
       "<Figure size 1368x720 with 1 Axes>"
      ]
     },
     "metadata": {
      "needs_background": "light"
     },
     "output_type": "display_data"
    }
   ],
   "source": [
    "plt.figure(figsize=(19,10))\n",
    "plt.hist(data['datetime'], bins=100)\n",
    "plt.xlabel('Дата')\n",
    "plt.ylabel('Количество событий')\n",
    "plt.title('Количество событий по дате и времени')"
   ]
  },
  {
   "cell_type": "markdown",
   "metadata": {},
   "source": [
    "Видим, что данные неполные. Создадим новую таблицу с данными после 1 августа"
   ]
  },
  {
   "cell_type": "code",
   "execution_count": 62,
   "metadata": {},
   "outputs": [],
   "source": [
    "data = data.query('date >= \"2019-08-01\"')"
   ]
  },
  {
   "cell_type": "markdown",
   "metadata": {},
   "source": [
    "Проверим, много ли событий и пользователей мы потеряли, отбросив старые данные"
   ]
  },
  {
   "cell_type": "code",
   "execution_count": 63,
   "metadata": {},
   "outputs": [
    {
     "name": "stdout",
     "output_type": "stream",
     "text": [
      "Общее количество событий в логе: 240887\n",
      "Всего пользователей в логе: 7534\n"
     ]
    }
   ],
   "source": [
    "new_events_count = data['event'].count()\n",
    "print('Общее количество событий в логе:', new_events_count)\n",
    "\n",
    "new_users_count = data['user_id'].nunique()\n",
    "print('Всего пользователей в логе:', new_users_count)"
   ]
  },
  {
   "cell_type": "code",
   "execution_count": 64,
   "metadata": {},
   "outputs": [
    {
     "name": "stdout",
     "output_type": "stream",
     "text": [
      "Потеряно событий: 2826\n",
      "Потеряно событий: 17\n"
     ]
    }
   ],
   "source": [
    "print('Потеряно событий:', events_count-new_events_count)\n",
    "print('Потеряно событий:', users_count-new_users_count)"
   ]
  },
  {
   "cell_type": "markdown",
   "metadata": {},
   "source": [
    "**Проверим, что у нас есть пользователи из всех трёх экспериментальных групп**"
   ]
  },
  {
   "cell_type": "code",
   "execution_count": 65,
   "metadata": {},
   "outputs": [],
   "source": [
    "groups = data.groupby('group').agg({'user_id':'nunique'}).reset_index()"
   ]
  },
  {
   "cell_type": "code",
   "execution_count": 66,
   "metadata": {},
   "outputs": [
    {
     "data": {
      "text/html": [
       "<div>\n",
       "<style scoped>\n",
       "    .dataframe tbody tr th:only-of-type {\n",
       "        vertical-align: middle;\n",
       "    }\n",
       "\n",
       "    .dataframe tbody tr th {\n",
       "        vertical-align: top;\n",
       "    }\n",
       "\n",
       "    .dataframe thead th {\n",
       "        text-align: right;\n",
       "    }\n",
       "</style>\n",
       "<table border=\"1\" class=\"dataframe\">\n",
       "  <thead>\n",
       "    <tr style=\"text-align: right;\">\n",
       "      <th></th>\n",
       "      <th>group</th>\n",
       "      <th>user_id</th>\n",
       "    </tr>\n",
       "  </thead>\n",
       "  <tbody>\n",
       "    <tr>\n",
       "      <th>0</th>\n",
       "      <td>246</td>\n",
       "      <td>2484</td>\n",
       "    </tr>\n",
       "    <tr>\n",
       "      <th>1</th>\n",
       "      <td>247</td>\n",
       "      <td>2513</td>\n",
       "    </tr>\n",
       "    <tr>\n",
       "      <th>2</th>\n",
       "      <td>248</td>\n",
       "      <td>2537</td>\n",
       "    </tr>\n",
       "  </tbody>\n",
       "</table>\n",
       "</div>"
      ],
      "text/plain": [
       "   group  user_id\n",
       "0    246     2484\n",
       "1    247     2513\n",
       "2    248     2537"
      ]
     },
     "execution_count": 66,
     "metadata": {},
     "output_type": "execute_result"
    }
   ],
   "source": [
    "groups"
   ]
  },
  {
   "cell_type": "markdown",
   "metadata": {},
   "source": [
    "Пользователи есть во всех группах"
   ]
  },
  {
   "cell_type": "markdown",
   "metadata": {},
   "source": [
    "**Итак:**\n",
    "\n",
    "- Общее количество событий в логе: 243713\n",
    "\n",
    "- Всего пользователей в логе: 7551\n",
    "\n",
    "- В среднем событий на пользователя: 32.28\n",
    "\n",
    "- Мы располагаем данными за период с 25 июля 2019 по 07 августа 2019, полными данными - с 1 по 7 августа 2019"
   ]
  },
  {
   "cell_type": "markdown",
   "metadata": {},
   "source": [
    "# Изучение воронки событий"
   ]
  },
  {
   "cell_type": "markdown",
   "metadata": {},
   "source": [
    "**Посмотрим, какие события есть в логах и как часто они встречаются**"
   ]
  },
  {
   "cell_type": "code",
   "execution_count": 67,
   "metadata": {},
   "outputs": [
    {
     "data": {
      "text/html": [
       "<div>\n",
       "<style scoped>\n",
       "    .dataframe tbody tr th:only-of-type {\n",
       "        vertical-align: middle;\n",
       "    }\n",
       "\n",
       "    .dataframe tbody tr th {\n",
       "        vertical-align: top;\n",
       "    }\n",
       "\n",
       "    .dataframe thead th {\n",
       "        text-align: right;\n",
       "    }\n",
       "</style>\n",
       "<table border=\"1\" class=\"dataframe\">\n",
       "  <thead>\n",
       "    <tr style=\"text-align: right;\">\n",
       "      <th></th>\n",
       "      <th>event</th>\n",
       "      <th>user_id</th>\n",
       "    </tr>\n",
       "  </thead>\n",
       "  <tbody>\n",
       "    <tr>\n",
       "      <th>1</th>\n",
       "      <td>MainScreenAppear</td>\n",
       "      <td>117328</td>\n",
       "    </tr>\n",
       "    <tr>\n",
       "      <th>2</th>\n",
       "      <td>OffersScreenAppear</td>\n",
       "      <td>46333</td>\n",
       "    </tr>\n",
       "    <tr>\n",
       "      <th>0</th>\n",
       "      <td>CartScreenAppear</td>\n",
       "      <td>42303</td>\n",
       "    </tr>\n",
       "    <tr>\n",
       "      <th>3</th>\n",
       "      <td>PaymentScreenSuccessful</td>\n",
       "      <td>33918</td>\n",
       "    </tr>\n",
       "    <tr>\n",
       "      <th>4</th>\n",
       "      <td>Tutorial</td>\n",
       "      <td>1005</td>\n",
       "    </tr>\n",
       "  </tbody>\n",
       "</table>\n",
       "</div>"
      ],
      "text/plain": [
       "                     event  user_id\n",
       "1         MainScreenAppear   117328\n",
       "2       OffersScreenAppear    46333\n",
       "0         CartScreenAppear    42303\n",
       "3  PaymentScreenSuccessful    33918\n",
       "4                 Tutorial     1005"
      ]
     },
     "execution_count": 67,
     "metadata": {},
     "output_type": "execute_result"
    }
   ],
   "source": [
    "data.groupby('event').agg({'user_id':'count'}).reset_index().sort_values(by='user_id', ascending=False)"
   ]
  },
  {
   "cell_type": "markdown",
   "metadata": {},
   "source": [
    "Чаще всего встречается MainScreenAppear, реже всего - Tutorial\t"
   ]
  },
  {
   "cell_type": "markdown",
   "metadata": {},
   "source": [
    "**Посчитаем, сколько пользователей совершали каждое из этих событий**"
   ]
  },
  {
   "cell_type": "code",
   "execution_count": 68,
   "metadata": {},
   "outputs": [
    {
     "data": {
      "text/html": [
       "<div>\n",
       "<style scoped>\n",
       "    .dataframe tbody tr th:only-of-type {\n",
       "        vertical-align: middle;\n",
       "    }\n",
       "\n",
       "    .dataframe tbody tr th {\n",
       "        vertical-align: top;\n",
       "    }\n",
       "\n",
       "    .dataframe thead th {\n",
       "        text-align: right;\n",
       "    }\n",
       "</style>\n",
       "<table border=\"1\" class=\"dataframe\">\n",
       "  <thead>\n",
       "    <tr style=\"text-align: right;\">\n",
       "      <th></th>\n",
       "      <th>event</th>\n",
       "      <th>user_id</th>\n",
       "    </tr>\n",
       "  </thead>\n",
       "  <tbody>\n",
       "    <tr>\n",
       "      <th>1</th>\n",
       "      <td>MainScreenAppear</td>\n",
       "      <td>7419</td>\n",
       "    </tr>\n",
       "    <tr>\n",
       "      <th>2</th>\n",
       "      <td>OffersScreenAppear</td>\n",
       "      <td>4593</td>\n",
       "    </tr>\n",
       "    <tr>\n",
       "      <th>0</th>\n",
       "      <td>CartScreenAppear</td>\n",
       "      <td>3734</td>\n",
       "    </tr>\n",
       "    <tr>\n",
       "      <th>3</th>\n",
       "      <td>PaymentScreenSuccessful</td>\n",
       "      <td>3539</td>\n",
       "    </tr>\n",
       "    <tr>\n",
       "      <th>4</th>\n",
       "      <td>Tutorial</td>\n",
       "      <td>840</td>\n",
       "    </tr>\n",
       "  </tbody>\n",
       "</table>\n",
       "</div>"
      ],
      "text/plain": [
       "                     event  user_id\n",
       "1         MainScreenAppear     7419\n",
       "2       OffersScreenAppear     4593\n",
       "0         CartScreenAppear     3734\n",
       "3  PaymentScreenSuccessful     3539\n",
       "4                 Tutorial      840"
      ]
     },
     "execution_count": 68,
     "metadata": {},
     "output_type": "execute_result"
    }
   ],
   "source": [
    "users_for_event = data.groupby('event').agg({'user_id':'nunique'}).reset_index().sort_values(by='user_id', ascending=False)\n",
    "users_for_event"
   ]
  },
  {
   "cell_type": "markdown",
   "metadata": {},
   "source": [
    "**Посчитаем долю пользователей, которые хоть раз совершали событие**"
   ]
  },
  {
   "cell_type": "code",
   "execution_count": 69,
   "metadata": {},
   "outputs": [
    {
     "data": {
      "text/html": [
       "<div>\n",
       "<style scoped>\n",
       "    .dataframe tbody tr th:only-of-type {\n",
       "        vertical-align: middle;\n",
       "    }\n",
       "\n",
       "    .dataframe tbody tr th {\n",
       "        vertical-align: top;\n",
       "    }\n",
       "\n",
       "    .dataframe thead th {\n",
       "        text-align: right;\n",
       "    }\n",
       "</style>\n",
       "<table border=\"1\" class=\"dataframe\">\n",
       "  <thead>\n",
       "    <tr style=\"text-align: right;\">\n",
       "      <th></th>\n",
       "      <th>event</th>\n",
       "      <th>user_id</th>\n",
       "      <th>share</th>\n",
       "    </tr>\n",
       "  </thead>\n",
       "  <tbody>\n",
       "    <tr>\n",
       "      <th>1</th>\n",
       "      <td>MainScreenAppear</td>\n",
       "      <td>7419</td>\n",
       "      <td>98.0</td>\n",
       "    </tr>\n",
       "    <tr>\n",
       "      <th>2</th>\n",
       "      <td>OffersScreenAppear</td>\n",
       "      <td>4593</td>\n",
       "      <td>61.0</td>\n",
       "    </tr>\n",
       "    <tr>\n",
       "      <th>0</th>\n",
       "      <td>CartScreenAppear</td>\n",
       "      <td>3734</td>\n",
       "      <td>50.0</td>\n",
       "    </tr>\n",
       "    <tr>\n",
       "      <th>3</th>\n",
       "      <td>PaymentScreenSuccessful</td>\n",
       "      <td>3539</td>\n",
       "      <td>47.0</td>\n",
       "    </tr>\n",
       "    <tr>\n",
       "      <th>4</th>\n",
       "      <td>Tutorial</td>\n",
       "      <td>840</td>\n",
       "      <td>11.0</td>\n",
       "    </tr>\n",
       "  </tbody>\n",
       "</table>\n",
       "</div>"
      ],
      "text/plain": [
       "                     event  user_id  share\n",
       "1         MainScreenAppear     7419   98.0\n",
       "2       OffersScreenAppear     4593   61.0\n",
       "0         CartScreenAppear     3734   50.0\n",
       "3  PaymentScreenSuccessful     3539   47.0\n",
       "4                 Tutorial      840   11.0"
      ]
     },
     "execution_count": 69,
     "metadata": {},
     "output_type": "execute_result"
    }
   ],
   "source": [
    "users_for_event['share'] = ((users_for_event['user_id'] / data['user_id'].nunique() * 100).round())\n",
    "users_for_event"
   ]
  },
  {
   "cell_type": "markdown",
   "metadata": {},
   "source": [
    "Видно, что событие MainScreenAppear\tсовершало 98% пользователей, в то время как Tutorial - всего 11%"
   ]
  },
  {
   "cell_type": "markdown",
   "metadata": {},
   "source": [
    "**Определим порядок, в котором происходят события**"
   ]
  },
  {
   "cell_type": "markdown",
   "metadata": {},
   "source": [
    "1. Главный экран\n",
    "2. Экран предложений\n",
    "3. Корзина\n",
    "4. Экран оплаты\n",
    "5. Туториал"
   ]
  },
  {
   "cell_type": "markdown",
   "metadata": {},
   "source": [
    "Можем исключить туториал, так как до него доходит очень маленькая доля пользователей"
   ]
  },
  {
   "cell_type": "markdown",
   "metadata": {},
   "source": [
    "**Посчитаем, какая доля пользователей проходит на следующий шаг воронки**"
   ]
  },
  {
   "cell_type": "code",
   "execution_count": 70,
   "metadata": {},
   "outputs": [
    {
     "data": {
      "application/vnd.plotly.v1+json": {
       "config": {
        "plotlyServerURL": "https://plot.ly"
       },
       "data": [
        {
         "type": "funnel",
         "x": [
          7419,
          4593,
          3734,
          3539
         ],
         "y": [
          "MainScreenAppear",
          "OffersScreenAppear",
          "CartScreenAppear",
          "PaymentScreenSuccessful"
         ]
        }
       ],
       "layout": {
        "template": {
         "data": {
          "bar": [
           {
            "error_x": {
             "color": "#2a3f5f"
            },
            "error_y": {
             "color": "#2a3f5f"
            },
            "marker": {
             "line": {
              "color": "#E5ECF6",
              "width": 0.5
             },
             "pattern": {
              "fillmode": "overlay",
              "size": 10,
              "solidity": 0.2
             }
            },
            "type": "bar"
           }
          ],
          "barpolar": [
           {
            "marker": {
             "line": {
              "color": "#E5ECF6",
              "width": 0.5
             },
             "pattern": {
              "fillmode": "overlay",
              "size": 10,
              "solidity": 0.2
             }
            },
            "type": "barpolar"
           }
          ],
          "carpet": [
           {
            "aaxis": {
             "endlinecolor": "#2a3f5f",
             "gridcolor": "white",
             "linecolor": "white",
             "minorgridcolor": "white",
             "startlinecolor": "#2a3f5f"
            },
            "baxis": {
             "endlinecolor": "#2a3f5f",
             "gridcolor": "white",
             "linecolor": "white",
             "minorgridcolor": "white",
             "startlinecolor": "#2a3f5f"
            },
            "type": "carpet"
           }
          ],
          "choropleth": [
           {
            "colorbar": {
             "outlinewidth": 0,
             "ticks": ""
            },
            "type": "choropleth"
           }
          ],
          "contour": [
           {
            "colorbar": {
             "outlinewidth": 0,
             "ticks": ""
            },
            "colorscale": [
             [
              0,
              "#0d0887"
             ],
             [
              0.1111111111111111,
              "#46039f"
             ],
             [
              0.2222222222222222,
              "#7201a8"
             ],
             [
              0.3333333333333333,
              "#9c179e"
             ],
             [
              0.4444444444444444,
              "#bd3786"
             ],
             [
              0.5555555555555556,
              "#d8576b"
             ],
             [
              0.6666666666666666,
              "#ed7953"
             ],
             [
              0.7777777777777778,
              "#fb9f3a"
             ],
             [
              0.8888888888888888,
              "#fdca26"
             ],
             [
              1,
              "#f0f921"
             ]
            ],
            "type": "contour"
           }
          ],
          "contourcarpet": [
           {
            "colorbar": {
             "outlinewidth": 0,
             "ticks": ""
            },
            "type": "contourcarpet"
           }
          ],
          "heatmap": [
           {
            "colorbar": {
             "outlinewidth": 0,
             "ticks": ""
            },
            "colorscale": [
             [
              0,
              "#0d0887"
             ],
             [
              0.1111111111111111,
              "#46039f"
             ],
             [
              0.2222222222222222,
              "#7201a8"
             ],
             [
              0.3333333333333333,
              "#9c179e"
             ],
             [
              0.4444444444444444,
              "#bd3786"
             ],
             [
              0.5555555555555556,
              "#d8576b"
             ],
             [
              0.6666666666666666,
              "#ed7953"
             ],
             [
              0.7777777777777778,
              "#fb9f3a"
             ],
             [
              0.8888888888888888,
              "#fdca26"
             ],
             [
              1,
              "#f0f921"
             ]
            ],
            "type": "heatmap"
           }
          ],
          "heatmapgl": [
           {
            "colorbar": {
             "outlinewidth": 0,
             "ticks": ""
            },
            "colorscale": [
             [
              0,
              "#0d0887"
             ],
             [
              0.1111111111111111,
              "#46039f"
             ],
             [
              0.2222222222222222,
              "#7201a8"
             ],
             [
              0.3333333333333333,
              "#9c179e"
             ],
             [
              0.4444444444444444,
              "#bd3786"
             ],
             [
              0.5555555555555556,
              "#d8576b"
             ],
             [
              0.6666666666666666,
              "#ed7953"
             ],
             [
              0.7777777777777778,
              "#fb9f3a"
             ],
             [
              0.8888888888888888,
              "#fdca26"
             ],
             [
              1,
              "#f0f921"
             ]
            ],
            "type": "heatmapgl"
           }
          ],
          "histogram": [
           {
            "marker": {
             "pattern": {
              "fillmode": "overlay",
              "size": 10,
              "solidity": 0.2
             }
            },
            "type": "histogram"
           }
          ],
          "histogram2d": [
           {
            "colorbar": {
             "outlinewidth": 0,
             "ticks": ""
            },
            "colorscale": [
             [
              0,
              "#0d0887"
             ],
             [
              0.1111111111111111,
              "#46039f"
             ],
             [
              0.2222222222222222,
              "#7201a8"
             ],
             [
              0.3333333333333333,
              "#9c179e"
             ],
             [
              0.4444444444444444,
              "#bd3786"
             ],
             [
              0.5555555555555556,
              "#d8576b"
             ],
             [
              0.6666666666666666,
              "#ed7953"
             ],
             [
              0.7777777777777778,
              "#fb9f3a"
             ],
             [
              0.8888888888888888,
              "#fdca26"
             ],
             [
              1,
              "#f0f921"
             ]
            ],
            "type": "histogram2d"
           }
          ],
          "histogram2dcontour": [
           {
            "colorbar": {
             "outlinewidth": 0,
             "ticks": ""
            },
            "colorscale": [
             [
              0,
              "#0d0887"
             ],
             [
              0.1111111111111111,
              "#46039f"
             ],
             [
              0.2222222222222222,
              "#7201a8"
             ],
             [
              0.3333333333333333,
              "#9c179e"
             ],
             [
              0.4444444444444444,
              "#bd3786"
             ],
             [
              0.5555555555555556,
              "#d8576b"
             ],
             [
              0.6666666666666666,
              "#ed7953"
             ],
             [
              0.7777777777777778,
              "#fb9f3a"
             ],
             [
              0.8888888888888888,
              "#fdca26"
             ],
             [
              1,
              "#f0f921"
             ]
            ],
            "type": "histogram2dcontour"
           }
          ],
          "mesh3d": [
           {
            "colorbar": {
             "outlinewidth": 0,
             "ticks": ""
            },
            "type": "mesh3d"
           }
          ],
          "parcoords": [
           {
            "line": {
             "colorbar": {
              "outlinewidth": 0,
              "ticks": ""
             }
            },
            "type": "parcoords"
           }
          ],
          "pie": [
           {
            "automargin": true,
            "type": "pie"
           }
          ],
          "scatter": [
           {
            "marker": {
             "colorbar": {
              "outlinewidth": 0,
              "ticks": ""
             }
            },
            "type": "scatter"
           }
          ],
          "scatter3d": [
           {
            "line": {
             "colorbar": {
              "outlinewidth": 0,
              "ticks": ""
             }
            },
            "marker": {
             "colorbar": {
              "outlinewidth": 0,
              "ticks": ""
             }
            },
            "type": "scatter3d"
           }
          ],
          "scattercarpet": [
           {
            "marker": {
             "colorbar": {
              "outlinewidth": 0,
              "ticks": ""
             }
            },
            "type": "scattercarpet"
           }
          ],
          "scattergeo": [
           {
            "marker": {
             "colorbar": {
              "outlinewidth": 0,
              "ticks": ""
             }
            },
            "type": "scattergeo"
           }
          ],
          "scattergl": [
           {
            "marker": {
             "colorbar": {
              "outlinewidth": 0,
              "ticks": ""
             }
            },
            "type": "scattergl"
           }
          ],
          "scattermapbox": [
           {
            "marker": {
             "colorbar": {
              "outlinewidth": 0,
              "ticks": ""
             }
            },
            "type": "scattermapbox"
           }
          ],
          "scatterpolar": [
           {
            "marker": {
             "colorbar": {
              "outlinewidth": 0,
              "ticks": ""
             }
            },
            "type": "scatterpolar"
           }
          ],
          "scatterpolargl": [
           {
            "marker": {
             "colorbar": {
              "outlinewidth": 0,
              "ticks": ""
             }
            },
            "type": "scatterpolargl"
           }
          ],
          "scatterternary": [
           {
            "marker": {
             "colorbar": {
              "outlinewidth": 0,
              "ticks": ""
             }
            },
            "type": "scatterternary"
           }
          ],
          "surface": [
           {
            "colorbar": {
             "outlinewidth": 0,
             "ticks": ""
            },
            "colorscale": [
             [
              0,
              "#0d0887"
             ],
             [
              0.1111111111111111,
              "#46039f"
             ],
             [
              0.2222222222222222,
              "#7201a8"
             ],
             [
              0.3333333333333333,
              "#9c179e"
             ],
             [
              0.4444444444444444,
              "#bd3786"
             ],
             [
              0.5555555555555556,
              "#d8576b"
             ],
             [
              0.6666666666666666,
              "#ed7953"
             ],
             [
              0.7777777777777778,
              "#fb9f3a"
             ],
             [
              0.8888888888888888,
              "#fdca26"
             ],
             [
              1,
              "#f0f921"
             ]
            ],
            "type": "surface"
           }
          ],
          "table": [
           {
            "cells": {
             "fill": {
              "color": "#EBF0F8"
             },
             "line": {
              "color": "white"
             }
            },
            "header": {
             "fill": {
              "color": "#C8D4E3"
             },
             "line": {
              "color": "white"
             }
            },
            "type": "table"
           }
          ]
         },
         "layout": {
          "annotationdefaults": {
           "arrowcolor": "#2a3f5f",
           "arrowhead": 0,
           "arrowwidth": 1
          },
          "autotypenumbers": "strict",
          "coloraxis": {
           "colorbar": {
            "outlinewidth": 0,
            "ticks": ""
           }
          },
          "colorscale": {
           "diverging": [
            [
             0,
             "#8e0152"
            ],
            [
             0.1,
             "#c51b7d"
            ],
            [
             0.2,
             "#de77ae"
            ],
            [
             0.3,
             "#f1b6da"
            ],
            [
             0.4,
             "#fde0ef"
            ],
            [
             0.5,
             "#f7f7f7"
            ],
            [
             0.6,
             "#e6f5d0"
            ],
            [
             0.7,
             "#b8e186"
            ],
            [
             0.8,
             "#7fbc41"
            ],
            [
             0.9,
             "#4d9221"
            ],
            [
             1,
             "#276419"
            ]
           ],
           "sequential": [
            [
             0,
             "#0d0887"
            ],
            [
             0.1111111111111111,
             "#46039f"
            ],
            [
             0.2222222222222222,
             "#7201a8"
            ],
            [
             0.3333333333333333,
             "#9c179e"
            ],
            [
             0.4444444444444444,
             "#bd3786"
            ],
            [
             0.5555555555555556,
             "#d8576b"
            ],
            [
             0.6666666666666666,
             "#ed7953"
            ],
            [
             0.7777777777777778,
             "#fb9f3a"
            ],
            [
             0.8888888888888888,
             "#fdca26"
            ],
            [
             1,
             "#f0f921"
            ]
           ],
           "sequentialminus": [
            [
             0,
             "#0d0887"
            ],
            [
             0.1111111111111111,
             "#46039f"
            ],
            [
             0.2222222222222222,
             "#7201a8"
            ],
            [
             0.3333333333333333,
             "#9c179e"
            ],
            [
             0.4444444444444444,
             "#bd3786"
            ],
            [
             0.5555555555555556,
             "#d8576b"
            ],
            [
             0.6666666666666666,
             "#ed7953"
            ],
            [
             0.7777777777777778,
             "#fb9f3a"
            ],
            [
             0.8888888888888888,
             "#fdca26"
            ],
            [
             1,
             "#f0f921"
            ]
           ]
          },
          "colorway": [
           "#636efa",
           "#EF553B",
           "#00cc96",
           "#ab63fa",
           "#FFA15A",
           "#19d3f3",
           "#FF6692",
           "#B6E880",
           "#FF97FF",
           "#FECB52"
          ],
          "font": {
           "color": "#2a3f5f"
          },
          "geo": {
           "bgcolor": "white",
           "lakecolor": "white",
           "landcolor": "#E5ECF6",
           "showlakes": true,
           "showland": true,
           "subunitcolor": "white"
          },
          "hoverlabel": {
           "align": "left"
          },
          "hovermode": "closest",
          "mapbox": {
           "style": "light"
          },
          "paper_bgcolor": "white",
          "plot_bgcolor": "#E5ECF6",
          "polar": {
           "angularaxis": {
            "gridcolor": "white",
            "linecolor": "white",
            "ticks": ""
           },
           "bgcolor": "#E5ECF6",
           "radialaxis": {
            "gridcolor": "white",
            "linecolor": "white",
            "ticks": ""
           }
          },
          "scene": {
           "xaxis": {
            "backgroundcolor": "#E5ECF6",
            "gridcolor": "white",
            "gridwidth": 2,
            "linecolor": "white",
            "showbackground": true,
            "ticks": "",
            "zerolinecolor": "white"
           },
           "yaxis": {
            "backgroundcolor": "#E5ECF6",
            "gridcolor": "white",
            "gridwidth": 2,
            "linecolor": "white",
            "showbackground": true,
            "ticks": "",
            "zerolinecolor": "white"
           },
           "zaxis": {
            "backgroundcolor": "#E5ECF6",
            "gridcolor": "white",
            "gridwidth": 2,
            "linecolor": "white",
            "showbackground": true,
            "ticks": "",
            "zerolinecolor": "white"
           }
          },
          "shapedefaults": {
           "line": {
            "color": "#2a3f5f"
           }
          },
          "ternary": {
           "aaxis": {
            "gridcolor": "white",
            "linecolor": "white",
            "ticks": ""
           },
           "baxis": {
            "gridcolor": "white",
            "linecolor": "white",
            "ticks": ""
           },
           "bgcolor": "#E5ECF6",
           "caxis": {
            "gridcolor": "white",
            "linecolor": "white",
            "ticks": ""
           }
          },
          "title": {
           "x": 0.05
          },
          "xaxis": {
           "automargin": true,
           "gridcolor": "white",
           "linecolor": "white",
           "ticks": "",
           "title": {
            "standoff": 15
           },
           "zerolinecolor": "white",
           "zerolinewidth": 2
          },
          "yaxis": {
           "automargin": true,
           "gridcolor": "white",
           "linecolor": "white",
           "ticks": "",
           "title": {
            "standoff": 15
           },
           "zerolinecolor": "white",
           "zerolinewidth": 2
          }
         }
        },
        "title": {
         "text": "Воронка событий, которые совершают пользователи"
        }
       }
      },
      "text/html": [
       "<div>                            <div id=\"a04fc30e-045b-40db-b62e-e1dc15f3d5d4\" class=\"plotly-graph-div\" style=\"height:525px; width:100%;\"></div>            <script type=\"text/javascript\">                require([\"plotly\"], function(Plotly) {                    window.PLOTLYENV=window.PLOTLYENV || {};                                    if (document.getElementById(\"a04fc30e-045b-40db-b62e-e1dc15f3d5d4\")) {                    Plotly.newPlot(                        \"a04fc30e-045b-40db-b62e-e1dc15f3d5d4\",                        [{\"x\":[7419,4593,3734,3539],\"y\":[\"MainScreenAppear\",\"OffersScreenAppear\",\"CartScreenAppear\",\"PaymentScreenSuccessful\"],\"type\":\"funnel\"}],                        {\"template\":{\"data\":{\"bar\":[{\"error_x\":{\"color\":\"#2a3f5f\"},\"error_y\":{\"color\":\"#2a3f5f\"},\"marker\":{\"line\":{\"color\":\"#E5ECF6\",\"width\":0.5},\"pattern\":{\"fillmode\":\"overlay\",\"size\":10,\"solidity\":0.2}},\"type\":\"bar\"}],\"barpolar\":[{\"marker\":{\"line\":{\"color\":\"#E5ECF6\",\"width\":0.5},\"pattern\":{\"fillmode\":\"overlay\",\"size\":10,\"solidity\":0.2}},\"type\":\"barpolar\"}],\"carpet\":[{\"aaxis\":{\"endlinecolor\":\"#2a3f5f\",\"gridcolor\":\"white\",\"linecolor\":\"white\",\"minorgridcolor\":\"white\",\"startlinecolor\":\"#2a3f5f\"},\"baxis\":{\"endlinecolor\":\"#2a3f5f\",\"gridcolor\":\"white\",\"linecolor\":\"white\",\"minorgridcolor\":\"white\",\"startlinecolor\":\"#2a3f5f\"},\"type\":\"carpet\"}],\"choropleth\":[{\"colorbar\":{\"outlinewidth\":0,\"ticks\":\"\"},\"type\":\"choropleth\"}],\"contour\":[{\"colorbar\":{\"outlinewidth\":0,\"ticks\":\"\"},\"colorscale\":[[0.0,\"#0d0887\"],[0.1111111111111111,\"#46039f\"],[0.2222222222222222,\"#7201a8\"],[0.3333333333333333,\"#9c179e\"],[0.4444444444444444,\"#bd3786\"],[0.5555555555555556,\"#d8576b\"],[0.6666666666666666,\"#ed7953\"],[0.7777777777777778,\"#fb9f3a\"],[0.8888888888888888,\"#fdca26\"],[1.0,\"#f0f921\"]],\"type\":\"contour\"}],\"contourcarpet\":[{\"colorbar\":{\"outlinewidth\":0,\"ticks\":\"\"},\"type\":\"contourcarpet\"}],\"heatmap\":[{\"colorbar\":{\"outlinewidth\":0,\"ticks\":\"\"},\"colorscale\":[[0.0,\"#0d0887\"],[0.1111111111111111,\"#46039f\"],[0.2222222222222222,\"#7201a8\"],[0.3333333333333333,\"#9c179e\"],[0.4444444444444444,\"#bd3786\"],[0.5555555555555556,\"#d8576b\"],[0.6666666666666666,\"#ed7953\"],[0.7777777777777778,\"#fb9f3a\"],[0.8888888888888888,\"#fdca26\"],[1.0,\"#f0f921\"]],\"type\":\"heatmap\"}],\"heatmapgl\":[{\"colorbar\":{\"outlinewidth\":0,\"ticks\":\"\"},\"colorscale\":[[0.0,\"#0d0887\"],[0.1111111111111111,\"#46039f\"],[0.2222222222222222,\"#7201a8\"],[0.3333333333333333,\"#9c179e\"],[0.4444444444444444,\"#bd3786\"],[0.5555555555555556,\"#d8576b\"],[0.6666666666666666,\"#ed7953\"],[0.7777777777777778,\"#fb9f3a\"],[0.8888888888888888,\"#fdca26\"],[1.0,\"#f0f921\"]],\"type\":\"heatmapgl\"}],\"histogram\":[{\"marker\":{\"pattern\":{\"fillmode\":\"overlay\",\"size\":10,\"solidity\":0.2}},\"type\":\"histogram\"}],\"histogram2d\":[{\"colorbar\":{\"outlinewidth\":0,\"ticks\":\"\"},\"colorscale\":[[0.0,\"#0d0887\"],[0.1111111111111111,\"#46039f\"],[0.2222222222222222,\"#7201a8\"],[0.3333333333333333,\"#9c179e\"],[0.4444444444444444,\"#bd3786\"],[0.5555555555555556,\"#d8576b\"],[0.6666666666666666,\"#ed7953\"],[0.7777777777777778,\"#fb9f3a\"],[0.8888888888888888,\"#fdca26\"],[1.0,\"#f0f921\"]],\"type\":\"histogram2d\"}],\"histogram2dcontour\":[{\"colorbar\":{\"outlinewidth\":0,\"ticks\":\"\"},\"colorscale\":[[0.0,\"#0d0887\"],[0.1111111111111111,\"#46039f\"],[0.2222222222222222,\"#7201a8\"],[0.3333333333333333,\"#9c179e\"],[0.4444444444444444,\"#bd3786\"],[0.5555555555555556,\"#d8576b\"],[0.6666666666666666,\"#ed7953\"],[0.7777777777777778,\"#fb9f3a\"],[0.8888888888888888,\"#fdca26\"],[1.0,\"#f0f921\"]],\"type\":\"histogram2dcontour\"}],\"mesh3d\":[{\"colorbar\":{\"outlinewidth\":0,\"ticks\":\"\"},\"type\":\"mesh3d\"}],\"parcoords\":[{\"line\":{\"colorbar\":{\"outlinewidth\":0,\"ticks\":\"\"}},\"type\":\"parcoords\"}],\"pie\":[{\"automargin\":true,\"type\":\"pie\"}],\"scatter\":[{\"marker\":{\"colorbar\":{\"outlinewidth\":0,\"ticks\":\"\"}},\"type\":\"scatter\"}],\"scatter3d\":[{\"line\":{\"colorbar\":{\"outlinewidth\":0,\"ticks\":\"\"}},\"marker\":{\"colorbar\":{\"outlinewidth\":0,\"ticks\":\"\"}},\"type\":\"scatter3d\"}],\"scattercarpet\":[{\"marker\":{\"colorbar\":{\"outlinewidth\":0,\"ticks\":\"\"}},\"type\":\"scattercarpet\"}],\"scattergeo\":[{\"marker\":{\"colorbar\":{\"outlinewidth\":0,\"ticks\":\"\"}},\"type\":\"scattergeo\"}],\"scattergl\":[{\"marker\":{\"colorbar\":{\"outlinewidth\":0,\"ticks\":\"\"}},\"type\":\"scattergl\"}],\"scattermapbox\":[{\"marker\":{\"colorbar\":{\"outlinewidth\":0,\"ticks\":\"\"}},\"type\":\"scattermapbox\"}],\"scatterpolar\":[{\"marker\":{\"colorbar\":{\"outlinewidth\":0,\"ticks\":\"\"}},\"type\":\"scatterpolar\"}],\"scatterpolargl\":[{\"marker\":{\"colorbar\":{\"outlinewidth\":0,\"ticks\":\"\"}},\"type\":\"scatterpolargl\"}],\"scatterternary\":[{\"marker\":{\"colorbar\":{\"outlinewidth\":0,\"ticks\":\"\"}},\"type\":\"scatterternary\"}],\"surface\":[{\"colorbar\":{\"outlinewidth\":0,\"ticks\":\"\"},\"colorscale\":[[0.0,\"#0d0887\"],[0.1111111111111111,\"#46039f\"],[0.2222222222222222,\"#7201a8\"],[0.3333333333333333,\"#9c179e\"],[0.4444444444444444,\"#bd3786\"],[0.5555555555555556,\"#d8576b\"],[0.6666666666666666,\"#ed7953\"],[0.7777777777777778,\"#fb9f3a\"],[0.8888888888888888,\"#fdca26\"],[1.0,\"#f0f921\"]],\"type\":\"surface\"}],\"table\":[{\"cells\":{\"fill\":{\"color\":\"#EBF0F8\"},\"line\":{\"color\":\"white\"}},\"header\":{\"fill\":{\"color\":\"#C8D4E3\"},\"line\":{\"color\":\"white\"}},\"type\":\"table\"}]},\"layout\":{\"annotationdefaults\":{\"arrowcolor\":\"#2a3f5f\",\"arrowhead\":0,\"arrowwidth\":1},\"autotypenumbers\":\"strict\",\"coloraxis\":{\"colorbar\":{\"outlinewidth\":0,\"ticks\":\"\"}},\"colorscale\":{\"diverging\":[[0,\"#8e0152\"],[0.1,\"#c51b7d\"],[0.2,\"#de77ae\"],[0.3,\"#f1b6da\"],[0.4,\"#fde0ef\"],[0.5,\"#f7f7f7\"],[0.6,\"#e6f5d0\"],[0.7,\"#b8e186\"],[0.8,\"#7fbc41\"],[0.9,\"#4d9221\"],[1,\"#276419\"]],\"sequential\":[[0.0,\"#0d0887\"],[0.1111111111111111,\"#46039f\"],[0.2222222222222222,\"#7201a8\"],[0.3333333333333333,\"#9c179e\"],[0.4444444444444444,\"#bd3786\"],[0.5555555555555556,\"#d8576b\"],[0.6666666666666666,\"#ed7953\"],[0.7777777777777778,\"#fb9f3a\"],[0.8888888888888888,\"#fdca26\"],[1.0,\"#f0f921\"]],\"sequentialminus\":[[0.0,\"#0d0887\"],[0.1111111111111111,\"#46039f\"],[0.2222222222222222,\"#7201a8\"],[0.3333333333333333,\"#9c179e\"],[0.4444444444444444,\"#bd3786\"],[0.5555555555555556,\"#d8576b\"],[0.6666666666666666,\"#ed7953\"],[0.7777777777777778,\"#fb9f3a\"],[0.8888888888888888,\"#fdca26\"],[1.0,\"#f0f921\"]]},\"colorway\":[\"#636efa\",\"#EF553B\",\"#00cc96\",\"#ab63fa\",\"#FFA15A\",\"#19d3f3\",\"#FF6692\",\"#B6E880\",\"#FF97FF\",\"#FECB52\"],\"font\":{\"color\":\"#2a3f5f\"},\"geo\":{\"bgcolor\":\"white\",\"lakecolor\":\"white\",\"landcolor\":\"#E5ECF6\",\"showlakes\":true,\"showland\":true,\"subunitcolor\":\"white\"},\"hoverlabel\":{\"align\":\"left\"},\"hovermode\":\"closest\",\"mapbox\":{\"style\":\"light\"},\"paper_bgcolor\":\"white\",\"plot_bgcolor\":\"#E5ECF6\",\"polar\":{\"angularaxis\":{\"gridcolor\":\"white\",\"linecolor\":\"white\",\"ticks\":\"\"},\"bgcolor\":\"#E5ECF6\",\"radialaxis\":{\"gridcolor\":\"white\",\"linecolor\":\"white\",\"ticks\":\"\"}},\"scene\":{\"xaxis\":{\"backgroundcolor\":\"#E5ECF6\",\"gridcolor\":\"white\",\"gridwidth\":2,\"linecolor\":\"white\",\"showbackground\":true,\"ticks\":\"\",\"zerolinecolor\":\"white\"},\"yaxis\":{\"backgroundcolor\":\"#E5ECF6\",\"gridcolor\":\"white\",\"gridwidth\":2,\"linecolor\":\"white\",\"showbackground\":true,\"ticks\":\"\",\"zerolinecolor\":\"white\"},\"zaxis\":{\"backgroundcolor\":\"#E5ECF6\",\"gridcolor\":\"white\",\"gridwidth\":2,\"linecolor\":\"white\",\"showbackground\":true,\"ticks\":\"\",\"zerolinecolor\":\"white\"}},\"shapedefaults\":{\"line\":{\"color\":\"#2a3f5f\"}},\"ternary\":{\"aaxis\":{\"gridcolor\":\"white\",\"linecolor\":\"white\",\"ticks\":\"\"},\"baxis\":{\"gridcolor\":\"white\",\"linecolor\":\"white\",\"ticks\":\"\"},\"bgcolor\":\"#E5ECF6\",\"caxis\":{\"gridcolor\":\"white\",\"linecolor\":\"white\",\"ticks\":\"\"}},\"title\":{\"x\":0.05},\"xaxis\":{\"automargin\":true,\"gridcolor\":\"white\",\"linecolor\":\"white\",\"ticks\":\"\",\"title\":{\"standoff\":15},\"zerolinecolor\":\"white\",\"zerolinewidth\":2},\"yaxis\":{\"automargin\":true,\"gridcolor\":\"white\",\"linecolor\":\"white\",\"ticks\":\"\",\"title\":{\"standoff\":15},\"zerolinecolor\":\"white\",\"zerolinewidth\":2}}},\"title\":{\"text\":\"\\u0412\\u043e\\u0440\\u043e\\u043d\\u043a\\u0430 \\u0441\\u043e\\u0431\\u044b\\u0442\\u0438\\u0439, \\u043a\\u043e\\u0442\\u043e\\u0440\\u044b\\u0435 \\u0441\\u043e\\u0432\\u0435\\u0440\\u0448\\u0430\\u044e\\u0442 \\u043f\\u043e\\u043b\\u044c\\u0437\\u043e\\u0432\\u0430\\u0442\\u0435\\u043b\\u0438\"}},                        {\"responsive\": true}                    ).then(function(){\n",
       "                            \n",
       "var gd = document.getElementById('a04fc30e-045b-40db-b62e-e1dc15f3d5d4');\n",
       "var x = new MutationObserver(function (mutations, observer) {{\n",
       "        var display = window.getComputedStyle(gd).display;\n",
       "        if (!display || display === 'none') {{\n",
       "            console.log([gd, 'removed!']);\n",
       "            Plotly.purge(gd);\n",
       "            observer.disconnect();\n",
       "        }}\n",
       "}});\n",
       "\n",
       "// Listen for the removal of the full notebook cells\n",
       "var notebookContainer = gd.closest('#notebook-container');\n",
       "if (notebookContainer) {{\n",
       "    x.observe(notebookContainer, {childList: true});\n",
       "}}\n",
       "\n",
       "// Listen for the clearing of the current output cell\n",
       "var outputEl = gd.closest('.output');\n",
       "if (outputEl) {{\n",
       "    x.observe(outputEl, {childList: true});\n",
       "}}\n",
       "\n",
       "                        })                };                });            </script>        </div>"
      ]
     },
     "metadata": {},
     "output_type": "display_data"
    }
   ],
   "source": [
    "users_for_event_t = users_for_event.query('event != \"Tutorial\"')\n",
    "fig = go.Figure(go.Funnel(y=users_for_event_t['event'], x=users_for_event_t['user_id']))\n",
    "fig.update_layout(title='Воронка событий, которые совершают пользователи')\n",
    "fig.show()"
   ]
  },
  {
   "cell_type": "markdown",
   "metadata": {},
   "source": [
    "Проанализировав воронку, можем сделать выводы, что 61.9% пользователей переходят с главного экрана в каталог, 81.3% из каталога на экран оплаты и 94.8% совершают оплату. \n",
    "\n",
    "Больше всего пользователей \"отпадают\" на переходе из главного экрана в каталог\n",
    "\n",
    "От первого события до оплаты доходит 47.7% пользователей"
   ]
  },
  {
   "cell_type": "markdown",
   "metadata": {},
   "source": [
    "**Итак, в ходе изучения воронки событий было выявлено, что в логах присутствует 5 событий: MainScreenAppear, OffersScreenAppear, CartScreenAppear, PaymentScreenSuccessful, Tutorial. Чаще всего присутствует событие MainScreenAppear, реже - Tutorial. Что касается доли пользователей на каждом шаге воронки, 61.9% пользователей переходят с главного экрана в каталог, 81.3% из каталога на экран оплаты и 94.8% совершают оплату. От первого события до оплаты доходит 47.7% пользователей**"
   ]
  },
  {
   "cell_type": "markdown",
   "metadata": {},
   "source": [
    "# Изучение результатов эксперимента"
   ]
  },
  {
   "cell_type": "markdown",
   "metadata": {},
   "source": [
    "Посчитаем сколько пользователей в каждой экспериментальной группе"
   ]
  },
  {
   "cell_type": "code",
   "execution_count": 71,
   "metadata": {},
   "outputs": [
    {
     "data": {
      "text/html": [
       "<div>\n",
       "<style scoped>\n",
       "    .dataframe tbody tr th:only-of-type {\n",
       "        vertical-align: middle;\n",
       "    }\n",
       "\n",
       "    .dataframe tbody tr th {\n",
       "        vertical-align: top;\n",
       "    }\n",
       "\n",
       "    .dataframe thead th {\n",
       "        text-align: right;\n",
       "    }\n",
       "</style>\n",
       "<table border=\"1\" class=\"dataframe\">\n",
       "  <thead>\n",
       "    <tr style=\"text-align: right;\">\n",
       "      <th></th>\n",
       "      <th>group</th>\n",
       "      <th>user_id</th>\n",
       "    </tr>\n",
       "  </thead>\n",
       "  <tbody>\n",
       "    <tr>\n",
       "      <th>0</th>\n",
       "      <td>246</td>\n",
       "      <td>2484</td>\n",
       "    </tr>\n",
       "    <tr>\n",
       "      <th>1</th>\n",
       "      <td>247</td>\n",
       "      <td>2513</td>\n",
       "    </tr>\n",
       "    <tr>\n",
       "      <th>2</th>\n",
       "      <td>248</td>\n",
       "      <td>2537</td>\n",
       "    </tr>\n",
       "  </tbody>\n",
       "</table>\n",
       "</div>"
      ],
      "text/plain": [
       "   group  user_id\n",
       "0    246     2484\n",
       "1    247     2513\n",
       "2    248     2537"
      ]
     },
     "execution_count": 71,
     "metadata": {},
     "output_type": "execute_result"
    }
   ],
   "source": [
    "data.groupby('group').agg({'user_id':'nunique'}).reset_index()"
   ]
  },
  {
   "cell_type": "markdown",
   "metadata": {},
   "source": [
    "**Есть 2 контрольные группы для А/А-эксперимента, чтобы проверить корректность всех механизмов и расчётов. Проверим, находят ли статистические критерии разницу между выборками 246 и 247**"
   ]
  },
  {
   "cell_type": "markdown",
   "metadata": {},
   "source": [
    "Гипотезы:\n",
    "\n",
    "- Нулевая: не существует статистически значимой разницы между долями;\n",
    "\n",
    "- Альтернативная: между долями есть статистически значимая разница."
   ]
  },
  {
   "cell_type": "code",
   "execution_count": 72,
   "metadata": {},
   "outputs": [
    {
     "data": {
      "text/html": [
       "<div>\n",
       "<style scoped>\n",
       "    .dataframe tbody tr th:only-of-type {\n",
       "        vertical-align: middle;\n",
       "    }\n",
       "\n",
       "    .dataframe tbody tr th {\n",
       "        vertical-align: top;\n",
       "    }\n",
       "\n",
       "    .dataframe thead th {\n",
       "        text-align: right;\n",
       "    }\n",
       "</style>\n",
       "<table border=\"1\" class=\"dataframe\">\n",
       "  <thead>\n",
       "    <tr style=\"text-align: right;\">\n",
       "      <th>group</th>\n",
       "      <th>event</th>\n",
       "      <th>246</th>\n",
       "      <th>247</th>\n",
       "      <th>248</th>\n",
       "      <th>total</th>\n",
       "    </tr>\n",
       "  </thead>\n",
       "  <tbody>\n",
       "    <tr>\n",
       "      <th>1</th>\n",
       "      <td>MainScreenAppear</td>\n",
       "      <td>2450</td>\n",
       "      <td>2476</td>\n",
       "      <td>2493</td>\n",
       "      <td>7419</td>\n",
       "    </tr>\n",
       "    <tr>\n",
       "      <th>2</th>\n",
       "      <td>OffersScreenAppear</td>\n",
       "      <td>1542</td>\n",
       "      <td>1520</td>\n",
       "      <td>1531</td>\n",
       "      <td>4593</td>\n",
       "    </tr>\n",
       "    <tr>\n",
       "      <th>0</th>\n",
       "      <td>CartScreenAppear</td>\n",
       "      <td>1266</td>\n",
       "      <td>1238</td>\n",
       "      <td>1230</td>\n",
       "      <td>3734</td>\n",
       "    </tr>\n",
       "    <tr>\n",
       "      <th>3</th>\n",
       "      <td>PaymentScreenSuccessful</td>\n",
       "      <td>1200</td>\n",
       "      <td>1158</td>\n",
       "      <td>1181</td>\n",
       "      <td>3539</td>\n",
       "    </tr>\n",
       "  </tbody>\n",
       "</table>\n",
       "</div>"
      ],
      "text/plain": [
       "group                    event   246   247   248  total\n",
       "1             MainScreenAppear  2450  2476  2493   7419\n",
       "2           OffersScreenAppear  1542  1520  1531   4593\n",
       "0             CartScreenAppear  1266  1238  1230   3734\n",
       "3      PaymentScreenSuccessful  1200  1158  1181   3539"
      ]
     },
     "execution_count": 72,
     "metadata": {},
     "output_type": "execute_result"
    }
   ],
   "source": [
    "test = data.pivot_table(index='event', columns='group', values='user_id', aggfunc='nunique').reset_index().query('event != \"Tutorial\"')\n",
    "test['total'] = test[246]+test[247]+test[248]\n",
    "test = test.sort_values(by='total', ascending=False)\n",
    "test"
   ]
  },
  {
   "cell_type": "markdown",
   "metadata": {},
   "source": [
    "**Проведем z-тест**"
   ]
  },
  {
   "cell_type": "code",
   "execution_count": 73,
   "metadata": {},
   "outputs": [
    {
     "name": "stdout",
     "output_type": "stream",
     "text": [
      "CartScreenAppear p-значение: 0.22883372237997213\n",
      "Не получилось отвергнуть нулевую гипотезу, нет оснований считать доли разными\n",
      "\n",
      "MainScreenAppear p-значение: 0.7570597232046099\n",
      "Не получилось отвергнуть нулевую гипотезу, нет оснований считать доли разными\n",
      "\n",
      "OffersScreenAppear p-значение: 0.2480954578522181\n",
      "Не получилось отвергнуть нулевую гипотезу, нет оснований считать доли разными\n",
      "\n",
      "PaymentScreenSuccessful p-значение: 0.11456679313141849\n",
      "Не получилось отвергнуть нулевую гипотезу, нет оснований считать доли разными\n",
      "\n"
     ]
    }
   ],
   "source": [
    "def z_test(array, trials, column1, column2):\n",
    "    for i in range(0, 4):\n",
    "        successes = np.array([array.loc[i, column1], array.loc[i, column2]])     \n",
    "        \n",
    "        p1 = successes[0]/trials[0]       \n",
    "        \n",
    "        p2 = successes[1]/trials[1]       \n",
    "        \n",
    "        p_combined = (successes[0] + successes[1]) / (trials[0] + trials[1])       \n",
    "        \n",
    "        difference = p1 - p2       \n",
    "        \n",
    "        z_value = difference / mth.sqrt(p_combined * (1 - p_combined) * (1/trials[0] + 1/trials[1]))      \n",
    "        \n",
    "        distr = st.norm(0, 1)        \n",
    "        p_value = (1 - distr.cdf(abs(z_value))) * 2  \n",
    "      \n",
    "        alpha = 0.05 \n",
    "        print('{} p-значение: {}'.format(test['event'][i], p_value))\n",
    "        if p_value < alpha:\n",
    "            print('Отвергаем нулевую гипотезу: между долями есть значимая разница')\n",
    "        else:\n",
    "            print('Не получилось отвергнуть нулевую гипотезу, нет оснований считать доли разными')\n",
    "        print('')\n",
    "            \n",
    "            \n",
    "trials = np.array([groups.loc[0, 'user_id'], groups.loc[1, 'user_id']])\n",
    "z_test(test, trials, 246, 247) "
   ]
  },
  {
   "cell_type": "markdown",
   "metadata": {},
   "source": [
    "Можем сделать вывод, что нет оснований считать доли разными при уровне статистической значимости, равной 5%"
   ]
  },
  {
   "cell_type": "markdown",
   "metadata": {},
   "source": [
    "**Выберем самое популярное событие. Посчитаем число пользователей, совершивших это событие в каждой из контрольных групп. Посчитаем долю пользователей, совершивших это событие.**"
   ]
  },
  {
   "cell_type": "code",
   "execution_count": 74,
   "metadata": {},
   "outputs": [
    {
     "data": {
      "text/html": [
       "<div>\n",
       "<style scoped>\n",
       "    .dataframe tbody tr th:only-of-type {\n",
       "        vertical-align: middle;\n",
       "    }\n",
       "\n",
       "    .dataframe tbody tr th {\n",
       "        vertical-align: top;\n",
       "    }\n",
       "\n",
       "    .dataframe thead th {\n",
       "        text-align: right;\n",
       "    }\n",
       "</style>\n",
       "<table border=\"1\" class=\"dataframe\">\n",
       "  <thead>\n",
       "    <tr style=\"text-align: right;\">\n",
       "      <th>group</th>\n",
       "      <th>event</th>\n",
       "      <th>246</th>\n",
       "      <th>247</th>\n",
       "      <th>248</th>\n",
       "      <th>total</th>\n",
       "    </tr>\n",
       "  </thead>\n",
       "  <tbody>\n",
       "    <tr>\n",
       "      <th>1</th>\n",
       "      <td>MainScreenAppear</td>\n",
       "      <td>2450</td>\n",
       "      <td>2476</td>\n",
       "      <td>2493</td>\n",
       "      <td>7419</td>\n",
       "    </tr>\n",
       "    <tr>\n",
       "      <th>2</th>\n",
       "      <td>OffersScreenAppear</td>\n",
       "      <td>1542</td>\n",
       "      <td>1520</td>\n",
       "      <td>1531</td>\n",
       "      <td>4593</td>\n",
       "    </tr>\n",
       "    <tr>\n",
       "      <th>0</th>\n",
       "      <td>CartScreenAppear</td>\n",
       "      <td>1266</td>\n",
       "      <td>1238</td>\n",
       "      <td>1230</td>\n",
       "      <td>3734</td>\n",
       "    </tr>\n",
       "    <tr>\n",
       "      <th>3</th>\n",
       "      <td>PaymentScreenSuccessful</td>\n",
       "      <td>1200</td>\n",
       "      <td>1158</td>\n",
       "      <td>1181</td>\n",
       "      <td>3539</td>\n",
       "    </tr>\n",
       "  </tbody>\n",
       "</table>\n",
       "</div>"
      ],
      "text/plain": [
       "group                    event   246   247   248  total\n",
       "1             MainScreenAppear  2450  2476  2493   7419\n",
       "2           OffersScreenAppear  1542  1520  1531   4593\n",
       "0             CartScreenAppear  1266  1238  1230   3734\n",
       "3      PaymentScreenSuccessful  1200  1158  1181   3539"
      ]
     },
     "execution_count": 74,
     "metadata": {},
     "output_type": "execute_result"
    }
   ],
   "source": [
    "test"
   ]
  },
  {
   "cell_type": "markdown",
   "metadata": {},
   "source": [
    "Самое популярное событие - MainScreenAppear"
   ]
  },
  {
   "cell_type": "markdown",
   "metadata": {},
   "source": [
    "Найдем долю пользователей, совершивших это событие"
   ]
  },
  {
   "cell_type": "code",
   "execution_count": 75,
   "metadata": {},
   "outputs": [
    {
     "data": {
      "text/html": [
       "<div>\n",
       "<style scoped>\n",
       "    .dataframe tbody tr th:only-of-type {\n",
       "        vertical-align: middle;\n",
       "    }\n",
       "\n",
       "    .dataframe tbody tr th {\n",
       "        vertical-align: top;\n",
       "    }\n",
       "\n",
       "    .dataframe thead th {\n",
       "        text-align: right;\n",
       "    }\n",
       "</style>\n",
       "<table border=\"1\" class=\"dataframe\">\n",
       "  <thead>\n",
       "    <tr style=\"text-align: right;\">\n",
       "      <th></th>\n",
       "      <th>user_id</th>\n",
       "      <th>share</th>\n",
       "    </tr>\n",
       "    <tr>\n",
       "      <th>group</th>\n",
       "      <th></th>\n",
       "      <th></th>\n",
       "    </tr>\n",
       "  </thead>\n",
       "  <tbody>\n",
       "    <tr>\n",
       "      <th>248</th>\n",
       "      <td>2493</td>\n",
       "      <td>33.089992</td>\n",
       "    </tr>\n",
       "    <tr>\n",
       "      <th>247</th>\n",
       "      <td>2476</td>\n",
       "      <td>32.864348</td>\n",
       "    </tr>\n",
       "    <tr>\n",
       "      <th>246</th>\n",
       "      <td>2450</td>\n",
       "      <td>32.519246</td>\n",
       "    </tr>\n",
       "  </tbody>\n",
       "</table>\n",
       "</div>"
      ],
      "text/plain": [
       "       user_id      share\n",
       "group                    \n",
       "248       2493  33.089992\n",
       "247       2476  32.864348\n",
       "246       2450  32.519246"
      ]
     },
     "execution_count": 75,
     "metadata": {},
     "output_type": "execute_result"
    }
   ],
   "source": [
    "main_share = data.query('event == \"MainScreenAppear\"').groupby('group').agg({'user_id':'nunique'}).sort_values(by='user_id', ascending=False)\n",
    "main_share['share'] = main_share['user_id']/data['user_id'].nunique() * 100\n",
    "main_share"
   ]
  },
  {
   "cell_type": "markdown",
   "metadata": {},
   "source": [
    "**Проверим, будет ли отличие между группами статистически достоверным**"
   ]
  },
  {
   "cell_type": "code",
   "execution_count": 76,
   "metadata": {},
   "outputs": [
    {
     "name": "stdout",
     "output_type": "stream",
     "text": [
      "CartScreenAppear p-значение: 0.07842923237520116\n",
      "Не получилось отвергнуть нулевую гипотезу, нет оснований считать доли разными\n",
      "\n",
      "MainScreenAppear p-значение: 0.2949721933554552\n",
      "Не получилось отвергнуть нулевую гипотезу, нет оснований считать доли разными\n",
      "\n",
      "OffersScreenAppear p-значение: 0.20836205402738917\n",
      "Не получилось отвергнуть нулевую гипотезу, нет оснований считать доли разными\n",
      "\n",
      "PaymentScreenSuccessful p-значение: 0.2122553275697796\n",
      "Не получилось отвергнуть нулевую гипотезу, нет оснований считать доли разными\n",
      "\n"
     ]
    }
   ],
   "source": [
    "#сравним группы 246 и 248\n",
    "trials = np.array([groups.loc[0, 'user_id'], groups.loc[2, 'user_id']])\n",
    "z_test(test, trials, 246, 248) "
   ]
  },
  {
   "cell_type": "markdown",
   "metadata": {},
   "source": [
    "Можем сделать вывод, что между группой 246 (контрольной) и 248 (экспериментальной) статистически значимой разницы нет"
   ]
  },
  {
   "cell_type": "code",
   "execution_count": 77,
   "metadata": {},
   "outputs": [
    {
     "name": "stdout",
     "output_type": "stream",
     "text": [
      "CartScreenAppear p-значение: 0.17793756017873896\n",
      "Не получилось отвергнуть нулевую гипотезу, нет оснований считать доли разными\n",
      "\n",
      "MainScreenAppear p-значение: 0.05661336589860122\n",
      "Не получилось отвергнуть нулевую гипотезу, нет оснований считать доли разными\n",
      "\n",
      "OffersScreenAppear p-значение: 0.46038693051414503\n",
      "Не получилось отвергнуть нулевую гипотезу, нет оснований считать доли разными\n",
      "\n",
      "PaymentScreenSuccessful p-значение: 0.3927720688492329\n",
      "Не получилось отвергнуть нулевую гипотезу, нет оснований считать доли разными\n",
      "\n"
     ]
    }
   ],
   "source": [
    "#сравним группы 247 и 248\n",
    "trials = np.array([groups.loc[1, 'user_id'], groups.loc[2, 'user_id']])\n",
    "z_test(test, trials, 246, 248)  "
   ]
  },
  {
   "cell_type": "markdown",
   "metadata": {},
   "source": [
    "Можем сделать вывод, что между группой 247 (контрольной) и 248 (экспериментальной) статистически значимой разницы нет"
   ]
  },
  {
   "cell_type": "markdown",
   "metadata": {},
   "source": [
    "**Сравним объединённые контрольные группы**"
   ]
  },
  {
   "cell_type": "code",
   "execution_count": 78,
   "metadata": {},
   "outputs": [
    {
     "data": {
      "text/html": [
       "<div>\n",
       "<style scoped>\n",
       "    .dataframe tbody tr th:only-of-type {\n",
       "        vertical-align: middle;\n",
       "    }\n",
       "\n",
       "    .dataframe tbody tr th {\n",
       "        vertical-align: top;\n",
       "    }\n",
       "\n",
       "    .dataframe thead th {\n",
       "        text-align: right;\n",
       "    }\n",
       "</style>\n",
       "<table border=\"1\" class=\"dataframe\">\n",
       "  <thead>\n",
       "    <tr style=\"text-align: right;\">\n",
       "      <th>group</th>\n",
       "      <th>event</th>\n",
       "      <th>246</th>\n",
       "      <th>247</th>\n",
       "      <th>248</th>\n",
       "      <th>total</th>\n",
       "      <th>cont</th>\n",
       "    </tr>\n",
       "  </thead>\n",
       "  <tbody>\n",
       "    <tr>\n",
       "      <th>1</th>\n",
       "      <td>MainScreenAppear</td>\n",
       "      <td>2450</td>\n",
       "      <td>2476</td>\n",
       "      <td>2493</td>\n",
       "      <td>7419</td>\n",
       "      <td>4926</td>\n",
       "    </tr>\n",
       "    <tr>\n",
       "      <th>2</th>\n",
       "      <td>OffersScreenAppear</td>\n",
       "      <td>1542</td>\n",
       "      <td>1520</td>\n",
       "      <td>1531</td>\n",
       "      <td>4593</td>\n",
       "      <td>3062</td>\n",
       "    </tr>\n",
       "    <tr>\n",
       "      <th>0</th>\n",
       "      <td>CartScreenAppear</td>\n",
       "      <td>1266</td>\n",
       "      <td>1238</td>\n",
       "      <td>1230</td>\n",
       "      <td>3734</td>\n",
       "      <td>2504</td>\n",
       "    </tr>\n",
       "    <tr>\n",
       "      <th>3</th>\n",
       "      <td>PaymentScreenSuccessful</td>\n",
       "      <td>1200</td>\n",
       "      <td>1158</td>\n",
       "      <td>1181</td>\n",
       "      <td>3539</td>\n",
       "      <td>2358</td>\n",
       "    </tr>\n",
       "  </tbody>\n",
       "</table>\n",
       "</div>"
      ],
      "text/plain": [
       "group                    event   246   247   248  total  cont\n",
       "1             MainScreenAppear  2450  2476  2493   7419  4926\n",
       "2           OffersScreenAppear  1542  1520  1531   4593  3062\n",
       "0             CartScreenAppear  1266  1238  1230   3734  2504\n",
       "3      PaymentScreenSuccessful  1200  1158  1181   3539  2358"
      ]
     },
     "execution_count": 78,
     "metadata": {},
     "output_type": "execute_result"
    }
   ],
   "source": [
    "test['cont'] = test[246] + test[247]\n",
    "test"
   ]
  },
  {
   "cell_type": "code",
   "execution_count": 79,
   "metadata": {},
   "outputs": [
    {
     "data": {
      "text/html": [
       "<div>\n",
       "<style scoped>\n",
       "    .dataframe tbody tr th:only-of-type {\n",
       "        vertical-align: middle;\n",
       "    }\n",
       "\n",
       "    .dataframe tbody tr th {\n",
       "        vertical-align: top;\n",
       "    }\n",
       "\n",
       "    .dataframe thead th {\n",
       "        text-align: right;\n",
       "    }\n",
       "</style>\n",
       "<table border=\"1\" class=\"dataframe\">\n",
       "  <thead>\n",
       "    <tr style=\"text-align: right;\">\n",
       "      <th></th>\n",
       "      <th>group</th>\n",
       "      <th>user_id</th>\n",
       "    </tr>\n",
       "  </thead>\n",
       "  <tbody>\n",
       "    <tr>\n",
       "      <th>0</th>\n",
       "      <td>246</td>\n",
       "      <td>2484</td>\n",
       "    </tr>\n",
       "    <tr>\n",
       "      <th>1</th>\n",
       "      <td>247</td>\n",
       "      <td>2513</td>\n",
       "    </tr>\n",
       "    <tr>\n",
       "      <th>2</th>\n",
       "      <td>248</td>\n",
       "      <td>2537</td>\n",
       "    </tr>\n",
       "    <tr>\n",
       "      <th>3</th>\n",
       "      <td>cont</td>\n",
       "      <td>4997</td>\n",
       "    </tr>\n",
       "  </tbody>\n",
       "</table>\n",
       "</div>"
      ],
      "text/plain": [
       "  group  user_id\n",
       "0   246     2484\n",
       "1   247     2513\n",
       "2   248     2537\n",
       "3  cont     4997"
      ]
     },
     "execution_count": 79,
     "metadata": {},
     "output_type": "execute_result"
    }
   ],
   "source": [
    "mer = {'group':'cont', 'user_id': 2484+2513}\n",
    "\n",
    "groups = groups.append(mer, ignore_index=True)\n",
    "groups"
   ]
  },
  {
   "cell_type": "code",
   "execution_count": 80,
   "metadata": {},
   "outputs": [
    {
     "name": "stdout",
     "output_type": "stream",
     "text": [
      "CartScreenAppear p-значение: 0.18175875284404386\n",
      "Не получилось отвергнуть нулевую гипотезу, нет оснований считать доли разными\n",
      "\n",
      "MainScreenAppear p-значение: 0.29424526837179577\n",
      "Не получилось отвергнуть нулевую гипотезу, нет оснований считать доли разными\n",
      "\n",
      "OffersScreenAppear p-значение: 0.43425549655188256\n",
      "Не получилось отвергнуть нулевую гипотезу, нет оснований считать доли разными\n",
      "\n",
      "PaymentScreenSuccessful p-значение: 0.6004294282308704\n",
      "Не получилось отвергнуть нулевую гипотезу, нет оснований считать доли разными\n",
      "\n"
     ]
    }
   ],
   "source": [
    "trials = np.array([groups.loc[3, 'user_id'], groups.loc[2, 'user_id']])\n",
    "z_test(test, trials, 'cont', 248)"
   ]
  },
  {
   "cell_type": "markdown",
   "metadata": {},
   "source": [
    "Вывод по итогам теста: между объединенными контрольными группами 246 и 247 и экспериментальной 248 статистически значимой разницы нет"
   ]
  },
  {
   "cell_type": "markdown",
   "metadata": {},
   "source": [
    "# Выбор уровня статистической значимости"
   ]
  },
  {
   "cell_type": "markdown",
   "metadata": {},
   "source": [
    "Общее количество проведенных проверок: 16"
   ]
  },
  {
   "cell_type": "markdown",
   "metadata": {},
   "source": [
    "Выбранный уровент значимости 5%\n"
   ]
  },
  {
   "cell_type": "markdown",
   "metadata": {},
   "source": [
    "**Повторно проверим гипотезы с уровнем статистической значимости в 1%**"
   ]
  },
  {
   "cell_type": "code",
   "execution_count": 81,
   "metadata": {},
   "outputs": [
    {
     "name": "stdout",
     "output_type": "stream",
     "text": [
      "CartScreenAppear p-значение: 0.22883372237997213\n",
      "Не получилось отвергнуть нулевую гипотезу, нет оснований считать доли разными\n",
      "\n",
      "MainScreenAppear p-значение: 0.7570597232046099\n",
      "Не получилось отвергнуть нулевую гипотезу, нет оснований считать доли разными\n",
      "\n",
      "OffersScreenAppear p-значение: 0.2480954578522181\n",
      "Не получилось отвергнуть нулевую гипотезу, нет оснований считать доли разными\n",
      "\n",
      "PaymentScreenSuccessful p-значение: 0.11456679313141849\n",
      "Не получилось отвергнуть нулевую гипотезу, нет оснований считать доли разными\n",
      "\n"
     ]
    }
   ],
   "source": [
    "def z_test(array, trials, column1, column2):\n",
    "    for i in range(0, 4):\n",
    "        successes = np.array([array.loc[i, column1], array.loc[i, column2]])     \n",
    "        p1 = successes[0]/trials[0]       \n",
    "        p2 = successes[1]/trials[1]       \n",
    "        p_combined = (successes[0] + successes[1]) / (trials[0] + trials[1])       \n",
    "        difference = p1 - p2       \n",
    "        z_value = difference / mth.sqrt(p_combined * (1 - p_combined) * (1/trials[0] + 1/trials[1]))      \n",
    "        distr = st.norm(0, 1)        \n",
    "        p_value = (1 - distr.cdf(abs(z_value))) * 2  \n",
    "        alpha = 0.01 \n",
    "        print('{} p-значение: {}'.format(test['event'][i], p_value))\n",
    "        if p_value < alpha:\n",
    "            print('Отвергаем нулевую гипотезу: между долями есть значимая разница')\n",
    "        else:\n",
    "            print('Не получилось отвергнуть нулевую гипотезу, нет оснований считать доли разными')\n",
    "        print('')\n",
    "            \n",
    "            \n",
    "trials = np.array([groups.loc[0, 'user_id'], groups.loc[1, 'user_id']])\n",
    "z_test(test, trials, 246, 247)"
   ]
  },
  {
   "cell_type": "code",
   "execution_count": 82,
   "metadata": {},
   "outputs": [
    {
     "name": "stdout",
     "output_type": "stream",
     "text": [
      "CartScreenAppear p-значение: 0.07842923237520116\n",
      "Не получилось отвергнуть нулевую гипотезу, нет оснований считать доли разными\n",
      "\n",
      "MainScreenAppear p-значение: 0.2949721933554552\n",
      "Не получилось отвергнуть нулевую гипотезу, нет оснований считать доли разными\n",
      "\n",
      "OffersScreenAppear p-значение: 0.20836205402738917\n",
      "Не получилось отвергнуть нулевую гипотезу, нет оснований считать доли разными\n",
      "\n",
      "PaymentScreenSuccessful p-значение: 0.2122553275697796\n",
      "Не получилось отвергнуть нулевую гипотезу, нет оснований считать доли разными\n",
      "\n"
     ]
    }
   ],
   "source": [
    "trials = np.array([groups.loc[0, 'user_id'], groups.loc[2, 'user_id']])\n",
    "z_test(test, trials, 246, 248)"
   ]
  },
  {
   "cell_type": "code",
   "execution_count": 83,
   "metadata": {},
   "outputs": [
    {
     "name": "stdout",
     "output_type": "stream",
     "text": [
      "CartScreenAppear p-значение: 0.5786197879539783\n",
      "Не получилось отвергнуть нулевую гипотезу, нет оснований считать доли разными\n",
      "\n",
      "MainScreenAppear p-значение: 0.4587053616621515\n",
      "Не получилось отвергнуть нулевую гипотезу, нет оснований считать доли разными\n",
      "\n",
      "OffersScreenAppear p-значение: 0.9197817830592261\n",
      "Не получилось отвергнуть нулевую гипотезу, нет оснований считать доли разными\n",
      "\n",
      "PaymentScreenSuccessful p-значение: 0.7373415053803964\n",
      "Не получилось отвергнуть нулевую гипотезу, нет оснований считать доли разными\n",
      "\n"
     ]
    }
   ],
   "source": [
    "trials = np.array([groups.loc[1, 'user_id'], groups.loc[2, 'user_id']])\n",
    "z_test(test, trials, 247, 248)"
   ]
  },
  {
   "cell_type": "code",
   "execution_count": 84,
   "metadata": {},
   "outputs": [
    {
     "name": "stdout",
     "output_type": "stream",
     "text": [
      "CartScreenAppear p-значение: 0.18175875284404386\n",
      "Не получилось отвергнуть нулевую гипотезу, нет оснований считать доли разными\n",
      "\n",
      "MainScreenAppear p-значение: 0.29424526837179577\n",
      "Не получилось отвергнуть нулевую гипотезу, нет оснований считать доли разными\n",
      "\n",
      "OffersScreenAppear p-значение: 0.43425549655188256\n",
      "Не получилось отвергнуть нулевую гипотезу, нет оснований считать доли разными\n",
      "\n",
      "PaymentScreenSuccessful p-значение: 0.6004294282308704\n",
      "Не получилось отвергнуть нулевую гипотезу, нет оснований считать доли разными\n",
      "\n"
     ]
    }
   ],
   "source": [
    "trials = np.array([groups.loc[3, 'user_id'], groups.loc[2, 'user_id']])\n",
    "z_test(test, trials, 'cont', 248) "
   ]
  },
  {
   "cell_type": "markdown",
   "metadata": {},
   "source": [
    "Результат проверки с уровнем статистической значимости 1% подтвердил результаты проверки с уровнем статистической значимости в 5%, а значит изменение шрифта никак не влияет на поведение пользователей"
   ]
  },
  {
   "cell_type": "markdown",
   "metadata": {},
   "source": [
    "# Вывод"
   ]
  },
  {
   "cell_type": "markdown",
   "metadata": {},
   "source": [
    "На каждом этапе исследования выявлено следующее:\n",
    "\n",
    "**Изучение и проверка данных**\n",
    "- Общее количество событий в логе: 243713\n",
    "- Всего пользователей в логе: 7551\n",
    "- В среднем событий на пользователя: 32.28\n",
    "- располагаем полными данными с 1 по 7 августа 2019\n",
    "\n",
    "**Изучение воронки событий**\n",
    "- Всего событий 5. Чаще всего встречается MainScreenAppear, реже всего - Tutorial. Событие MainScreenAppear совершало 98% пользователей, в то время как Tutorial - всего 11%\n",
    "- Порядок событий: Главный экран -> Экран предложений -> Корзина -> Экран оплаты -> Туториал\n",
    "- Больше всего пользователей \"отпадают\" на переходе из главного экрана в каталог\n",
    "- От первого события до оплаты доходит 47.7% пользователей\n",
    "\n",
    "**Изучение результатов эксперимента**\n",
    "- в результате А/А эксперимента было выявлено, что между выборками 246 и 247 разница отсутствует\n",
    "\n",
    "- <span style=\"color:blue\">результат А/А/В эксперимента показал, что изменение шрифтов никак не влияет на поведение пользователей</span>"
   ]
  },
  {
   "cell_type": "code",
   "execution_count": null,
   "metadata": {},
   "outputs": [],
   "source": []
  }
 ],
 "metadata": {
  "ExecuteTimeLog": [
   {
    "duration": 454,
    "start_time": "2023-02-16T17:30:49.001Z"
   },
   {
    "duration": 679,
    "start_time": "2023-02-16T17:31:03.797Z"
   },
   {
    "duration": 13,
    "start_time": "2023-02-16T17:31:12.634Z"
   },
   {
    "duration": 66,
    "start_time": "2023-02-16T17:35:47.636Z"
   },
   {
    "duration": 149,
    "start_time": "2023-02-16T17:35:57.850Z"
   },
   {
    "duration": 8,
    "start_time": "2023-02-16T17:35:59.799Z"
   },
   {
    "duration": 430,
    "start_time": "2023-02-18T18:46:07.784Z"
   },
   {
    "duration": 938,
    "start_time": "2023-02-18T18:46:08.216Z"
   },
   {
    "duration": 12,
    "start_time": "2023-02-18T18:46:09.156Z"
   },
   {
    "duration": 69,
    "start_time": "2023-02-18T18:46:34.741Z"
   },
   {
    "duration": 375,
    "start_time": "2023-02-19T16:54:10.891Z"
   },
   {
    "duration": 728,
    "start_time": "2023-02-19T16:54:11.267Z"
   },
   {
    "duration": 16,
    "start_time": "2023-02-19T16:54:11.997Z"
   },
   {
    "duration": 62,
    "start_time": "2023-02-19T16:54:12.016Z"
   },
   {
    "duration": 67,
    "start_time": "2023-02-19T16:54:23.853Z"
   },
   {
    "duration": 8,
    "start_time": "2023-02-19T17:32:16.527Z"
   },
   {
    "duration": 96,
    "start_time": "2023-02-19T17:34:16.280Z"
   },
   {
    "duration": 77,
    "start_time": "2023-02-19T17:34:37.799Z"
   },
   {
    "duration": 9,
    "start_time": "2023-02-19T17:37:55.322Z"
   },
   {
    "duration": 12,
    "start_time": "2023-02-19T17:37:58.637Z"
   },
   {
    "duration": 3,
    "start_time": "2023-02-19T17:38:07.846Z"
   },
   {
    "duration": 166,
    "start_time": "2023-02-19T17:38:07.852Z"
   },
   {
    "duration": 7,
    "start_time": "2023-02-19T17:38:08.020Z"
   },
   {
    "duration": 13,
    "start_time": "2023-02-19T17:38:08.029Z"
   },
   {
    "duration": 10,
    "start_time": "2023-02-19T17:38:08.044Z"
   },
   {
    "duration": 7,
    "start_time": "2023-02-19T17:38:28.579Z"
   },
   {
    "duration": 10,
    "start_time": "2023-02-19T17:38:30.122Z"
   },
   {
    "duration": 7,
    "start_time": "2023-02-19T17:39:56.624Z"
   },
   {
    "duration": 9,
    "start_time": "2023-02-19T17:39:57.457Z"
   },
   {
    "duration": 17,
    "start_time": "2023-02-19T17:41:39.207Z"
   },
   {
    "duration": 2,
    "start_time": "2023-02-19T17:41:44.954Z"
   },
   {
    "duration": 153,
    "start_time": "2023-02-19T17:41:44.958Z"
   },
   {
    "duration": 7,
    "start_time": "2023-02-19T17:41:45.113Z"
   },
   {
    "duration": 26,
    "start_time": "2023-02-19T17:41:45.121Z"
   },
   {
    "duration": 7,
    "start_time": "2023-02-19T17:41:45.149Z"
   },
   {
    "duration": 12,
    "start_time": "2023-02-19T17:41:45.157Z"
   },
   {
    "duration": 38,
    "start_time": "2023-02-19T17:51:52.550Z"
   },
   {
    "duration": 8,
    "start_time": "2023-02-19T17:51:59.141Z"
   },
   {
    "duration": 48,
    "start_time": "2023-02-19T17:53:47.662Z"
   },
   {
    "duration": 9,
    "start_time": "2023-02-19T17:53:48.180Z"
   },
   {
    "duration": 11,
    "start_time": "2023-02-19T17:55:31.403Z"
   },
   {
    "duration": 9,
    "start_time": "2023-02-19T17:55:31.968Z"
   },
   {
    "duration": 10,
    "start_time": "2023-02-19T18:02:31.267Z"
   },
   {
    "duration": 8,
    "start_time": "2023-02-19T18:02:31.855Z"
   },
   {
    "duration": 3,
    "start_time": "2023-02-19T18:05:01.771Z"
   },
   {
    "duration": 162,
    "start_time": "2023-02-19T18:05:01.776Z"
   },
   {
    "duration": 8,
    "start_time": "2023-02-19T18:05:01.940Z"
   },
   {
    "duration": 57,
    "start_time": "2023-02-19T18:05:01.950Z"
   },
   {
    "duration": 16,
    "start_time": "2023-02-19T18:05:02.010Z"
   },
   {
    "duration": 24,
    "start_time": "2023-02-19T18:05:02.028Z"
   },
   {
    "duration": 19,
    "start_time": "2023-02-19T18:05:02.054Z"
   },
   {
    "duration": 9,
    "start_time": "2023-02-19T18:05:02.076Z"
   },
   {
    "duration": 7,
    "start_time": "2023-02-19T18:05:41.582Z"
   },
   {
    "duration": 9,
    "start_time": "2023-02-19T18:05:42.263Z"
   },
   {
    "duration": 7,
    "start_time": "2023-02-19T18:06:29.065Z"
   },
   {
    "duration": 75,
    "start_time": "2023-02-19T18:06:29.473Z"
   },
   {
    "duration": 15,
    "start_time": "2023-02-19T18:07:16.208Z"
   },
   {
    "duration": 10,
    "start_time": "2023-02-19T18:07:17.371Z"
   },
   {
    "duration": 2,
    "start_time": "2023-02-19T18:07:25.235Z"
   },
   {
    "duration": 136,
    "start_time": "2023-02-19T18:07:25.253Z"
   },
   {
    "duration": 7,
    "start_time": "2023-02-19T18:07:25.391Z"
   },
   {
    "duration": 18,
    "start_time": "2023-02-19T18:07:25.399Z"
   },
   {
    "duration": 18,
    "start_time": "2023-02-19T18:07:25.419Z"
   },
   {
    "duration": 9,
    "start_time": "2023-02-19T18:07:25.438Z"
   },
   {
    "duration": 9,
    "start_time": "2023-02-19T18:07:25.448Z"
   },
   {
    "duration": 16,
    "start_time": "2023-02-19T18:07:25.458Z"
   },
   {
    "duration": 8,
    "start_time": "2023-02-19T18:07:25.475Z"
   },
   {
    "duration": 13,
    "start_time": "2023-02-19T18:08:44.634Z"
   },
   {
    "duration": 72,
    "start_time": "2023-02-19T18:09:42.078Z"
   },
   {
    "duration": 70,
    "start_time": "2023-02-19T18:11:42.792Z"
   },
   {
    "duration": 59,
    "start_time": "2023-02-19T18:11:47.919Z"
   },
   {
    "duration": 64,
    "start_time": "2023-02-19T18:12:02.085Z"
   },
   {
    "duration": 76,
    "start_time": "2023-02-19T18:12:07.790Z"
   },
   {
    "duration": 67,
    "start_time": "2023-02-19T18:15:52.669Z"
   },
   {
    "duration": 112,
    "start_time": "2023-02-19T18:21:30.000Z"
   },
   {
    "duration": 72,
    "start_time": "2023-02-19T18:21:40.111Z"
   },
   {
    "duration": 83,
    "start_time": "2023-02-19T18:29:53.635Z"
   },
   {
    "duration": 65,
    "start_time": "2023-02-19T18:30:15.277Z"
   },
   {
    "duration": 66,
    "start_time": "2023-02-19T18:30:27.266Z"
   },
   {
    "duration": 64,
    "start_time": "2023-02-19T18:30:43.505Z"
   },
   {
    "duration": 60,
    "start_time": "2023-02-19T18:30:44.049Z"
   },
   {
    "duration": 78,
    "start_time": "2023-02-19T18:31:56.776Z"
   },
   {
    "duration": 13,
    "start_time": "2023-02-19T18:32:05.415Z"
   },
   {
    "duration": 66,
    "start_time": "2023-02-19T18:32:17.755Z"
   },
   {
    "duration": 83,
    "start_time": "2023-02-19T18:32:35.404Z"
   },
   {
    "duration": 369,
    "start_time": "2023-02-19T18:39:43.674Z"
   },
   {
    "duration": 373,
    "start_time": "2023-02-19T18:39:56.150Z"
   },
   {
    "duration": 389,
    "start_time": "2023-02-19T18:40:19.315Z"
   },
   {
    "duration": 37,
    "start_time": "2023-02-19T18:40:32.802Z"
   },
   {
    "duration": 37,
    "start_time": "2023-02-19T18:41:23.834Z"
   },
   {
    "duration": 7,
    "start_time": "2023-02-19T18:49:39.741Z"
   },
   {
    "duration": 10,
    "start_time": "2023-02-19T18:49:45.017Z"
   },
   {
    "duration": 8,
    "start_time": "2023-02-19T18:50:44.898Z"
   },
   {
    "duration": 14,
    "start_time": "2023-02-19T18:52:06.526Z"
   },
   {
    "duration": 16,
    "start_time": "2023-02-19T18:54:26.903Z"
   },
   {
    "duration": 215,
    "start_time": "2023-02-19T18:56:49.002Z"
   },
   {
    "duration": 5,
    "start_time": "2023-02-19T18:57:05.285Z"
   },
   {
    "duration": 6,
    "start_time": "2023-02-19T18:57:25.686Z"
   },
   {
    "duration": 5,
    "start_time": "2023-02-19T18:57:39.308Z"
   },
   {
    "duration": 966,
    "start_time": "2023-02-19T18:59:56.258Z"
   },
   {
    "duration": 128,
    "start_time": "2023-02-19T19:00:10.014Z"
   },
   {
    "duration": 15,
    "start_time": "2023-02-19T19:02:03.960Z"
   },
   {
    "duration": 2,
    "start_time": "2023-02-19T19:02:54.812Z"
   },
   {
    "duration": 2,
    "start_time": "2023-02-19T19:02:58.719Z"
   },
   {
    "duration": 147,
    "start_time": "2023-02-19T19:02:58.723Z"
   },
   {
    "duration": 7,
    "start_time": "2023-02-19T19:02:58.872Z"
   },
   {
    "duration": 21,
    "start_time": "2023-02-19T19:02:58.881Z"
   },
   {
    "duration": 6,
    "start_time": "2023-02-19T19:02:58.904Z"
   },
   {
    "duration": 10,
    "start_time": "2023-02-19T19:02:58.911Z"
   },
   {
    "duration": 9,
    "start_time": "2023-02-19T19:02:58.938Z"
   },
   {
    "duration": 17,
    "start_time": "2023-02-19T19:02:58.949Z"
   },
   {
    "duration": 72,
    "start_time": "2023-02-19T19:02:58.968Z"
   },
   {
    "duration": 19,
    "start_time": "2023-02-19T19:02:59.041Z"
   },
   {
    "duration": 77,
    "start_time": "2023-02-19T19:02:59.062Z"
   },
   {
    "duration": 62,
    "start_time": "2023-02-19T19:02:59.141Z"
   },
   {
    "duration": 86,
    "start_time": "2023-02-19T19:02:59.205Z"
   },
   {
    "duration": 50,
    "start_time": "2023-02-19T19:02:59.293Z"
   },
   {
    "duration": 10,
    "start_time": "2023-02-19T19:02:59.345Z"
   },
   {
    "duration": 12,
    "start_time": "2023-02-19T19:02:59.356Z"
   },
   {
    "duration": 15,
    "start_time": "2023-02-19T19:02:59.370Z"
   },
   {
    "duration": 6,
    "start_time": "2023-02-19T19:02:59.387Z"
   },
   {
    "duration": 188,
    "start_time": "2023-02-19T19:02:59.394Z"
   },
   {
    "duration": 172,
    "start_time": "2023-02-19T19:03:43.033Z"
   },
   {
    "duration": 262,
    "start_time": "2023-02-19T19:03:59.606Z"
   },
   {
    "duration": 8,
    "start_time": "2023-02-19T19:08:09.909Z"
   },
   {
    "duration": 275,
    "start_time": "2023-02-19T19:08:50.717Z"
   },
   {
    "duration": 308,
    "start_time": "2023-02-19T19:10:33.937Z"
   },
   {
    "duration": 312,
    "start_time": "2023-02-19T19:10:57.986Z"
   },
   {
    "duration": 389,
    "start_time": "2023-02-19T19:11:24.244Z"
   },
   {
    "duration": 344,
    "start_time": "2023-02-19T19:12:02.220Z"
   },
   {
    "duration": 17,
    "start_time": "2023-02-19T19:17:19.421Z"
   },
   {
    "duration": 13,
    "start_time": "2023-02-19T19:17:23.591Z"
   },
   {
    "duration": 14,
    "start_time": "2023-02-19T19:24:12.906Z"
   },
   {
    "duration": 7,
    "start_time": "2023-02-19T19:24:37.597Z"
   },
   {
    "duration": 3,
    "start_time": "2023-02-19T19:24:53.965Z"
   },
   {
    "duration": 144,
    "start_time": "2023-02-19T19:24:53.970Z"
   },
   {
    "duration": 8,
    "start_time": "2023-02-19T19:24:54.115Z"
   },
   {
    "duration": 36,
    "start_time": "2023-02-19T19:24:54.125Z"
   },
   {
    "duration": 7,
    "start_time": "2023-02-19T19:24:54.164Z"
   },
   {
    "duration": 13,
    "start_time": "2023-02-19T19:24:54.173Z"
   },
   {
    "duration": 13,
    "start_time": "2023-02-19T19:24:54.188Z"
   },
   {
    "duration": 14,
    "start_time": "2023-02-19T19:24:54.202Z"
   },
   {
    "duration": 9,
    "start_time": "2023-02-19T19:24:54.236Z"
   },
   {
    "duration": 15,
    "start_time": "2023-02-19T19:24:54.246Z"
   },
   {
    "duration": 97,
    "start_time": "2023-02-19T19:24:54.263Z"
   },
   {
    "duration": 85,
    "start_time": "2023-02-19T19:24:54.362Z"
   },
   {
    "duration": 104,
    "start_time": "2023-02-19T19:24:54.450Z"
   },
   {
    "duration": 43,
    "start_time": "2023-02-19T19:24:54.556Z"
   },
   {
    "duration": 10,
    "start_time": "2023-02-19T19:24:54.601Z"
   },
   {
    "duration": 29,
    "start_time": "2023-02-19T19:24:54.613Z"
   },
   {
    "duration": 14,
    "start_time": "2023-02-19T19:24:54.644Z"
   },
   {
    "duration": 5,
    "start_time": "2023-02-19T19:24:54.660Z"
   },
   {
    "duration": 357,
    "start_time": "2023-02-19T19:24:54.666Z"
   },
   {
    "duration": 21,
    "start_time": "2023-02-19T19:24:55.024Z"
   },
   {
    "duration": 1127,
    "start_time": "2023-02-19T19:25:37.737Z"
   },
   {
    "duration": 10,
    "start_time": "2023-02-19T19:26:01.532Z"
   },
   {
    "duration": 14,
    "start_time": "2023-02-19T19:27:08.665Z"
   },
   {
    "duration": 16,
    "start_time": "2023-02-19T19:27:48.363Z"
   },
   {
    "duration": 4,
    "start_time": "2023-02-19T19:28:58.903Z"
   },
   {
    "duration": 4,
    "start_time": "2023-02-19T19:29:48.060Z"
   },
   {
    "duration": 32,
    "start_time": "2023-02-19T19:32:00.537Z"
   },
   {
    "duration": 6,
    "start_time": "2023-02-19T19:32:07.663Z"
   },
   {
    "duration": 45,
    "start_time": "2023-02-19T19:35:13.892Z"
   },
   {
    "duration": 30,
    "start_time": "2023-02-19T19:36:10.083Z"
   },
   {
    "duration": 24,
    "start_time": "2023-02-19T19:36:16.014Z"
   },
   {
    "duration": 33,
    "start_time": "2023-02-19T19:36:28.259Z"
   },
   {
    "duration": 45,
    "start_time": "2023-02-19T19:41:25.184Z"
   },
   {
    "duration": 48,
    "start_time": "2023-02-19T19:41:32.526Z"
   },
   {
    "duration": 50,
    "start_time": "2023-02-19T19:41:58.841Z"
   },
   {
    "duration": 53,
    "start_time": "2023-02-19T19:42:08.360Z"
   },
   {
    "duration": 50,
    "start_time": "2023-02-19T19:43:32.691Z"
   },
   {
    "duration": 25,
    "start_time": "2023-02-19T19:43:49.842Z"
   },
   {
    "duration": 52,
    "start_time": "2023-02-19T19:43:52.063Z"
   },
   {
    "duration": 15,
    "start_time": "2023-02-19T19:45:12.564Z"
   },
   {
    "duration": 12,
    "start_time": "2023-02-19T19:45:18.517Z"
   },
   {
    "duration": 12,
    "start_time": "2023-02-19T19:45:21.020Z"
   },
   {
    "duration": 2,
    "start_time": "2023-02-19T19:48:39.760Z"
   },
   {
    "duration": 142,
    "start_time": "2023-02-19T19:48:39.764Z"
   },
   {
    "duration": 10,
    "start_time": "2023-02-19T19:48:39.908Z"
   },
   {
    "duration": 27,
    "start_time": "2023-02-19T19:48:39.920Z"
   },
   {
    "duration": 12,
    "start_time": "2023-02-19T19:48:39.949Z"
   },
   {
    "duration": 10,
    "start_time": "2023-02-19T19:48:39.963Z"
   },
   {
    "duration": 12,
    "start_time": "2023-02-19T19:48:39.974Z"
   },
   {
    "duration": 15,
    "start_time": "2023-02-19T19:48:39.988Z"
   },
   {
    "duration": 9,
    "start_time": "2023-02-19T19:48:40.004Z"
   },
   {
    "duration": 20,
    "start_time": "2023-02-19T19:48:40.036Z"
   },
   {
    "duration": 84,
    "start_time": "2023-02-19T19:48:40.057Z"
   },
   {
    "duration": 70,
    "start_time": "2023-02-19T19:48:40.142Z"
   },
   {
    "duration": 85,
    "start_time": "2023-02-19T19:48:40.214Z"
   },
   {
    "duration": 55,
    "start_time": "2023-02-19T19:48:40.301Z"
   },
   {
    "duration": 11,
    "start_time": "2023-02-19T19:48:40.358Z"
   },
   {
    "duration": 9,
    "start_time": "2023-02-19T19:48:40.370Z"
   },
   {
    "duration": 12,
    "start_time": "2023-02-19T19:48:40.381Z"
   },
   {
    "duration": 4,
    "start_time": "2023-02-19T19:48:40.395Z"
   },
   {
    "duration": 370,
    "start_time": "2023-02-19T19:48:40.400Z"
   },
   {
    "duration": 13,
    "start_time": "2023-02-19T19:48:40.773Z"
   },
   {
    "duration": 13,
    "start_time": "2023-02-19T19:48:40.788Z"
   },
   {
    "duration": 3,
    "start_time": "2023-02-19T19:48:40.803Z"
   },
   {
    "duration": 56,
    "start_time": "2023-02-19T19:48:40.807Z"
   },
   {
    "duration": 5,
    "start_time": "2023-02-19T19:48:40.865Z"
   },
   {
    "duration": 25,
    "start_time": "2023-02-19T19:48:40.872Z"
   },
   {
    "duration": 68,
    "start_time": "2023-02-19T19:48:40.898Z"
   },
   {
    "duration": 12,
    "start_time": "2023-02-19T19:48:40.967Z"
   },
   {
    "duration": 9,
    "start_time": "2023-02-19T19:56:22.269Z"
   },
   {
    "duration": 5,
    "start_time": "2023-02-19T19:56:55.892Z"
   },
   {
    "duration": 3,
    "start_time": "2023-02-19T19:56:58.893Z"
   },
   {
    "duration": 155,
    "start_time": "2023-02-19T19:56:58.899Z"
   },
   {
    "duration": 7,
    "start_time": "2023-02-19T19:56:59.057Z"
   },
   {
    "duration": 18,
    "start_time": "2023-02-19T19:56:59.066Z"
   },
   {
    "duration": 7,
    "start_time": "2023-02-19T19:56:59.086Z"
   },
   {
    "duration": 9,
    "start_time": "2023-02-19T19:56:59.096Z"
   },
   {
    "duration": 32,
    "start_time": "2023-02-19T19:56:59.107Z"
   },
   {
    "duration": 25,
    "start_time": "2023-02-19T19:56:59.140Z"
   },
   {
    "duration": 8,
    "start_time": "2023-02-19T19:56:59.166Z"
   },
   {
    "duration": 14,
    "start_time": "2023-02-19T19:56:59.176Z"
   },
   {
    "duration": 86,
    "start_time": "2023-02-19T19:56:59.191Z"
   },
   {
    "duration": 74,
    "start_time": "2023-02-19T19:56:59.279Z"
   },
   {
    "duration": 88,
    "start_time": "2023-02-19T19:56:59.355Z"
   },
   {
    "duration": 43,
    "start_time": "2023-02-19T19:56:59.445Z"
   },
   {
    "duration": 19,
    "start_time": "2023-02-19T19:56:59.492Z"
   },
   {
    "duration": 25,
    "start_time": "2023-02-19T19:56:59.512Z"
   },
   {
    "duration": 20,
    "start_time": "2023-02-19T19:56:59.539Z"
   },
   {
    "duration": 6,
    "start_time": "2023-02-19T19:56:59.560Z"
   },
   {
    "duration": 379,
    "start_time": "2023-02-19T19:56:59.568Z"
   },
   {
    "duration": 14,
    "start_time": "2023-02-19T19:56:59.949Z"
   },
   {
    "duration": 13,
    "start_time": "2023-02-19T19:56:59.965Z"
   },
   {
    "duration": 4,
    "start_time": "2023-02-19T19:56:59.979Z"
   },
   {
    "duration": 54,
    "start_time": "2023-02-19T19:56:59.984Z"
   },
   {
    "duration": 7,
    "start_time": "2023-02-19T19:57:00.040Z"
   },
   {
    "duration": 38,
    "start_time": "2023-02-19T19:57:00.049Z"
   },
   {
    "duration": 65,
    "start_time": "2023-02-19T19:57:00.089Z"
   },
   {
    "duration": 11,
    "start_time": "2023-02-19T19:57:00.156Z"
   },
   {
    "duration": 194,
    "start_time": "2023-02-19T19:57:00.168Z"
   },
   {
    "duration": 846,
    "start_time": "2023-02-20T07:56:07.114Z"
   },
   {
    "duration": 605,
    "start_time": "2023-02-20T07:56:07.963Z"
   },
   {
    "duration": 16,
    "start_time": "2023-02-20T07:56:08.570Z"
   },
   {
    "duration": 46,
    "start_time": "2023-02-20T07:56:08.588Z"
   },
   {
    "duration": 8,
    "start_time": "2023-02-20T07:56:08.637Z"
   },
   {
    "duration": 16,
    "start_time": "2023-02-20T07:56:08.647Z"
   },
   {
    "duration": 16,
    "start_time": "2023-02-20T07:56:08.666Z"
   },
   {
    "duration": 49,
    "start_time": "2023-02-20T07:56:08.684Z"
   },
   {
    "duration": 12,
    "start_time": "2023-02-20T07:56:08.736Z"
   },
   {
    "duration": 30,
    "start_time": "2023-02-20T07:56:08.750Z"
   },
   {
    "duration": 145,
    "start_time": "2023-02-20T07:56:08.781Z"
   },
   {
    "duration": 92,
    "start_time": "2023-02-20T07:56:08.929Z"
   },
   {
    "duration": 85,
    "start_time": "2023-02-20T07:56:09.023Z"
   },
   {
    "duration": 48,
    "start_time": "2023-02-20T07:56:09.111Z"
   },
   {
    "duration": 13,
    "start_time": "2023-02-20T07:56:09.161Z"
   },
   {
    "duration": 9,
    "start_time": "2023-02-20T07:56:09.177Z"
   },
   {
    "duration": 44,
    "start_time": "2023-02-20T07:56:09.188Z"
   },
   {
    "duration": 7,
    "start_time": "2023-02-20T07:56:09.235Z"
   },
   {
    "duration": 477,
    "start_time": "2023-02-20T07:56:09.244Z"
   },
   {
    "duration": 16,
    "start_time": "2023-02-20T07:56:09.723Z"
   },
   {
    "duration": 18,
    "start_time": "2023-02-20T07:56:09.741Z"
   },
   {
    "duration": 4,
    "start_time": "2023-02-20T07:56:09.761Z"
   },
   {
    "duration": 59,
    "start_time": "2023-02-20T07:56:09.767Z"
   },
   {
    "duration": 7,
    "start_time": "2023-02-20T07:56:09.828Z"
   },
   {
    "duration": 48,
    "start_time": "2023-02-20T07:56:09.837Z"
   },
   {
    "duration": 89,
    "start_time": "2023-02-20T07:56:09.887Z"
   },
   {
    "duration": 11,
    "start_time": "2023-02-20T07:56:09.978Z"
   },
   {
    "duration": 192,
    "start_time": "2023-02-20T07:56:09.991Z"
   },
   {
    "duration": 41,
    "start_time": "2023-02-20T08:14:20.888Z"
   },
   {
    "duration": 45,
    "start_time": "2023-02-20T08:14:30.752Z"
   },
   {
    "duration": 99,
    "start_time": "2023-02-20T08:41:55.862Z"
   },
   {
    "duration": 162,
    "start_time": "2023-02-20T08:42:01.522Z"
   },
   {
    "duration": 116,
    "start_time": "2023-02-20T08:42:05.922Z"
   },
   {
    "duration": 104,
    "start_time": "2023-02-20T08:42:27.123Z"
   },
   {
    "duration": 111,
    "start_time": "2023-02-20T08:43:01.817Z"
   },
   {
    "duration": 116,
    "start_time": "2023-02-20T08:43:30.381Z"
   },
   {
    "duration": 1207,
    "start_time": "2023-02-20T08:45:15.889Z"
   },
   {
    "duration": 125,
    "start_time": "2023-02-20T08:45:49.288Z"
   },
   {
    "duration": 4,
    "start_time": "2023-02-20T08:53:27.262Z"
   },
   {
    "duration": 245,
    "start_time": "2023-02-20T08:53:27.269Z"
   },
   {
    "duration": 11,
    "start_time": "2023-02-20T08:53:27.516Z"
   },
   {
    "duration": 28,
    "start_time": "2023-02-20T08:53:27.529Z"
   },
   {
    "duration": 7,
    "start_time": "2023-02-20T08:53:27.561Z"
   },
   {
    "duration": 17,
    "start_time": "2023-02-20T08:53:27.570Z"
   },
   {
    "duration": 32,
    "start_time": "2023-02-20T08:53:27.589Z"
   },
   {
    "duration": 19,
    "start_time": "2023-02-20T08:53:27.624Z"
   },
   {
    "duration": 10,
    "start_time": "2023-02-20T08:53:27.645Z"
   },
   {
    "duration": 26,
    "start_time": "2023-02-20T08:53:27.658Z"
   },
   {
    "duration": 105,
    "start_time": "2023-02-20T08:53:27.685Z"
   },
   {
    "duration": 100,
    "start_time": "2023-02-20T08:53:27.792Z"
   },
   {
    "duration": 108,
    "start_time": "2023-02-20T08:53:27.894Z"
   },
   {
    "duration": 57,
    "start_time": "2023-02-20T08:53:28.005Z"
   },
   {
    "duration": 14,
    "start_time": "2023-02-20T08:53:28.064Z"
   },
   {
    "duration": 12,
    "start_time": "2023-02-20T08:53:28.080Z"
   },
   {
    "duration": 40,
    "start_time": "2023-02-20T08:53:28.094Z"
   },
   {
    "duration": 8,
    "start_time": "2023-02-20T08:53:28.136Z"
   },
   {
    "duration": 422,
    "start_time": "2023-02-20T08:53:28.145Z"
   },
   {
    "duration": 13,
    "start_time": "2023-02-20T08:53:28.569Z"
   },
   {
    "duration": 18,
    "start_time": "2023-02-20T08:53:28.584Z"
   },
   {
    "duration": 5,
    "start_time": "2023-02-20T08:53:28.621Z"
   },
   {
    "duration": 39,
    "start_time": "2023-02-20T08:53:28.628Z"
   },
   {
    "duration": 8,
    "start_time": "2023-02-20T08:53:28.669Z"
   },
   {
    "duration": 60,
    "start_time": "2023-02-20T08:53:28.679Z"
   },
   {
    "duration": 62,
    "start_time": "2023-02-20T08:53:28.741Z"
   },
   {
    "duration": 18,
    "start_time": "2023-02-20T08:53:28.822Z"
   },
   {
    "duration": 11,
    "start_time": "2023-02-20T08:53:28.843Z"
   },
   {
    "duration": 69,
    "start_time": "2023-02-20T08:53:28.857Z"
   },
   {
    "duration": 94,
    "start_time": "2023-02-20T08:53:28.928Z"
   },
   {
    "duration": 53,
    "start_time": "2023-02-20T08:53:29.025Z"
   },
   {
    "duration": 11,
    "start_time": "2023-02-20T10:07:27.153Z"
   },
   {
    "duration": 9,
    "start_time": "2023-02-20T10:07:47.305Z"
   },
   {
    "duration": 19,
    "start_time": "2023-02-20T10:08:24.854Z"
   },
   {
    "duration": 3,
    "start_time": "2023-02-20T10:12:23.328Z"
   },
   {
    "duration": 4,
    "start_time": "2023-02-20T10:12:28.478Z"
   },
   {
    "duration": 108,
    "start_time": "2023-02-20T10:18:04.594Z"
   },
   {
    "duration": 4,
    "start_time": "2023-02-20T10:18:14.533Z"
   },
   {
    "duration": 221,
    "start_time": "2023-02-20T10:18:14.539Z"
   },
   {
    "duration": 8,
    "start_time": "2023-02-20T10:18:14.761Z"
   },
   {
    "duration": 37,
    "start_time": "2023-02-20T10:18:14.770Z"
   },
   {
    "duration": 15,
    "start_time": "2023-02-20T10:18:14.809Z"
   },
   {
    "duration": 16,
    "start_time": "2023-02-20T10:18:14.826Z"
   },
   {
    "duration": 18,
    "start_time": "2023-02-20T10:18:14.844Z"
   },
   {
    "duration": 24,
    "start_time": "2023-02-20T10:18:14.864Z"
   },
   {
    "duration": 11,
    "start_time": "2023-02-20T10:18:14.890Z"
   },
   {
    "duration": 34,
    "start_time": "2023-02-20T10:18:14.903Z"
   },
   {
    "duration": 83,
    "start_time": "2023-02-20T10:18:14.938Z"
   },
   {
    "duration": 112,
    "start_time": "2023-02-20T10:18:15.023Z"
   },
   {
    "duration": 92,
    "start_time": "2023-02-20T10:18:15.139Z"
   },
   {
    "duration": 45,
    "start_time": "2023-02-20T10:18:15.233Z"
   },
   {
    "duration": 13,
    "start_time": "2023-02-20T10:18:15.280Z"
   },
   {
    "duration": 31,
    "start_time": "2023-02-20T10:18:15.295Z"
   },
   {
    "duration": 19,
    "start_time": "2023-02-20T10:18:15.328Z"
   },
   {
    "duration": 6,
    "start_time": "2023-02-20T10:18:15.349Z"
   },
   {
    "duration": 395,
    "start_time": "2023-02-20T10:18:15.356Z"
   },
   {
    "duration": 14,
    "start_time": "2023-02-20T10:18:15.753Z"
   },
   {
    "duration": 17,
    "start_time": "2023-02-20T10:18:15.768Z"
   },
   {
    "duration": 6,
    "start_time": "2023-02-20T10:18:15.787Z"
   },
   {
    "duration": 32,
    "start_time": "2023-02-20T10:18:15.820Z"
   },
   {
    "duration": 7,
    "start_time": "2023-02-20T10:18:15.853Z"
   },
   {
    "duration": 32,
    "start_time": "2023-02-20T10:18:15.862Z"
   },
   {
    "duration": 71,
    "start_time": "2023-02-20T10:18:15.896Z"
   },
   {
    "duration": 13,
    "start_time": "2023-02-20T10:18:15.969Z"
   },
   {
    "duration": 10,
    "start_time": "2023-02-20T10:18:15.984Z"
   },
   {
    "duration": 40,
    "start_time": "2023-02-20T10:18:16.024Z"
   },
   {
    "duration": 94,
    "start_time": "2023-02-20T10:18:16.066Z"
   },
   {
    "duration": 4,
    "start_time": "2023-02-20T10:18:16.163Z"
   },
   {
    "duration": 16,
    "start_time": "2023-02-20T10:18:16.169Z"
   },
   {
    "duration": 436,
    "start_time": "2023-02-20T10:25:02.131Z"
   },
   {
    "duration": 161,
    "start_time": "2023-02-20T10:25:02.569Z"
   },
   {
    "duration": 11,
    "start_time": "2023-02-20T10:25:02.731Z"
   },
   {
    "duration": 32,
    "start_time": "2023-02-20T10:25:02.744Z"
   },
   {
    "duration": 5,
    "start_time": "2023-02-20T10:25:02.779Z"
   },
   {
    "duration": 11,
    "start_time": "2023-02-20T10:25:02.785Z"
   },
   {
    "duration": 8,
    "start_time": "2023-02-20T10:25:02.798Z"
   },
   {
    "duration": 21,
    "start_time": "2023-02-20T10:25:02.824Z"
   },
   {
    "duration": 9,
    "start_time": "2023-02-20T10:25:02.846Z"
   },
   {
    "duration": 16,
    "start_time": "2023-02-20T10:25:02.857Z"
   },
   {
    "duration": 95,
    "start_time": "2023-02-20T10:25:02.875Z"
   },
   {
    "duration": 76,
    "start_time": "2023-02-20T10:25:02.971Z"
   },
   {
    "duration": 92,
    "start_time": "2023-02-20T10:25:03.049Z"
   },
   {
    "duration": 45,
    "start_time": "2023-02-20T10:25:03.144Z"
   },
   {
    "duration": 13,
    "start_time": "2023-02-20T10:25:03.191Z"
   },
   {
    "duration": 11,
    "start_time": "2023-02-20T10:25:03.220Z"
   },
   {
    "duration": 22,
    "start_time": "2023-02-20T10:25:03.236Z"
   },
   {
    "duration": 13,
    "start_time": "2023-02-20T10:25:03.261Z"
   },
   {
    "duration": 449,
    "start_time": "2023-02-20T10:25:03.275Z"
   },
   {
    "duration": 17,
    "start_time": "2023-02-20T10:25:03.727Z"
   },
   {
    "duration": 17,
    "start_time": "2023-02-20T10:25:03.745Z"
   },
   {
    "duration": 4,
    "start_time": "2023-02-20T10:25:03.763Z"
   },
   {
    "duration": 57,
    "start_time": "2023-02-20T10:25:03.768Z"
   },
   {
    "duration": 12,
    "start_time": "2023-02-20T10:25:03.828Z"
   },
   {
    "duration": 44,
    "start_time": "2023-02-20T10:25:03.842Z"
   },
   {
    "duration": 80,
    "start_time": "2023-02-20T10:25:03.888Z"
   },
   {
    "duration": 13,
    "start_time": "2023-02-20T10:25:03.969Z"
   },
   {
    "duration": 9,
    "start_time": "2023-02-20T10:25:03.984Z"
   },
   {
    "duration": 65,
    "start_time": "2023-02-20T10:25:03.995Z"
   },
   {
    "duration": 95,
    "start_time": "2023-02-20T10:25:04.061Z"
   },
   {
    "duration": 4,
    "start_time": "2023-02-20T10:25:04.157Z"
   },
   {
    "duration": 11,
    "start_time": "2023-02-20T10:25:04.162Z"
   },
   {
    "duration": 38,
    "start_time": "2023-02-20T10:26:56.038Z"
   },
   {
    "duration": 24,
    "start_time": "2023-02-20T10:27:07.050Z"
   },
   {
    "duration": 3,
    "start_time": "2023-02-20T10:27:30.266Z"
   },
   {
    "duration": 191,
    "start_time": "2023-02-20T10:27:30.271Z"
   },
   {
    "duration": 8,
    "start_time": "2023-02-20T10:27:30.463Z"
   },
   {
    "duration": 38,
    "start_time": "2023-02-20T10:27:30.472Z"
   },
   {
    "duration": 5,
    "start_time": "2023-02-20T10:27:30.512Z"
   },
   {
    "duration": 12,
    "start_time": "2023-02-20T10:27:30.520Z"
   },
   {
    "duration": 20,
    "start_time": "2023-02-20T10:27:30.534Z"
   },
   {
    "duration": 42,
    "start_time": "2023-02-20T10:27:30.556Z"
   },
   {
    "duration": 19,
    "start_time": "2023-02-20T10:27:30.600Z"
   },
   {
    "duration": 31,
    "start_time": "2023-02-20T10:27:30.621Z"
   },
   {
    "duration": 93,
    "start_time": "2023-02-20T10:27:30.654Z"
   },
   {
    "duration": 72,
    "start_time": "2023-02-20T10:27:30.749Z"
   },
   {
    "duration": 77,
    "start_time": "2023-02-20T10:27:30.824Z"
   },
   {
    "duration": 51,
    "start_time": "2023-02-20T10:27:30.903Z"
   },
   {
    "duration": 12,
    "start_time": "2023-02-20T10:27:30.955Z"
   },
   {
    "duration": 26,
    "start_time": "2023-02-20T10:27:30.969Z"
   },
   {
    "duration": 34,
    "start_time": "2023-02-20T10:27:30.997Z"
   },
   {
    "duration": 17,
    "start_time": "2023-02-20T10:27:31.033Z"
   },
   {
    "duration": 338,
    "start_time": "2023-02-20T10:27:31.051Z"
   },
   {
    "duration": 13,
    "start_time": "2023-02-20T10:27:31.391Z"
   },
   {
    "duration": 26,
    "start_time": "2023-02-20T10:27:31.406Z"
   },
   {
    "duration": 5,
    "start_time": "2023-02-20T10:27:31.434Z"
   },
   {
    "duration": 57,
    "start_time": "2023-02-20T10:27:31.441Z"
   },
   {
    "duration": 5,
    "start_time": "2023-02-20T10:27:31.500Z"
   },
   {
    "duration": 39,
    "start_time": "2023-02-20T10:27:31.507Z"
   },
   {
    "duration": 63,
    "start_time": "2023-02-20T10:27:31.548Z"
   },
   {
    "duration": 15,
    "start_time": "2023-02-20T10:27:31.613Z"
   },
   {
    "duration": 8,
    "start_time": "2023-02-20T10:27:31.629Z"
   },
   {
    "duration": 42,
    "start_time": "2023-02-20T10:27:31.639Z"
   },
   {
    "duration": 90,
    "start_time": "2023-02-20T10:27:31.683Z"
   },
   {
    "duration": 16,
    "start_time": "2023-02-20T10:27:31.774Z"
   },
   {
    "duration": 0,
    "start_time": "2023-02-20T10:27:31.792Z"
   },
   {
    "duration": 743,
    "start_time": "2023-02-20T10:27:51.323Z"
   },
   {
    "duration": 12,
    "start_time": "2023-02-20T10:28:53.187Z"
   },
   {
    "duration": 13,
    "start_time": "2023-02-20T10:37:31.087Z"
   },
   {
    "duration": 13,
    "start_time": "2023-02-20T10:38:03.937Z"
   },
   {
    "duration": 4,
    "start_time": "2023-02-20T10:40:43.878Z"
   },
   {
    "duration": 172,
    "start_time": "2023-02-20T10:40:43.886Z"
   },
   {
    "duration": 7,
    "start_time": "2023-02-20T10:40:44.060Z"
   },
   {
    "duration": 37,
    "start_time": "2023-02-20T10:40:44.069Z"
   },
   {
    "duration": 7,
    "start_time": "2023-02-20T10:40:44.108Z"
   },
   {
    "duration": 10,
    "start_time": "2023-02-20T10:40:44.116Z"
   },
   {
    "duration": 11,
    "start_time": "2023-02-20T10:40:44.128Z"
   },
   {
    "duration": 15,
    "start_time": "2023-02-20T10:40:44.140Z"
   },
   {
    "duration": 10,
    "start_time": "2023-02-20T10:40:44.156Z"
   },
   {
    "duration": 21,
    "start_time": "2023-02-20T10:40:44.168Z"
   },
   {
    "duration": 92,
    "start_time": "2023-02-20T10:40:44.192Z"
   },
   {
    "duration": 86,
    "start_time": "2023-02-20T10:40:44.286Z"
   },
   {
    "duration": 86,
    "start_time": "2023-02-20T10:40:44.373Z"
   },
   {
    "duration": 45,
    "start_time": "2023-02-20T10:40:44.460Z"
   },
   {
    "duration": 26,
    "start_time": "2023-02-20T10:40:44.508Z"
   },
   {
    "duration": 38,
    "start_time": "2023-02-20T10:40:44.536Z"
   },
   {
    "duration": 22,
    "start_time": "2023-02-20T10:40:44.577Z"
   },
   {
    "duration": 20,
    "start_time": "2023-02-20T10:40:44.601Z"
   },
   {
    "duration": 347,
    "start_time": "2023-02-20T10:40:44.625Z"
   },
   {
    "duration": 14,
    "start_time": "2023-02-20T10:40:44.974Z"
   },
   {
    "duration": 17,
    "start_time": "2023-02-20T10:40:44.990Z"
   },
   {
    "duration": 13,
    "start_time": "2023-02-20T10:40:45.021Z"
   },
   {
    "duration": 76,
    "start_time": "2023-02-20T10:40:45.035Z"
   },
   {
    "duration": 8,
    "start_time": "2023-02-20T10:40:45.113Z"
   },
   {
    "duration": 36,
    "start_time": "2023-02-20T10:40:45.122Z"
   },
   {
    "duration": 60,
    "start_time": "2023-02-20T10:40:45.161Z"
   },
   {
    "duration": 12,
    "start_time": "2023-02-20T10:40:45.223Z"
   },
   {
    "duration": 8,
    "start_time": "2023-02-20T10:40:45.237Z"
   },
   {
    "duration": 33,
    "start_time": "2023-02-20T10:40:45.248Z"
   },
   {
    "duration": 103,
    "start_time": "2023-02-20T10:40:45.282Z"
   },
   {
    "duration": 13,
    "start_time": "2023-02-20T10:40:45.387Z"
   },
   {
    "duration": 22,
    "start_time": "2023-02-20T10:40:45.402Z"
   },
   {
    "duration": 13,
    "start_time": "2023-02-20T10:41:16.548Z"
   },
   {
    "duration": 9,
    "start_time": "2023-02-20T10:47:31.157Z"
   },
   {
    "duration": 51,
    "start_time": "2023-02-20T10:49:06.156Z"
   },
   {
    "duration": 24,
    "start_time": "2023-02-20T10:51:53.578Z"
   },
   {
    "duration": 30,
    "start_time": "2023-02-20T10:52:06.181Z"
   },
   {
    "duration": 20,
    "start_time": "2023-02-20T10:52:13.042Z"
   },
   {
    "duration": 17,
    "start_time": "2023-02-20T10:52:23.380Z"
   },
   {
    "duration": 36,
    "start_time": "2023-02-20T10:52:53.499Z"
   },
   {
    "duration": 48,
    "start_time": "2023-02-20T10:53:48.600Z"
   },
   {
    "duration": 47,
    "start_time": "2023-02-20T10:53:54.990Z"
   },
   {
    "duration": 7,
    "start_time": "2023-02-20T10:57:32.958Z"
   },
   {
    "duration": 47,
    "start_time": "2023-02-20T10:57:34.343Z"
   },
   {
    "duration": 6,
    "start_time": "2023-02-20T11:20:17.118Z"
   },
   {
    "duration": 9,
    "start_time": "2023-02-20T11:21:20.859Z"
   },
   {
    "duration": 9,
    "start_time": "2023-02-20T11:21:24.824Z"
   },
   {
    "duration": 8,
    "start_time": "2023-02-20T11:21:50.509Z"
   },
   {
    "duration": 9,
    "start_time": "2023-02-20T11:23:46.808Z"
   },
   {
    "duration": 9,
    "start_time": "2023-02-20T11:23:52.406Z"
   },
   {
    "duration": 9,
    "start_time": "2023-02-20T11:24:07.412Z"
   },
   {
    "duration": 5,
    "start_time": "2023-02-20T11:29:29.457Z"
   },
   {
    "duration": 7,
    "start_time": "2023-02-20T11:29:57.148Z"
   },
   {
    "duration": 11,
    "start_time": "2023-02-20T11:30:35.710Z"
   },
   {
    "duration": 9,
    "start_time": "2023-02-20T11:30:41.343Z"
   },
   {
    "duration": 67,
    "start_time": "2023-02-20T11:51:30.779Z"
   },
   {
    "duration": 12,
    "start_time": "2023-02-20T11:52:44.700Z"
   },
   {
    "duration": 10,
    "start_time": "2023-02-20T11:52:49.621Z"
   },
   {
    "duration": 12,
    "start_time": "2023-02-20T11:52:57.923Z"
   },
   {
    "duration": 13,
    "start_time": "2023-02-20T11:55:01.460Z"
   },
   {
    "duration": 8,
    "start_time": "2023-02-20T11:55:13.270Z"
   },
   {
    "duration": 14,
    "start_time": "2023-02-20T11:55:22.319Z"
   },
   {
    "duration": 186,
    "start_time": "2023-02-20T11:55:22.335Z"
   },
   {
    "duration": 9,
    "start_time": "2023-02-20T11:55:22.523Z"
   },
   {
    "duration": 54,
    "start_time": "2023-02-20T11:55:22.534Z"
   },
   {
    "duration": 11,
    "start_time": "2023-02-20T11:55:22.591Z"
   },
   {
    "duration": 19,
    "start_time": "2023-02-20T11:55:22.604Z"
   },
   {
    "duration": 23,
    "start_time": "2023-02-20T11:55:22.626Z"
   },
   {
    "duration": 28,
    "start_time": "2023-02-20T11:55:22.651Z"
   },
   {
    "duration": 26,
    "start_time": "2023-02-20T11:55:22.681Z"
   },
   {
    "duration": 46,
    "start_time": "2023-02-20T11:55:22.709Z"
   },
   {
    "duration": 118,
    "start_time": "2023-02-20T11:55:22.758Z"
   },
   {
    "duration": 124,
    "start_time": "2023-02-20T11:55:22.878Z"
   },
   {
    "duration": 155,
    "start_time": "2023-02-20T11:55:23.004Z"
   },
   {
    "duration": 66,
    "start_time": "2023-02-20T11:55:23.161Z"
   },
   {
    "duration": 21,
    "start_time": "2023-02-20T11:55:23.230Z"
   },
   {
    "duration": 12,
    "start_time": "2023-02-20T11:55:23.253Z"
   },
   {
    "duration": 16,
    "start_time": "2023-02-20T11:55:23.267Z"
   },
   {
    "duration": 36,
    "start_time": "2023-02-20T11:55:23.285Z"
   },
   {
    "duration": 352,
    "start_time": "2023-02-20T11:55:23.323Z"
   },
   {
    "duration": 18,
    "start_time": "2023-02-20T11:55:23.677Z"
   },
   {
    "duration": 45,
    "start_time": "2023-02-20T11:55:23.697Z"
   },
   {
    "duration": 3,
    "start_time": "2023-02-20T11:55:23.744Z"
   },
   {
    "duration": 38,
    "start_time": "2023-02-20T11:55:23.749Z"
   },
   {
    "duration": 7,
    "start_time": "2023-02-20T11:55:23.788Z"
   },
   {
    "duration": 44,
    "start_time": "2023-02-20T11:55:23.821Z"
   },
   {
    "duration": 86,
    "start_time": "2023-02-20T11:55:23.867Z"
   },
   {
    "duration": 14,
    "start_time": "2023-02-20T11:55:23.955Z"
   },
   {
    "duration": 12,
    "start_time": "2023-02-20T11:55:23.971Z"
   },
   {
    "duration": 68,
    "start_time": "2023-02-20T11:55:23.987Z"
   },
   {
    "duration": 126,
    "start_time": "2023-02-20T11:55:24.057Z"
   },
   {
    "duration": 14,
    "start_time": "2023-02-20T11:55:24.185Z"
   },
   {
    "duration": 23,
    "start_time": "2023-02-20T11:55:24.200Z"
   },
   {
    "duration": 44,
    "start_time": "2023-02-20T11:55:24.225Z"
   },
   {
    "duration": 12,
    "start_time": "2023-02-20T11:55:24.272Z"
   },
   {
    "duration": 45,
    "start_time": "2023-02-20T11:55:24.286Z"
   },
   {
    "duration": 18,
    "start_time": "2023-02-20T11:55:24.335Z"
   },
   {
    "duration": 25,
    "start_time": "2023-02-20T11:55:24.357Z"
   },
   {
    "duration": 12,
    "start_time": "2023-02-20T11:58:17.279Z"
   },
   {
    "duration": 825,
    "start_time": "2023-02-20T11:58:22.777Z"
   },
   {
    "duration": 28,
    "start_time": "2023-02-20T11:59:06.918Z"
   },
   {
    "duration": 947,
    "start_time": "2023-02-20T11:59:31.889Z"
   },
   {
    "duration": 13,
    "start_time": "2023-02-20T11:59:51.446Z"
   },
   {
    "duration": 5,
    "start_time": "2023-02-20T12:01:02.444Z"
   },
   {
    "duration": 13,
    "start_time": "2023-02-20T12:01:04.850Z"
   },
   {
    "duration": 914,
    "start_time": "2023-02-20T12:01:10.027Z"
   },
   {
    "duration": 3,
    "start_time": "2023-02-20T12:03:09.965Z"
   },
   {
    "duration": 1046,
    "start_time": "2023-02-20T12:03:28.128Z"
   },
   {
    "duration": 1330,
    "start_time": "2023-02-20T12:03:33.976Z"
   },
   {
    "duration": 10,
    "start_time": "2023-02-20T12:04:27.231Z"
   },
   {
    "duration": 3,
    "start_time": "2023-02-20T12:04:42.476Z"
   },
   {
    "duration": 180,
    "start_time": "2023-02-20T12:04:42.481Z"
   },
   {
    "duration": 7,
    "start_time": "2023-02-20T12:04:42.663Z"
   },
   {
    "duration": 22,
    "start_time": "2023-02-20T12:04:42.672Z"
   },
   {
    "duration": 27,
    "start_time": "2023-02-20T12:04:42.696Z"
   },
   {
    "duration": 10,
    "start_time": "2023-02-20T12:04:42.724Z"
   },
   {
    "duration": 14,
    "start_time": "2023-02-20T12:04:42.736Z"
   },
   {
    "duration": 15,
    "start_time": "2023-02-20T12:04:42.752Z"
   },
   {
    "duration": 9,
    "start_time": "2023-02-20T12:04:42.769Z"
   },
   {
    "duration": 48,
    "start_time": "2023-02-20T12:04:42.780Z"
   },
   {
    "duration": 91,
    "start_time": "2023-02-20T12:04:42.831Z"
   },
   {
    "duration": 70,
    "start_time": "2023-02-20T12:04:42.924Z"
   },
   {
    "duration": 90,
    "start_time": "2023-02-20T12:04:42.996Z"
   },
   {
    "duration": 55,
    "start_time": "2023-02-20T12:04:43.088Z"
   },
   {
    "duration": 11,
    "start_time": "2023-02-20T12:04:43.145Z"
   },
   {
    "duration": 15,
    "start_time": "2023-02-20T12:04:43.158Z"
   },
   {
    "duration": 17,
    "start_time": "2023-02-20T12:04:43.175Z"
   },
   {
    "duration": 5,
    "start_time": "2023-02-20T12:04:43.194Z"
   },
   {
    "duration": 351,
    "start_time": "2023-02-20T12:04:43.200Z"
   },
   {
    "duration": 12,
    "start_time": "2023-02-20T12:04:43.553Z"
   },
   {
    "duration": 27,
    "start_time": "2023-02-20T12:04:43.567Z"
   },
   {
    "duration": 4,
    "start_time": "2023-02-20T12:04:43.597Z"
   },
   {
    "duration": 40,
    "start_time": "2023-02-20T12:04:43.622Z"
   },
   {
    "duration": 7,
    "start_time": "2023-02-20T12:04:43.664Z"
   },
   {
    "duration": 50,
    "start_time": "2023-02-20T12:04:43.673Z"
   },
   {
    "duration": 54,
    "start_time": "2023-02-20T12:04:43.724Z"
   },
   {
    "duration": 12,
    "start_time": "2023-02-20T12:04:43.780Z"
   },
   {
    "duration": 31,
    "start_time": "2023-02-20T12:04:43.793Z"
   },
   {
    "duration": 35,
    "start_time": "2023-02-20T12:04:43.829Z"
   },
   {
    "duration": 104,
    "start_time": "2023-02-20T12:04:43.866Z"
   },
   {
    "duration": 13,
    "start_time": "2023-02-20T12:04:43.971Z"
   },
   {
    "duration": 8,
    "start_time": "2023-02-20T12:04:43.985Z"
   },
   {
    "duration": 58,
    "start_time": "2023-02-20T12:04:43.995Z"
   },
   {
    "duration": 10,
    "start_time": "2023-02-20T12:04:44.055Z"
   },
   {
    "duration": 14,
    "start_time": "2023-02-20T12:04:44.066Z"
   },
   {
    "duration": 9,
    "start_time": "2023-02-20T12:04:44.082Z"
   },
   {
    "duration": 31,
    "start_time": "2023-02-20T12:04:44.093Z"
   },
   {
    "duration": 5,
    "start_time": "2023-02-20T12:04:44.126Z"
   },
   {
    "duration": 1002,
    "start_time": "2023-02-20T12:04:44.133Z"
   },
   {
    "duration": 9,
    "start_time": "2023-02-20T12:05:00.573Z"
   },
   {
    "duration": 1062,
    "start_time": "2023-02-20T12:05:05.443Z"
   },
   {
    "duration": 4,
    "start_time": "2023-02-20T12:05:48.451Z"
   },
   {
    "duration": 4,
    "start_time": "2023-02-20T12:05:51.982Z"
   },
   {
    "duration": 177,
    "start_time": "2023-02-20T12:05:51.987Z"
   },
   {
    "duration": 8,
    "start_time": "2023-02-20T12:05:52.166Z"
   },
   {
    "duration": 23,
    "start_time": "2023-02-20T12:05:52.176Z"
   },
   {
    "duration": 6,
    "start_time": "2023-02-20T12:05:52.220Z"
   },
   {
    "duration": 10,
    "start_time": "2023-02-20T12:05:52.228Z"
   },
   {
    "duration": 11,
    "start_time": "2023-02-20T12:05:52.240Z"
   },
   {
    "duration": 16,
    "start_time": "2023-02-20T12:05:52.253Z"
   },
   {
    "duration": 12,
    "start_time": "2023-02-20T12:05:52.270Z"
   },
   {
    "duration": 50,
    "start_time": "2023-02-20T12:05:52.284Z"
   },
   {
    "duration": 94,
    "start_time": "2023-02-20T12:05:52.336Z"
   },
   {
    "duration": 72,
    "start_time": "2023-02-20T12:05:52.431Z"
   },
   {
    "duration": 91,
    "start_time": "2023-02-20T12:05:52.506Z"
   },
   {
    "duration": 56,
    "start_time": "2023-02-20T12:05:52.599Z"
   },
   {
    "duration": 12,
    "start_time": "2023-02-20T12:05:52.657Z"
   },
   {
    "duration": 12,
    "start_time": "2023-02-20T12:05:52.670Z"
   },
   {
    "duration": 40,
    "start_time": "2023-02-20T12:05:52.684Z"
   },
   {
    "duration": 7,
    "start_time": "2023-02-20T12:05:52.726Z"
   },
   {
    "duration": 349,
    "start_time": "2023-02-20T12:05:52.734Z"
   },
   {
    "duration": 14,
    "start_time": "2023-02-20T12:05:53.085Z"
   },
   {
    "duration": 25,
    "start_time": "2023-02-20T12:05:53.101Z"
   },
   {
    "duration": 5,
    "start_time": "2023-02-20T12:05:53.128Z"
   },
   {
    "duration": 38,
    "start_time": "2023-02-20T12:05:53.135Z"
   },
   {
    "duration": 6,
    "start_time": "2023-02-20T12:05:53.175Z"
   },
   {
    "duration": 43,
    "start_time": "2023-02-20T12:05:53.183Z"
   },
   {
    "duration": 55,
    "start_time": "2023-02-20T12:05:53.228Z"
   },
   {
    "duration": 12,
    "start_time": "2023-02-20T12:05:53.284Z"
   },
   {
    "duration": 141,
    "start_time": "2023-02-20T12:05:53.297Z"
   },
   {
    "duration": 35,
    "start_time": "2023-02-20T12:05:53.441Z"
   },
   {
    "duration": 95,
    "start_time": "2023-02-20T12:05:53.477Z"
   },
   {
    "duration": 12,
    "start_time": "2023-02-20T12:05:53.573Z"
   },
   {
    "duration": 10,
    "start_time": "2023-02-20T12:05:53.586Z"
   },
   {
    "duration": 55,
    "start_time": "2023-02-20T12:05:53.598Z"
   },
   {
    "duration": 9,
    "start_time": "2023-02-20T12:05:53.655Z"
   },
   {
    "duration": 11,
    "start_time": "2023-02-20T12:05:53.666Z"
   },
   {
    "duration": 18,
    "start_time": "2023-02-20T12:05:53.678Z"
   },
   {
    "duration": 27,
    "start_time": "2023-02-20T12:05:53.700Z"
   },
   {
    "duration": 831,
    "start_time": "2023-02-20T12:05:53.729Z"
   },
   {
    "duration": 3,
    "start_time": "2023-02-20T12:06:40.856Z"
   },
   {
    "duration": 168,
    "start_time": "2023-02-20T12:06:40.861Z"
   },
   {
    "duration": 7,
    "start_time": "2023-02-20T12:06:41.031Z"
   },
   {
    "duration": 22,
    "start_time": "2023-02-20T12:06:41.041Z"
   },
   {
    "duration": 9,
    "start_time": "2023-02-20T12:06:41.065Z"
   },
   {
    "duration": 11,
    "start_time": "2023-02-20T12:06:41.076Z"
   },
   {
    "duration": 10,
    "start_time": "2023-02-20T12:06:41.088Z"
   },
   {
    "duration": 31,
    "start_time": "2023-02-20T12:06:41.100Z"
   },
   {
    "duration": 8,
    "start_time": "2023-02-20T12:06:41.134Z"
   },
   {
    "duration": 25,
    "start_time": "2023-02-20T12:06:41.143Z"
   },
   {
    "duration": 90,
    "start_time": "2023-02-20T12:06:41.169Z"
   },
   {
    "duration": 104,
    "start_time": "2023-02-20T12:06:41.261Z"
   },
   {
    "duration": 84,
    "start_time": "2023-02-20T12:06:41.367Z"
   },
   {
    "duration": 38,
    "start_time": "2023-02-20T12:06:41.453Z"
   },
   {
    "duration": 28,
    "start_time": "2023-02-20T12:06:41.493Z"
   },
   {
    "duration": 9,
    "start_time": "2023-02-20T12:06:41.522Z"
   },
   {
    "duration": 18,
    "start_time": "2023-02-20T12:06:41.532Z"
   },
   {
    "duration": 6,
    "start_time": "2023-02-20T12:06:41.551Z"
   },
   {
    "duration": 352,
    "start_time": "2023-02-20T12:06:41.558Z"
   },
   {
    "duration": 18,
    "start_time": "2023-02-20T12:06:41.912Z"
   },
   {
    "duration": 18,
    "start_time": "2023-02-20T12:06:41.932Z"
   },
   {
    "duration": 3,
    "start_time": "2023-02-20T12:06:41.952Z"
   },
   {
    "duration": 45,
    "start_time": "2023-02-20T12:06:41.957Z"
   },
   {
    "duration": 7,
    "start_time": "2023-02-20T12:06:42.006Z"
   },
   {
    "duration": 33,
    "start_time": "2023-02-20T12:06:42.021Z"
   },
   {
    "duration": 68,
    "start_time": "2023-02-20T12:06:42.056Z"
   },
   {
    "duration": 14,
    "start_time": "2023-02-20T12:06:42.125Z"
   },
   {
    "duration": 9,
    "start_time": "2023-02-20T12:06:42.141Z"
   },
   {
    "duration": 44,
    "start_time": "2023-02-20T12:06:42.151Z"
   },
   {
    "duration": 91,
    "start_time": "2023-02-20T12:06:42.196Z"
   },
   {
    "duration": 12,
    "start_time": "2023-02-20T12:06:42.289Z"
   },
   {
    "duration": 48,
    "start_time": "2023-02-20T12:06:42.302Z"
   },
   {
    "duration": 42,
    "start_time": "2023-02-20T12:06:42.352Z"
   },
   {
    "duration": 9,
    "start_time": "2023-02-20T12:06:42.396Z"
   },
   {
    "duration": 16,
    "start_time": "2023-02-20T12:06:42.407Z"
   },
   {
    "duration": 9,
    "start_time": "2023-02-20T12:06:42.425Z"
   },
   {
    "duration": 13,
    "start_time": "2023-02-20T12:06:42.435Z"
   },
   {
    "duration": 782,
    "start_time": "2023-02-20T12:06:42.450Z"
   },
   {
    "duration": 12,
    "start_time": "2023-02-20T12:07:28.053Z"
   },
   {
    "duration": 4,
    "start_time": "2023-02-20T12:07:37.224Z"
   },
   {
    "duration": 177,
    "start_time": "2023-02-20T12:07:37.233Z"
   },
   {
    "duration": 8,
    "start_time": "2023-02-20T12:07:37.420Z"
   },
   {
    "duration": 25,
    "start_time": "2023-02-20T12:07:37.430Z"
   },
   {
    "duration": 5,
    "start_time": "2023-02-20T12:07:37.457Z"
   },
   {
    "duration": 10,
    "start_time": "2023-02-20T12:07:37.464Z"
   },
   {
    "duration": 9,
    "start_time": "2023-02-20T12:07:37.476Z"
   },
   {
    "duration": 47,
    "start_time": "2023-02-20T12:07:37.487Z"
   },
   {
    "duration": 9,
    "start_time": "2023-02-20T12:07:37.536Z"
   },
   {
    "duration": 24,
    "start_time": "2023-02-20T12:07:37.547Z"
   },
   {
    "duration": 99,
    "start_time": "2023-02-20T12:07:37.573Z"
   },
   {
    "duration": 77,
    "start_time": "2023-02-20T12:07:37.674Z"
   },
   {
    "duration": 89,
    "start_time": "2023-02-20T12:07:37.753Z"
   },
   {
    "duration": 44,
    "start_time": "2023-02-20T12:07:37.844Z"
   },
   {
    "duration": 13,
    "start_time": "2023-02-20T12:07:37.890Z"
   },
   {
    "duration": 8,
    "start_time": "2023-02-20T12:07:37.921Z"
   },
   {
    "duration": 18,
    "start_time": "2023-02-20T12:07:37.931Z"
   },
   {
    "duration": 6,
    "start_time": "2023-02-20T12:07:37.951Z"
   },
   {
    "duration": 350,
    "start_time": "2023-02-20T12:07:37.959Z"
   },
   {
    "duration": 22,
    "start_time": "2023-02-20T12:07:38.311Z"
   },
   {
    "duration": 23,
    "start_time": "2023-02-20T12:07:38.335Z"
   },
   {
    "duration": 7,
    "start_time": "2023-02-20T12:07:38.360Z"
   },
   {
    "duration": 60,
    "start_time": "2023-02-20T12:07:38.370Z"
   },
   {
    "duration": 6,
    "start_time": "2023-02-20T12:07:38.431Z"
   },
   {
    "duration": 27,
    "start_time": "2023-02-20T12:07:38.439Z"
   },
   {
    "duration": 74,
    "start_time": "2023-02-20T12:07:38.468Z"
   },
   {
    "duration": 12,
    "start_time": "2023-02-20T12:07:38.543Z"
   },
   {
    "duration": 8,
    "start_time": "2023-02-20T12:07:38.557Z"
   },
   {
    "duration": 60,
    "start_time": "2023-02-20T12:07:38.568Z"
   },
   {
    "duration": 70,
    "start_time": "2023-02-20T12:07:38.630Z"
   },
   {
    "duration": 23,
    "start_time": "2023-02-20T12:07:38.702Z"
   },
   {
    "duration": 7,
    "start_time": "2023-02-20T12:07:38.727Z"
   },
   {
    "duration": 56,
    "start_time": "2023-02-20T12:07:38.735Z"
   },
   {
    "duration": 33,
    "start_time": "2023-02-20T12:07:38.793Z"
   },
   {
    "duration": 9,
    "start_time": "2023-02-20T12:07:38.831Z"
   },
   {
    "duration": 15,
    "start_time": "2023-02-20T12:07:38.842Z"
   },
   {
    "duration": 19,
    "start_time": "2023-02-20T12:07:38.858Z"
   },
   {
    "duration": 765,
    "start_time": "2023-02-20T12:07:38.880Z"
   },
   {
    "duration": 11,
    "start_time": "2023-02-20T12:07:46.136Z"
   },
   {
    "duration": 11,
    "start_time": "2023-02-20T12:07:52.884Z"
   },
   {
    "duration": 77,
    "start_time": "2023-02-20T12:13:39.490Z"
   },
   {
    "duration": 59,
    "start_time": "2023-02-20T12:14:52.476Z"
   },
   {
    "duration": 19,
    "start_time": "2023-02-20T12:19:35.681Z"
   },
   {
    "duration": 16,
    "start_time": "2023-02-20T12:19:44.244Z"
   },
   {
    "duration": 12,
    "start_time": "2023-02-20T12:19:51.556Z"
   },
   {
    "duration": 11,
    "start_time": "2023-02-20T12:20:53.685Z"
   },
   {
    "duration": 10,
    "start_time": "2023-02-20T12:21:00.861Z"
   },
   {
    "duration": 9,
    "start_time": "2023-02-20T12:21:15.470Z"
   },
   {
    "duration": 11,
    "start_time": "2023-02-20T12:21:19.337Z"
   },
   {
    "duration": 10,
    "start_time": "2023-02-20T12:28:38.156Z"
   },
   {
    "duration": 4117,
    "start_time": "2023-02-20T12:28:42.823Z"
   },
   {
    "duration": 9,
    "start_time": "2023-02-20T12:28:55.245Z"
   },
   {
    "duration": 4,
    "start_time": "2023-02-20T12:29:22.351Z"
   },
   {
    "duration": 171,
    "start_time": "2023-02-20T12:29:22.359Z"
   },
   {
    "duration": 8,
    "start_time": "2023-02-20T12:29:22.532Z"
   },
   {
    "duration": 22,
    "start_time": "2023-02-20T12:29:22.542Z"
   },
   {
    "duration": 7,
    "start_time": "2023-02-20T12:29:22.566Z"
   },
   {
    "duration": 10,
    "start_time": "2023-02-20T12:29:22.575Z"
   },
   {
    "duration": 38,
    "start_time": "2023-02-20T12:29:22.586Z"
   },
   {
    "duration": 14,
    "start_time": "2023-02-20T12:29:22.626Z"
   },
   {
    "duration": 10,
    "start_time": "2023-02-20T12:29:22.641Z"
   },
   {
    "duration": 22,
    "start_time": "2023-02-20T12:29:22.652Z"
   },
   {
    "duration": 95,
    "start_time": "2023-02-20T12:29:22.677Z"
   },
   {
    "duration": 85,
    "start_time": "2023-02-20T12:29:22.774Z"
   },
   {
    "duration": 86,
    "start_time": "2023-02-20T12:29:22.861Z"
   },
   {
    "duration": 45,
    "start_time": "2023-02-20T12:29:22.948Z"
   },
   {
    "duration": 26,
    "start_time": "2023-02-20T12:29:22.995Z"
   },
   {
    "duration": 7,
    "start_time": "2023-02-20T12:29:23.023Z"
   },
   {
    "duration": 15,
    "start_time": "2023-02-20T12:29:23.032Z"
   },
   {
    "duration": 6,
    "start_time": "2023-02-20T12:29:23.049Z"
   },
   {
    "duration": 357,
    "start_time": "2023-02-20T12:29:23.057Z"
   },
   {
    "duration": 14,
    "start_time": "2023-02-20T12:29:23.416Z"
   },
   {
    "duration": 16,
    "start_time": "2023-02-20T12:29:23.431Z"
   },
   {
    "duration": 3,
    "start_time": "2023-02-20T12:29:23.449Z"
   },
   {
    "duration": 32,
    "start_time": "2023-02-20T12:29:23.453Z"
   },
   {
    "duration": 6,
    "start_time": "2023-02-20T12:29:23.487Z"
   },
   {
    "duration": 47,
    "start_time": "2023-02-20T12:29:23.495Z"
   },
   {
    "duration": 51,
    "start_time": "2023-02-20T12:29:23.544Z"
   },
   {
    "duration": 29,
    "start_time": "2023-02-20T12:29:23.597Z"
   },
   {
    "duration": 8,
    "start_time": "2023-02-20T12:29:23.628Z"
   },
   {
    "duration": 32,
    "start_time": "2023-02-20T12:29:23.640Z"
   },
   {
    "duration": 95,
    "start_time": "2023-02-20T12:29:23.674Z"
   },
   {
    "duration": 14,
    "start_time": "2023-02-20T12:29:23.771Z"
   },
   {
    "duration": 21,
    "start_time": "2023-02-20T12:29:23.787Z"
   },
   {
    "duration": 47,
    "start_time": "2023-02-20T12:29:23.810Z"
   },
   {
    "duration": 9,
    "start_time": "2023-02-20T12:29:23.859Z"
   },
   {
    "duration": 14,
    "start_time": "2023-02-20T12:29:23.869Z"
   },
   {
    "duration": 9,
    "start_time": "2023-02-20T12:29:23.885Z"
   },
   {
    "duration": 35,
    "start_time": "2023-02-20T12:29:23.895Z"
   },
   {
    "duration": 18,
    "start_time": "2023-02-20T12:29:23.932Z"
   },
   {
    "duration": 15,
    "start_time": "2023-02-20T12:29:23.952Z"
   },
   {
    "duration": 12,
    "start_time": "2023-02-20T12:29:23.969Z"
   },
   {
    "duration": 9,
    "start_time": "2023-02-20T12:29:23.982Z"
   },
   {
    "duration": 34,
    "start_time": "2023-02-20T12:29:23.992Z"
   },
   {
    "duration": 13,
    "start_time": "2023-02-20T12:32:51.485Z"
   },
   {
    "duration": 3,
    "start_time": "2023-02-20T12:32:55.341Z"
   },
   {
    "duration": 175,
    "start_time": "2023-02-20T12:32:55.346Z"
   },
   {
    "duration": 8,
    "start_time": "2023-02-20T12:32:55.523Z"
   },
   {
    "duration": 22,
    "start_time": "2023-02-20T12:32:55.532Z"
   },
   {
    "duration": 12,
    "start_time": "2023-02-20T12:32:55.556Z"
   },
   {
    "duration": 10,
    "start_time": "2023-02-20T12:32:55.569Z"
   },
   {
    "duration": 11,
    "start_time": "2023-02-20T12:32:55.582Z"
   },
   {
    "duration": 39,
    "start_time": "2023-02-20T12:32:55.595Z"
   },
   {
    "duration": 8,
    "start_time": "2023-02-20T12:32:55.636Z"
   },
   {
    "duration": 22,
    "start_time": "2023-02-20T12:32:55.646Z"
   },
   {
    "duration": 101,
    "start_time": "2023-02-20T12:32:55.671Z"
   },
   {
    "duration": 80,
    "start_time": "2023-02-20T12:32:55.774Z"
   },
   {
    "duration": 84,
    "start_time": "2023-02-20T12:32:55.856Z"
   },
   {
    "duration": 42,
    "start_time": "2023-02-20T12:32:55.942Z"
   },
   {
    "duration": 14,
    "start_time": "2023-02-20T12:32:55.986Z"
   },
   {
    "duration": 25,
    "start_time": "2023-02-20T12:32:56.001Z"
   },
   {
    "duration": 15,
    "start_time": "2023-02-20T12:32:56.028Z"
   },
   {
    "duration": 5,
    "start_time": "2023-02-20T12:32:56.045Z"
   },
   {
    "duration": 364,
    "start_time": "2023-02-20T12:32:56.052Z"
   },
   {
    "duration": 14,
    "start_time": "2023-02-20T12:32:56.420Z"
   },
   {
    "duration": 17,
    "start_time": "2023-02-20T12:32:56.435Z"
   },
   {
    "duration": 11,
    "start_time": "2023-02-20T12:32:56.453Z"
   },
   {
    "duration": 46,
    "start_time": "2023-02-20T12:32:56.466Z"
   },
   {
    "duration": 12,
    "start_time": "2023-02-20T12:32:56.513Z"
   },
   {
    "duration": 29,
    "start_time": "2023-02-20T12:32:56.527Z"
   },
   {
    "duration": 68,
    "start_time": "2023-02-20T12:32:56.558Z"
   },
   {
    "duration": 12,
    "start_time": "2023-02-20T12:32:56.628Z"
   },
   {
    "duration": 8,
    "start_time": "2023-02-20T12:32:56.642Z"
   },
   {
    "duration": 74,
    "start_time": "2023-02-20T12:32:56.654Z"
   },
   {
    "duration": 94,
    "start_time": "2023-02-20T12:32:56.730Z"
   },
   {
    "duration": 14,
    "start_time": "2023-02-20T12:32:56.826Z"
   },
   {
    "duration": 13,
    "start_time": "2023-02-20T12:32:56.841Z"
   },
   {
    "duration": 64,
    "start_time": "2023-02-20T12:32:56.855Z"
   },
   {
    "duration": 11,
    "start_time": "2023-02-20T12:32:56.921Z"
   },
   {
    "duration": 15,
    "start_time": "2023-02-20T12:32:56.934Z"
   },
   {
    "duration": 11,
    "start_time": "2023-02-20T12:32:56.950Z"
   },
   {
    "duration": 13,
    "start_time": "2023-02-20T12:32:56.963Z"
   },
   {
    "duration": 14,
    "start_time": "2023-02-20T12:32:56.978Z"
   },
   {
    "duration": 35,
    "start_time": "2023-02-20T12:32:56.993Z"
   },
   {
    "duration": 16,
    "start_time": "2023-02-20T12:32:57.030Z"
   },
   {
    "duration": 53,
    "start_time": "2023-02-20T12:32:57.047Z"
   },
   {
    "duration": 13,
    "start_time": "2023-02-20T12:32:57.102Z"
   },
   {
    "duration": 1406,
    "start_time": "2023-02-20T20:20:03.970Z"
   },
   {
    "duration": 524,
    "start_time": "2023-02-20T20:20:05.379Z"
   },
   {
    "duration": 14,
    "start_time": "2023-02-20T20:20:05.905Z"
   },
   {
    "duration": 32,
    "start_time": "2023-02-20T20:20:05.921Z"
   },
   {
    "duration": 10,
    "start_time": "2023-02-20T20:20:05.955Z"
   },
   {
    "duration": 13,
    "start_time": "2023-02-20T20:20:05.967Z"
   },
   {
    "duration": 21,
    "start_time": "2023-02-20T20:20:05.982Z"
   },
   {
    "duration": 16,
    "start_time": "2023-02-20T20:20:06.005Z"
   },
   {
    "duration": 10,
    "start_time": "2023-02-20T20:20:06.045Z"
   },
   {
    "duration": 22,
    "start_time": "2023-02-20T20:20:06.059Z"
   },
   {
    "duration": 100,
    "start_time": "2023-02-20T20:20:06.083Z"
   },
   {
    "duration": 78,
    "start_time": "2023-02-20T20:20:06.184Z"
   },
   {
    "duration": 96,
    "start_time": "2023-02-20T20:20:06.264Z"
   },
   {
    "duration": 44,
    "start_time": "2023-02-20T20:20:06.361Z"
   },
   {
    "duration": 12,
    "start_time": "2023-02-20T20:20:06.406Z"
   },
   {
    "duration": 26,
    "start_time": "2023-02-20T20:20:06.420Z"
   },
   {
    "duration": 23,
    "start_time": "2023-02-20T20:20:06.448Z"
   },
   {
    "duration": 7,
    "start_time": "2023-02-20T20:20:06.482Z"
   },
   {
    "duration": 466,
    "start_time": "2023-02-20T20:20:06.491Z"
   },
   {
    "duration": 16,
    "start_time": "2023-02-20T20:20:06.959Z"
   },
   {
    "duration": 22,
    "start_time": "2023-02-20T20:20:06.977Z"
   },
   {
    "duration": 20,
    "start_time": "2023-02-20T20:20:07.001Z"
   },
   {
    "duration": 54,
    "start_time": "2023-02-20T20:20:07.023Z"
   },
   {
    "duration": 7,
    "start_time": "2023-02-20T20:20:07.079Z"
   },
   {
    "duration": 44,
    "start_time": "2023-02-20T20:20:07.088Z"
   },
   {
    "duration": 84,
    "start_time": "2023-02-20T20:20:07.134Z"
   },
   {
    "duration": 28,
    "start_time": "2023-02-20T20:20:07.220Z"
   },
   {
    "duration": 194,
    "start_time": "2023-02-20T20:20:07.253Z"
   },
   {
    "duration": 45,
    "start_time": "2023-02-20T20:20:07.450Z"
   },
   {
    "duration": 190,
    "start_time": "2023-02-20T20:20:07.496Z"
   },
   {
    "duration": 13,
    "start_time": "2023-02-20T20:20:07.687Z"
   },
   {
    "duration": 47,
    "start_time": "2023-02-20T20:20:07.702Z"
   },
   {
    "duration": 47,
    "start_time": "2023-02-20T20:20:07.751Z"
   },
   {
    "duration": 13,
    "start_time": "2023-02-20T20:20:07.800Z"
   },
   {
    "duration": 39,
    "start_time": "2023-02-20T20:20:07.815Z"
   },
   {
    "duration": 15,
    "start_time": "2023-02-20T20:20:07.856Z"
   },
   {
    "duration": 10,
    "start_time": "2023-02-20T20:20:07.873Z"
   },
   {
    "duration": 15,
    "start_time": "2023-02-20T20:20:07.885Z"
   },
   {
    "duration": 44,
    "start_time": "2023-02-20T20:20:07.902Z"
   },
   {
    "duration": 12,
    "start_time": "2023-02-20T20:20:07.947Z"
   },
   {
    "duration": 14,
    "start_time": "2023-02-20T20:20:07.961Z"
   },
   {
    "duration": 13,
    "start_time": "2023-02-20T20:20:07.976Z"
   },
   {
    "duration": 50,
    "start_time": "2023-02-20T21:18:45.370Z"
   },
   {
    "duration": 1129,
    "start_time": "2023-02-21T10:28:55.587Z"
   },
   {
    "duration": 151,
    "start_time": "2023-02-21T10:28:56.718Z"
   },
   {
    "duration": 9,
    "start_time": "2023-02-21T10:28:56.871Z"
   },
   {
    "duration": 19,
    "start_time": "2023-02-21T10:28:56.882Z"
   },
   {
    "duration": 7,
    "start_time": "2023-02-21T10:28:56.903Z"
   },
   {
    "duration": 9,
    "start_time": "2023-02-21T10:28:56.911Z"
   },
   {
    "duration": 41,
    "start_time": "2023-02-21T10:28:56.922Z"
   },
   {
    "duration": 16,
    "start_time": "2023-02-21T10:28:56.965Z"
   },
   {
    "duration": 9,
    "start_time": "2023-02-21T10:28:56.982Z"
   },
   {
    "duration": 18,
    "start_time": "2023-02-21T10:28:56.993Z"
   },
   {
    "duration": 111,
    "start_time": "2023-02-21T10:28:57.013Z"
   },
   {
    "duration": 83,
    "start_time": "2023-02-21T10:28:57.126Z"
   },
   {
    "duration": 97,
    "start_time": "2023-02-21T10:28:57.210Z"
   },
   {
    "duration": 50,
    "start_time": "2023-02-21T10:28:57.310Z"
   },
   {
    "duration": 12,
    "start_time": "2023-02-21T10:28:57.361Z"
   },
   {
    "duration": 9,
    "start_time": "2023-02-21T10:28:57.374Z"
   },
   {
    "duration": 14,
    "start_time": "2023-02-21T10:28:57.385Z"
   },
   {
    "duration": 5,
    "start_time": "2023-02-21T10:28:57.401Z"
   },
   {
    "duration": 464,
    "start_time": "2023-02-21T10:28:57.407Z"
   },
   {
    "duration": 17,
    "start_time": "2023-02-21T10:28:57.873Z"
   },
   {
    "duration": 23,
    "start_time": "2023-02-21T10:28:57.892Z"
   },
   {
    "duration": 12,
    "start_time": "2023-02-21T10:28:57.917Z"
   },
   {
    "duration": 51,
    "start_time": "2023-02-21T10:28:57.931Z"
   },
   {
    "duration": 5,
    "start_time": "2023-02-21T10:28:57.984Z"
   },
   {
    "duration": 26,
    "start_time": "2023-02-21T10:28:57.991Z"
   },
   {
    "duration": 64,
    "start_time": "2023-02-21T10:28:58.018Z"
   },
   {
    "duration": 11,
    "start_time": "2023-02-21T10:28:58.083Z"
   },
   {
    "duration": 195,
    "start_time": "2023-02-21T10:28:58.095Z"
   },
   {
    "duration": 72,
    "start_time": "2023-02-21T10:28:58.291Z"
   },
   {
    "duration": 125,
    "start_time": "2023-02-21T10:28:58.364Z"
   },
   {
    "duration": 11,
    "start_time": "2023-02-21T10:28:58.490Z"
   },
   {
    "duration": 15,
    "start_time": "2023-02-21T10:28:58.503Z"
   },
   {
    "duration": 51,
    "start_time": "2023-02-21T10:28:58.519Z"
   },
   {
    "duration": 8,
    "start_time": "2023-02-21T10:28:58.572Z"
   },
   {
    "duration": 14,
    "start_time": "2023-02-21T10:28:58.581Z"
   },
   {
    "duration": 8,
    "start_time": "2023-02-21T10:28:58.597Z"
   },
   {
    "duration": 24,
    "start_time": "2023-02-21T10:28:58.606Z"
   },
   {
    "duration": 22,
    "start_time": "2023-02-21T10:28:58.632Z"
   },
   {
    "duration": 11,
    "start_time": "2023-02-21T10:28:58.656Z"
   },
   {
    "duration": 14,
    "start_time": "2023-02-21T10:28:58.669Z"
   },
   {
    "duration": 7,
    "start_time": "2023-02-21T10:28:58.686Z"
   },
   {
    "duration": 11,
    "start_time": "2023-02-21T10:28:58.694Z"
   },
   {
    "duration": 1022,
    "start_time": "2023-02-21T10:34:18.175Z"
   },
   {
    "duration": 151,
    "start_time": "2023-02-21T10:34:19.199Z"
   },
   {
    "duration": 10,
    "start_time": "2023-02-21T10:34:19.353Z"
   },
   {
    "duration": 20,
    "start_time": "2023-02-21T10:34:19.364Z"
   },
   {
    "duration": 7,
    "start_time": "2023-02-21T10:34:19.386Z"
   },
   {
    "duration": 9,
    "start_time": "2023-02-21T10:34:19.395Z"
   },
   {
    "duration": 12,
    "start_time": "2023-02-21T10:34:19.406Z"
   },
   {
    "duration": 39,
    "start_time": "2023-02-21T10:34:19.419Z"
   },
   {
    "duration": 13,
    "start_time": "2023-02-21T10:34:19.460Z"
   },
   {
    "duration": 26,
    "start_time": "2023-02-21T10:34:19.475Z"
   },
   {
    "duration": 108,
    "start_time": "2023-02-21T10:34:19.504Z"
   },
   {
    "duration": 71,
    "start_time": "2023-02-21T10:34:19.614Z"
   },
   {
    "duration": 93,
    "start_time": "2023-02-21T10:34:19.687Z"
   },
   {
    "duration": 43,
    "start_time": "2023-02-21T10:34:19.783Z"
   },
   {
    "duration": 12,
    "start_time": "2023-02-21T10:34:19.828Z"
   },
   {
    "duration": 8,
    "start_time": "2023-02-21T10:34:19.854Z"
   },
   {
    "duration": 17,
    "start_time": "2023-02-21T10:34:19.863Z"
   },
   {
    "duration": 6,
    "start_time": "2023-02-21T10:34:19.882Z"
   },
   {
    "duration": 470,
    "start_time": "2023-02-21T10:34:19.889Z"
   },
   {
    "duration": 15,
    "start_time": "2023-02-21T10:34:20.361Z"
   },
   {
    "duration": 16,
    "start_time": "2023-02-21T10:34:20.378Z"
   },
   {
    "duration": 8,
    "start_time": "2023-02-21T10:34:20.395Z"
   },
   {
    "duration": 50,
    "start_time": "2023-02-21T10:34:20.404Z"
   },
   {
    "duration": 5,
    "start_time": "2023-02-21T10:34:20.456Z"
   },
   {
    "duration": 37,
    "start_time": "2023-02-21T10:34:20.463Z"
   },
   {
    "duration": 65,
    "start_time": "2023-02-21T10:34:20.501Z"
   },
   {
    "duration": 12,
    "start_time": "2023-02-21T10:34:20.567Z"
   },
   {
    "duration": 183,
    "start_time": "2023-02-21T10:34:20.580Z"
   },
   {
    "duration": 34,
    "start_time": "2023-02-21T10:34:20.765Z"
   },
   {
    "duration": 111,
    "start_time": "2023-02-21T10:34:20.854Z"
   },
   {
    "duration": 13,
    "start_time": "2023-02-21T10:34:20.966Z"
   },
   {
    "duration": 20,
    "start_time": "2023-02-21T10:34:20.980Z"
   },
   {
    "duration": 55,
    "start_time": "2023-02-21T10:34:21.002Z"
   },
   {
    "duration": 10,
    "start_time": "2023-02-21T10:34:21.058Z"
   },
   {
    "duration": 17,
    "start_time": "2023-02-21T10:34:21.070Z"
   },
   {
    "duration": 14,
    "start_time": "2023-02-21T10:34:21.089Z"
   },
   {
    "duration": 18,
    "start_time": "2023-02-21T10:34:21.105Z"
   },
   {
    "duration": 33,
    "start_time": "2023-02-21T10:34:21.125Z"
   },
   {
    "duration": 15,
    "start_time": "2023-02-21T10:34:21.160Z"
   },
   {
    "duration": 10,
    "start_time": "2023-02-21T10:34:21.176Z"
   },
   {
    "duration": 14,
    "start_time": "2023-02-21T10:34:21.189Z"
   },
   {
    "duration": 10,
    "start_time": "2023-02-21T10:34:21.205Z"
   },
   {
    "duration": 47,
    "start_time": "2023-02-21T11:16:48.326Z"
   },
   {
    "duration": 1207,
    "start_time": "2023-02-21T11:16:51.867Z"
   },
   {
    "duration": 513,
    "start_time": "2023-02-21T11:16:53.076Z"
   },
   {
    "duration": 11,
    "start_time": "2023-02-21T11:16:53.591Z"
   },
   {
    "duration": 21,
    "start_time": "2023-02-21T11:16:53.605Z"
   },
   {
    "duration": 8,
    "start_time": "2023-02-21T11:16:53.628Z"
   },
   {
    "duration": 10,
    "start_time": "2023-02-21T11:16:53.638Z"
   },
   {
    "duration": 12,
    "start_time": "2023-02-21T11:16:53.650Z"
   },
   {
    "duration": 41,
    "start_time": "2023-02-21T11:16:53.664Z"
   },
   {
    "duration": 9,
    "start_time": "2023-02-21T11:16:53.706Z"
   },
   {
    "duration": 17,
    "start_time": "2023-02-21T11:16:53.718Z"
   },
   {
    "duration": 94,
    "start_time": "2023-02-21T11:16:53.737Z"
   },
   {
    "duration": 75,
    "start_time": "2023-02-21T11:16:53.833Z"
   },
   {
    "duration": 78,
    "start_time": "2023-02-21T11:16:53.909Z"
   },
   {
    "duration": 50,
    "start_time": "2023-02-21T11:16:53.989Z"
   },
   {
    "duration": 11,
    "start_time": "2023-02-21T11:16:54.041Z"
   },
   {
    "duration": 7,
    "start_time": "2023-02-21T11:16:54.054Z"
   },
   {
    "duration": 15,
    "start_time": "2023-02-21T11:16:54.062Z"
   },
   {
    "duration": 6,
    "start_time": "2023-02-21T11:16:54.103Z"
   },
   {
    "duration": 403,
    "start_time": "2023-02-21T11:16:54.110Z"
   },
   {
    "duration": 16,
    "start_time": "2023-02-21T11:16:54.515Z"
   },
   {
    "duration": 17,
    "start_time": "2023-02-21T11:16:54.533Z"
   },
   {
    "duration": 4,
    "start_time": "2023-02-21T11:16:54.552Z"
   },
   {
    "duration": 58,
    "start_time": "2023-02-21T11:16:54.557Z"
   },
   {
    "duration": 6,
    "start_time": "2023-02-21T11:16:54.616Z"
   },
   {
    "duration": 28,
    "start_time": "2023-02-21T11:16:54.624Z"
   },
   {
    "duration": 67,
    "start_time": "2023-02-21T11:16:54.654Z"
   },
   {
    "duration": 11,
    "start_time": "2023-02-21T11:16:54.723Z"
   },
   {
    "duration": 298,
    "start_time": "2023-02-21T11:16:54.738Z"
   },
   {
    "duration": 35,
    "start_time": "2023-02-21T11:16:55.037Z"
   },
   {
    "duration": 95,
    "start_time": "2023-02-21T11:16:55.076Z"
   },
   {
    "duration": 13,
    "start_time": "2023-02-21T11:16:55.173Z"
   },
   {
    "duration": 8,
    "start_time": "2023-02-21T11:16:55.204Z"
   },
   {
    "duration": 40,
    "start_time": "2023-02-21T11:16:55.214Z"
   },
   {
    "duration": 10,
    "start_time": "2023-02-21T11:16:55.256Z"
   },
   {
    "duration": 39,
    "start_time": "2023-02-21T11:16:55.268Z"
   },
   {
    "duration": 8,
    "start_time": "2023-02-21T11:16:55.309Z"
   },
   {
    "duration": 14,
    "start_time": "2023-02-21T11:16:55.319Z"
   },
   {
    "duration": 13,
    "start_time": "2023-02-21T11:16:55.335Z"
   },
   {
    "duration": 16,
    "start_time": "2023-02-21T11:16:55.359Z"
   },
   {
    "duration": 32,
    "start_time": "2023-02-21T11:16:55.377Z"
   },
   {
    "duration": 8,
    "start_time": "2023-02-21T11:16:55.411Z"
   },
   {
    "duration": 11,
    "start_time": "2023-02-21T11:16:55.421Z"
   },
   {
    "duration": 75,
    "start_time": "2023-02-21T11:21:20.094Z"
   },
   {
    "duration": 17,
    "start_time": "2023-02-21T11:22:01.113Z"
   },
   {
    "duration": 26,
    "start_time": "2023-02-21T11:22:23.230Z"
   },
   {
    "duration": 24,
    "start_time": "2023-02-21T11:26:35.292Z"
   },
   {
    "duration": 9,
    "start_time": "2023-02-21T11:26:53.286Z"
   },
   {
    "duration": 11,
    "start_time": "2023-02-21T11:29:06.856Z"
   },
   {
    "duration": 13,
    "start_time": "2023-02-21T11:33:59.267Z"
   },
   {
    "duration": 17,
    "start_time": "2023-02-21T11:34:44.060Z"
   },
   {
    "duration": 11,
    "start_time": "2023-02-21T11:35:23.939Z"
   },
   {
    "duration": 1089,
    "start_time": "2023-02-21T20:10:35.014Z"
   },
   {
    "duration": 157,
    "start_time": "2023-02-21T20:10:36.105Z"
   },
   {
    "duration": 10,
    "start_time": "2023-02-21T20:10:36.264Z"
   },
   {
    "duration": 44,
    "start_time": "2023-02-21T20:10:36.276Z"
   },
   {
    "duration": 18,
    "start_time": "2023-02-21T20:10:36.323Z"
   },
   {
    "duration": 19,
    "start_time": "2023-02-21T20:10:36.343Z"
   },
   {
    "duration": 35,
    "start_time": "2023-02-21T20:10:36.364Z"
   },
   {
    "duration": 34,
    "start_time": "2023-02-21T20:10:36.401Z"
   },
   {
    "duration": 12,
    "start_time": "2023-02-21T20:10:36.437Z"
   },
   {
    "duration": 73,
    "start_time": "2023-02-21T20:10:36.451Z"
   },
   {
    "duration": 99,
    "start_time": "2023-02-21T20:10:36.526Z"
   },
   {
    "duration": 66,
    "start_time": "2023-02-21T20:10:36.627Z"
   },
   {
    "duration": 88,
    "start_time": "2023-02-21T20:10:36.695Z"
   },
   {
    "duration": 42,
    "start_time": "2023-02-21T20:10:36.786Z"
   },
   {
    "duration": 21,
    "start_time": "2023-02-21T20:10:36.829Z"
   },
   {
    "duration": 30,
    "start_time": "2023-02-21T20:10:36.852Z"
   },
   {
    "duration": 32,
    "start_time": "2023-02-21T20:10:36.883Z"
   },
   {
    "duration": 13,
    "start_time": "2023-02-21T20:10:36.917Z"
   },
   {
    "duration": 400,
    "start_time": "2023-02-21T20:10:36.932Z"
   },
   {
    "duration": 24,
    "start_time": "2023-02-21T20:10:37.333Z"
   },
   {
    "duration": 15,
    "start_time": "2023-02-21T20:10:37.358Z"
   },
   {
    "duration": 44,
    "start_time": "2023-02-21T20:10:37.375Z"
   },
   {
    "duration": 44,
    "start_time": "2023-02-21T20:10:37.421Z"
   },
   {
    "duration": 10,
    "start_time": "2023-02-21T20:10:37.466Z"
   },
   {
    "duration": 55,
    "start_time": "2023-02-21T20:10:37.477Z"
   },
   {
    "duration": 91,
    "start_time": "2023-02-21T20:10:37.533Z"
   },
   {
    "duration": 12,
    "start_time": "2023-02-21T20:10:37.625Z"
   },
   {
    "duration": 169,
    "start_time": "2023-02-21T20:10:37.638Z"
   },
   {
    "duration": 59,
    "start_time": "2023-02-21T20:10:37.809Z"
   },
   {
    "duration": 131,
    "start_time": "2023-02-21T20:10:37.870Z"
   },
   {
    "duration": 11,
    "start_time": "2023-02-21T20:10:38.003Z"
   },
   {
    "duration": 37,
    "start_time": "2023-02-21T20:10:38.016Z"
   },
   {
    "duration": 54,
    "start_time": "2023-02-21T20:10:38.054Z"
   },
   {
    "duration": 9,
    "start_time": "2023-02-21T20:10:38.109Z"
   },
   {
    "duration": 18,
    "start_time": "2023-02-21T20:10:38.119Z"
   },
   {
    "duration": 25,
    "start_time": "2023-02-21T20:10:38.138Z"
   },
   {
    "duration": 24,
    "start_time": "2023-02-21T20:10:38.165Z"
   },
   {
    "duration": 35,
    "start_time": "2023-02-21T20:10:38.191Z"
   },
   {
    "duration": 25,
    "start_time": "2023-02-21T20:10:38.228Z"
   },
   {
    "duration": 39,
    "start_time": "2023-02-21T20:10:38.255Z"
   },
   {
    "duration": 26,
    "start_time": "2023-02-21T20:10:38.297Z"
   },
   {
    "duration": 25,
    "start_time": "2023-02-21T20:10:38.325Z"
   },
   {
    "duration": 1373,
    "start_time": "2023-03-31T13:05:42.456Z"
   },
   {
    "duration": 691,
    "start_time": "2023-03-31T13:05:43.831Z"
   },
   {
    "duration": 12,
    "start_time": "2023-03-31T13:05:44.525Z"
   },
   {
    "duration": 34,
    "start_time": "2023-03-31T13:05:44.540Z"
   },
   {
    "duration": 9,
    "start_time": "2023-03-31T13:05:44.576Z"
   },
   {
    "duration": 27,
    "start_time": "2023-03-31T13:05:44.586Z"
   },
   {
    "duration": 33,
    "start_time": "2023-03-31T13:05:44.618Z"
   },
   {
    "duration": 32,
    "start_time": "2023-03-31T13:05:44.653Z"
   },
   {
    "duration": 14,
    "start_time": "2023-03-31T13:05:44.687Z"
   },
   {
    "duration": 23,
    "start_time": "2023-03-31T13:05:44.704Z"
   },
   {
    "duration": 91,
    "start_time": "2023-03-31T13:05:44.729Z"
   },
   {
    "duration": 75,
    "start_time": "2023-03-31T13:05:44.822Z"
   },
   {
    "duration": 100,
    "start_time": "2023-03-31T13:05:44.899Z"
   },
   {
    "duration": 57,
    "start_time": "2023-03-31T13:05:45.000Z"
   },
   {
    "duration": 16,
    "start_time": "2023-03-31T13:05:45.059Z"
   },
   {
    "duration": 35,
    "start_time": "2023-03-31T13:05:45.076Z"
   },
   {
    "duration": 32,
    "start_time": "2023-03-31T13:05:45.113Z"
   },
   {
    "duration": 48,
    "start_time": "2023-03-31T13:05:45.147Z"
   },
   {
    "duration": 527,
    "start_time": "2023-03-31T13:05:45.197Z"
   },
   {
    "duration": 17,
    "start_time": "2023-03-31T13:05:45.726Z"
   },
   {
    "duration": 17,
    "start_time": "2023-03-31T13:05:45.745Z"
   },
   {
    "duration": 6,
    "start_time": "2023-03-31T13:05:45.764Z"
   },
   {
    "duration": 61,
    "start_time": "2023-03-31T13:05:45.772Z"
   },
   {
    "duration": 6,
    "start_time": "2023-03-31T13:05:45.835Z"
   },
   {
    "duration": 54,
    "start_time": "2023-03-31T13:05:45.842Z"
   },
   {
    "duration": 59,
    "start_time": "2023-03-31T13:05:45.898Z"
   },
   {
    "duration": 13,
    "start_time": "2023-03-31T13:05:45.959Z"
   },
   {
    "duration": 174,
    "start_time": "2023-03-31T13:05:45.976Z"
   },
   {
    "duration": 69,
    "start_time": "2023-03-31T13:05:46.152Z"
   },
   {
    "duration": 144,
    "start_time": "2023-03-31T13:05:46.223Z"
   },
   {
    "duration": 18,
    "start_time": "2023-03-31T13:05:46.370Z"
   },
   {
    "duration": 29,
    "start_time": "2023-03-31T13:05:46.390Z"
   },
   {
    "duration": 67,
    "start_time": "2023-03-31T13:05:46.421Z"
   },
   {
    "duration": 10,
    "start_time": "2023-03-31T13:05:46.490Z"
   },
   {
    "duration": 29,
    "start_time": "2023-03-31T13:05:46.501Z"
   },
   {
    "duration": 23,
    "start_time": "2023-03-31T13:05:46.532Z"
   },
   {
    "duration": 26,
    "start_time": "2023-03-31T13:05:46.557Z"
   },
   {
    "duration": 16,
    "start_time": "2023-03-31T13:05:46.584Z"
   },
   {
    "duration": 20,
    "start_time": "2023-03-31T13:05:46.601Z"
   },
   {
    "duration": 20,
    "start_time": "2023-03-31T13:05:46.623Z"
   },
   {
    "duration": 20,
    "start_time": "2023-03-31T13:05:46.645Z"
   },
   {
    "duration": 20,
    "start_time": "2023-03-31T13:05:46.667Z"
   },
   {
    "duration": 6,
    "start_time": "2023-03-31T13:07:17.515Z"
   },
   {
    "duration": 178,
    "start_time": "2023-03-31T13:07:17.522Z"
   },
   {
    "duration": 23,
    "start_time": "2023-03-31T13:07:17.701Z"
   },
   {
    "duration": 24,
    "start_time": "2023-03-31T13:07:17.733Z"
   },
   {
    "duration": 6,
    "start_time": "2023-03-31T13:07:17.759Z"
   },
   {
    "duration": 9,
    "start_time": "2023-03-31T13:07:17.768Z"
   },
   {
    "duration": 8,
    "start_time": "2023-03-31T13:07:17.779Z"
   },
   {
    "duration": 16,
    "start_time": "2023-03-31T13:07:17.788Z"
   },
   {
    "duration": 29,
    "start_time": "2023-03-31T13:07:17.807Z"
   },
   {
    "duration": 19,
    "start_time": "2023-03-31T13:07:17.837Z"
   },
   {
    "duration": 76,
    "start_time": "2023-03-31T13:07:17.858Z"
   },
   {
    "duration": 64,
    "start_time": "2023-03-31T13:07:17.935Z"
   },
   {
    "duration": 98,
    "start_time": "2023-03-31T13:07:18.001Z"
   },
   {
    "duration": 53,
    "start_time": "2023-03-31T13:07:18.100Z"
   },
   {
    "duration": 12,
    "start_time": "2023-03-31T13:07:18.155Z"
   },
   {
    "duration": 11,
    "start_time": "2023-03-31T13:07:18.168Z"
   },
   {
    "duration": 17,
    "start_time": "2023-03-31T13:07:18.180Z"
   },
   {
    "duration": 24,
    "start_time": "2023-03-31T13:07:18.198Z"
   },
   {
    "duration": 349,
    "start_time": "2023-03-31T13:07:18.229Z"
   },
   {
    "duration": 15,
    "start_time": "2023-03-31T13:07:18.580Z"
   },
   {
    "duration": 31,
    "start_time": "2023-03-31T13:07:18.596Z"
   },
   {
    "duration": 13,
    "start_time": "2023-03-31T13:07:18.632Z"
   },
   {
    "duration": 34,
    "start_time": "2023-03-31T13:07:18.646Z"
   },
   {
    "duration": 6,
    "start_time": "2023-03-31T13:07:18.684Z"
   },
   {
    "duration": 47,
    "start_time": "2023-03-31T13:07:18.691Z"
   },
   {
    "duration": 54,
    "start_time": "2023-03-31T13:07:18.739Z"
   },
   {
    "duration": 37,
    "start_time": "2023-03-31T13:07:18.795Z"
   },
   {
    "duration": 11,
    "start_time": "2023-03-31T13:07:18.834Z"
   },
   {
    "duration": 33,
    "start_time": "2023-03-31T13:07:18.847Z"
   },
   {
    "duration": 92,
    "start_time": "2023-03-31T13:07:18.882Z"
   },
   {
    "duration": 12,
    "start_time": "2023-03-31T13:07:18.975Z"
   },
   {
    "duration": 8,
    "start_time": "2023-03-31T13:07:18.989Z"
   },
   {
    "duration": 71,
    "start_time": "2023-03-31T13:07:18.999Z"
   },
   {
    "duration": 10,
    "start_time": "2023-03-31T13:07:19.072Z"
   },
   {
    "duration": 10,
    "start_time": "2023-03-31T13:07:19.083Z"
   },
   {
    "duration": 41,
    "start_time": "2023-03-31T13:07:19.095Z"
   },
   {
    "duration": 12,
    "start_time": "2023-03-31T13:07:19.138Z"
   },
   {
    "duration": 22,
    "start_time": "2023-03-31T13:07:19.151Z"
   },
   {
    "duration": 23,
    "start_time": "2023-03-31T13:07:19.174Z"
   },
   {
    "duration": 11,
    "start_time": "2023-03-31T13:07:19.199Z"
   },
   {
    "duration": 31,
    "start_time": "2023-03-31T13:07:19.212Z"
   },
   {
    "duration": 12,
    "start_time": "2023-03-31T13:07:19.245Z"
   }
  ],
  "kernelspec": {
   "display_name": "Python 3 (ipykernel)",
   "language": "python",
   "name": "python3"
  },
  "language_info": {
   "codemirror_mode": {
    "name": "ipython",
    "version": 3
   },
   "file_extension": ".py",
   "mimetype": "text/x-python",
   "name": "python",
   "nbconvert_exporter": "python",
   "pygments_lexer": "ipython3",
   "version": "3.9.5"
  },
  "toc": {
   "base_numbering": 1,
   "nav_menu": {},
   "number_sections": true,
   "sideBar": true,
   "skip_h1_title": true,
   "title_cell": "Table of Contents",
   "title_sidebar": "Contents",
   "toc_cell": false,
   "toc_position": {},
   "toc_section_display": true,
   "toc_window_display": false
  }
 },
 "nbformat": 4,
 "nbformat_minor": 2
}
